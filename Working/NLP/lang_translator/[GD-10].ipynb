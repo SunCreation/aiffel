{
 "cells": [
  {
   "cell_type": "markdown",
   "source": [
    "my_translator\n",
    "=\n",
    "\n",
    "<br><br>\n",
    "\n",
    "# 목차\n",
    "## 1. 목표 및 의의\n",
    "## 2. 이론\n",
    "## 3. 코드\n",
    "## 4. 회고\n",
    "\n",
    "<br>\n",
    "\n",
    "# 1. 목표 및 의의\n",
    "## 1) Transformer를 낱낱히 뜯어본다.\n",
    "## 2) 스스로 사용할만한 번역기에 도전해본다...!!\n",
    "\n",
    "<br>\n",
    "\n",
    "# 2. 이론\n",
    "## Transformer\n",
    "\n",
    "<br>\n",
    "\n",
    "# 3. 코드"
   ],
   "metadata": {}
  },
  {
   "cell_type": "code",
   "execution_count": 1,
   "source": [
    "import matplotlib as mpl\n",
    "import matplotlib.pyplot as plt\n",
    "import matplotlib.font_manager as fm\n",
    "\n",
    "%config InlineBackend.figure_format = 'retina'\n",
    " \n",
    "fontpath = '/usr/share/fonts/truetype/nanum/NanumBarunGothic.ttf'\n",
    "font = fm.FontProperties(fname=fontpath, size=9)\n",
    "plt.rc('font', family='NanumBarunGothic') \n",
    "mpl.font_manager.findfont(font)\n",
    "\n",
    "print(\"슝=3\")"
   ],
   "outputs": [
    {
     "output_type": "stream",
     "name": "stdout",
     "text": [
      "슝=3\n"
     ]
    }
   ],
   "metadata": {}
  },
  {
   "cell_type": "code",
   "execution_count": 2,
   "source": [
    "!nvidia-smi"
   ],
   "outputs": [
    {
     "output_type": "stream",
     "name": "stdout",
     "text": [
      "Mon Jan 10 08:11:13 2022       \n",
      "+-----------------------------------------------------------------------------+\n",
      "| NVIDIA-SMI 460.73.01    Driver Version: 460.73.01    CUDA Version: 11.2     |\n",
      "|-------------------------------+----------------------+----------------------+\n",
      "| GPU  Name        Persistence-M| Bus-Id        Disp.A | Volatile Uncorr. ECC |\n",
      "| Fan  Temp  Perf  Pwr:Usage/Cap|         Memory-Usage | GPU-Util  Compute M. |\n",
      "|                               |                      |               MIG M. |\n",
      "|===============================+======================+======================|\n",
      "|   0  Tesla K80           On   | 00000000:00:1E.0 Off |                    0 |\n",
      "| N/A   22C    P8    26W / 149W |      0MiB / 11441MiB |      0%      Default |\n",
      "|                               |                      |                  N/A |\n",
      "+-------------------------------+----------------------+----------------------+\n",
      "                                                                               \n",
      "+-----------------------------------------------------------------------------+\n",
      "| Processes:                                                                  |\n",
      "|  GPU   GI   CI        PID   Type   Process name                  GPU Memory |\n",
      "|        ID   ID                                                   Usage      |\n",
      "|=============================================================================|\n",
      "|  No running processes found                                                 |\n",
      "+-----------------------------------------------------------------------------+\n"
     ]
    }
   ],
   "metadata": {}
  },
  {
   "cell_type": "code",
   "execution_count": 3,
   "source": [
    "import numpy as np\n",
    "import tensorflow as tf\n",
    "import matplotlib.pyplot as plt\n",
    "\n",
    "import re\n",
    "import os\n",
    "import io\n",
    "import time\n",
    "import random\n",
    "\n",
    "import seaborn # Attention 시각화\n",
    "\n",
    "\n",
    "print(tf.__version__)"
   ],
   "outputs": [
    {
     "output_type": "stream",
     "name": "stdout",
     "text": [
      "2.4.1\n"
     ]
    }
   ],
   "metadata": {}
  },
  {
   "cell_type": "code",
   "execution_count": 4,
   "source": [
    "def positional_encoding(pos_len, d_model):\n",
    "    def cal_angle(position, i):\n",
    "        return position / np.power(10000, int(i) / d_model)\n",
    "\n",
    "    def get_posi_angle_vec(position):\n",
    "        return [cal_angle(position, i) for i in range(d_model)]\n",
    "\n",
    "    sinusoid_table = np.array([get_posi_angle_vec(pos_i) for pos_i in range(pos_len)])\n",
    "    sinusoid_table[:, 0::2] = np.sin(sinusoid_table[:,0::2])\n",
    "    sinusoid_table[:, 1::2] = np.cos(sinusoid_table[:,1::2])\n",
    "    return sinusoid_table\n",
    "    "
   ],
   "outputs": [],
   "metadata": {}
  },
  {
   "cell_type": "code",
   "execution_count": 5,
   "source": [
    "class MultiHeadAttention(tf.keras.layers.Layer):\n",
    "    def __init__(self, d_model, num_heads):\n",
    "        super(MultiHeadAttention, self).__init__()\n",
    "        self.num_heads = num_heads\n",
    "        self.d_model = d_model\n",
    "\n",
    "        self.depth = d_model // self.num_heads\n",
    "\n",
    "        self.W_q = tf.keras.layers.Dense(d_model)\n",
    "        self.W_k = tf.keras.layers.Dense(d_model)\n",
    "        self.W_v = tf.keras.layers.Dense(d_model)\n",
    "\n",
    "        self.linear = tf.keras.layers.Dense(d_model)\n",
    "\n",
    "    def scale_dot_product_attention(self, Q, K, V, mask=None):\n",
    "        d_k = tf.cast(K.shape[-1], tf.float32)\n",
    "        # scaled qk 구하기\n",
    "\n",
    "        QK_T = tf.matmul(Q, K, transpose_b=True)\n",
    "        scaled_qk = QK_T / tf.math.sqrt(d_k)\n",
    "\n",
    "        if mask is not None: scaled_qk += (mask * -1e9)\n",
    "\n",
    "        attentions = tf.nn.softmax(scaled_qk, axis=-1)\n",
    "        out = tf.matmul(attentions, V)\n",
    "\n",
    "        return out, attentions\n",
    "\n",
    "\n",
    "    def split_heads(self, *xs): # num_heads는 self에 있으니까 받을 필요 없음\n",
    "        # MultiHead에 넣을려고 분할\n",
    "        # x: [ batch x length x embedding_dimension ]\n",
    "        # return: [ batch x heads x length x embedding_dimension]\n",
    "        split_xs = []\n",
    "        for x in xs:\n",
    "            a,b,c = x.shape\n",
    "\n",
    "            split_x = tf.reshape(x,(a,b,self.num_heads,self.depth))\n",
    "            split_x = tf.transpose(split_x, (0,2,1,3))            \n",
    "            split_xs.append(split_x)\n",
    "            \n",
    "        return split_xs\n",
    "\n",
    "\n",
    "    def combine_heads(self, x):\n",
    "        # 분할 계산을 마치고, 임베딩을 다시 결합한다.\n",
    "        # x: [ batch x heads x length x depth ]\n",
    "        # return: [ batch x length x emb ]\n",
    "        x = tf.transpose(x,(0,2,1,3))\n",
    "        a,b,c,d = x.shape\n",
    "\n",
    "        concat_x = tf.reshape(x, (a,b,c*d))\n",
    "\n",
    "        return concat_x\n",
    "\n",
    "\n",
    "    def call(self, Q, K, V, mask=None): #[batch x len x 512 ]\n",
    "        # 1: Linear_in(Q,K,V) -> WQ, WK, WV\n",
    "        wq = self.W_q(Q)\n",
    "        wk = self.W_k(K)\n",
    "        wv = self.W_v(V)\n",
    "\n",
    "        # 2: split heads\n",
    "        W_qkv_split = self.split_heads(wq,wk,wv)\n",
    "\n",
    "        # 3: scaled dot product attention\n",
    "        out, attention_weights = self.scale_dot_product_attention(*W_qkv_split, mask)\n",
    "\n",
    "        # 4: Combine Heads(out) -> out\n",
    "        out = self.combine_heads(out)\n",
    "\n",
    "        # 5: Linear_out(out) -> out\n",
    "        out = self.linear(out)\n",
    "\n",
    "        return out, attention_weights\n",
    "\n"
   ],
   "outputs": [],
   "metadata": {}
  },
  {
   "cell_type": "code",
   "execution_count": 6,
   "source": [
    "class Position_wise_FFN(tf.keras.layers.Layer):\n",
    "    def __init__(self, d_model, d_ff):\n",
    "        super(Position_wise_FFN, self).__init__()\n",
    "        self.w_1 = tf.keras.layers.Dense(d_ff, activation='relu')\n",
    "        self.w_2 = tf.keras.layers.Dense(d_model)\n",
    "\n",
    "    def call(self,x):\n",
    "        out = self.w_1(x)\n",
    "        out = self.w_2(out)\n",
    "        return out\n"
   ],
   "outputs": [],
   "metadata": {}
  },
  {
   "cell_type": "code",
   "execution_count": 7,
   "source": [
    "class EncoderLayer(tf.keras.layers.Layer):\n",
    "    def __init__(self, d_model, n_heads, d_ff, dropout):\n",
    "        super(EncoderLayer, self).__init__()\n",
    "\n",
    "        self.enc_self_attn = MultiHeadAttention(d_model, n_heads)\n",
    "        self.ffn = Position_wise_FFN(d_model,d_ff)\n",
    "\n",
    "        self.norm1 = tf.keras.layers.LayerNormalization(epsilon=1e-6)\n",
    "        self.norm2 = tf.keras.layers.LayerNormalization(epsilon=1e-6)\n",
    "\n",
    "        self.dropout = tf.keras.layers.Dropout(dropout)\n",
    "\n",
    "    def call(self, x, mask, training=False):\n",
    "        # Multi-Head Attention\n",
    "        residual = x\n",
    "\n",
    "        out = self.norm1(x)\n",
    "        out, enc_attn = self.enc_self_attn(out,out,out, mask)\n",
    "        out = self.dropout(out, training=training)\n",
    "\n",
    "        out += residual\n",
    "\n",
    "        # position wise FFN\n",
    "        residual2 = out\n",
    "        out = self.norm2(out)\n",
    "        out = self.ffn(out)\n",
    "        out = self.dropout(out, training=training)\n",
    "        out += residual2\n",
    "\n",
    "        return out, enc_attn\n",
    "\n"
   ],
   "outputs": [],
   "metadata": {}
  },
  {
   "cell_type": "code",
   "execution_count": 8,
   "source": [
    "class DecoderLayer(tf.keras.layers.Layer):\n",
    "    def __init__(self, d_model, n_heads, dff, dropout):\n",
    "        super(DecoderLayer, self).__init__()\n",
    "        self.dec_self_attn = MultiHeadAttention(d_model, n_heads)\n",
    "        self.dec_attn = MultiHeadAttention(d_model, n_heads)\n",
    "\n",
    "        self.ffn = Position_wise_FFN(d_model,dff)\n",
    "        self.dropout = tf.keras.layers.Dropout(dropout)\n",
    "\n",
    "        self.norm1 = tf.keras.layers.LayerNormalization(epsilon=1e-6)\n",
    "        self.norm2 = tf.keras.layers.LayerNormalization(epsilon=1e-6)\n",
    "        self.norm3 = tf.keras.layers.LayerNormalization(epsilon=1e-6)\n",
    "\n",
    "    def call(self, x,y, causality_mask, padding_mask, training=False):\n",
    "        residual = x\n",
    "        out = self.norm1(x)\n",
    "        out, dec_attn = self.dec_self_attn(out,out,out, padding_mask)\n",
    "        out = self.dropout(out, training=training)\n",
    "        out += residual\n",
    "\n",
    "        residual = out\n",
    "        out = self.norm2(out)\n",
    "        out, dec_enc_attn = self.dec_attn(out,y,y, causality_mask)\n",
    "        out = self.dropout(out, training=training)\n",
    "        out += residual\n",
    "\n",
    "        residual = out\n",
    "        out = self.norm3(out)\n",
    "        out = self.ffn(out)\n",
    "        out = self.dropout(out, training=training)\n",
    "        out += residual\n",
    "\n",
    "        return out, dec_attn, dec_enc_attn\n",
    "\n"
   ],
   "outputs": [],
   "metadata": {}
  },
  {
   "cell_type": "code",
   "execution_count": 9,
   "source": [
    "class Encoder(tf.keras.Model):\n",
    "    def __init__(self,\n",
    "                 n_layers,\n",
    "                 d_model,\n",
    "                 n_heads,\n",
    "                 dff,\n",
    "                 dropout):\n",
    "        super(Encoder, self).__init__()\n",
    "        self.n_layers = n_layers\n",
    "        self.enc_layers = [EncoderLayer(d_model,n_heads,dff,dropout) for _ in range(n_layers)]\n",
    "\n",
    "    def call(self, x, mask, training=False):\n",
    "        out = x\n",
    "\n",
    "        enc_attns = []\n",
    "\n",
    "        for i in range(self.n_layers):\n",
    "            out, enc_attn = self.enc_layers[i](out, mask, training)\n",
    "            enc_attns.append(enc_attn)\n",
    "\n",
    "        return out, enc_attns\n",
    "        "
   ],
   "outputs": [],
   "metadata": {}
  },
  {
   "cell_type": "code",
   "execution_count": 10,
   "source": [
    "class Decoder(tf.keras.Model):\n",
    "    def __init__(self, n_layers, d_model, n_heads, dff, dropout):\n",
    "        super(Decoder, self).__init__()\n",
    "        self.n_layers = n_layers\n",
    "        self.dec_layers = [DecoderLayer(d_model,n_heads, dff, dropout) for i in range(n_layers)]\n",
    "\n",
    "    def call(self, x, enc_out, causality_mask, padding_mask, training=False):\n",
    "        out = x\n",
    "        \n",
    "        dec_attns = []\n",
    "        dec_enc_attns = []\n",
    "\n",
    "        for i in range(self.n_layers):\n",
    "            out, dec_attn, dec_enc_attn = self.dec_layers[i](out,enc_out, causality_mask, padding_mask, training)\n",
    "            \n",
    "            dec_attns.append(dec_attn)\n",
    "            dec_enc_attns.append(dec_enc_attn)\n",
    "\n",
    "        return out, dec_attns, dec_enc_attns\n",
    "        "
   ],
   "outputs": [],
   "metadata": {}
  },
  {
   "cell_type": "code",
   "execution_count": 11,
   "source": [
    "class Transformer(tf.keras.Model):\n",
    "    def __init__(self, n_layers,d_model,\n",
    "                 n_heads,dff,src_vocab_size,\n",
    "                 tgt_vocab_size, pos_len,\n",
    "                 dropout=0.2, shared=True):\n",
    "        super(Transformer, self).__init__()\n",
    "        self.d_model = tf.cast(d_model, tf.float32)\n",
    "\n",
    "        self.enc_embedding = tf.keras.layers.Embedding(src_vocab_size, d_model)\n",
    "        self.dec_embedding = tf.keras.layers.Embedding(tgt_vocab_size, d_model)\n",
    "\n",
    "        self.positional = positional_encoding(pos_len,d_model)\n",
    "\n",
    "        self.encoder = Encoder(n_layers, d_model, n_heads, dff, dropout)\n",
    "        self.decoder = Decoder(n_layers, d_model, n_heads, dff, dropout)\n",
    "        \n",
    "        self.out_linear = tf.keras.layers.Dense(tgt_vocab_size)\n",
    "        self.dropout = dropout\n",
    "\n",
    "        self.shared = shared\n",
    "\n",
    "        if shared: self.out_linear.set_weights(tf.transpose(self.dec_embedding.weights))\n",
    "\n",
    "    \n",
    "    def embedding(self, emb, x):\n",
    "        # share?\n",
    "        seq_len = x.shape[1]\n",
    "        out = emb(x)\n",
    "        if self.shared: out *= tf.math.sqrt(self.d_model)\n",
    "\n",
    "        out += self.positional[np.newaxis, ...][:, :seq_len, :]\n",
    "\n",
    "        return out\n",
    "\n",
    "    \n",
    "    def call(self, enc_in, dec_in, enc_mask, causality_mask, dec_mask):\n",
    "        # 1 embedding\n",
    "        enc = self.embedding(self.enc_embedding, enc_in)\n",
    "        dec = self.embedding(self.dec_embedding, dec_in)\n",
    "\n",
    "        # 2 encoder, decoder\n",
    "        enc_out, enc_attns = self.encoder(enc, enc_mask)\n",
    "\n",
    "        dec_out, dec_attns, dec_enc_attns = self.decoder(dec, enc_out, causality_mask, dec_mask)\n",
    "\n",
    "        logits = self.out_linear(dec_out)\n",
    "\n",
    "        return logits, enc_attns, dec_attns, dec_enc_attns\n",
    "\n"
   ],
   "outputs": [],
   "metadata": {}
  },
  {
   "cell_type": "code",
   "execution_count": 12,
   "source": [
    "\n",
    "def generate_padding_mask(seq):\n",
    "    seq = tf.cast(tf.math.equal(seq, 0), tf.float32)\n",
    "    return seq[:, tf.newaxis, tf.newaxis, :]\n",
    "\n",
    "def generate_causality_mask(src_len, tgt_len):\n",
    "    mask = 1 - np.cumsum(np.eye(src_len, tgt_len), 0)\n",
    "    return tf.cast(mask, tf.float32)\n",
    "\n",
    "def generate_masks(src, tgt):\n",
    "    enc_mask = generate_padding_mask(src)\n",
    "    dec_mask = generate_padding_mask(tgt)\n",
    "\n",
    "    dec_enc_causality_mask = generate_causality_mask(tgt.shape[1], src.shape[1])\n",
    "    dec_enc_mask = tf.maximum(enc_mask, dec_enc_causality_mask)\n",
    "\n",
    "    dec_causality_mask = generate_causality_mask(tgt.shape[1], tgt.shape[1])\n",
    "    dec_mask = tf.maximum(dec_mask, dec_causality_mask)\n",
    "\n",
    "    return enc_mask, dec_enc_mask, dec_mask\n"
   ],
   "outputs": [],
   "metadata": {}
  },
  {
   "cell_type": "code",
   "execution_count": 13,
   "source": [
    "import matplotlib.pyplot as plt\n",
    "\n",
    "batch, length = 16, 20\n",
    "src_padding = 5\n",
    "tgt_padding = 15\n",
    "\n",
    "src_pad = tf.zeros(shape=(batch, src_padding))\n",
    "tgt_pad = tf.zeros(shape=(batch, tgt_padding))\n",
    "\n",
    "sample_data = tf.ones(shape=(batch, length))\n",
    "\n",
    "sample_src = tf.concat([sample_data, src_pad], axis=-1)\n",
    "sample_tgt = tf.concat([sample_data, tgt_pad], axis=-1)\n",
    "\n",
    "enc_mask, dec_enc_mask, dec_mask = \\\n",
    "generate_masks(sample_src, sample_tgt)\n",
    "\n",
    "fig = plt.figure(figsize=(7, 7))\n",
    "\n",
    "ax1 = fig.add_subplot(131)\n",
    "ax2 = fig.add_subplot(132)\n",
    "ax3 = fig.add_subplot(133)\n",
    "\n",
    "ax1.set_title('1) Encoder Mask')\n",
    "ax2.set_title('2) Encoder-Decoder Mask')\n",
    "ax3.set_title('3) Decoder Mask')\n",
    "\n",
    "ax1.imshow(enc_mask[:3, 0, 0].numpy(), cmap='Dark2')\n",
    "ax2.imshow(dec_enc_mask[0, 0].numpy(), cmap='Dark2')\n",
    "ax3.imshow(dec_mask[0, 0].numpy(), cmap='Dark2')\n",
    "\n",
    "plt.show()"
   ],
   "outputs": [
    {
     "output_type": "display_data",
     "data": {
      "image/png": "[encoded data removed]",
      "text/plain": [
       "<Figure size 504x504 with 3 Axes>"
      ]
     },
     "metadata": {
      "image/png": {
       "width": 426,
       "height": 208
      },
      "needs_background": "light"
     }
    }
   ],
   "metadata": {}
  },
  {
   "cell_type": "code",
   "execution_count": 14,
   "source": [
    "class LearningRateScheduler(tf.keras.optimizers.schedules.LearningRateSchedule):\n",
    "    def __init__(self, d_model, warmup_steps=4000):\n",
    "        super(LearningRateScheduler, self).__init__()\n",
    "        self.d_model = d_model\n",
    "        self.warmup_steps = warmup_steps\n",
    "    \n",
    "    def __call__(self, step):\n",
    "        arg1 = step ** -0.5\n",
    "        arg2 = step * (self.warmup_steps ** -1.5)\n",
    "        \n",
    "        return (self.d_model ** -0.5) * tf.math.minimum(arg1, arg2)\n",
    "\n",
    "learning_rate = LearningRateScheduler(512)\n",
    "optimizer = tf.keras.optimizers.Adam(learning_rate,\n",
    "                                     beta_1=0.9,\n",
    "                                     beta_2=0.98, \n",
    "                                     epsilon=1e-9)\n",
    "\n"
   ],
   "outputs": [],
   "metadata": {}
  },
  {
   "cell_type": "code",
   "execution_count": 15,
   "source": [
    "now_path = \"aiffel/Data/kor_en/\"\n",
    "path_to_enfile = \"data/kor_en/korean-english-park.train.en\"\n",
    "path_to_kofile = \"data/kor_en/korean-english-park.train.ko\"\n",
    "kor_path = now_path + path_to_enfile\n",
    "eng_path = now_path + path_to_kofile"
   ],
   "outputs": [],
   "metadata": {}
  },
  {
   "cell_type": "code",
   "execution_count": 16,
   "source": [
    "\n",
    "# 데이터 정제\n",
    "def clean_corpus(kor_path, eng_path):\n",
    "    with open(kor_path, \"r\") as f: kor = f.readlines()\n",
    "    with open(eng_path, \"r\") as f: eng = f.readlines()\n",
    "    assert len(kor) == len(eng)\n",
    "    print(len(kor))\n",
    "    \n",
    "    dataset = set()\n",
    "    for i,j in zip(kor, eng):\n",
    "        i = preprocess_sentence(i)\n",
    "        j = preprocess_sentence(j)\n",
    "        dataset.add((i,j))\n",
    "    print(len(dataset))\n",
    "    cleaned_corpus = list(dataset)\n",
    "    return cleaned_corpus"
   ],
   "outputs": [],
   "metadata": {}
  },
  {
   "cell_type": "code",
   "execution_count": 17,
   "source": [
    "import re\n",
    "def preprocess_sentence(sentence):\n",
    "    sentence = sentence.lower()\n",
    "    sentence = re.sub(r'([?!,.\"])', r' \\1 ',sentence)\n",
    "    sentence = re.sub(r'[^A-zㄱ-ㅎㅏ-ㅣ가-힣0-9?!,.\"]', ' ', sentence)\n",
    "    sentence = re.sub(r'[\" \"]+', ' ',sentence)\n",
    "    sentence = sentence.strip()\n",
    "    return sentence\n",
    "\n",
    "cleaned_corpus = clean_corpus(kor_path, eng_path)\n"
   ],
   "outputs": [
    {
     "output_type": "stream",
     "name": "stdout",
     "text": [
      "94123\n",
      "78931\n"
     ]
    }
   ],
   "metadata": {}
  },
  {
   "cell_type": "code",
   "execution_count": 18,
   "source": [
    "import sentencepiece as spm\n",
    "import os\n",
    "\n",
    "def generate_tokenizer(corpus,\n",
    "                       vocab_size,\n",
    "                       lang=\"ko\",\n",
    "                       pad_id=0,\n",
    "                       bos_id=1,\n",
    "                       eos_id=2,\n",
    "                       unk_id=3):\n",
    "    path = 'aiffel/Data/Model/transformer/'\n",
    "    temp_file = f'{path}corpus_{lang}.temp'\n",
    "    \n",
    "    with open(temp_file, 'w') as f:\n",
    "        for row in corpus:\n",
    "            f.write(str(row) + '\\n')\n",
    "    \n",
    "    spm.SentencePieceTrainer.Train(\n",
    "        f'--input={temp_file} --pad_id={pad_id} --bos_id={bos_id} --eos_id={eos_id} \\\n",
    "        --unk_id={unk_id} --model_prefix={path}spm_{lang} --vocab_size={vocab_size} --model_type=bpe'\n",
    "    )\n",
    "    \n",
    "    s = spm.SentencePieceProcessor()\n",
    "    s.Load(f'{path}spm_{lang}.model')\n",
    "    print(f\"{lang}-dict_num: {20000}\")\n",
    "\n",
    "    return s"
   ],
   "outputs": [],
   "metadata": {}
  },
  {
   "cell_type": "code",
   "execution_count": 19,
   "source": [
    "eng, kor = zip(*cleaned_corpus)\n",
    "print(kor[0])\n",
    "ko = generate_tokenizer(kor,20000)\n",
    "en = generate_tokenizer(eng,20000, lang=\"en\")"
   ],
   "outputs": [
    {
     "output_type": "stream",
     "name": "stdout",
     "text": [
      "china adopts more humane method for the death penalty 중국 , 인도적인 사형 방법 도입 200806 . 01\n",
      "ko-dict_num: 20000\n",
      "en-dict_num: 20000\n"
     ]
    }
   ],
   "metadata": {}
  },
  {
   "cell_type": "code",
   "execution_count": 20,
   "source": [
    "def tokenize(corpus, tensorlen,voca_size):  # corpus: Tokenized Sentence's List\n",
    "    tokenizer = tf.keras.preprocessing.text.Tokenizer(num_words=voca_size,filters='',)\n",
    "    tokenizer.fit_on_texts(corpus)\n",
    "\n",
    "    tensor = tokenizer.texts_to_sequences(corpus)\n",
    "\n",
    "    tensor = tf.keras.preprocessing.sequence.pad_sequences(tensor, padding='post',maxlen=tensorlen)\n",
    "\n",
    "    return tensor, tokenizer"
   ],
   "outputs": [],
   "metadata": {}
  },
  {
   "cell_type": "code",
   "execution_count": 21,
   "source": [
    "\n",
    "path = 'aiffel/Data/Model/transformer/'\n",
    "temp_file = f'{path}corpus_ko.temp'\n",
    "ko_seq = []\n",
    "with open(temp_file,'r') as f:\n",
    "    for i in f.readlines():\n",
    "        ko_seq.append(ko.SampleEncodeAsPieces(i,1, 0.0))\n",
    "ko_tensor, ko_tokenizer = tokenize(ko_seq,50,20000)\n",
    "print(ko_seq[0])\n",
    "en_seq = []\n",
    "temp_file = f'{path}corpus_en.temp'\n",
    "with open(temp_file,'r') as f:\n",
    "    for i in f.readlines():\n",
    "        en_seq.append(en.SampleEncodeAsPieces(i,1, 0.0))\n",
    "en_tensor, en_tokenizer = tokenize(en_seq,50,20000)\n",
    "print(en_seq[0])"
   ],
   "outputs": [
    {
     "output_type": "stream",
     "name": "stdout",
     "text": [
      "['▁china', '▁ad', 'op', 'ts', '▁more', '▁human', 'e', '▁me', 'th', 'od', '▁for', '▁the', '▁death', '▁pen', 'al', 'ty', '▁중국', '▁,', '▁인도', '적인', '▁사형', '▁방법', '▁도입', '▁200806', '▁.', '▁01']\n",
      "['▁provisional', '▁results', '▁had', '▁given', '▁victory', '▁to', '▁the', '▁people', '▁power', '▁party', '▁ppp', '▁,', '▁with', '▁23', '3', '▁of', '▁the', '▁480', '▁available', '▁seats', '▁.']\n"
     ]
    }
   ],
   "metadata": {}
  },
  {
   "cell_type": "code",
   "execution_count": 22,
   "source": [
    "print(f\"ko dict voca: {len(ko_tokenizer.index_word)}\")\n",
    "print(f\"en dict voca: {len(en_tokenizer.index_word)}\")\n"
   ],
   "outputs": [
    {
     "output_type": "stream",
     "name": "stdout",
     "text": [
      "ko dict voca: 20288\n",
      "en dict voca: 19066\n"
     ]
    }
   ],
   "metadata": {}
  },
  {
   "cell_type": "code",
   "execution_count": 23,
   "source": [
    "print(len(ko_seq), len(en_seq))\n",
    "print(ko_seq[1], en_seq[1])"
   ],
   "outputs": [
    {
     "output_type": "stream",
     "name": "stdout",
     "text": [
      "78931 78931\n",
      "['▁현재', '▁쿠', '스', '꼬', '는', '▁페루', '▁북서', '쪽', '▁약', '▁64', 'km', '에', '▁있는', '▁밀림', '▁속', '▁마', '추', '픽', '추', '▁유적', '지와', '▁더불어', '▁페루', '의', '▁주요', '▁관광', '지다', '▁.'] ['▁today', '▁,', '▁cuzco', '▁is', '▁peru', '▁s', '▁main', '▁tourism', '▁hub', '▁and', '▁a', '▁launching', '▁point', '▁for', '▁visitors', '▁to', '▁the', '▁jungle', '▁shroud', 'ed', '▁ruins', '▁of', '▁mach', 'u', '▁pic', 'ch', 'u', '▁,', '▁40', '▁miles', '▁northwest', '▁.']\n"
     ]
    }
   ],
   "metadata": {}
  },
  {
   "cell_type": "code",
   "execution_count": 24,
   "source": [
    "en_tensor.shape"
   ],
   "outputs": [
    {
     "output_type": "execute_result",
     "data": {
      "text/plain": [
       "(78931, 50)"
      ]
     },
     "metadata": {},
     "execution_count": 24
    }
   ],
   "metadata": {}
  },
  {
   "cell_type": "markdown",
   "source": [
    "## 이렇게 케라스 토크나이저를 쓸 수도 있지만, 한번 sentencepiece를 조금 더 사용해보겠습니다."
   ],
   "metadata": {}
  },
  {
   "cell_type": "code",
   "execution_count": 25,
   "source": [
    "def senten_tokenize(kor,eng, ko_model,en_model, max_len):\n",
    "    kos = []\n",
    "    ens = []\n",
    "    for i,j in zip(kor,eng):\n",
    "        i = preprocess_sentence(i)\n",
    "        j = preprocess_sentence(j)\n",
    "        ko = ko_model.EncodeAsIds(i)\n",
    "        en = en_model.EncodeAsIds(j)\n",
    "        if len(ko)>48 or len(en)>48: continue\n",
    "        kos.append(ko)\n",
    "        ens.append(en)\n",
    "    ko_tensor = tf.keras.preprocessing.sequence.pad_sequences(kos, padding='post',maxlen=max_len)\n",
    "    en_tensor = tf.keras.preprocessing.sequence.pad_sequences(ens, padding='post',maxlen=max_len)\n",
    "\n",
    "    return ko_tensor, en_tensor"
   ],
   "outputs": [],
   "metadata": {}
  },
  {
   "cell_type": "markdown",
   "source": [
    "## 학습을 해도해도 결과가 안나와서 보니, 여기 전처리를 잘못했더라구요.\n",
    "## 모델도 중요하지만, 누가 대신해주는 거 없으니, 정신 똑바로 차려야하겠습니다!\n",
    "\n",
    "### decoder쪽 토그나이저는 set_encode_extra_options(\"bos:eos\")을 해주어 시작, 끝 토큰을 추가할 수 있습니다.\n",
    "### "
   ],
   "metadata": {}
  },
  {
   "cell_type": "code",
   "execution_count": 26,
   "source": [
    "en.set_encode_extra_options(\"bos:eos\")\n",
    "ko_tensor,en_tensor = senten_tokenize(kor,eng, ko,en, 50)"
   ],
   "outputs": [],
   "metadata": {}
  },
  {
   "cell_type": "code",
   "execution_count": 27,
   "source": [
    "from sklearn.model_selection import train_test_split\n",
    "\n",
    "BUFFER_SIZE = 128\n",
    "BATCH_SIZE = 128\n",
    "\n",
    "enc_train, enc_val, dec_train, dec_val = \\\n",
    "train_test_split(ko_tensor, en_tensor, test_size=0.2) # 하... 여기 영어랑 한국어 순서 바뀌어 있었다..\n",
    "\n",
    "\n",
    "\n",
    "\n",
    "\n",
    "dataset = tf.data.Dataset.from_tensor_slices((enc_train,dec_train))\n",
    "val_dataset = tf.data.Dataset.from_tensor_slices((enc_val, dec_val))\n",
    "\n",
    "dataset = dataset.shuffle(BUFFER_SIZE)\n",
    "dataset = dataset.batch(BATCH_SIZE, drop_remainder=True)\n",
    "print(dataset)\n",
    "val_dataset = val_dataset.shuffle(BUFFER_SIZE)\n",
    "val_dataset = val_dataset.batch(BATCH_SIZE, drop_remainder=True)\n",
    "val_dataset"
   ],
   "outputs": [
    {
     "output_type": "stream",
     "name": "stdout",
     "text": [
      "<BatchDataset shapes: ((128, 50), (128, 50)), types: (tf.int32, tf.int32)>\n"
     ]
    },
    {
     "output_type": "execute_result",
     "data": {
      "text/plain": [
       "<BatchDataset shapes: ((128, 50), (128, 50)), types: (tf.int32, tf.int32)>"
      ]
     },
     "metadata": {},
     "execution_count": 27
    }
   ],
   "metadata": {}
  },
  {
   "cell_type": "code",
   "execution_count": 28,
   "source": [
    "train = dataset.__iter__()\n"
   ],
   "outputs": [],
   "metadata": {}
  },
  {
   "cell_type": "code",
   "execution_count": 29,
   "source": [
    "a = next(train)[0]\n",
    "print(a)"
   ],
   "outputs": [
    {
     "output_type": "stream",
     "name": "stdout",
     "text": [
      "tf.Tensor(\n",
      "[[  132 19422 18810 ...     0     0     0]\n",
      " [ 4955 18848 14651 ...     0     0     0]\n",
      " [ 2971 18765  4133 ...     0     0     0]\n",
      " ...\n",
      " [ 8557 18811  4674 ...     0     0     0]\n",
      " [ 3468  1884  3470 ...     0     0     0]\n",
      " [  308   322  9008 ...     0     0     0]], shape=(128, 50), dtype=int32)\n"
     ]
    }
   ],
   "metadata": {}
  },
  {
   "cell_type": "code",
   "execution_count": 30,
   "source": [
    "transformer = Transformer(4,512,4,2048,20289,20001,50,shared=False)"
   ],
   "outputs": [],
   "metadata": {}
  },
  {
   "cell_type": "markdown",
   "source": [
    "# 와... 위대하다.\n",
    "### 여기서 오류가 얼마나 떴는지 모르겠다.\n",
    "### super은 init이라는 메소드가 없다는 부분부터, pos가 정의되지 않았다는 내용 등등. 설계를 똑바로 하니, 틀린부분이 어디인지 알아서 찾아준다는 점이 아주 뿌듯하다."
   ],
   "metadata": {}
  },
  {
   "cell_type": "code",
   "execution_count": 31,
   "source": [
    "class LearningRateScheduler(tf.keras.optimizers.schedules.LearningRateSchedule):\n",
    "    def __init__(self, d_model, warmup_steps=4000):\n",
    "        super(LearningRateScheduler, self).__init__()\n",
    "        \n",
    "        self.d_model = d_model\n",
    "        self.warmup_steps = warmup_steps\n",
    "    \n",
    "    def __call__(self, step):\n",
    "        arg1 = step ** -0.5\n",
    "        arg2 = step * (self.warmup_steps ** -1.5)\n",
    "        \n",
    "        return (self.d_model ** -0.5) * tf.math.minimum(arg1, arg2)\n",
    "\n",
    "learning_rate = LearningRateScheduler(512)\n",
    "optimizer = tf.keras.optimizers.Adam(learning_rate, beta_1=0.9, beta_2=0.98, epsilon=1e-9)\n",
    "\n",
    "\n",
    "loss_object = tf.keras.losses.SparseCategoricalCrossentropy(\n",
    "    from_logits=True, reduction='none')\n",
    "\n",
    "def loss_function(real, pred):\n",
    "    mask = tf.math.logical_not(tf.math.equal(real, 0))\n",
    "    loss_ = loss_object(real, pred)\n",
    "\n",
    "    mask = tf.cast(mask, dtype=loss_.dtype)\n",
    "    loss_ *= mask\n",
    "\n",
    "    return tf.reduce_sum(loss_)/tf.reduce_sum(mask)"
   ],
   "outputs": [],
   "metadata": {}
  },
  {
   "cell_type": "code",
   "execution_count": 32,
   "source": [
    "# ex = '''오바마는 대통령이다.\n",
    "# 시민들은 도시 속에 산다.\n",
    "# 커피는 필요 없다.\n",
    "# 일곱 명의 사망자가 발생했다.'''\n",
    "# ex = ex.split('\\n')\n",
    "# corpus = []\n",
    "# for i in ex:\n",
    "#     corpus.append(ko.SampleEncodeAsPieces(i,1, 0.0))\n",
    "# for i in corpus:\n",
    "#     print(i)\n",
    "# tensor = ko_tokenizer.texts_to_sequences(corpus)\n",
    "\n",
    "# tensor = tf.keras.preprocessing.sequence.pad_sequences(tensor, padding='post',maxlen=50)\n",
    "# print(tensor)\n"
   ],
   "outputs": [],
   "metadata": {}
  },
  {
   "cell_type": "code",
   "execution_count": 30,
   "source": [
    "\n",
    "examples = [\n",
    "            \"오바마는 대통령이다.\",\n",
    "            \"시민들은 도시 속에 산다.\",\n",
    "            \"커피는 필요 없다.\",\n",
    "            \"일곱 명의 사망자가 발생했다.\"\n",
    "]\n",
    "\n",
    "# Attention 시각화 함수\n",
    "\n",
    "def visualize_attention(src, tgt, enc_attns, dec_attns, dec_enc_attns):\n",
    "    def draw(data, ax, x=\"auto\", y=\"auto\"):\n",
    "        import seaborn\n",
    "        seaborn.heatmap(data, \n",
    "                        square=True,\n",
    "                        vmin=0.0, vmax=1.0, \n",
    "                        cbar=False, ax=ax,\n",
    "                        xticklabels=x,\n",
    "                        yticklabels=y)\n",
    "        \n",
    "    for layer in range(0, 2, 1):\n",
    "        fig, axs = plt.subplots(1, 4, figsize=(20, 10))\n",
    "        print(\"Encoder Layer\", layer + 1)\n",
    "        for h in range(4):\n",
    "            draw(enc_attns[layer][0, h, :len(src), :len(src)], axs[h], src, src)\n",
    "        plt.show()\n",
    "        \n",
    "    for layer in range(0, 2, 1):\n",
    "        fig, axs = plt.subplots(1, 4, figsize=(20, 10))\n",
    "        print(\"Decoder Self Layer\", layer+1)\n",
    "        for h in range(4):\n",
    "            draw(dec_attns[layer][0, h, :len(tgt), :len(tgt)], axs[h], tgt, tgt)\n",
    "        plt.show()\n",
    "\n",
    "        print(\"Decoder Src Layer\", layer+1)\n",
    "        fig, axs = plt.subplots(1, 4, figsize=(20, 10))\n",
    "        for h in range(4):\n",
    "            draw(dec_enc_attns[layer][0, h, :len(tgt), :len(src)], axs[h], src, tgt)\n",
    "        plt.show()\n",
    "\n",
    "# 번역 생성 함수\n",
    "\n",
    "def evaluate(sentence, model, src_tokenizer, tgt_tokenizer):\n",
    "    sentence = preprocess_sentence(sentence)\n",
    "\n",
    "    pieces = src_tokenizer.encode_as_pieces(sentence)\n",
    "    tokens = src_tokenizer.encode_as_ids(sentence)\n",
    "\n",
    "    _input = tf.keras.preprocessing.sequence.pad_sequences([tokens],\n",
    "                                                           maxlen=enc_train.shape[-1],\n",
    "                                                           padding='post')\n",
    "    \n",
    "    ids = []\n",
    "    output = tf.expand_dims([tgt_tokenizer.bos_id()], 0)\n",
    "    for i in range(dec_train.shape[-1]):\n",
    "        enc_padding_mask, combined_mask, dec_padding_mask = \\\n",
    "        generate_masks(_input, output)\n",
    "\n",
    "        predictions, enc_attns, dec_attns, dec_enc_attns =\\\n",
    "        model(_input, \n",
    "              output,\n",
    "              enc_padding_mask,\n",
    "              combined_mask,\n",
    "              dec_padding_mask)\n",
    "\n",
    "        predicted_id = \\\n",
    "        tf.argmax(tf.math.softmax(predictions, axis=-1)[0, -1]).numpy().item()\n",
    "\n",
    "        if tgt_tokenizer.eos_id() == predicted_id:\n",
    "            result = tgt_tokenizer.decode_ids(ids)\n",
    "            return pieces, result, enc_attns, dec_attns, dec_enc_attns\n",
    "\n",
    "        ids.append(predicted_id)\n",
    "        output = tf.concat([output, tf.expand_dims([predicted_id], 0)], axis=-1)\n",
    "\n",
    "    result = tgt_tokenizer.decode_ids(ids)\n",
    "\n",
    "    return pieces, result, enc_attns, dec_attns, dec_enc_attns\n",
    "\n",
    "# 번역 생성 및 Attention 시각화 결합\n",
    "\n",
    "def translate(sentence, model, src_tokenizer, tgt_tokenizer, plot_attention=False):\n",
    "    pieces, result, enc_attns, dec_attns, dec_enc_attns = \\\n",
    "    evaluate(sentence, model, src_tokenizer, tgt_tokenizer)\n",
    "    \n",
    "    print('Input: %s' % (sentence))\n",
    "    print('Predicted translation: {}'.format(result))\n",
    "\n",
    "    if plot_attention:\n",
    "        visualize_attention(pieces, result.split(), enc_attns, dec_attns, dec_enc_attns)"
   ],
   "outputs": [],
   "metadata": {}
  },
  {
   "cell_type": "markdown",
   "source": [
    "## 문장이 짧아서 오히려 잘 안될지도 모른다는 걱정이 들지만, 논리적이지 않은 걱정인 것 같습니다..ㅎㅎ"
   ],
   "metadata": {}
  },
  {
   "cell_type": "code",
   "execution_count": 40,
   "source": [
    "transformer = Transformer(6,512,4,2048,20001,20001,50,shared=False)\n"
   ],
   "outputs": [],
   "metadata": {}
  },
  {
   "cell_type": "code",
   "execution_count": 41,
   "source": [
    "from sklearn.model_selection import train_test_split\n",
    "from tqdm import tqdm\n",
    "import time\n",
    "\n",
    "\n",
    "BUFFER_SIZE = 128\n",
    "BATCH_SIZE = 128\n",
    "\n",
    "enc_train, enc_val, dec_train, dec_val = \\\n",
    "train_test_split(ko_tensor, en_tensor, test_size=0.2)\n",
    "\n",
    "\n",
    "\n",
    "\n",
    "\n",
    "dataset = tf.data.Dataset.from_tensor_slices((enc_train,dec_train))\n",
    "val_dataset = tf.data.Dataset.from_tensor_slices((enc_val, dec_val))\n",
    "\n",
    "dataset = dataset.shuffle(BUFFER_SIZE)\n",
    "dataset = dataset.batch(BATCH_SIZE, drop_remainder=True)\n",
    "print(dataset)\n",
    "val_dataset = val_dataset.shuffle(BUFFER_SIZE)\n",
    "val_dataset = val_dataset.batch(BATCH_SIZE, drop_remainder=True)\n",
    "val_dataset\n",
    "\n",
    "\n",
    "\n",
    "@tf.function()\n",
    "def train_step(src, tgt, model, optimizer):\n",
    "    gold = tgt[:, 1:]\n",
    "        \n",
    "    enc_mask, dec_enc_mask, dec_mask = generate_masks(src, tgt)\n",
    "\n",
    "    with tf.GradientTape() as tape:\n",
    "        predictions, enc_attns, dec_attns, dec_enc_attns = model(src, tgt, enc_mask, dec_enc_mask, dec_mask)\n",
    "        loss = loss_function(gold, predictions[:, :-1])\n",
    "\n",
    "    gradients = tape.gradient(loss, model.trainable_variables)    \n",
    "    optimizer.apply_gradients(zip(gradients, model.trainable_variables))\n",
    "    \n",
    "    return loss, enc_attns, dec_attns, dec_enc_attns\n",
    "\n",
    "\n",
    "\n",
    "\n",
    "@tf.function()\n",
    "def eval_step(src,tgt, model):\n",
    "    gold = tgt[:, 1:]\n",
    "\n",
    "    enc_mask, dec_enc_mask, dec_mask = generate_masks(src,tgt)\n",
    "\n",
    "    predictions, enc_attns, dec_attns, dec_enc_attns = model(src,tgt,enc_mask, dec_enc_mask, dec_mask)\n",
    "    val_loss = loss_function(gold, predictions[:, :-1])\n",
    "    \n",
    "    \n",
    "    return val_loss, enc_attns, dec_attns, dec_enc_attns\n",
    "\n"
   ],
   "outputs": [
    {
     "output_type": "stream",
     "name": "stdout",
     "text": [
      "<BatchDataset shapes: ((128, 50), (128, 50)), types: (tf.int32, tf.int32)>\n"
     ]
    }
   ],
   "metadata": {}
  },
  {
   "cell_type": "code",
   "execution_count": 42,
   "source": [
    "\n",
    "EPOCHS = 15\n",
    "\n",
    "\n",
    "\n",
    "for epoch in range(EPOCHS):\n",
    "    total_loss = 0\n",
    "    val_loss = 0\n",
    "    idx_list = list(range(0, enc_train.shape[0], BATCH_SIZE))[:-2]\n",
    "    random.shuffle(idx_list)\n",
    "    t = tqdm(idx_list)\n",
    "    train = dataset.__iter__()\n",
    "    val = val_dataset.__iter__()\n",
    "\n",
    "    for (batch, idx) in enumerate(t):\n",
    "        batch_loss, enc_attns, dec_attns, dec_enc_attns = \\\n",
    "        train_step(*next(train),\n",
    "                    transformer,\n",
    "                    optimizer)\n",
    "\n",
    "        total_loss += batch_loss\n",
    "        \n",
    "        t.set_description_str('Epoch %2d' % (epoch + 1))\n",
    "        t.set_postfix_str('Loss %.4f' % (total_loss.numpy() / (batch + 1)))\n",
    "\n",
    "\n",
    "    idx_list = list(range(0, enc_val.shape[0], BATCH_SIZE))[:-2]\n",
    "    random.shuffle(idx_list)\n",
    "    t = tqdm(idx_list)\n",
    "\n",
    "    for (batch, idx) in enumerate(t):\n",
    "        batch_loss, enc_attns, dec_attns, dec_enc_attns = \\\n",
    "            eval_step(*next(val),\n",
    "                       transformer)\n",
    "        \n",
    "        val_loss += batch_loss\n",
    "        \n",
    "        t.set_description_str('Val_Epoch %2d' % (epoch + 1))\n",
    "        t.set_postfix_str('Val_loss %.4f' % (val_loss.numpy() / (batch + 1)))\n",
    "\n",
    "    for ex in examples:\n",
    "        translate(ex, transformer, ko, en)\n",
    "    time.sleep(2)\n",
    "\n",
    "\n"
   ],
   "outputs": [
    {
     "output_type": "stream",
     "name": "stderr",
     "text": [
      "Epoch  1: 100%|██████████| 458/458 [12:40<00:00,  1.66s/it, Loss 6.8884]\n",
      "Val_Epoch  1: 100%|██████████| 113/113 [01:03<00:00,  1.79it/s, Val_loss 6.5562]\n"
     ]
    },
    {
     "output_type": "stream",
     "name": "stdout",
     "text": [
      "Input: 오바마는 대통령이다.\n",
      "Predicted translation: the the the the the , the , the , the .\n",
      "Input: 시민들은 도시 속에 산다.\n",
      "Predicted translation: the is the the the , the\n",
      "Input: 커피는 필요 없다.\n",
      "Predicted translation: the is the the the , the\n",
      "Input: 일곱 명의 사망자가 발생했다.\n",
      "Predicted translation: the the the the the , the\n"
     ]
    },
    {
     "output_type": "stream",
     "name": "stderr",
     "text": [
      "Epoch  2: 100%|██████████| 458/458 [12:23<00:00,  1.62s/it, Loss 6.2497]\n",
      "Val_Epoch  2: 100%|██████████| 113/113 [01:00<00:00,  1.86it/s, Val_loss 6.0535]\n"
     ]
    },
    {
     "output_type": "stream",
     "name": "stdout",
     "text": [
      "Input: 오바마는 대통령이다.\n",
      "Predicted translation: the the situation , the new new lot of the united states .\n",
      "Input: 시민들은 도시 속에 산다.\n",
      "Predicted translation: the new korean korean of the country .\n",
      "Input: 커피는 필요 없다.\n",
      "Predicted translation: the dow is not the new new lot of the new new new country .\n",
      "Input: 일곱 명의 사망자가 발생했다.\n",
      "Predicted translation: the new korean korean of the country .\n"
     ]
    },
    {
     "output_type": "stream",
     "name": "stderr",
     "text": [
      "Epoch  3: 100%|██████████| 458/458 [12:28<00:00,  1.63s/it, Loss 5.7760]\n",
      "Val_Epoch  3: 100%|██████████| 113/113 [01:00<00:00,  1.87it/s, Val_loss 5.7525]\n"
     ]
    },
    {
     "output_type": "stream",
     "name": "stdout",
     "text": [
      "Input: 오바마는 대통령이다.\n",
      "Predicted translation: obama , the nomination .\n",
      "Input: 시민들은 도시 속에 산다.\n",
      "Predicted translation: the man was a second .\n",
      "Input: 커피는 필요 없다.\n",
      "Predicted translation: i re a kind of the same .\n",
      "Input: 일곱 명의 사망자가 발생했다.\n",
      "Predicted translation: the suicide wounded wounded at the wounded .\n"
     ]
    },
    {
     "output_type": "stream",
     "name": "stderr",
     "text": [
      "Epoch  4: 100%|██████████| 458/458 [12:21<00:00,  1.62s/it, Loss 5.3606]\n",
      "Val_Epoch  4: 100%|██████████| 113/113 [01:00<00:00,  1.86it/s, Val_loss 5.5600]\n"
     ]
    },
    {
     "output_type": "stream",
     "name": "stdout",
     "text": [
      "Input: 오바마는 대통령이다.\n",
      "Predicted translation: i is a lot of the democratic democratic democratic democratic party .\n",
      "Input: 시민들은 도시 속에 산다.\n",
      "Predicted translation: the man is a good .\n",
      "Input: 커피는 필요 없다.\n",
      "Predicted translation: i can do going to be .\n",
      "Input: 일곱 명의 사망자가 발생했다.\n",
      "Predicted translation: the two people were injured .\n"
     ]
    },
    {
     "output_type": "stream",
     "name": "stderr",
     "text": [
      "Epoch  5: 100%|██████████| 458/458 [12:26<00:00,  1.63s/it, Loss 5.0596]\n",
      "Val_Epoch  5: 100%|██████████| 113/113 [01:00<00:00,  1.86it/s, Val_loss 5.4770]\n"
     ]
    },
    {
     "output_type": "stream",
     "name": "stdout",
     "text": [
      "Input: 오바마는 대통령이다.\n",
      "Predicted translation: obama , obama cnn  ⁇ \n",
      "Input: 시민들은 도시 속에 산다.\n",
      "Predicted translation: the truth is not be .\n",
      "Input: 커피는 필요 없다.\n",
      "Predicted translation: it is a lot of the situation .\n",
      "Input: 일곱 명의 사망자가 발생했다.\n",
      "Predicted translation: the wounded was killed .\n"
     ]
    },
    {
     "output_type": "stream",
     "name": "stderr",
     "text": [
      "Epoch  6: 100%|██████████| 458/458 [12:21<00:00,  1.62s/it, Loss 4.7976]\n",
      "Val_Epoch  6: 100%|██████████| 113/113 [01:00<00:00,  1.87it/s, Val_loss 5.3235]\n"
     ]
    },
    {
     "output_type": "stream",
     "name": "stdout",
     "text": [
      "Input: 오바마는 대통령이다.\n",
      "Predicted translation: president george obama , obama , and president bush .\n",
      "Input: 시민들은 도시 속에 산다.\n",
      "Predicted translation: the cause of the planet .\n",
      "Input: 커피는 필요 없다.\n",
      "Predicted translation: i can be safe .\n",
      "Input: 일곱 명의 사망자가 발생했다.\n",
      "Predicted translation: two people were killed .\n"
     ]
    },
    {
     "output_type": "stream",
     "name": "stderr",
     "text": [
      "Epoch  7: 100%|██████████| 458/458 [12:22<00:00,  1.62s/it, Loss 4.5435]\n",
      "Val_Epoch  7: 100%|██████████| 113/113 [01:00<00:00,  1.86it/s, Val_loss 5.2956]\n"
     ]
    },
    {
     "output_type": "stream",
     "name": "stdout",
     "text": [
      "Input: 오바마는 대통령이다.\n",
      "Predicted translation: obama president george obama .\n",
      "Input: 시민들은 도시 속에 산다.\n",
      "Predicted translation: the indian panda is now .\n",
      "Input: 커피는 필요 없다.\n",
      "Predicted translation: i can t be able to be a very dangerous .\n",
      "Input: 일곱 명의 사망자가 발생했다.\n",
      "Predicted translation: eight people were killed .\n"
     ]
    },
    {
     "output_type": "stream",
     "name": "stderr",
     "text": [
      "Epoch  8: 100%|██████████| 458/458 [12:34<00:00,  1.65s/it, Loss 4.3179]\n",
      "Val_Epoch  8: 100%|██████████| 113/113 [01:00<00:00,  1.88it/s, Val_loss 5.2840]\n"
     ]
    },
    {
     "output_type": "stream",
     "name": "stdout",
     "text": [
      "Input: 오바마는 대통령이다.\n",
      "Predicted translation: obama is a president  ⁇ \n",
      "Input: 시민들은 도시 속에 산다.\n",
      "Predicted translation: the poison rooted is rooted .\n",
      "Input: 커피는 필요 없다.\n",
      "Predicted translation: if you can be rid of course .\n",
      "Input: 일곱 명의 사망자가 발생했다.\n",
      "Predicted translation: eight people were wounded .\n"
     ]
    },
    {
     "output_type": "stream",
     "name": "stderr",
     "text": [
      "Epoch  9: 100%|██████████| 458/458 [12:19<00:00,  1.61s/it, Loss 4.0272]\n",
      "Val_Epoch  9: 100%|██████████| 113/113 [01:00<00:00,  1.86it/s, Val_loss 5.2648]\n"
     ]
    },
    {
     "output_type": "stream",
     "name": "stdout",
     "text": [
      "Input: 오바마는 대통령이다.\n",
      "Predicted translation: president obama is president bush .\n",
      "Input: 시민들은 도시 속에 산다.\n",
      "Predicted translation: the elephants are in the midst of the city of the city of hindu city .\n",
      "Input: 커피는 필요 없다.\n",
      "Predicted translation: if you can you you you you you you you you .\n",
      "Input: 일곱 명의 사망자가 발생했다.\n",
      "Predicted translation: eight people were killed .\n"
     ]
    },
    {
     "output_type": "stream",
     "name": "stderr",
     "text": [
      "Epoch 10: 100%|██████████| 458/458 [12:24<00:00,  1.63s/it, Loss 3.7156]\n",
      "Val_Epoch 10: 100%|██████████| 113/113 [01:00<00:00,  1.87it/s, Val_loss 5.3066]\n"
     ]
    },
    {
     "output_type": "stream",
     "name": "stdout",
     "text": [
      "Input: 오바마는 대통령이다.\n",
      "Predicted translation: the president is a president .\n",
      "Input: 시민들은 도시 속에 산다.\n",
      "Predicted translation: the indian is rooted .\n",
      "Input: 커피는 필요 없다.\n",
      "Predicted translation: if you can .\n",
      "Input: 일곱 명의 사망자가 발생했다.\n",
      "Predicted translation: at least seven people were killed .\n"
     ]
    },
    {
     "output_type": "stream",
     "name": "stderr",
     "text": [
      "Epoch 11: 100%|██████████| 458/458 [12:21<00:00,  1.62s/it, Loss 3.4239]\n",
      "Val_Epoch 11: 100%|██████████| 113/113 [01:00<00:00,  1.87it/s, Val_loss 5.3883]\n"
     ]
    },
    {
     "output_type": "stream",
     "name": "stdout",
     "text": [
      "Input: 오바마는 대통령이다.\n",
      "Predicted translation: obama , who is president bush , president , obama , president , obama , is president .\n",
      "Input: 시민들은 도시 속에 산다.\n",
      "Predicted translation: the threatens rooted in the middle of the middle .\n",
      "Input: 커피는 필요 없다.\n",
      "Predicted translation: if you can store\n",
      "Input: 일곱 명의 사망자가 발생했다.\n",
      "Predicted translation: eight people were killed .\n"
     ]
    },
    {
     "output_type": "stream",
     "name": "stderr",
     "text": [
      "Epoch 12: 100%|██████████| 458/458 [12:19<00:00,  1.62s/it, Loss 3.1460]\n",
      "Val_Epoch 12: 100%|██████████| 113/113 [01:00<00:00,  1.87it/s, Val_loss 5.5044]\n"
     ]
    },
    {
     "output_type": "stream",
     "name": "stdout",
     "text": [
      "Input: 오바마는 대통령이다.\n",
      "Predicted translation: obama is one of obama s inauguration .\n",
      "Input: 시민들은 도시 속에 산다.\n",
      "Predicted translation: hundreds of people are in the park .\n",
      "Input: 커피는 필요 없다.\n",
      "Predicted translation: if you can be able to ban .\n",
      "Input: 일곱 명의 사망자가 발생했다.\n",
      "Predicted translation: seven people were killed .\n"
     ]
    },
    {
     "output_type": "stream",
     "name": "stderr",
     "text": [
      "Epoch 13: 100%|██████████| 458/458 [12:26<00:00,  1.63s/it, Loss 2.8855]\n",
      "Val_Epoch 13: 100%|██████████| 113/113 [01:00<00:00,  1.87it/s, Val_loss 5.6656]\n"
     ]
    },
    {
     "output_type": "stream",
     "name": "stdout",
     "text": [
      "Input: 오바마는 대통령이다.\n",
      "Predicted translation: he s a dream of care , he told illinois , february care in indiana care .\n",
      "Input: 시민들은 도시 속에 산다.\n",
      "Predicted translation: 82 year old kerts .\n",
      "Input: 커피는 필요 없다.\n",
      "Predicted translation: improve , ban is more more .\n",
      "Input: 일곱 명의 사망자가 발생했다.\n",
      "Predicted translation: seven people were killed .\n"
     ]
    },
    {
     "output_type": "stream",
     "name": "stderr",
     "text": [
      "Epoch 14: 100%|██████████| 458/458 [12:30<00:00,  1.64s/it, Loss 2.6426]\n",
      "Val_Epoch 14: 100%|██████████| 113/113 [01:00<00:00,  1.86it/s, Val_loss 5.7954]\n"
     ]
    },
    {
     "output_type": "stream",
     "name": "stdout",
     "text": [
      "Input: 오바마는 대통령이다.\n",
      "Predicted translation: he is welcoming obama s lead in february .\n",
      "Input: 시민들은 도시 속에 산다.\n",
      "Predicted translation: some of the fires are collapsed .\n",
      "Input: 커피는 필요 없다.\n",
      "Predicted translation: improve coffee is not matched .\n",
      "Input: 일곱 명의 사망자가 발생했다.\n",
      "Predicted translation: seven people were killed .\n"
     ]
    },
    {
     "output_type": "stream",
     "name": "stderr",
     "text": [
      "Epoch 15: 100%|██████████| 458/458 [12:17<00:00,  1.61s/it, Loss 2.4181]\n",
      "Val_Epoch 15: 100%|██████████| 113/113 [01:00<00:00,  1.88it/s, Val_loss 5.9435]\n"
     ]
    },
    {
     "output_type": "stream",
     "name": "stdout",
     "text": [
      "Input: 오바마는 대통령이다.\n",
      "Predicted translation: obama s annual october 29th .\n",
      "Input: 시민들은 도시 속에 산다.\n",
      "Predicted translation: in the past week .\n",
      "Input: 커피는 필요 없다.\n",
      "Predicted translation: improve your product is .\n",
      "Input: 일곱 명의 사망자가 발생했다.\n",
      "Predicted translation: seven people were injured .\n"
     ]
    }
   ],
   "metadata": {}
  },
  {
   "cell_type": "code",
   "execution_count": 43,
   "source": [
    "checkpoint_dir = \"/aiffel/Data/Model/transformer/weight\"\n",
    "\n",
    "checkpoint_prefix = os.path.join(checkpoint_dir, \"ckpt\")\n",
    "checkpoint = tf.train.Checkpoint(transformer=transformer)\n",
    "\n",
    "checkpoint.save(file_prefix=checkpoint_prefix)\n"
   ],
   "outputs": [
    {
     "output_type": "execute_result",
     "data": {
      "text/plain": [
       "'/aiffel/Data/Model/transformer/weight/ckpt-1'"
      ]
     },
     "metadata": {},
     "execution_count": 43
    }
   ],
   "metadata": {}
  },
  {
   "cell_type": "code",
   "execution_count": 31,
   "source": [
    "from tqdm import tqdm\n",
    "\n",
    "class Transformer(tf.keras.Model):\n",
    "    def __init__(self, n_layers,d_model,\n",
    "                 n_heads,dff,src_vocab_size,\n",
    "                 tgt_vocab_size, pos_len, loss_function,\n",
    "                 dropout=0.2, shared=True):\n",
    "        super(Transformer, self).__init__()\n",
    "        self.d_model = tf.cast(d_model, tf.float32)\n",
    "\n",
    "        self.enc_embedding = tf.keras.layers.Embedding(src_vocab_size, d_model)\n",
    "        self.dec_embedding = tf.keras.layers.Embedding(tgt_vocab_size, d_model)\n",
    "\n",
    "        self.positional = positional_encoding(pos_len,d_model)\n",
    "\n",
    "        self.encoder = Encoder(n_layers, d_model, n_heads, dff, dropout)\n",
    "        self.decoder = Decoder(n_layers, d_model, n_heads, dff, dropout)\n",
    "        \n",
    "        self.out_linear = tf.keras.layers.Dense(tgt_vocab_size)\n",
    "        self.dropout = tf.keras.layers.SpatialDropout1D(dropout/2)\n",
    "\n",
    "        self.shared = shared\n",
    "        self.history = {'loss':[],'val_loss':[], 'attention':[]}\n",
    "\n",
    "        self.loss_function = loss_function\n",
    "\n",
    "        if shared: self.out_linear.set_weights(tf.transpose(self.dec_embedding.weights)) # 이런 생각을 한다는 것이 매우 놀랍다.\n",
    "\n",
    "    \n",
    "    def embedding(self, emb, x,training=False):\n",
    "        # share?\n",
    "        seq_len = x.shape[1]\n",
    "        out = emb(x)\n",
    "        if self.shared: out *= tf.math.sqrt(self.d_model)\n",
    "\n",
    "        out += self.positional[np.newaxis, ...][:, :seq_len, :]\n",
    "        out = self.dropout(out, training=training)\n",
    "\n",
    "        return out\n",
    "\n",
    "    \n",
    "    def call(self, enc_in, dec_in, enc_mask, causality_mask, dec_mask, training=False):\n",
    "        # 1 embedding\n",
    "        enc = self.embedding(self.enc_embedding, enc_in, training)\n",
    "        dec = self.embedding(self.dec_embedding, dec_in, training)\n",
    "\n",
    "        # 2 encoder, decoder\n",
    "        enc_out, enc_attns = self.encoder(enc, enc_mask, training)\n",
    "\n",
    "        dec_out, dec_attns, dec_enc_attns = self.decoder(dec, enc_out, causality_mask, dec_mask, training)\n",
    "\n",
    "        logits = self.out_linear(dec_out)\n",
    "\n",
    "        return logits, enc_attns, dec_attns, dec_enc_attns\n",
    "    \n",
    "    def generate_padding_mask(self, seq):\n",
    "        seq = tf.cast(tf.math.equal(seq, 0), tf.float32)\n",
    "        return seq[:, tf.newaxis, tf.newaxis, :]\n",
    "\n",
    "    def generate_causality_mask(self, src_len, tgt_len):\n",
    "        mask = 1 - np.cumsum(np.eye(src_len, tgt_len), 0)\n",
    "        return tf.cast(mask, tf.float32)\n",
    "\n",
    "    def generate_masks(self, src, tgt):\n",
    "        enc_mask = self.generate_padding_mask(src)\n",
    "        dec_mask = self.generate_padding_mask(tgt)\n",
    "\n",
    "        dec_enc_causality_mask = self.generate_causality_mask(tgt.shape[1], src.shape[1])\n",
    "        dec_enc_mask = tf.maximum(enc_mask, dec_enc_causality_mask)\n",
    "\n",
    "        dec_causality_mask = self.generate_causality_mask(tgt.shape[1], tgt.shape[1])\n",
    "        dec_mask = tf.maximum(dec_mask, dec_causality_mask)\n",
    "\n",
    "        return enc_mask, dec_enc_mask, dec_mask\n",
    "\n",
    "    @tf.function()\n",
    "    def train_step(self, src, tgt, optimizer):\n",
    "        gold = tgt[:, 1:]\n",
    "            \n",
    "        enc_mask, dec_enc_mask, dec_mask = self.generate_masks(src, tgt)\n",
    "\n",
    "        with tf.GradientTape() as tape:\n",
    "            predictions, enc_attns, dec_attns, dec_enc_attns = self(src, tgt, enc_mask, dec_enc_mask, dec_mask, training=True)\n",
    "            loss = self.loss_function(gold, predictions[:, :-1])\n",
    "\n",
    "        gradients = tape.gradient(loss, self.trainable_variables)    \n",
    "        optimizer.apply_gradients(zip(gradients, self.trainable_variables))\n",
    "        \n",
    "        return loss, enc_attns, dec_attns, dec_enc_attns\n",
    "\n",
    "\n",
    "\n",
    "\n",
    "    @tf.function()\n",
    "    def eval_step(self, src,tgt):\n",
    "        gold = tgt[:, 1:]\n",
    "\n",
    "        enc_mask, dec_enc_mask, dec_mask = self.generate_masks(src,tgt)\n",
    "\n",
    "        predictions, enc_attns, dec_attns, dec_enc_attns = self(src,tgt,enc_mask, dec_enc_mask, dec_mask)\n",
    "        val_loss = self.loss_function(gold, predictions[:, :-1])\n",
    "        \n",
    "        \n",
    "        return val_loss, enc_attns, dec_attns, dec_enc_attns\n",
    "\n",
    "\n",
    "    def fit(self, epochs=20, x_train=None, y_train=None,\n",
    "            x_val=None, y_val=None, BATCH_SIZE=128, \n",
    "            offset_epoch=0, translate=None, examples=None):\n",
    "        EPOCHS = epochs\n",
    "\n",
    "        for epoch in range(EPOCHS):\n",
    "            total_loss = 0\n",
    "            val_loss = 0\n",
    "            idx_list = list(range(0, x_train.shape[0], BATCH_SIZE))\n",
    "            random.shuffle(idx_list)\n",
    "            t = tqdm(idx_list)\n",
    "\n",
    "            for (batch, idx) in enumerate(t):\n",
    "                batch_loss, enc_attns, dec_attns, dec_enc_attns = \\\n",
    "                self.train_step(x_train[idx:idx+BATCH_SIZE],\n",
    "                                y_train[idx:idx+BATCH_SIZE],\n",
    "                                optimizer)\n",
    "\n",
    "                total_loss += batch_loss\n",
    "                \n",
    "                t.set_description_str('Epoch %2d' % (offset_epoch+epoch + 1))\n",
    "                t.set_postfix_str('Loss %.4f' % (total_loss.numpy() / (batch + 1)))\n",
    "            self.history['loss'].append(total_loss.numpy() / (batch + 1))\n",
    "\n",
    "            if x_val is not None:\n",
    "                idx_list = list(range(0, x_val.shape[0], BATCH_SIZE))[:-2]\n",
    "                random.shuffle(idx_list)\n",
    "                t = tqdm(idx_list)\n",
    "\n",
    "                for (batch, idx) in enumerate(t):\n",
    "                    batch_loss, enc_attns, dec_attns, dec_enc_attns = \\\n",
    "                        self.eval_step(x_val[idx:idx+BATCH_SIZE],\n",
    "                                    y_val[idx:idx+BATCH_SIZE])\n",
    "                    \n",
    "                    val_loss += batch_loss\n",
    "                    \n",
    "                    t.set_description_str('Val_epoch %2d' % (offset_epoch+epoch + 1))\n",
    "                    t.set_postfix_str('Val_loss %.4f' % (val_loss.numpy() / (batch + 1)))\n",
    "                self.history['val_loss'].append(val_loss.numpy() / (batch + 1))\n",
    "\n",
    "            if examples and translate:\n",
    "                for ex in examples:\n",
    "                    translate(ex, transformer, ko, en)\n",
    "                time.sleep(2)\n",
    "\n",
    "        self.history['attention'].extend([enc_attns, dec_attns, dec_enc_attns])\n",
    "        return self.history\n",
    "\n",
    "\n",
    "class LearningRateScheduler(tf.keras.optimizers.schedules.LearningRateSchedule):\n",
    "    def __init__(self, d_model, warmup_steps=4000):\n",
    "        super(LearningRateScheduler, self).__init__()\n",
    "        \n",
    "        self.d_model = d_model\n",
    "        self.warmup_steps = warmup_steps\n",
    "    \n",
    "    def __call__(self, step):\n",
    "        arg1 = step ** -0.5\n",
    "        arg2 = step * (self.warmup_steps ** -1.5)\n",
    "        \n",
    "        return (self.d_model ** -0.5) * tf.math.minimum(arg1, arg2)\n",
    "\n",
    "learning_rate = LearningRateScheduler(512)\n",
    "optimizer = tf.keras.optimizers.Adam(learning_rate, beta_1=0.9, beta_2=0.98, epsilon=1e-9)\n",
    "\n",
    "\n",
    "loss_object = tf.keras.losses.SparseCategoricalCrossentropy(\n",
    "    from_logits=True, reduction='none')\n",
    "\n",
    "def loss_function(real, pred):\n",
    "    mask = tf.math.logical_not(tf.math.equal(real, 0))\n",
    "    loss_ = loss_object(real, pred)\n",
    "\n",
    "    mask = tf.cast(mask, dtype=loss_.dtype)\n",
    "    loss_ *= mask\n",
    "\n",
    "    return tf.reduce_sum(loss_)/tf.reduce_sum(mask)"
   ],
   "outputs": [],
   "metadata": {}
  },
  {
   "cell_type": "code",
   "execution_count": 32,
   "source": [
    "transformer = Transformer(n_layers=4, d_model=512, n_heads=4, dff=2048, \n",
    "                          src_vocab_size=20000, tgt_vocab_size=20000, \n",
    "                          pos_len=50, loss_function=loss_function, dropout=0.4, shared=False)"
   ],
   "outputs": [],
   "metadata": {}
  },
  {
   "cell_type": "code",
   "execution_count": 33,
   "source": [
    "from sklearn.model_selection import train_test_split\n",
    "from tqdm import tqdm\n",
    "import time\n",
    "\n",
    "\n",
    "BATCH_SIZE = 256\n",
    "\n",
    "enc_train, enc_val, dec_train, dec_val = \\\n",
    "train_test_split(ko_tensor, en_tensor, test_size=0.1)\n",
    "\n",
    "\n",
    "examples = [\n",
    "            \"오바마는 대통령이다.\",\n",
    "            \"시민들은 도시 속에 산다.\",\n",
    "            \"커피는 필요 없다.\",\n",
    "            \"일곱 명의 사망자가 발생했다.\",\n",
    "            \"심심해서 당신이 보고싶다.\"\n",
    "]\n",
    "\n",
    "Thanks = transformer.fit(10, enc_train, dec_train, enc_val, dec_val, BATCH_SIZE, translate=translate, examples=examples)"
   ],
   "outputs": [
    {
     "output_type": "stream",
     "name": "stderr",
     "text": [
      "Epoch  1: 100%|██████████| 259/259 [09:10<00:00,  2.13s/it, Loss 8.1188]\n",
      "Val_epoch  1: 100%|██████████| 27/27 [00:20<00:00,  1.35it/s, Val_loss 7.0056]\n"
     ]
    },
    {
     "output_type": "stream",
     "name": "stdout",
     "text": [
      "Input: 오바마는 대통령이다.\n",
      "Predicted translation: the the the . . .\n",
      "Input: 시민들은 도시 속에 산다.\n",
      "Predicted translation: the the the the .\n",
      "Input: 커피는 필요 없다.\n",
      "Predicted translation: the the the . . .\n",
      "Input: 일곱 명의 사망자가 발생했다.\n",
      "Predicted translation: the the the . . .\n",
      "Input: 심심해서 당신이 보고싶다.\n",
      "Predicted translation: the the the the the .\n"
     ]
    },
    {
     "output_type": "stream",
     "name": "stderr",
     "text": [
      "Epoch  2: 100%|██████████| 259/259 [09:23<00:00,  2.17s/it, Loss 7.0627]\n",
      "Val_epoch  2: 100%|██████████| 27/27 [00:18<00:00,  1.46it/s, Val_loss 6.8395]\n"
     ]
    },
    {
     "output_type": "stream",
     "name": "stdout",
     "text": [
      "Input: 오바마는 대통령이다.\n",
      "Predicted translation: the the the . . .\n",
      "Input: 시민들은 도시 속에 산다.\n",
      "Predicted translation: the the the . . .\n",
      "Input: 커피는 필요 없다.\n",
      "Predicted translation: the the the . . .\n",
      "Input: 일곱 명의 사망자가 발생했다.\n",
      "Predicted translation: the the the . . .\n",
      "Input: 심심해서 당신이 보고싶다.\n",
      "Predicted translation: the the the the . .\n"
     ]
    },
    {
     "output_type": "stream",
     "name": "stderr",
     "text": [
      "Epoch  3: 100%|██████████| 259/259 [09:15<00:00,  2.15s/it, Loss 6.7879]\n",
      "Val_epoch  3: 100%|██████████| 27/27 [00:18<00:00,  1.46it/s, Val_loss 6.7998]\n"
     ]
    },
    {
     "output_type": "stream",
     "name": "stdout",
     "text": [
      "Input: 오바마는 대통령이다.\n",
      "Predicted translation: the the the the the the the the the the the the the the the the the the the the the the the the the the the the the the the the the the the the the the the the the the the .\n",
      "Input: 시민들은 도시 속에 산다.\n",
      "Predicted translation: the the the the the the the the the the the the the the the the the the the the the the the the the the the the the the the the the the the the the the the the the the the .\n",
      "Input: 커피는 필요 없다.\n",
      "Predicted translation: the the the the the the the the the the the the the the the the the the the the the the the the the the the the the the the the the the the the the the the the the the the .\n",
      "Input: 일곱 명의 사망자가 발생했다.\n",
      "Predicted translation: the the the the the the the the the the the the the the the the the the the the the the the the the the the the the the the the the the the the the the the the the the the .\n",
      "Input: 심심해서 당신이 보고싶다.\n",
      "Predicted translation: the the the the the the the the the the the the the the the the the the the the the the the the the the the the the the the the the the the the the the the the the the .\n"
     ]
    },
    {
     "output_type": "stream",
     "name": "stderr",
     "text": [
      "Epoch  4: 100%|██████████| 259/259 [08:54<00:00,  2.06s/it, Loss 6.5628]\n",
      "Val_epoch  4: 100%|██████████| 27/27 [00:18<00:00,  1.46it/s, Val_loss 6.6455]\n"
     ]
    },
    {
     "output_type": "stream",
     "name": "stdout",
     "text": [
      "Input: 오바마는 대통령이다.\n",
      "Predicted translation: the dow of the be\n",
      "Input: 시민들은 도시 속에 산다.\n",
      "Predicted translation: the the united , the the the the the the the the world .\n",
      "Input: 커피는 필요 없다.\n",
      "Predicted translation: the the world of the be\n",
      "Input: 일곱 명의 사망자가 발생했다.\n",
      "Predicted translation: the the united states of the the the the be the be the world .\n",
      "Input: 심심해서 당신이 보고싶다.\n",
      "Predicted translation: the the united , the the the the the the world .\n"
     ]
    },
    {
     "output_type": "stream",
     "name": "stderr",
     "text": [
      "Epoch  5: 100%|██████████| 259/259 [08:54<00:00,  2.07s/it, Loss 6.3414]\n",
      "Val_epoch  5: 100%|██████████| 27/27 [00:18<00:00,  1.46it/s, Val_loss 6.6536]\n"
     ]
    },
    {
     "output_type": "stream",
     "name": "stdout",
     "text": [
      "Input: 오바마는 대통령이다.\n",
      "Predicted translation: the dow is the end of the be the end .\n",
      "Input: 시민들은 도시 속에 산다.\n",
      "Predicted translation: the dow is the end .\n",
      "Input: 커피는 필요 없다.\n",
      "Predicted translation: the dow is the end of the be the end .\n",
      "Input: 일곱 명의 사망자가 발생했다.\n",
      "Predicted translation: the dow is the end of the be the end .\n",
      "Input: 심심해서 당신이 보고싶다.\n",
      "Predicted translation: the dow is the first world .\n"
     ]
    },
    {
     "output_type": "stream",
     "name": "stderr",
     "text": [
      "Epoch  6: 100%|██████████| 259/259 [09:09<00:00,  2.12s/it, Loss 6.1136]\n",
      "Val_epoch  6: 100%|██████████| 27/27 [00:18<00:00,  1.46it/s, Val_loss 6.3553]\n"
     ]
    },
    {
     "output_type": "stream",
     "name": "stdout",
     "text": [
      "Input: 오바마는 대통령이다.\n",
      "Predicted translation: the dow is the first korean the first korean the first korean the united states .\n",
      "Input: 시민들은 도시 속에 산다.\n",
      "Predicted translation: but the dow is the be the first korean be the first korean be korean the united states .\n",
      "Input: 커피는 필요 없다.\n",
      "Predicted translation: but he was t been t been t been t t very be the be the be the be the end .\n",
      "Input: 일곱 명의 사망자가 발생했다.\n",
      "Predicted translation: the dow is the first korean the first korean the first korean the united states to be the end it was the end .\n",
      "Input: 심심해서 당신이 보고싶다.\n",
      "Predicted translation: the dow is the first korean the united states to be the end .\n"
     ]
    },
    {
     "output_type": "stream",
     "name": "stderr",
     "text": [
      "Epoch  7: 100%|██████████| 259/259 [09:37<00:00,  2.23s/it, Loss 5.8963]\n",
      "Val_epoch  7: 100%|██████████| 27/27 [00:28<00:00,  1.05s/it, Val_loss 6.1752]\n"
     ]
    },
    {
     "output_type": "stream",
     "name": "stdout",
     "text": [
      "Input: 오바마는 대통령이다.\n",
      "Predicted translation: the dow is a lot of the world s end to be a nuclear nomination .\n",
      "Input: 시민들은 도시 속에 산다.\n",
      "Predicted translation: the dow is the world .\n",
      "Input: 커피는 필요 없다.\n",
      "Predicted translation: he was not to be be a lot .\n",
      "Input: 일곱 명의 사망자가 발생했다.\n",
      "Predicted translation: the dow was expected to meet the united states s nuclear nuclear nuclear nuclear nuclear nuclear nuclear nuclear korean korean korean korean korean korean korean korean korean korean korean korean korean korean korean korean korean nuclear nuclear nuclear nuclear nuclear nuclear nuclear korean korean korean korean weapons .\n",
      "Input: 심심해서 당신이 보고싶다.\n",
      "Predicted translation: the dow is the world of the world .\n"
     ]
    },
    {
     "output_type": "stream",
     "name": "stderr",
     "text": [
      "Epoch  8: 100%|██████████| 259/259 [09:23<00:00,  2.18s/it, Loss 5.6844]\n",
      "Val_epoch  8: 100%|██████████| 27/27 [00:18<00:00,  1.46it/s, Val_loss 6.0466]\n"
     ]
    },
    {
     "output_type": "stream",
     "name": "stdout",
     "text": [
      "Input: 오바마는 대통령이다.\n",
      "Predicted translation: the korea herald .\n",
      "Input: 시민들은 도시 속에 산다.\n",
      "Predicted translation: the dow is a lot of the world s be a lot of the world s end it is the first be half it s be a lead it s be a be half the economy .\n",
      "Input: 커피는 필요 없다.\n",
      "Predicted translation: the ap .\n",
      "Input: 일곱 명의 사망자가 발생했다.\n",
      "Predicted translation: the dow were killed .\n",
      "Input: 심심해서 당신이 보고싶다.\n",
      "Predicted translation: the ap correspondent .\n"
     ]
    },
    {
     "output_type": "stream",
     "name": "stderr",
     "text": [
      "Epoch  9: 100%|██████████| 259/259 [09:08<00:00,  2.12s/it, Loss 5.4958]\n",
      "Val_epoch  9: 100%|██████████| 27/27 [00:18<00:00,  1.44it/s, Val_loss 5.9298]\n"
     ]
    },
    {
     "output_type": "stream",
     "name": "stdout",
     "text": [
      "Input: 오바마는 대통령이다.\n",
      "Predicted translation: the white house says the senate is a candidate .\n",
      "Input: 시민들은 도시 속에 산다.\n",
      "Predicted translation: but the ap , the ap , is a new first half .\n",
      "Input: 커피는 필요 없다.\n",
      "Predicted translation: but you is going to be a lot .\n",
      "Input: 일곱 명의 사망자가 발생했다.\n",
      "Predicted translation: the government has been reported .\n",
      "Input: 심심해서 당신이 보고싶다.\n",
      "Predicted translation: the ap s ap .\n"
     ]
    },
    {
     "output_type": "stream",
     "name": "stderr",
     "text": [
      "Epoch 10: 100%|██████████| 259/259 [09:15<00:00,  2.15s/it, Loss 5.3298]\n",
      "Val_epoch 10: 100%|██████████| 27/27 [00:19<00:00,  1.40it/s, Val_loss 5.7177]\n"
     ]
    },
    {
     "output_type": "stream",
     "name": "stdout",
     "text": [
      "Input: 오바마는 대통령이다.\n",
      "Predicted translation: obama is a very time of the white house .\n",
      "Input: 시민들은 도시 속에 산다.\n",
      "Predicted translation: the ap s mark is a lot of the world s largest press .\n",
      "Input: 커피는 필요 없다.\n",
      "Predicted translation: we don t know we re sorry to do you re .\n",
      "Input: 일곱 명의 사망자가 발생했다.\n",
      "Predicted translation: the government herald reports it was no estimated least least least least least least least least least least least least least least least least least least least least least least least least least least least least least least least least least least 750 people .\n",
      "Input: 심심해서 당신이 보고싶다.\n",
      "Predicted translation: the ap s mark smith ⁇ \n"
     ]
    }
   ],
   "metadata": {}
  },
  {
   "cell_type": "code",
   "execution_count": 34,
   "source": [
    "checkpoint_dir = \"/aiffel/Data/Model/transformer/weight\"\n",
    "\n",
    "checkpoint_prefix = os.path.join(checkpoint_dir, \"uplayer4\")\n",
    "checkpoint = tf.train.Checkpoint(transformer=transformer)\n",
    "\n",
    "checkpoint.save(file_prefix=checkpoint_prefix)"
   ],
   "outputs": [
    {
     "output_type": "execute_result",
     "data": {
      "text/plain": [
       "'/aiffel/Data/Model/transformer/weight/uplayer4-1'"
      ]
     },
     "metadata": {},
     "execution_count": 34
    }
   ],
   "metadata": {}
  },
  {
   "cell_type": "code",
   "execution_count": 35,
   "source": [
    "Thanks = transformer.fit(10, enc_train, dec_train, enc_val, dec_val, BATCH_SIZE, translate=translate, examples=examples, offset_epoch=10)\n",
    "\n",
    "checkpoint_dir = \"/aiffel/Data/Model/transformer/weight\"\n",
    "\n",
    "checkpoint_prefix = os.path.join(checkpoint_dir, \"uplayer4-2\")\n",
    "checkpoint = tf.train.Checkpoint(transformer=transformer)\n",
    "\n",
    "checkpoint.save(file_prefix=checkpoint_prefix)"
   ],
   "outputs": [
    {
     "output_type": "stream",
     "name": "stderr",
     "text": [
      "Epoch 11: 100%|██████████| 259/259 [09:52<00:00,  2.29s/it, Loss 5.1868]\n",
      "Val_epoch 11: 100%|██████████| 27/27 [00:18<00:00,  1.46it/s, Val_loss 5.6006]\n"
     ]
    },
    {
     "output_type": "stream",
     "name": "stdout",
     "text": [
      "Input: 오바마는 대통령이다.\n",
      "Predicted translation: obama s obama times .\n",
      "Input: 시민들은 도시 속에 산다.\n",
      "Predicted translation: the cause of the planet .\n",
      "Input: 커피는 필요 없다.\n",
      "Predicted translation: if you can be able to be able to be able to be .\n",
      "Input: 일곱 명의 사망자가 발생했다.\n",
      "Predicted translation: the cause of the blast were killed .\n",
      "Input: 심심해서 당신이 보고싶다.\n",
      "Predicted translation: i think you re a lot of your own your own .\n"
     ]
    },
    {
     "output_type": "stream",
     "name": "stderr",
     "text": [
      "Epoch 12: 100%|██████████| 259/259 [08:55<00:00,  2.07s/it, Loss 5.0613]\n",
      "Val_epoch 12: 100%|██████████| 27/27 [00:18<00:00,  1.46it/s, Val_loss 5.5729]\n"
     ]
    },
    {
     "output_type": "stream",
     "name": "stdout",
     "text": [
      "Input: 오바마는 대통령이다.\n",
      "Predicted translation: the president elect elect elect elect elect elect sauger bak moo candidate .\n",
      "Input: 시민들은 도시 속에 산다.\n",
      "Predicted translation: the ap s jason correspondent station has been killed .\n",
      "Input: 커피는 필요 없다.\n",
      "Predicted translation: it s not a very time .\n",
      "Input: 일곱 명의 사망자가 발생했다.\n",
      "Predicted translation: the blasts occurred the dead of the town of the town of the outskirts of the town of the town of the town of the town of the town .\n",
      "Input: 심심해서 당신이 보고싶다.\n",
      "Predicted translation: the ap s jerry bodlander old correspondent jerry bodlander .\n"
     ]
    },
    {
     "output_type": "stream",
     "name": "stderr",
     "text": [
      "Epoch 13: 100%|██████████| 259/259 [09:53<00:00,  2.29s/it, Loss 4.9460]\n",
      "Val_epoch 13: 100%|██████████| 27/27 [00:18<00:00,  1.46it/s, Val_loss 5.3919]\n"
     ]
    },
    {
     "output_type": "stream",
     "name": "stdout",
     "text": [
      "Input: 오바마는 대통령이다.\n",
      "Predicted translation: the senator s mark smith senator reports he was too a new first time .\n",
      "Input: 시민들은 도시 속에 산다.\n",
      "Predicted translation: the storm was a bit of the storm .\n",
      "Input: 커피는 필요 없다.\n",
      "Predicted translation: it s not a lot of the problem .\n",
      "Input: 일곱 명의 사망자가 발생했다.\n",
      "Predicted translation: the storm was destroyed .\n",
      "Input: 심심해서 당신이 보고싶다.\n",
      "Predicted translation: the ap s mark smith\n"
     ]
    },
    {
     "output_type": "stream",
     "name": "stderr",
     "text": [
      "Epoch 14: 100%|██████████| 259/259 [08:57<00:00,  2.07s/it, Loss 4.8397]\n",
      "Val_epoch 14: 100%|██████████| 27/27 [00:18<00:00,  1.46it/s, Val_loss 5.3217]\n"
     ]
    },
    {
     "output_type": "stream",
     "name": "stdout",
     "text": [
      "Input: 오바마는 대통령이다.\n",
      "Predicted translation: obama has been a new aide for barack obama .\n",
      "Input: 시민들은 도시 속에 산다.\n",
      "Predicted translation: the ap s jason correspondent has been found .\n",
      "Input: 커피는 필요 없다.\n",
      "Predicted translation: it s not a lot of people .\n",
      "Input: 일곱 명의 사망자가 발생했다.\n",
      "Predicted translation: the official reports the associated press this week .\n",
      "Input: 심심해서 당신이 보고싶다.\n",
      "Predicted translation: the ap s bryant thomas thomas says it s not a good friend .\n"
     ]
    },
    {
     "output_type": "stream",
     "name": "stderr",
     "text": [
      "Epoch 15: 100%|██████████| 259/259 [09:08<00:00,  2.12s/it, Loss 4.7271]\n",
      "Val_epoch 15: 100%|██████████| 27/27 [00:18<00:00,  1.42it/s, Val_loss 5.3720]\n"
     ]
    },
    {
     "output_type": "stream",
     "name": "stdout",
     "text": [
      "Input: 오바마는 대통령이다.\n",
      "Predicted translation: obama s campaign has a tough debate .\n",
      "Input: 시민들은 도시 속에 산다.\n",
      "Predicted translation: they are still trying to get a fire .\n",
      "Input: 커피는 필요 없다.\n",
      "Predicted translation: it s not a lot of people .\n",
      "Input: 일곱 명의 사망자가 발생했다.\n",
      "Predicted translation: the blast occurred at least 11 , 000 people and the capital of the capital of the capital of the capital of peshawar .\n",
      "Input: 심심해서 당신이 보고싶다.\n",
      "Predicted translation: the ap s sauger magoni\n"
     ]
    },
    {
     "output_type": "stream",
     "name": "stderr",
     "text": [
      "Epoch 16: 100%|██████████| 259/259 [09:20<00:00,  2.16s/it, Loss 4.6231]\n",
      "Val_epoch 16: 100%|██████████| 27/27 [00:19<00:00,  1.42it/s, Val_loss 5.1729]\n"
     ]
    },
    {
     "output_type": "stream",
     "name": "stdout",
     "text": [
      "Input: 오바마는 대통령이다.\n",
      "Predicted translation: obama is also a very popular aide .\n",
      "Input: 시민들은 도시 속에 산다.\n",
      "Predicted translation: the woman was carrying a large man .\n",
      "Input: 커피는 필요 없다.\n",
      "Predicted translation: it s a lot of brain .\n",
      "Input: 일곱 명의 사망자가 발생했다.\n",
      "Predicted translation: the death toll in the philippines suburb of the capital province suburb , killing at least 1 , 800 people were killed .\n",
      "Input: 심심해서 당신이 보고싶다.\n",
      "Predicted translation: the ap s jason reed\n"
     ]
    },
    {
     "output_type": "stream",
     "name": "stderr",
     "text": [
      "Epoch 17: 100%|██████████| 259/259 [09:43<00:00,  2.25s/it, Loss 4.4934]\n",
      "Val_epoch 17: 100%|██████████| 27/27 [00:18<00:00,  1.46it/s, Val_loss 5.1515]\n"
     ]
    },
    {
     "output_type": "stream",
     "name": "stdout",
     "text": [
      "Input: 오바마는 대통령이다.\n",
      "Predicted translation: obama says he was disappointed .\n",
      "Input: 시민들은 도시 속에 산다.\n",
      "Predicted translation: the woman s death toll .\n",
      "Input: 커피는 필요 없다.\n",
      "Predicted translation: it s a little bit .\n",
      "Input: 일곱 명의 사망자가 발생했다.\n",
      "Predicted translation: the protesters were killed .\n",
      "Input: 심심해서 당신이 보고싶다.\n",
      "Predicted translation: the ap s jason correspondent sagar meghani .\n"
     ]
    },
    {
     "output_type": "stream",
     "name": "stderr",
     "text": [
      "Epoch 18: 100%|██████████| 259/259 [09:07<00:00,  2.11s/it, Loss 4.3651]\n",
      "Val_epoch 18: 100%|██████████| 27/27 [00:20<00:00,  1.32it/s, Val_loss 5.0165]\n"
     ]
    },
    {
     "output_type": "stream",
     "name": "stdout",
     "text": [
      "Input: 오바마는 대통령이다.\n",
      "Predicted translation: obama has been undergoing barack obama .\n",
      "Input: 시민들은 도시 속에 산다.\n",
      "Predicted translation: the two people were injured .\n",
      "Input: 커피는 필요 없다.\n",
      "Predicted translation: it s not a good fix .\n",
      "Input: 일곱 명의 사망자가 발생했다.\n",
      "Predicted translation: the death toll was destroyed .\n",
      "Input: 심심해서 당신이 보고싶다.\n",
      "Predicted translation: it s a good time .\n"
     ]
    },
    {
     "output_type": "stream",
     "name": "stderr",
     "text": [
      "Epoch 19: 100%|██████████| 259/259 [09:10<00:00,  2.13s/it, Loss 4.2433]\n",
      "Val_epoch 19: 100%|██████████| 27/27 [00:19<00:00,  1.41it/s, Val_loss 5.0867]\n"
     ]
    },
    {
     "output_type": "stream",
     "name": "stdout",
     "text": [
      "Input: 오바마는 대통령이다.\n",
      "Predicted translation: obama s campaign has a chance to obama s campaign .\n",
      "Input: 시민들은 도시 속에 산다.\n",
      "Predicted translation: the street is the only one of the most unusual buildings .\n",
      "Input: 커피는 필요 없다.\n",
      "Predicted translation: it s not a lot of heart .\n",
      "Input: 일곱 명의 사망자가 발생했다.\n",
      "Predicted translation: the deadliest attack in the town of the country s deadliest history .\n",
      "Input: 심심해서 당신이 보고싶다.\n",
      "Predicted translation: the ap s rita foley is not a tricky class .\n"
     ]
    },
    {
     "output_type": "stream",
     "name": "stderr",
     "text": [
      "Epoch 20: 100%|██████████| 259/259 [09:04<00:00,  2.10s/it, Loss 4.1330]\n",
      "Val_epoch 20: 100%|██████████| 27/27 [00:18<00:00,  1.44it/s, Val_loss 5.0159]\n"
     ]
    },
    {
     "output_type": "stream",
     "name": "stdout",
     "text": [
      "Input: 오바마는 대통령이다.\n",
      "Predicted translation: obama s campaign is a new president .\n",
      "Input: 시민들은 도시 속에 산다.\n",
      "Predicted translation: the street is a huge part of the street .\n",
      "Input: 커피는 필요 없다.\n",
      "Predicted translation: it s not a good fix .\n",
      "Input: 일곱 명의 사망자가 발생했다.\n",
      "Predicted translation: the death toll was reported .\n",
      "Input: 심심해서 당신이 보고싶다.\n",
      "Predicted translation: the ap s jason gramm reports about the age of the story\n"
     ]
    },
    {
     "output_type": "execute_result",
     "data": {
      "text/plain": [
       "'/aiffel/Data/Model/transformer/weight/uplayer4-2-1'"
      ]
     },
     "metadata": {},
     "execution_count": 35
    }
   ],
   "metadata": {}
  },
  {
   "cell_type": "code",
   "execution_count": 36,
   "source": [
    "Thanks = transformer.fit(10, enc_train, dec_train, enc_val, dec_val, BATCH_SIZE, translate=translate, examples=examples, offset_epoch=20)\n",
    "\n",
    "checkpoint_dir = \"/aiffel/Data/Model/transformer/weight\"\n",
    "\n",
    "checkpoint_prefix = os.path.join(checkpoint_dir, \"uplayer4-3\")\n",
    "checkpoint = tf.train.Checkpoint(transformer=transformer)\n",
    "\n",
    "checkpoint.save(file_prefix=checkpoint_prefix)"
   ],
   "outputs": [
    {
     "output_type": "stream",
     "name": "stderr",
     "text": [
      "Epoch 21: 100%|██████████| 259/259 [09:13<00:00,  2.14s/it, Loss 4.0282]\n",
      "Val_epoch 21: 100%|██████████| 27/27 [00:18<00:00,  1.46it/s, Val_loss 5.0457]\n"
     ]
    },
    {
     "output_type": "stream",
     "name": "stdout",
     "text": [
      "Input: 오바마는 대통령이다.\n",
      "Predicted translation: obama has been a good supporter of the obama administration .\n",
      "Input: 시민들은 도시 속에 산다.\n",
      "Predicted translation: the protesters were crowded .\n",
      "Input: 커피는 필요 없다.\n",
      "Predicted translation: it s not a lot of brain .\n",
      "Input: 일곱 명의 사망자가 발생했다.\n",
      "Predicted translation: more than least 200 people were killed .\n",
      "Input: 심심해서 당신이 보고싶다.\n",
      "Predicted translation: the idea of the experiment is a problem .\n"
     ]
    },
    {
     "output_type": "stream",
     "name": "stderr",
     "text": [
      "Epoch 22: 100%|██████████| 259/259 [09:07<00:00,  2.11s/it, Loss 3.9270]\n",
      "Val_epoch 22: 100%|██████████| 27/27 [00:20<00:00,  1.30it/s, Val_loss 4.9712]\n"
     ]
    },
    {
     "output_type": "stream",
     "name": "stdout",
     "text": [
      "Input: 오바마는 대통령이다.\n",
      "Predicted translation: obama ⁇ s elected national nominee barack obama says he wants to reverse whether he wants to reverse the president elect s job .\n",
      "Input: 시민들은 도시 속에 산다.\n",
      "Predicted translation: the roof of the kitchen was a small city .\n",
      "Input: 커피는 필요 없다.\n",
      "Predicted translation: it s not a lot of brain .\n",
      "Input: 일곱 명의 사망자가 발생했다.\n",
      "Predicted translation: at least 61 people were killed .\n",
      "Input: 심심해서 당신이 보고싶다.\n",
      "Predicted translation: the bad consideration is that the bad .\n"
     ]
    },
    {
     "output_type": "stream",
     "name": "stderr",
     "text": [
      "Epoch 23: 100%|██████████| 259/259 [09:27<00:00,  2.19s/it, Loss 3.8384]\n",
      "Val_epoch 23: 100%|██████████| 27/27 [00:18<00:00,  1.46it/s, Val_loss 4.9806]\n"
     ]
    },
    {
     "output_type": "stream",
     "name": "stdout",
     "text": [
      "Input: 오바마는 대통령이다.\n",
      "Predicted translation: obama ⁇ s rogue president elect barack obama\n",
      "Input: 시민들은 도시 속에 산다.\n",
      "Predicted translation: the protesters were furious .\n",
      "Input: 커피는 필요 없다.\n",
      "Predicted translation: it s not a lot of fun .\n",
      "Input: 일곱 명의 사망자가 발생했다.\n",
      "Predicted translation: at least 15 people have been killed .\n",
      "Input: 심심해서 당신이 보고싶다.\n",
      "Predicted translation: and you know you ll be able to get a personal job .\n"
     ]
    },
    {
     "output_type": "stream",
     "name": "stderr",
     "text": [
      "Epoch 24: 100%|██████████| 259/259 [09:07<00:00,  2.11s/it, Loss 3.7502]\n",
      "Val_epoch 24: 100%|██████████| 27/27 [00:18<00:00,  1.44it/s, Val_loss 4.9941]\n"
     ]
    },
    {
     "output_type": "stream",
     "name": "stdout",
     "text": [
      "Input: 오바마는 대통령이다.\n",
      "Predicted translation: obama s campaign has a new president .\n",
      "Input: 시민들은 도시 속에 산다.\n",
      "Predicted translation: the rally was a huge night .\n",
      "Input: 커피는 필요 없다.\n",
      "Predicted translation: it s not a lot of people .\n",
      "Input: 일곱 명의 사망자가 발생했다.\n",
      "Predicted translation: the death toll was blamed .\n",
      "Input: 심심해서 당신이 보고싶다.\n",
      "Predicted translation: you know you re gonna be a sociator .\n"
     ]
    },
    {
     "output_type": "stream",
     "name": "stderr",
     "text": [
      "Epoch 25: 100%|██████████| 259/259 [09:29<00:00,  2.20s/it, Loss 3.6695]\n",
      "Val_epoch 25: 100%|██████████| 27/27 [00:19<00:00,  1.42it/s, Val_loss 4.9507]\n"
     ]
    },
    {
     "output_type": "stream",
     "name": "stdout",
     "text": [
      "Input: 오바마는 대통령이다.\n",
      "Predicted translation: obama has been elected .\n",
      "Input: 시민들은 도시 속에 산다.\n",
      "Predicted translation: the protesters are packed to be the first .\n",
      "Input: 커피는 필요 없다.\n",
      "Predicted translation: it s not a lot of brain .\n",
      "Input: 일곱 명의 사망자가 발생했다.\n",
      "Predicted translation: the deadliest effect toll from the weekend .\n",
      "Input: 심심해서 당신이 보고싶다.\n",
      "Predicted translation: it s a simple sense of the story .\n"
     ]
    },
    {
     "output_type": "stream",
     "name": "stderr",
     "text": [
      "Epoch 26: 100%|██████████| 259/259 [09:09<00:00,  2.12s/it, Loss 3.5902]\n",
      "Val_epoch 26: 100%|██████████| 27/27 [00:18<00:00,  1.45it/s, Val_loss 4.9778]\n"
     ]
    },
    {
     "output_type": "stream",
     "name": "stdout",
     "text": [
      "Input: 오바마는 대통령이다.\n",
      "Predicted translation: obama ⁇ s elected slam\n",
      "Input: 시민들은 도시 속에 산다.\n",
      "Predicted translation: the protesters were crowded .\n",
      "Input: 커피는 필요 없다.\n",
      "Predicted translation: it s not a good precedent .\n",
      "Input: 일곱 명의 사망자가 발생했다.\n",
      "Predicted translation: the deadliest effect toll from the u . s .\n",
      "Input: 심심해서 당신이 보고싶다.\n",
      "Predicted translation: otherwise , it s a good sense of fun .\n"
     ]
    },
    {
     "output_type": "stream",
     "name": "stderr",
     "text": [
      "Epoch 27: 100%|██████████| 259/259 [09:07<00:00,  2.11s/it, Loss 3.5153]\n",
      "Val_epoch 27: 100%|██████████| 27/27 [00:19<00:00,  1.39it/s, Val_loss 4.9864]\n"
     ]
    },
    {
     "output_type": "stream",
     "name": "stdout",
     "text": [
      "Input: 오바마는 대통령이다.\n",
      "Predicted translation: obama replied he wants to reverse whether he was going to reverse obama .\n",
      "Input: 시민들은 도시 속에 산다.\n",
      "Predicted translation: the protests are concentrated on the street .\n",
      "Input: 커피는 필요 없다.\n",
      "Predicted translation: it s not true .\n",
      "Input: 일곱 명의 사망자가 발생했다.\n",
      "Predicted translation: the death toll was reported to be a week .\n",
      "Input: 심심해서 당신이 보고싶다.\n",
      "Predicted translation: you don t heard about your job .\n"
     ]
    },
    {
     "output_type": "stream",
     "name": "stderr",
     "text": [
      "Epoch 28: 100%|██████████| 259/259 [09:32<00:00,  2.21s/it, Loss 3.4468]\n",
      "Val_epoch 28: 100%|██████████| 27/27 [00:18<00:00,  1.44it/s, Val_loss 4.9920]\n"
     ]
    },
    {
     "output_type": "stream",
     "name": "stdout",
     "text": [
      "Input: 오바마는 대통령이다.\n",
      "Predicted translation: obama has been elected president elect barack obama .\n",
      "Input: 시민들은 도시 속에 산다.\n",
      "Predicted translation: the rally is a day after the city s snow .\n",
      "Input: 커피는 필요 없다.\n",
      "Predicted translation: it s not a good problem .\n",
      "Input: 일곱 명의 사망자가 발생했다.\n",
      "Predicted translation: at least 23 people were killed .\n",
      "Input: 심심해서 당신이 보고싶다.\n",
      "Predicted translation: otherwise , it s a good question .\n"
     ]
    },
    {
     "output_type": "stream",
     "name": "stderr",
     "text": [
      "Epoch 29: 100%|██████████| 259/259 [09:15<00:00,  2.14s/it, Loss 3.3809]\n",
      "Val_epoch 29: 100%|██████████| 27/27 [00:18<00:00,  1.46it/s, Val_loss 4.9930]\n"
     ]
    },
    {
     "output_type": "stream",
     "name": "stdout",
     "text": [
      "Input: 오바마는 대통령이다.\n",
      "Predicted translation: obama is the first president .\n",
      "Input: 시민들은 도시 속에 산다.\n",
      "Predicted translation: the protests are the worst internal city .\n",
      "Input: 커피는 필요 없다.\n",
      "Predicted translation: it s not a very good problem .\n",
      "Input: 일곱 명의 사망자가 발생했다.\n",
      "Predicted translation: the death toll was concealed .\n",
      "Input: 심심해서 당신이 보고싶다.\n",
      "Predicted translation: bad news for the concept of reaction to the simple .\n"
     ]
    },
    {
     "output_type": "stream",
     "name": "stderr",
     "text": [
      "Epoch 30: 100%|██████████| 259/259 [08:54<00:00,  2.06s/it, Loss 3.3182]\n",
      "Val_epoch 30: 100%|██████████| 27/27 [00:18<00:00,  1.46it/s, Val_loss 4.9860]\n"
     ]
    },
    {
     "output_type": "stream",
     "name": "stdout",
     "text": [
      "Input: 오바마는 대통령이다.\n",
      "Predicted translation: obama s aides say they re lucky to reverse what he called on .\n",
      "Input: 시민들은 도시 속에 산다.\n",
      "Predicted translation: protesters were demolving .\n",
      "Input: 커피는 필요 없다.\n",
      "Predicted translation: it s not a good thing .\n",
      "Input: 일곱 명의 사망자가 발생했다.\n",
      "Predicted translation: the death toll was reported .\n",
      "Input: 심심해서 당신이 보고싶다.\n",
      "Predicted translation: you can see you to see you .\n"
     ]
    },
    {
     "output_type": "execute_result",
     "data": {
      "text/plain": [
       "'/aiffel/Data/Model/transformer/weight/uplayer4-3-1'"
      ]
     },
     "metadata": {},
     "execution_count": 36
    }
   ],
   "metadata": {}
  },
  {
   "cell_type": "code",
   "execution_count": 37,
   "source": [
    "Thanks = transformer.fit(3, enc_train, dec_train, enc_val, dec_val, BATCH_SIZE, translate=translate, examples=examples, offset_epoch=30)\n",
    "\n",
    "checkpoint_dir = \"/aiffel/Data/Model/transformer/weight\"\n",
    "\n",
    "checkpoint_prefix = os.path.join(checkpoint_dir, \"uplayer4-4\")\n",
    "checkpoint = tf.train.Checkpoint(transformer=transformer)\n",
    "\n",
    "checkpoint.save(file_prefix=checkpoint_prefix)"
   ],
   "outputs": [
    {
     "output_type": "stream",
     "name": "stderr",
     "text": [
      "Epoch 31: 100%|██████████| 259/259 [09:01<00:00,  2.09s/it, Loss 3.2591]\n",
      "Val_epoch 31: 100%|██████████| 27/27 [00:18<00:00,  1.46it/s, Val_loss 5.0202]\n"
     ]
    },
    {
     "output_type": "stream",
     "name": "stdout",
     "text": [
      "Input: 오바마는 대통령이다.\n",
      "Predicted translation: obama ⁇ s active\n",
      "Input: 시민들은 도시 속에 산다.\n",
      "Predicted translation: the protesters are riding to vote .\n",
      "Input: 커피는 필요 없다.\n",
      "Predicted translation: it s not a good thing .\n",
      "Input: 일곱 명의 사망자가 발생했다.\n",
      "Predicted translation: at least 20 people were killed .\n",
      "Input: 심심해서 당신이 보고싶다.\n",
      "Predicted translation: you can t see that .\n"
     ]
    },
    {
     "output_type": "stream",
     "name": "stderr",
     "text": [
      "Epoch 32: 100%|██████████| 259/259 [09:04<00:00,  2.10s/it, Loss 3.2054]\n",
      "Val_epoch 32: 100%|██████████| 27/27 [00:19<00:00,  1.41it/s, Val_loss 5.0162]\n"
     ]
    },
    {
     "output_type": "stream",
     "name": "stdout",
     "text": [
      "Input: 오바마는 대통령이다.\n",
      "Predicted translation: obama ⁇ s a president elect .\n",
      "Input: 시민들은 도시 속에 산다.\n",
      "Predicted translation: protesters are staying in the midst of the city .\n",
      "Input: 커피는 필요 없다.\n",
      "Predicted translation: it s not a lot of brain .\n",
      "Input: 일곱 명의 사망자가 발생했다.\n",
      "Predicted translation: at least 15 people have died .\n",
      "Input: 심심해서 당신이 보고싶다.\n",
      "Predicted translation: you can tell you to do it .\n"
     ]
    },
    {
     "output_type": "stream",
     "name": "stderr",
     "text": [
      "Epoch 33: 100%|██████████| 259/259 [08:58<00:00,  2.08s/it, Loss 3.1517]\n",
      "Val_epoch 33: 100%|██████████| 27/27 [00:19<00:00,  1.41it/s, Val_loss 5.0151]\n"
     ]
    },
    {
     "output_type": "stream",
     "name": "stdout",
     "text": [
      "Input: 오바마는 대통령이다.\n",
      "Predicted translation: obama s camp touted a second consecutive term\n",
      "Input: 시민들은 도시 속에 산다.\n",
      "Predicted translation: the protests are concentrated in the crucwing of the city .\n",
      "Input: 커피는 필요 없다.\n",
      "Predicted translation: it s not a good thing .\n",
      "Input: 일곱 명의 사망자가 발생했다.\n",
      "Predicted translation: at least seven people have been killed .\n",
      "Input: 심심해서 당신이 보고싶다.\n",
      "Predicted translation: it s a good story .\n"
     ]
    },
    {
     "output_type": "execute_result",
     "data": {
      "text/plain": [
       "'/aiffel/Data/Model/transformer/weight/uplayer4-4-1'"
      ]
     },
     "metadata": {},
     "execution_count": 37
    }
   ],
   "metadata": {}
  },
  {
   "cell_type": "markdown",
   "source": [
    "# 4. 회고\n",
    "## 1) 이걸로 며칠을 보내버렸는지 모르겠다. 처음 학습을 돌리고, 왜 종료토큰을 학습하지 못하는지 의문이 들었는데, 종료토큰을 학습한 적이 없었기 때문이였다. 참.... 세상에 이유없는 일은 없는 것인지도 모른다는 생각이 들었다.\n",
    "## 2) 내 아이가 언어를 익힌 것 같은 기쁨이 들었다."
   ],
   "metadata": {}
  }
 ],
 "metadata": {
  "orig_nbformat": 4,
  "kernelspec": {
   "name": "python3",
   "display_name": "Python 3",
   "language": "python"
  },
  "interpreter": {
   "hash": "026aceb1435085fcef523649cdfc9385a4a55dbc5c65435142607853821fa50a"
  },
  "language_info": {
   "name": "python",
   "version": "3.7.9",
   "mimetype": "text/x-python",
   "codemirror_mode": {
    "name": "ipython",
    "version": 3
   },
   "pygments_lexer": "ipython3",
   "nbconvert_exporter": "python",
   "file_extension": ".py"
  }
 },
 "nbformat": 4,
 "nbformat_minor": 2
}