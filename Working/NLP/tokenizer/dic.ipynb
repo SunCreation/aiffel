{
 "cells": [
  {
   "cell_type": "markdown",
   "source": [
    "### 저번시간에 한 형태소 분석기를 잘 설치했다면 아래와 같은 내용은 쉽게 확인할 수 있을겁니다.\n",
    "### 클라우드에서는 어렵지 않으니, 해봐도 좋을 것 같아요ㅎㅎ\n",
    "### 신기하게도 맞춤법 오류등에 따라 서로 다른 성능을 보이는 것을 확인할 수 있습니다!"
   ],
   "metadata": {}
  },
  {
   "cell_type": "code",
   "execution_count": 1,
   "source": [
    "from konlpy.tag import Mecab, Hannanum\n",
    "hannanum = Hannanum()\n",
    "mecab = Mecab()\n",
    "text = '자연어처리가 너무재밌어서밥먹는것도가끔까먹어요'\n",
    "print(mecab.morphs(text))\n",
    "print(hannanum.morphs(text))"
   ],
   "outputs": [
    {
     "output_type": "stream",
     "name": "stdout",
     "text": [
      "['자연어', '처리', '가', '너무', '재밌', '어서', '밥', '먹', '는', '것', '도', '가끔', '까먹', '어요']\n",
      "['자연어처리', '가', '너무재밌어서밥먹는것도가끔까먹어요']\n"
     ]
    }
   ],
   "metadata": {}
  },
  {
   "cell_type": "markdown",
   "source": [
    "### khaiii는 아래와 같이 만들어줘야 편하게 쓸 수 있어요!"
   ],
   "metadata": {}
  },
  {
   "cell_type": "code",
   "execution_count": 2,
   "source": [
    "from konlpy.tag import Hannanum,Kkma,Komoran,Mecab,Okt\n",
    "import khaiii\n",
    "import time\n",
    "\n",
    "api = khaiii.KhaiiiApi()\n",
    "api.open()\n",
    "\n",
    "class Khaiii():\n",
    "    def pos(self, phrase, flatten=True, join=False):\n",
    "        \"\"\"POS tagger.\n",
    "\n",
    "        :param flatten: If False, preserves eojeols.\n",
    "        :param join: If True, returns joined sets of morph and tag.\n",
    "\n",
    "        \"\"\"\n",
    "        sentences = phrase.split('\\n')\n",
    "        morphemes = []\n",
    "        if not sentences:\n",
    "            return morphemes\n",
    "\n",
    "        for sentence in sentences:\n",
    "            for word in api.analyze(sentence):\n",
    "                result = [(m.lex, m.tag) for m in word.morphs]\n",
    "                if join:\n",
    "                    result = ['{}/{}'.format(m.lex, m.tag) for m in word.morphs]\n",
    "\n",
    "                morphemes.append(result)\n",
    "\n",
    "        if flatten:\n",
    "            return sum(morphemes, [])\n",
    "\n",
    "        return morphemes"
   ],
   "outputs": [],
   "metadata": {}
  },
  {
   "cell_type": "markdown",
   "source": [
    "### 여러가지 형태소 분석기를 비교해 봅니다."
   ],
   "metadata": {}
  },
  {
   "cell_type": "code",
   "execution_count": 3,
   "source": [
    "tokenizer_list = [Hannanum(),Kkma(),Komoran(),Mecab(),Okt(),Khaiii()]\n",
    "\n",
    "kor_text = '하... 잘좀하자 잘좀. 코로나바이러스는 2019년 12월 중국 우한에서 처음 발생한 뒤 전 세계로 확산된, 새로운 유형의 호흡기 감염 질환입니다.'\n",
    "\n",
    "for tokenizer in tokenizer_list:\n",
    "    st = time.time()\n",
    "    print('[{}] \\n{}'.format(tokenizer.__class__.__name__, tokenizer.pos(text + kor_text)))\n",
    "    print(time.time() - st)"
   ],
   "outputs": [
    {
     "output_type": "stream",
     "name": "stdout",
     "text": [
      "[Hannanum] \n",
      "[('자연어처리', 'N'), ('가', 'J'), ('너무재밌어서밥먹는것도가끔까먹어요하', 'N'), ('...', 'S'), ('잘좀하', 'N'), ('이', 'J'), ('자', 'E'), ('잘좀', 'N'), ('.', 'S'), ('코로나바이러스', 'N'), ('는', 'J'), ('2019년', 'N'), ('12월', 'N'), ('중국', 'N'), ('우한', 'N'), ('에서', 'J'), ('처음', 'M'), ('발생', 'N'), ('하', 'X'), ('ㄴ', 'E'), ('뒤', 'N'), ('전', 'N'), ('세계', 'N'), ('로', 'J'), ('확산', 'N'), ('되', 'X'), ('ㄴ', 'E'), (',', 'S'), ('새롭', 'P'), ('은', 'E'), ('유형', 'N'), ('의', 'J'), ('호흡기', 'N'), ('감염', 'N'), ('질환', 'N'), ('이', 'J'), ('ㅂ니다', 'E'), ('.', 'S')]\n",
      "1.9873437881469727\n",
      "[Kkma] \n",
      "[('자연어', 'NNG'), ('처리', 'NNG'), ('가', 'JKS'), ('너무', 'MAG'), ('재밌', 'VA'), ('어서', 'ECD'), ('밥', 'NNG'), ('먹', 'VV'), ('는', 'ETD'), ('것', 'NNB'), ('도', 'JX'), ('가끔', 'MAG'), ('까먹', 'VV'), ('어', 'ECD'), ('요하', 'NNG'), ('...', 'SE'), ('잘', 'MAG'), ('좀', 'MAG'), ('하', 'VV'), ('자', 'ECE'), ('잘', 'MAG'), ('좀', 'MAG'), ('.', 'SF'), ('코로나', 'NNG'), ('바', 'NNG'), ('이러', 'MAG'), ('슬', 'VV'), ('는', 'ETD'), ('2019', 'NR'), ('년', 'NNM'), ('12', 'NR'), ('월', 'NNM'), ('중국', 'NNG'), ('우', 'NNG'), ('하', 'XSV'), ('ㄴ', 'ETD'), ('에', 'VV'), ('서', 'ECD'), ('처음', 'NNG'), ('발생', 'NNG'), ('하', 'XSV'), ('ㄴ', 'ETD'), ('뒤', 'NNG'), ('전', 'NNG'), ('세계', 'NNG'), ('로', 'JKM'), ('확산', 'NNG'), ('되', 'XSV'), ('ㄴ', 'ETD'), (',', 'SP'), ('새', 'NNG'), ('롭', 'XSA'), ('ㄴ', 'ETD'), ('유형', 'NNG'), ('의', 'JKG'), ('호흡기', 'NNG'), ('감염', 'NNG'), ('질환', 'NNG'), ('이', 'VCP'), ('ㅂ니다', 'EFN'), ('.', 'SF')]\n",
      "23.717870235443115\n",
      "[Komoran] \n",
      "[('자연어', 'NNP'), ('처리', 'NNP'), ('가', 'JKS'), ('너무', 'MAG'), ('재밌', 'VA'), ('어서', 'EC'), ('밥', 'NNG'), ('먹', 'VV'), ('는', 'ETM'), ('것', 'NNB'), ('도', 'JX'), ('가끔', 'MAG'), ('까먹', 'VV'), ('어요', 'EC'), ('하', 'VX'), ('...', 'SE'), ('잘', 'MAG'), ('좀', 'MAG'), ('하', 'XSV'), ('자', 'EC'), ('잘', 'MAG'), ('좀', 'MAG'), ('.', 'SF'), ('코로나바이러스', 'NNP'), ('는', 'JX'), ('2019', 'SN'), ('년', 'NNB'), ('12월', 'NNP'), ('중국', 'NNP'), ('우', 'NNP'), ('한', 'NNP'), ('에서', 'JKB'), ('처음', 'NNG'), ('발생', 'NNG'), ('하', 'XSV'), ('ㄴ', 'ETM'), ('뒤', 'NNG'), ('전', 'MM'), ('세계로', 'NNP'), ('확산', 'NNG'), ('되', 'XSV'), ('ㄴ', 'ETM'), (',', 'SP'), ('새롭', 'VA'), ('ㄴ', 'ETM'), ('유형', 'NNP'), ('의', 'JKG'), ('호흡기', 'NNG'), ('감염', 'NNP'), ('질환', 'NNG'), ('이', 'VCP'), ('ㅂ니다', 'EF'), ('.', 'SF')]\n",
      "0.08722829818725586\n",
      "[Mecab] \n",
      "[('자연어', 'NNG'), ('처리', 'NNG'), ('가', 'JKS'), ('너무', 'MAG'), ('재밌', 'VA'), ('어서', 'EC'), ('밥', 'NNG'), ('먹', 'VV'), ('는', 'ETM'), ('것', 'NNB'), ('도', 'JX'), ('가끔', 'MAG'), ('까먹', 'VV'), ('어요', 'EF'), ('하', 'IC'), ('.', 'SF'), ('..', 'SY'), ('잘', 'MAG'), ('좀', 'MAG'), ('하', 'VV'), ('자', 'EC'), ('잘', 'MAG'), ('좀', 'MAG'), ('.', 'SF'), ('코로나', 'NNP'), ('바이러스', 'NNG'), ('는', 'JX'), ('2019', 'SN'), ('년', 'NNBC'), ('12', 'SN'), ('월', 'NNBC'), ('중국', 'NNP'), ('우한', 'NNP'), ('에서', 'JKB'), ('처음', 'NNG'), ('발생', 'NNG'), ('한', 'XSV+ETM'), ('뒤', 'NNG'), ('전', 'NNG'), ('세계', 'NNG'), ('로', 'JKB'), ('확산', 'NNG'), ('된', 'XSV+ETM'), (',', 'SC'), ('새로운', 'VA+ETM'), ('유형', 'NNG'), ('의', 'JKG'), ('호흡기', 'NNG'), ('감염', 'NNG'), ('질환', 'NNG'), ('입니다', 'VCP+EF'), ('.', 'SF')]\n",
      "0.06825757026672363\n",
      "[Okt] \n",
      "[('자연어', 'Noun'), ('처리', 'Noun'), ('가', 'Josa'), ('너무', 'Adverb'), ('재밌어서', 'Adjective'), ('밥', 'Noun'), ('먹는것도', 'Verb'), ('가끔', 'Noun'), ('까먹어', 'Verb'), ('요하', 'Noun'), ('...', 'Punctuation'), ('잘', 'VerbPrefix'), ('좀하자', 'Adjective'), ('잘', 'VerbPrefix'), ('좀', 'Adjective'), ('.', 'Punctuation'), ('코로나바이러스', 'Noun'), ('는', 'Josa'), ('2019년', 'Number'), ('12월', 'Number'), ('중국', 'Noun'), ('우한', 'Noun'), ('에서', 'Josa'), ('처음', 'Noun'), ('발생', 'Noun'), ('한', 'Josa'), ('뒤', 'Noun'), ('전', 'Noun'), ('세계', 'Noun'), ('로', 'Josa'), ('확산', 'Noun'), ('된', 'Verb'), (',', 'Punctuation'), ('새로운', 'Adjective'), ('유형', 'Noun'), ('의', 'Josa'), ('호흡기', 'Noun'), ('감염', 'Noun'), ('질환', 'Noun'), ('입니다', 'Adjective'), ('.', 'Punctuation')]\n",
      "10.696087837219238\n",
      "[Khaiii] \n",
      "[('자연어처리', 'NNG'), ('가', 'JKS'), ('너무재', 'MAG'), ('밌', 'VA'), ('어서', 'EC'), ('밥', 'NNG'), ('먹', 'VV'), ('는', 'ETM'), ('것', 'NNB'), ('도', 'JX'), ('가끔', 'MAG'), ('까먹', 'VV'), ('어', 'EC'), ('요', 'ZV'), ('하', 'VV'), ('...', 'SE'), ('잘좀', 'MAG'), ('하', 'XSV'), ('자', 'EC'), ('잘좀', 'MAG'), ('.', 'SF'), ('코', 'NNP'), ('로', 'NNG'), ('나', 'NNP'), ('바이러스', 'NNG'), ('는', 'JX'), ('2019', 'SN'), ('년', 'NNB'), ('12', 'SN'), ('월', 'NNB'), ('중국', 'NNP'), ('우', 'NNG'), ('한', 'NNP'), ('에서', 'JKB'), ('처음', 'NNG'), ('발생', 'NNG'), ('하', 'XSV'), ('ㄴ', 'ETM'), ('뒤', 'NNG'), ('전', 'MM'), ('세계', 'NNG'), ('로', 'JKB'), ('확산', 'NNG'), ('되', 'XSV'), ('ㄴ', 'ETM'), (',', 'SP'), ('새롭', 'VA'), ('ㄴ', 'ETM'), ('유형', 'NNG'), ('의', 'JKG'), ('호흡기', 'NNG'), ('감염', 'NNG'), ('질환', 'NNG'), ('이', 'VCP'), ('ㅂ니다', 'EF'), ('.', 'SF')]\n",
      "0.04337191581726074\n"
     ]
    }
   ],
   "metadata": {}
  },
  {
   "cell_type": "markdown",
   "source": [
    "### 저의 결론은 komoran과 mecab입니다. 이 두개를 써봐야겠어요.\n",
    "### hannanom도 괜찮아 보였는데, 띄어쓰기에 약하네요ㅜㅜ"
   ],
   "metadata": {}
  },
  {
   "cell_type": "code",
   "execution_count": 4,
   "source": [
    "import os\n",
    "\n",
    "import matplotlib.pyplot as plt\n",
    "import tensorflow as tf\n",
    "import numpy as np\n",
    "\n",
    "%matplotlib inline"
   ],
   "outputs": [
    {
     "output_type": "stream",
     "name": "stderr",
     "text": [
      "2021-12-10 11:39:22.166278: W tensorflow/stream_executor/platform/default/dso_loader.cc:64] Could not load dynamic library 'libcudart.so.11.0'; dlerror: libcudart.so.11.0: cannot open shared object file: No such file or directory\n",
      "2021-12-10 11:39:22.166383: I tensorflow/stream_executor/cuda/cudart_stub.cc:29] Ignore above cudart dlerror if you do not have a GPU set up on your machine.\n"
     ]
    }
   ],
   "metadata": {}
  },
  {
   "cell_type": "markdown",
   "source": [
    "### [여기](https://github.com/jungyeul/korean-parallel-corpora)보시면 말뭉치가 많아요!\n",
    "### 그중에 한국어 영어 번역을 학습시킬때 쓰는 말뭉치로 형태소 분석을 하겠습니다.\n",
    "### (우리말만 할거에요ㅎㅎ)\n",
    "```shell\n",
    "# 데이터를 받을 폴더에서 아래 명령을 하시면 데이터가 받아집니다.\n",
    "wget https://github.com/jungyeul/korean-parallel-corpora/raw/master/korean-english-news-v1/korean-english-park.train.tar.gz\n",
    "tar -xzvf korean-english-park.train.tar.gz\n",
    "```"
   ],
   "metadata": {}
  },
  {
   "cell_type": "code",
   "execution_count": 5,
   "source": [
    "import os\n",
    "path_to_file = 'data/kor_en/korean-english-park.train.ko'\n",
    "\n",
    "with open(path_to_file, \"r\") as f:\n",
    "    raw = f.read().splitlines()\n",
    "\n",
    "print(\"Data Size:\", len(raw))\n",
    "\n",
    "print(\"Example:\")\n",
    "for sen in raw[0:100][::20]: print(\">>\", sen)"
   ],
   "outputs": [
    {
     "output_type": "stream",
     "name": "stdout",
     "text": [
      "Data Size: 94123\n",
      "Example:\n",
      ">> 개인용 컴퓨터 사용의 상당 부분은 \"이것보다 뛰어날 수 있느냐?\"\n",
      ">> 북한의 핵무기 계획을 포기하도록 하려는 압력이 거세지고 있는 가운데, 일본과 북한의 외교관들이 외교 관계를 정상화하려는 회담을 재개했다.\n",
      ">> \"경호 로보트가 침입자나 화재를 탐지하기 위해서 개인적으로, 그리고 전문적으로 사용되고 있습니다.\"\n",
      ">> 수자원부 당국은 논란이 되고 있고, 막대한 비용이 드는 이 사업에 대해 내년에 건설을 시작할 계획이다.\n",
      ">> 또한 근력 운동은 활발하게 걷는 것이나 최소한 20분 동안 뛰는 것과 같은 유산소 활동에서 얻는 운동 효과를 심장과 폐에 주지 않기 때문에, 연구학자들은 근력 운동이 심장에 큰 영향을 미치는지 여부에 대해 논쟁을 해왔다.\n"
     ]
    }
   ],
   "metadata": {}
  },
  {
   "cell_type": "markdown",
   "source": [
    "### 이렇게 한국어 데이터를 받아왔어요.\n",
    "### 데이터의 분포를 눈으로 봐볼게요!\n",
    "### 최소길이 문장, 최대길이 문장, 문장 길이별 분포를 봐볼거에요.\n",
    "### 잠시 후 그 강력함을 볼 수 있어요."
   ],
   "metadata": {}
  },
  {
   "cell_type": "code",
   "execution_count": 6,
   "source": [
    "min_len = 999\n",
    "max_len = 0\n",
    "sum_len = 0\n",
    "\n",
    "for sen in raw:\n",
    "    length = len(sen)\n",
    "    if min_len > length: min_len = length\n",
    "    if max_len < length: max_len = length\n",
    "    sum_len += length\n",
    "\n",
    "print(\"문장의 최단 길이:\", min_len)\n",
    "print(\"문장의 최장 길이:\", max_len)\n",
    "print(\"문장의 평균 길이:\", sum_len // len(raw))\n",
    "\n",
    "sentence_length = np.zeros((max_len), dtype=np.int)\n",
    "\n",
    "for sen in raw:\n",
    "    sentence_length[len(sen)-1] += 1\n",
    "\n",
    "plt.bar(range(max_len), sentence_length, width=1.0)\n",
    "plt.title(\"Sentence Length Distribution\")\n",
    "plt.show()"
   ],
   "outputs": [
    {
     "output_type": "stream",
     "name": "stdout",
     "text": [
      "문장의 최단 길이: 1\n",
      "문장의 최장 길이: 377\n",
      "문장의 평균 길이: 60\n"
     ]
    },
    {
     "output_type": "display_data",
     "data": {
      "image/png": "[encoded data removed]",
      "text/plain": [
       "<Figure size 432x288 with 1 Axes>"
      ]
     },
     "metadata": {
      "needs_background": "light"
     }
    }
   ],
   "metadata": {}
  },
  {
   "cell_type": "markdown",
   "source": [
    "### 모든 자연스러운 데이터 분포는 정규분포를 따라요. 여기서 특정 문장길이만 특별히 높게나온건 매우 수상합니다!\n",
    "### 해당 길이 문장을 출력해볼게요!"
   ],
   "metadata": {}
  },
  {
   "cell_type": "code",
   "execution_count": 7,
   "source": [
    "def check_sentence_with_length(raw, length):\n",
    "    count = 0\n",
    "    \n",
    "    for sen in raw:\n",
    "        if len(sen) == length:\n",
    "            print(sen)\n",
    "            count += 1\n",
    "            if count > 100: return\n",
    "\n",
    "check_sentence_with_length(raw, 1)"
   ],
   "outputs": [
    {
     "output_type": "stream",
     "name": "stdout",
     "text": [
      "’\n"
     ]
    }
   ],
   "metadata": {}
  },
  {
   "cell_type": "markdown",
   "source": [
    "### 길이 1짜리 문장도 이상해서 시험삼아 출력해봤는데, 무의미한 문장입니다;;"
   ],
   "metadata": {}
  },
  {
   "cell_type": "code",
   "execution_count": 8,
   "source": [
    "for idx, _sum in enumerate(sentence_length):\n",
    "    # 문장의 수가 1500을 초과하는 문장 길이를 추출합니다.\n",
    "    if _sum > 1500:\n",
    "        print(\"Outlier Index:\", idx+1)"
   ],
   "outputs": [
    {
     "output_type": "stream",
     "name": "stdout",
     "text": [
      "Outlier Index: 11\n",
      "Outlier Index: 19\n",
      "Outlier Index: 21\n"
     ]
    }
   ],
   "metadata": {}
  },
  {
   "cell_type": "code",
   "execution_count": 9,
   "source": [
    "check_sentence_with_length(raw, 11)"
   ],
   "outputs": [
    {
     "output_type": "stream",
     "name": "stdout",
     "text": [
      "라고 조던이 말했다.\n",
      "- 모르고 있습니다.\n",
      "- 네, 보이는군요.\n",
      "디즈니사만이 아니다.\n",
      "큰 파티는 아니지요.\n",
      "의자는 비어 있었다.\n",
      "이 일은 계속됩니다.\n",
      "나는 크게 실망했다.\n",
      "그 이유는 간단하다.\n",
      "이력서와 자기 소개서\n",
      "시대가 변하고 있다.\n",
      "는 돌발질문을 했다.\n",
      "9. 몇 분간의 명상\n",
      "하와이, 빅 아일랜드\n",
      "키스를 잘 하는 방법\n",
      "키스를 잘 하는 방법\n",
      "스피어스가 뚱뚱한가?\n",
      "산 위를 나는 느낌.\n",
      "세 시간쯤 걸었을까?\n",
      "(아직 읽고있습니까?\n",
      "처음에는 장난이었다.\n",
      "우리는 운이 좋았다.\n",
      "아기가 숨을 멈출 때\n",
      "건물 전체 무너져내려\n",
      "그녀의 아름다운 눈.\n",
      "대답은 다음과 같다.\n",
      "\"사과할 것이 없다.\n",
      "폭탄테러가 공포 유발\n",
      "그는 \"잘 모르겠다.\n",
      "그는 \"잘 모르겠다.\n",
      "그는 \"잘 모르겠다.\n",
      "그는 \"잘 모르겠다.\n",
      "그는 \"잘 모르겠다.\n",
      "그는 \"잘 모르겠다.\n",
      "그는 \"잘 모르겠다.\n",
      "그는 \"잘 모르겠다.\n",
      "그는 \"잘 모르겠다.\n",
      "케냐 야생동물 고아원\n",
      "경유 1200원대로…\n",
      "더 내려야 하는 이유\n",
      "케냐 야생동물 고아원\n",
      "경유 1200원대로…\n",
      "더 내려야 하는 이유\n",
      "케냐 야생동물 고아원\n",
      "경유 1200원대로…\n",
      "더 내려야 하는 이유\n",
      "케냐 야생동물 고아원\n",
      "경유 1200원대로…\n",
      "더 내려야 하는 이유\n",
      "케냐 야생동물 고아원\n",
      "경유 1200원대로…\n",
      "더 내려야 하는 이유\n",
      "케냐 야생동물 고아원\n",
      "경유 1200원대로…\n",
      "더 내려야 하는 이유\n",
      "케냐 야생동물 고아원\n",
      "경유 1200원대로…\n",
      "더 내려야 하는 이유\n",
      "케냐 야생동물 고아원\n",
      "경유 1200원대로…\n",
      "더 내려야 하는 이유\n",
      "케냐 야생동물 고아원\n",
      "경유 1200원대로…\n",
      "더 내려야 하는 이유\n",
      "케냐 야생동물 고아원\n",
      "경유 1200원대로…\n",
      "더 내려야 하는 이유\n",
      "케냐 야생동물 고아원\n",
      "경유 1200원대로…\n",
      "더 내려야 하는 이유\n",
      "케냐 야생동물 고아원\n",
      "경유 1200원대로…\n",
      "더 내려야 하는 이유\n",
      "케냐 야생동물 고아원\n",
      "경유 1200원대로…\n",
      "더 내려야 하는 이유\n",
      "케냐 야생동물 고아원\n",
      "경유 1200원대로…\n",
      "더 내려야 하는 이유\n",
      "케냐 야생동물 고아원\n",
      "경유 1200원대로…\n",
      "더 내려야 하는 이유\n",
      "케냐 야생동물 고아원\n",
      "경유 1200원대로…\n",
      "더 내려야 하는 이유\n",
      "케냐 야생동물 고아원\n",
      "경유 1200원대로…\n",
      "더 내려야 하는 이유\n",
      "케냐 야생동물 고아원\n",
      "경유 1200원대로…\n",
      "더 내려야 하는 이유\n",
      "케냐 야생동물 고아원\n",
      "경유 1200원대로…\n",
      "더 내려야 하는 이유\n",
      "케냐 야생동물 고아원\n",
      "경유 1200원대로…\n",
      "더 내려야 하는 이유\n",
      "조금은 새침한 샬롯？\n",
      "조금은 새침한 샬롯？\n",
      "케냐 야생동물 고아원\n",
      "경유 1200원대로…\n"
     ]
    }
   ],
   "metadata": {}
  },
  {
   "cell_type": "code",
   "execution_count": 10,
   "source": [
    "min_len = 999\n",
    "max_len = 0\n",
    "sum_len = 0\n",
    "\n",
    "cleaned_corpus = list(set(raw))  # set를 사용해서 중복을 제거합니다.\n",
    "print(\"Data Size:\", len(cleaned_corpus))\n",
    "\n",
    "for sen in cleaned_corpus:\n",
    "    length = len(sen)\n",
    "    if min_len > length: min_len = length\n",
    "    if max_len < length: max_len = length\n",
    "    sum_len += length\n",
    "\n",
    "print(\"문장의 최단 길이:\", min_len)\n",
    "print(\"문장의 최장 길이:\", max_len)\n",
    "print(\"문장의 평균 길이:\", sum_len // len(cleaned_corpus))\n",
    "\n",
    "sentence_length = np.zeros((max_len), dtype=np.int)\n",
    "\n",
    "for sen in cleaned_corpus:   # 중복이 제거된 코퍼스 기준\n",
    "    sentence_length[len(sen)-1] += 1\n",
    "\n",
    "plt.bar(range(max_len), sentence_length, width=1.0)\n",
    "plt.title(\"Sentence Length Distribution\")\n",
    "plt.show()"
   ],
   "outputs": [
    {
     "output_type": "stream",
     "name": "stdout",
     "text": [
      "Data Size: 77591\n",
      "문장의 최단 길이: 1\n",
      "문장의 최장 길이: 377\n",
      "문장의 평균 길이: 64\n"
     ]
    },
    {
     "output_type": "display_data",
     "data": {
      "image/png": "[encoded data removed]",
      "text/plain": [
       "<Figure size 432x288 with 1 Axes>"
      ]
     },
     "metadata": {
      "needs_background": "light"
     }
    }
   ],
   "metadata": {}
  },
  {
   "cell_type": "markdown",
   "source": [
    "### 신기하게 중복데이터만 제거해주었을 뿐인데, 데이터가 정규분포에 가까워졌죠?\n",
    "### 확률시간에 배우는 큰 수의 법칙과 일맥상통하는 현상입니다.\n",
    "### 이제 저는 로컬에서 할 수 있게 문장길이 100개 까지만 볼거에요ㅋㅋ\n",
    "### 사실 그렇게 하면 데이터는 거의다 보면서, 계산량은 매우 많이 줄일 수 있어요."
   ],
   "metadata": {}
  },
  {
   "cell_type": "code",
   "execution_count": 11,
   "source": [
    "max_len = 100\n",
    "min_len = 10\n",
    "\n",
    "# 길이 조건에 맞는 문장만 선택합니다.\n",
    "filtered_corpus = [s for s in cleaned_corpus if (len(s) < max_len) & (len(s) >= min_len)]\n",
    "\n",
    "# 분포도를 다시 그려봅니다.\n",
    "sentence_length = np.zeros((max_len), dtype=np.int)\n",
    "\n",
    "for sen in filtered_corpus:\n",
    "    sentence_length[len(sen)-1] += 1\n",
    "\n",
    "plt.bar(range(max_len), sentence_length, width=1.0)\n",
    "plt.title(\"Sentence Length Distribution\")\n",
    "plt.show()"
   ],
   "outputs": [
    {
     "output_type": "display_data",
     "data": {
      "image/png": "[encoded data removed]",
      "text/plain": [
       "<Figure size 432x288 with 1 Axes>"
      ]
     },
     "metadata": {
      "needs_background": "light"
     }
    }
   ],
   "metadata": {}
  },
  {
   "cell_type": "code",
   "execution_count": 12,
   "source": [
    "def tokenize(corpus):  # corpus: Tokenized Sentence's List\n",
    "    tokenizer = tf.keras.preprocessing.text.Tokenizer(filters='')\n",
    "    tokenizer.fit_on_texts(corpus)\n",
    "\n",
    "    tensor = tokenizer.texts_to_sequences(corpus)\n",
    "\n",
    "    tensor = tf.keras.preprocessing.sequence.pad_sequences(tensor, padding='post')\n",
    "\n",
    "    return tensor, tokenizer"
   ],
   "outputs": [],
   "metadata": {}
  },
  {
   "cell_type": "code",
   "execution_count": 13,
   "source": [
    "split_tensor, split_tokenizer = tokenize(filtered_corpus)\n",
    "\n",
    "print(\"Split Vocab Size:\", len(split_tokenizer.index_word))"
   ],
   "outputs": [
    {
     "output_type": "stream",
     "name": "stdout",
     "text": [
      "Split Vocab Size: 209340\n"
     ]
    }
   ],
   "metadata": {}
  },
  {
   "cell_type": "markdown",
   "source": [
    "### 그냥 띄어쓰기 기반으로 데이터를 정리하면 이렇게 20만단어나 제 모델이 학습해야해요.\n",
    "### 그럼 1,2번 나온단어는 어차피 학습도 제대로 안될꺼고, 또 빼고 학습하자니, 분통이 터지네요ㅜㅜ\n",
    "### 그러면 한번 형태소 단위로 잘라봅시다."
   ],
   "metadata": {}
  },
  {
   "cell_type": "code",
   "execution_count": 14,
   "source": [
    "for idx, word in enumerate(split_tokenizer.word_index):\n",
    "    print(idx, \":\", word)\n",
    "\n",
    "    if idx > 10: break"
   ],
   "outputs": [
    {
     "output_type": "stream",
     "name": "stdout",
     "text": [
      "0 : 이\n",
      "1 : 있다.\n",
      "2 : 밝혔다.\n",
      "3 : 말했다.\n",
      "4 : 수\n",
      "5 : 있는\n",
      "6 : 그는\n",
      "7 : 대한\n",
      "8 : 전했다.\n",
      "9 : 위해\n",
      "10 : 지난\n",
      "11 : 이번\n"
     ]
    }
   ],
   "metadata": {}
  },
  {
   "cell_type": "code",
   "execution_count": 16,
   "source": [
    "mecab_corpus = []\n",
    "for kor in filtered_corpus:\n",
    "    # 코드를 작성하세요\n",
    "    mecab_corpus.append(mecab.morphs(kor))\n",
    "    # re.sub(r\"[^0-9A-zㅏ-ㅣㄱ-ㅎ가-힣?!,.()]\",\"\",kor)\n",
    "    # komoran_corpus.append(komoran.morphs(kor))\n"
   ],
   "outputs": [],
   "metadata": {}
  },
  {
   "cell_type": "code",
   "execution_count": 15,
   "source": [
    "# 위에서 사용한 코드를 활용해 MeCab 단어 사전을 만들어보세요. \n",
    "# Hint : mecab.morphs()를 사용해서 형태소분석을 합니다.\n",
    "from konlpy.tag import Komoran, Mecab\n",
    "import re\n",
    "mecab = Mecab()\n",
    "komoran = Komoran()\n",
    "\n",
    "\n",
    "komoran_corpus = []\n",
    "\n",
    "for kor in filtered_corpus:\n",
    "    # 코드를 작성하세요\n",
    "    #mecab_corpus.append(mecab.morphs(kor))\n",
    "    kor = re.sub(r\"[^0-9A-zㅏ-ㅣㄱ-ㅎ가-힣?!,.()\\s'\\\"]\",\"\",kor)\n",
    "    komoran_corpus.append(komoran.morphs(kor))\n"
   ],
   "outputs": [],
   "metadata": {}
  },
  {
   "cell_type": "markdown",
   "source": [
    "### 위와같은 코드로 받는 이유는 komoran은 글자만 학습을 한 상태여서 그래요. 이모지 같은게 데이터에 섞여있어서, 오류가 나더라구요. mecab은 그냥 다 처리 하더라구요."
   ],
   "metadata": {}
  },
  {
   "cell_type": "code",
   "execution_count": 17,
   "source": [
    "mecab_tensor, mecab_tokenizer = tokenize(mecab_corpus)\n",
    "komoran_tensor, komoran_tokenizer = tokenize(komoran_corpus)\n",
    "\n",
    "print(\"MeCab Vocab Size:\", len(mecab_tokenizer.index_word))\n",
    "print(\"Komoran Vocab Size:\", len(komoran_tokenizer.index_word))"
   ],
   "outputs": [
    {
     "output_type": "stream",
     "name": "stdout",
     "text": [
      "MeCab Vocab Size: 47782\n",
      "Komoran Vocab Size: 43944\n"
     ]
    }
   ],
   "metadata": {}
  },
  {
   "cell_type": "markdown",
   "source": [
    "### 확실히 단어수가 4-5배 가량 줄었네요.\n",
    "### 이렇게 하면 학습도 효율적일 뿐만 아니라, 없던 단어까지 만들어낼 수 있습니다!\n",
    "### 성능은 말할 것도 없구요.ㅎㅎ\n",
    "### komoran이 단어를 더 효율적으로 잘 줄여준 모습을 볼 수 있습니다.\n",
    "### 제가 여러차례 테스트해본 결과, mecab은 한글을 위해서 나온 건 아니다보니, '했다'를 '했', '다'로는 해주지만, '하', '였', '다'로는 구분해주지 않습니다. komoran은 해줍니다."
   ],
   "metadata": {}
  },
  {
   "cell_type": "code",
   "execution_count": 18,
   "source": [
    "print(komoran_tokenizer.sequences_to_texts([komoran_tensor[100]]))\n",
    "# print(komoran_tokenizer.index_word(komoran_tensor[100]))\n",
    "sentence = \"\"\n",
    "\n",
    "for w in komoran_tensor[100]:\n",
    "    if w == 0: continue\n",
    "    sentence += komoran_tokenizer.index_word[w] + \" \"\n",
    "\n",
    "print(sentence)\n",
    "\n",
    "print(mecab_tokenizer.sequences_to_texts([mecab_tensor[100]]))\n",
    "texts = mecab_tokenizer.sequences_to_texts([mecab_tensor[100]])\n",
    "print(texts[0])\n",
    "# print(mecab_tokenizer.index_word(mecab_tensor[100]))\n",
    "sentence = \"\"\n",
    "\n",
    "for w in mecab_tensor[100]:\n",
    "    if w == 0: continue\n",
    "    sentence += mecab_tokenizer.index_word[w] + \" \"\n",
    "    \n",
    "print(sentence)"
   ],
   "outputs": [
    {
     "output_type": "stream",
     "name": "stdout",
     "text": [
      "['vice foreign minister lee taesik is appointed as the new ambassador to the u . s . 새 주 미 대사 에 이태식 외무부 차관']\n",
      "vice foreign minister lee taesik is appointed as the new ambassador to the u . s . 새 주 미 대사 에 이태식 외무부 차관 \n",
      "['vice foreign minister lee tae - sik is appointed as the new ambassador to the u . s . 새 주미 대사 에 이태식 외무부 차관']\n",
      "vice foreign minister lee tae - sik is appointed as the new ambassador to the u . s . 새 주미 대사 에 이태식 외무부 차관\n",
      "vice foreign minister lee tae - sik is appointed as the new ambassador to the u . s . 새 주미 대사 에 이태식 외무부 차관 \n"
     ]
    }
   ],
   "metadata": {}
  },
  {
   "cell_type": "markdown",
   "source": [
    "### 이제 그 잘난 sentencepiece는 얼마나 더 잘하는지 봐보겠습니다!\n",
    "```bash\n",
    "pip install sentencepiece\n",
    "```\n",
    "### 로 설치해줍니다.\n",
    "![image](data/me.png)\n",
    "### 왜 저는 이미 깔려있는걸까요??"
   ],
   "metadata": {}
  },
  {
   "cell_type": "code",
   "execution_count": 39,
   "source": [
    "import sentencepiece as spm\n",
    "import os\n",
    "temp_file = 'data/kor_en/korean-english-park.train.ko.temp'\n",
    "\n",
    "vocab_size = 20000\n",
    "\n",
    "with open(temp_file, 'w') as f:\n",
    "    for row in filtered_corpus:            # 이전 스텝에서 정제했던 corpus를 활용합니다.\n",
    "        row = re.sub(r\"[^0-9A-zㅏ-ㅣㄱ-ㅎ가-힣?!,.()\\s'\\\"]\",\"\",row)\n",
    "        f.write(str(row) + '\\n')\n",
    "\n",
    "spm.SentencePieceTrainer.Train(\n",
    "    '--input={} --model_prefix=korean_spm --vocab_size={}'.format(temp_file, vocab_size)    \n",
    ")\n",
    "#위 Train에서  --model_type = 'unigram'이 디폴트 적용되어 있습니다. --model_type = 'bpe' 로 옵션을 주어 변경할 수 있습니다.\n",
    "\n",
    "!ls -l korean_spm*"
   ],
   "outputs": [
    {
     "output_type": "stream",
     "name": "stderr",
     "text": [
      "sentencepiece_trainer.cc(177) LOG(INFO) Running command: --input=data/kor_en/korean-english-park.train.ko.temp --model_prefix=korean_spm --vocab_size=20000\n",
      "sentencepiece_trainer.cc(77) LOG(INFO) Starts training with : \n",
      "trainer_spec {\n",
      "  input: data/kor_en/korean-english-park.train.ko.temp\n",
      "  input_format: \n",
      "  model_prefix: korean_spm\n",
      "  model_type: UNIGRAM\n",
      "  vocab_size: 20000\n",
      "  self_test_sample_size: 0\n",
      "  character_coverage: 0.9995\n",
      "  input_sentence_size: 0\n",
      "  shuffle_input_sentence: 1\n",
      "  seed_sentencepiece_size: 1000000\n",
      "  shrinking_factor: 0.75\n",
      "  max_sentence_length: 4192\n",
      "  num_threads: 16\n",
      "  num_sub_iterations: 2\n",
      "  max_sentencepiece_length: 16\n",
      "  split_by_unicode_script: 1\n",
      "  split_by_number: 1\n",
      "  split_by_whitespace: 1\n",
      "  split_digits: 0\n",
      "  treat_whitespace_as_suffix: 0\n",
      "  allow_whitespace_only_pieces: 0\n",
      "  required_chars: \n",
      "  byte_fallback: 0\n",
      "  vocabulary_output_piece_score: 1\n",
      "  train_extremely_large_corpus: 0\n",
      "  hard_vocab_limit: 1\n",
      "  use_all_vocab: 0\n",
      "  unk_id: 0\n",
      "  bos_id: 1\n",
      "  eos_id: 2\n",
      "  pad_id: -1\n",
      "  unk_piece: <unk>\n",
      "  bos_piece: <s>\n",
      "  eos_piece: </s>\n",
      "  pad_piece: <pad>\n",
      "  unk_surface:  ⁇ \n",
      "}\n",
      "normalizer_spec {\n",
      "  name: nmt_nfkc\n",
      "  add_dummy_prefix: 1\n",
      "  remove_extra_whitespaces: 1\n",
      "  escape_whitespaces: 1\n",
      "  normalization_rule_tsv: \n",
      "}\n",
      "denormalizer_spec {}\n",
      "trainer_interface.cc(329) LOG(INFO) SentenceIterator is not specified. Using MultiFileSentenceIterator.\n",
      "trainer_interface.cc(178) LOG(INFO) Loading corpus: data/kor_en/korean-english-park.train.ko.temp\n",
      "trainer_interface.cc(385) LOG(INFO) Loaded all 69564 sentences\n",
      "trainer_interface.cc(400) LOG(INFO) Adding meta_piece: <unk>\n",
      "trainer_interface.cc(400) LOG(INFO) Adding meta_piece: <s>\n",
      "trainer_interface.cc(400) LOG(INFO) Adding meta_piece: </s>\n",
      "trainer_interface.cc(405) LOG(INFO) Normalizing sentences...\n",
      "trainer_interface.cc(466) LOG(INFO) all chars count=4116173\n",
      "trainer_interface.cc(477) LOG(INFO) Done: 99.9502% characters are covered.\n",
      "trainer_interface.cc(487) LOG(INFO) Alphabet size=1232\n",
      "trainer_interface.cc(488) LOG(INFO) Final character coverage=0.999502\n",
      "trainer_interface.cc(520) LOG(INFO) Done! preprocessed 69564 sentences.\n",
      "unigram_model_trainer.cc(139) LOG(INFO) Making suffix array...\n",
      "unigram_model_trainer.cc(143) LOG(INFO) Extracting frequent sub strings...\n",
      "unigram_model_trainer.cc(194) LOG(INFO) Initialized 152972 seed sentencepieces\n",
      "trainer_interface.cc(526) LOG(INFO) Tokenizing input sentences with whitespace: 69564\n",
      "trainer_interface.cc(537) LOG(INFO) Done! 201713\n",
      "unigram_model_trainer.cc(489) LOG(INFO) Using 201713 sentences for EM training\n",
      "unigram_model_trainer.cc(505) LOG(INFO) EM sub_iter=0 size=80377 obj=14.5716 num_tokens=428565 num_tokens/piece=5.33194\n",
      "unigram_model_trainer.cc(505) LOG(INFO) EM sub_iter=1 size=70276 obj=13.2643 num_tokens=430609 num_tokens/piece=6.1274\n",
      "unigram_model_trainer.cc(505) LOG(INFO) EM sub_iter=0 size=52694 obj=13.2971 num_tokens=448375 num_tokens/piece=8.50903\n",
      "unigram_model_trainer.cc(505) LOG(INFO) EM sub_iter=1 size=52647 obj=13.253 num_tokens=448987 num_tokens/piece=8.52825\n",
      "unigram_model_trainer.cc(505) LOG(INFO) EM sub_iter=0 size=39484 obj=13.4352 num_tokens=472814 num_tokens/piece=11.9748\n",
      "unigram_model_trainer.cc(505) LOG(INFO) EM sub_iter=1 size=39484 obj=13.3908 num_tokens=472946 num_tokens/piece=11.9782\n",
      "unigram_model_trainer.cc(505) LOG(INFO) EM sub_iter=0 size=29613 obj=13.6408 num_tokens=499042 num_tokens/piece=16.8521\n",
      "unigram_model_trainer.cc(505) LOG(INFO) EM sub_iter=1 size=29613 obj=13.5887 num_tokens=499089 num_tokens/piece=16.8537\n",
      "unigram_model_trainer.cc(505) LOG(INFO) EM sub_iter=0 size=22209 obj=13.8932 num_tokens=526227 num_tokens/piece=23.6943\n",
      "unigram_model_trainer.cc(505) LOG(INFO) EM sub_iter=1 size=22209 obj=13.8365 num_tokens=526233 num_tokens/piece=23.6946\n",
      "unigram_model_trainer.cc(505) LOG(INFO) EM sub_iter=0 size=22000 obj=13.8479 num_tokens=527067 num_tokens/piece=23.9576\n",
      "unigram_model_trainer.cc(505) LOG(INFO) EM sub_iter=1 size=22000 obj=13.8457 num_tokens=527067 num_tokens/piece=23.9576\n",
      "trainer_interface.cc(615) LOG(INFO) Saving model: korean_spm.model\n",
      "trainer_interface.cc(626) LOG(INFO) Saving vocabs: korean_spm.vocab\n"
     ]
    },
    {
     "output_type": "stream",
     "name": "stdout",
     "text": [
      "-rw-r--r-- 1 hchang hchang 620482 Dec 10 15:47 korean_spm.model\n",
      "-rw-r--r-- 1 hchang hchang 400780 Dec 10 15:47 korean_spm.vocab\n"
     ]
    }
   ],
   "metadata": {}
  },
  {
   "cell_type": "code",
   "execution_count": 40,
   "source": [
    "s = spm.SentencePieceProcessor()\n",
    "s.Load('korean_spm.model')\n",
    "\n",
    "# SentencePiece를 활용한 sentence -> encoding\n",
    "tokensIDs = s.EncodeAsIds('아버지가방에들어가신다.')\n",
    "print(tokensIDs)\n",
    "\n",
    "# SentencePiece를 활용한 sentence -> encoded pieces\n",
    "print(s.SampleEncodeAsPieces('아버지가방에들어가신다.',1, 0.0))\n",
    "\n",
    "# SentencePiece를 활용한 encoding -> sentence 복원\n",
    "print(s.DecodeIds(tokensIDs))"
   ],
   "outputs": [
    {
     "output_type": "stream",
     "name": "stdout",
     "text": [
      "[759, 10, 637, 11, 3418, 10, 519, 42, 3]\n",
      "['▁아버지', '가', '방', '에', '들어', '가', '신', '다', '.']\n",
      "아버지가방에들어가신다.\n"
     ]
    }
   ],
   "metadata": {}
  },
  {
   "cell_type": "code",
   "execution_count": 41,
   "source": [
    "def sp_tokenize(s, corpus):\n",
    "\n",
    "    tensor = []\n",
    "\n",
    "    for sen in corpus:\n",
    "        tensor.append(s.EncodeAsIds(sen))\n",
    "\n",
    "    with open(\"./korean_spm.vocab\", 'r') as f:\n",
    "        vocab = f.readlines()\n",
    "\n",
    "    word_index = {}\n",
    "    index_word = {}\n",
    "\n",
    "    for idx, line in enumerate(vocab):\n",
    "        word = line.split(\"\\t\")[0]\n",
    "\n",
    "        word_index.update({idx:word})\n",
    "        index_word.update({word:idx})\n",
    "\n",
    "    tensor = tf.keras.preprocessing.sequence.pad_sequences(tensor, padding='post')\n",
    "\n",
    "    return tensor, word_index, index_word"
   ],
   "outputs": [],
   "metadata": {}
  },
  {
   "cell_type": "code",
   "execution_count": 42,
   "source": [
    "#sp_tokenize(s, corpus) 사용예제\n",
    "\n",
    "my_corpus = ['나는 밥을 먹었습니다.', '그러나 여전히 ㅠㅠ 배가 고픕니다...']\n",
    "tensor, word_index, index_word = sp_tokenize(s, my_corpus)\n",
    "print(tensor)\n",
    "print(list(tensor[0]))\n",
    "print(type(tokensIDs))\n",
    "print(tokensIDs)\n",
    "# print(s.DecodeIds())"
   ],
   "outputs": [
    {
     "output_type": "stream",
     "name": "stdout",
     "text": [
      "[[ 668 4571    4 3381 2061    3    0    0    0    0    0    0    0]\n",
      " [  68 1083   83    6    0 8211    6   14    0 2509    3    3    3]]\n",
      "[668, 4571, 4, 3381, 2061, 3, 0, 0, 0, 0, 0, 0, 0]\n",
      "<class 'list'>\n",
      "[759, 10, 637, 11, 3418, 10, 519, 42, 3]\n"
     ]
    }
   ],
   "metadata": {}
  },
  {
   "cell_type": "markdown",
   "source": [
    "### 왜..!! 왜 똑같은 숫자인데, 오류가 나는걸까요... numpy.int를 지원하지 않는대요...\n",
    "### 아래처럼 넣어야 나왔습니다.."
   ],
   "metadata": {}
  },
  {
   "cell_type": "code",
   "execution_count": 43,
   "source": [
    "print(s.DecodeIds(list(map(int,tensor[0]))+list(map(int,tensor[1]))))"
   ],
   "outputs": [
    {
     "output_type": "stream",
     "name": "stdout",
     "text": [
      "나는 밥을 먹었습니다. ⁇  ⁇  ⁇  ⁇  ⁇  ⁇  ⁇  그러나 여전히  ⁇  배가 고 ⁇ 니다...\n"
     ]
    }
   ],
   "metadata": {}
  },
  {
   "cell_type": "markdown",
   "source": [
    "### ?? 이거하려고 한걸까요???? 아무래도 진짜 능력을 확인해봐야 할 것 같습니다.\n",
    "### 자기도 어이가 없는지 패딩을 모르고 ??를 밷는군요..."
   ],
   "metadata": {}
  },
  {
   "cell_type": "code",
   "execution_count": 2,
   "source": [
    "import pandas as pd\n",
    "# with open('data/naver_movie/ratings.txt','r') as f:\n",
    "#     with open('data/naver_movie/refined_ratings.txt','w') as re_f:\n",
    "#         for i in f.readlines():\n",
    "#             j = re.sub(r\"\")\n",
    "#             re_f.write()\n",
    "data_path = 'data/'\n",
    "train_data = pd.read_table(data_path + 'ratings_train.txt')\n",
    "test_data = pd.read_table(data_path + 'ratings_test.txt')\n",
    "\n",
    "train_data.head()"
   ],
   "outputs": [
    {
     "output_type": "execute_result",
     "data": {
      "text/html": [
       "<div>\n",
       "<style scoped>\n",
       "    .dataframe tbody tr th:only-of-type {\n",
       "        vertical-align: middle;\n",
       "    }\n",
       "\n",
       "    .dataframe tbody tr th {\n",
       "        vertical-align: top;\n",
       "    }\n",
       "\n",
       "    .dataframe thead th {\n",
       "        text-align: right;\n",
       "    }\n",
       "</style>\n",
       "<table border=\"1\" class=\"dataframe\">\n",
       "  <thead>\n",
       "    <tr style=\"text-align: right;\">\n",
       "      <th></th>\n",
       "      <th>id</th>\n",
       "      <th>document</th>\n",
       "      <th>label</th>\n",
       "    </tr>\n",
       "  </thead>\n",
       "  <tbody>\n",
       "    <tr>\n",
       "      <th>0</th>\n",
       "      <td>9976970</td>\n",
       "      <td>아 더빙.. 진짜 짜증나네요 목소리</td>\n",
       "      <td>0</td>\n",
       "    </tr>\n",
       "    <tr>\n",
       "      <th>1</th>\n",
       "      <td>3819312</td>\n",
       "      <td>흠...포스터보고 초딩영화줄....오버연기조차 가볍지 않구나</td>\n",
       "      <td>1</td>\n",
       "    </tr>\n",
       "    <tr>\n",
       "      <th>2</th>\n",
       "      <td>10265843</td>\n",
       "      <td>너무재밓었다그래서보는것을추천한다</td>\n",
       "      <td>0</td>\n",
       "    </tr>\n",
       "    <tr>\n",
       "      <th>3</th>\n",
       "      <td>9045019</td>\n",
       "      <td>교도소 이야기구먼 ..솔직히 재미는 없다..평점 조정</td>\n",
       "      <td>0</td>\n",
       "    </tr>\n",
       "    <tr>\n",
       "      <th>4</th>\n",
       "      <td>6483659</td>\n",
       "      <td>사이몬페그의 익살스런 연기가 돋보였던 영화!스파이더맨에서 늙어보이기만 했던 커스틴 ...</td>\n",
       "      <td>1</td>\n",
       "    </tr>\n",
       "  </tbody>\n",
       "</table>\n",
       "</div>"
      ],
      "text/plain": [
       "         id                                           document  label\n",
       "0   9976970                                아 더빙.. 진짜 짜증나네요 목소리      0\n",
       "1   3819312                  흠...포스터보고 초딩영화줄....오버연기조차 가볍지 않구나      1\n",
       "2  10265843                                  너무재밓었다그래서보는것을추천한다      0\n",
       "3   9045019                      교도소 이야기구먼 ..솔직히 재미는 없다..평점 조정      0\n",
       "4   6483659  사이몬페그의 익살스런 연기가 돋보였던 영화!스파이더맨에서 늙어보이기만 했던 커스틴 ...      1"
      ]
     },
     "metadata": {},
     "execution_count": 2
    }
   ],
   "metadata": {}
  },
  {
   "cell_type": "code",
   "execution_count": 3,
   "source": [
    "train_data[\"document\"][0]"
   ],
   "outputs": [
    {
     "output_type": "execute_result",
     "data": {
      "text/plain": [
       "'아 더빙.. 진짜 짜증나네요 목소리'"
      ]
     },
     "metadata": {},
     "execution_count": 3
    }
   ],
   "metadata": {}
  },
  {
   "cell_type": "markdown",
   "source": [
    "### 생각해보니, 어차피 감성분석 성능만 볼것이기 때문에, 특별히 패딩을 구분해주지 않아도 될 것 같습니다. "
   ],
   "metadata": {}
  },
  {
   "cell_type": "code",
   "execution_count": 1,
   "source": [
    "from konlpy.tag import Komoran, Mecab\n",
    "import sentencepiece as spm\n",
    "import re\n",
    "komoran = Komoran()\n",
    "# mecab = Mecab()\n",
    "\n",
    "\n",
    "def preprocessing(data_df,tokenizer):\n",
    "    data_df.drop_duplicates(inplace=True)\n",
    "    data_df = data_df.dropna(how='any')\n",
    "\n",
    "    token_seq = []\n",
    "    for sentence in data_df['document']:\n",
    "        sentence = re.sub(r\"[^0-9A-zㅏ-ㅣㄱ-ㅎ가-힣?!,.()\\s'\\\"]\",\"\",sentence)\n",
    "        sentence = tokenizer.morphs(sentence)\n",
    "        token_seq.append(sentence)\n",
    "    \n",
    "    return token_seq, tokenizer\n",
    "           \n"
   ],
   "outputs": [],
   "metadata": {}
  },
  {
   "cell_type": "code",
   "execution_count": 4,
   "source": [
    "komoran_seq, komoran = preprocessing(train_data, komoran)\n"
   ],
   "outputs": [],
   "metadata": {}
  },
  {
   "cell_type": "code",
   "execution_count": 5,
   "source": [
    "mecab_seq, mecab = preprocessing(train_data, mecab)"
   ],
   "outputs": [],
   "metadata": {}
  },
  {
   "cell_type": "code",
   "execution_count": 6,
   "source": [
    "c = 1\n",
    "for i in train_data['document']:\n",
    "    print(i)\n",
    "    c +=1\n",
    "    if c == 5:\n",
    "        break"
   ],
   "outputs": [
    {
     "output_type": "stream",
     "name": "stdout",
     "text": [
      "아 더빙.. 진짜 짜증나네요 목소리\n",
      "흠...포스터보고 초딩영화줄....오버연기조차 가볍지 않구나\n",
      "너무재밓었다그래서보는것을추천한다\n",
      "교도소 이야기구먼 ..솔직히 재미는 없다..평점 조정\n"
     ]
    }
   ],
   "metadata": {}
  },
  {
   "cell_type": "code",
   "execution_count": 1,
   "source": [
    "!pip list | grep sentencepiece"
   ],
   "outputs": [
    {
     "output_type": "stream",
     "name": "stdout",
     "text": [
      "sentencepiece                 0.1.95\n",
      "\u001b[33mWARNING: You are using pip version 20.3.3; however, version 21.3.1 is available.\n",
      "You should consider upgrading via the '/opt/conda/bin/python3.7 -m pip install --upgrade pip' command.\u001b[0m\n"
     ]
    }
   ],
   "metadata": {}
  },
  {
   "cell_type": "markdown",
   "source": [
    "## 슬슬 모델학습을 해보기 위해 클라우드로 넘어가겠습니다."
   ],
   "metadata": {}
  },
  {
   "cell_type": "code",
   "execution_count": 7,
   "source": [
    "import pandas as pd\n",
    "ratings_train = pd.read_table('ratings_train.txt')\n",
    "ratings_test = pd.read_table('ratings_test.txt')\n",
    "ratings_train.head()"
   ],
   "outputs": [
    {
     "output_type": "execute_result",
     "data": {
      "text/html": [
       "<div>\n",
       "<style scoped>\n",
       "    .dataframe tbody tr th:only-of-type {\n",
       "        vertical-align: middle;\n",
       "    }\n",
       "\n",
       "    .dataframe tbody tr th {\n",
       "        vertical-align: top;\n",
       "    }\n",
       "\n",
       "    .dataframe thead th {\n",
       "        text-align: right;\n",
       "    }\n",
       "</style>\n",
       "<table border=\"1\" class=\"dataframe\">\n",
       "  <thead>\n",
       "    <tr style=\"text-align: right;\">\n",
       "      <th></th>\n",
       "      <th>id</th>\n",
       "      <th>document</th>\n",
       "      <th>label</th>\n",
       "    </tr>\n",
       "  </thead>\n",
       "  <tbody>\n",
       "    <tr>\n",
       "      <th>0</th>\n",
       "      <td>9976970</td>\n",
       "      <td>아 더빙.. 진짜 짜증나네요 목소리</td>\n",
       "      <td>0</td>\n",
       "    </tr>\n",
       "    <tr>\n",
       "      <th>1</th>\n",
       "      <td>3819312</td>\n",
       "      <td>흠...포스터보고 초딩영화줄....오버연기조차 가볍지 않구나</td>\n",
       "      <td>1</td>\n",
       "    </tr>\n",
       "    <tr>\n",
       "      <th>2</th>\n",
       "      <td>10265843</td>\n",
       "      <td>너무재밓었다그래서보는것을추천한다</td>\n",
       "      <td>0</td>\n",
       "    </tr>\n",
       "    <tr>\n",
       "      <th>3</th>\n",
       "      <td>9045019</td>\n",
       "      <td>교도소 이야기구먼 ..솔직히 재미는 없다..평점 조정</td>\n",
       "      <td>0</td>\n",
       "    </tr>\n",
       "    <tr>\n",
       "      <th>4</th>\n",
       "      <td>6483659</td>\n",
       "      <td>사이몬페그의 익살스런 연기가 돋보였던 영화!스파이더맨에서 늙어보이기만 했던 커스틴 ...</td>\n",
       "      <td>1</td>\n",
       "    </tr>\n",
       "  </tbody>\n",
       "</table>\n",
       "</div>"
      ],
      "text/plain": [
       "         id                                           document  label\n",
       "0   9976970                                아 더빙.. 진짜 짜증나네요 목소리      0\n",
       "1   3819312                  흠...포스터보고 초딩영화줄....오버연기조차 가볍지 않구나      1\n",
       "2  10265843                                  너무재밓었다그래서보는것을추천한다      0\n",
       "3   9045019                      교도소 이야기구먼 ..솔직히 재미는 없다..평점 조정      0\n",
       "4   6483659  사이몬페그의 익살스런 연기가 돋보였던 영화!스파이더맨에서 늙어보이기만 했던 커스틴 ...      1"
      ]
     },
     "metadata": {},
     "execution_count": 7
    }
   ],
   "metadata": {}
  },
  {
   "cell_type": "code",
   "execution_count": 12,
   "source": [
    "import numpy as np\n",
    "import matplotlib.pyplot as plt\n",
    "min_len = 999\n",
    "max_len = 0\n",
    "sum_len = 0\n",
    "raw = ratings_train['document']\n",
    "\n",
    "for sen in raw:\n",
    "    length = len(sen)\n",
    "    if min_len > length: min_len = length\n",
    "    if max_len < length: max_len = length\n",
    "    sum_len += length\n",
    "\n",
    "print(\"문장의 최단 길이:\", min_len)\n",
    "print(\"문장의 최장 길이:\", max_len)\n",
    "print(\"문장의 평균 길이:\", sum_len // len(raw))\n",
    "\n",
    "sentence_length = np.zeros((max_len), dtype=np.int)\n",
    "\n",
    "for sen in raw:\n",
    "    sentence_length[len(sen)-1] += 1\n",
    "\n",
    "plt.bar(range(max_len), sentence_length, width=1.0)\n",
    "plt.title(\"Sentence Length Distribution\")\n",
    "plt.show()"
   ],
   "outputs": [
    {
     "output_type": "stream",
     "name": "stdout",
     "text": [
      "문장의 최단 길이: 1\n",
      "문장의 최장 길이: 146\n",
      "문장의 평균 길이: 35\n"
     ]
    },
    {
     "output_type": "display_data",
     "data": {
      "image/png": "[encoded data removed]",
      "text/plain": [
       "<Figure size 432x288 with 1 Axes>"
      ]
     },
     "metadata": {
      "needs_background": "light"
     }
    }
   ],
   "metadata": {}
  },
  {
   "cell_type": "markdown",
   "source": [
    "### 문장길이 140에서 하나의 피크를 찍는이유는 제한 길이때문이 아닐까요? 또 그런 것 치고는 넘는 것들이 있어 있상합니다."
   ],
   "metadata": {}
  },
  {
   "cell_type": "code",
   "execution_count": 13,
   "source": [
    "def check_sentence_with_length(raw, length):\n",
    "    count = 0\n",
    "    \n",
    "    for sen in raw:\n",
    "        if len(sen) == length:\n",
    "            print(sen)\n",
    "            count += 1\n",
    "            if count > 100: return\n",
    "\n",
    "check_sentence_with_length(raw, 1)"
   ],
   "outputs": [
    {
     "output_type": "stream",
     "name": "stdout",
     "text": [
      "아\n",
      "잼\n",
      "1\n",
      "4\n",
      "4\n",
      "굿\n",
      "짱\n",
      "휴\n",
      ".\n",
      "1\n",
      "굿\n",
      "음\n",
      "?\n",
      "?\n",
      "ㅎ\n",
      "굿\n",
      "ㅋ\n",
      "굿\n",
      "즐\n",
      "♥\n",
      "굳\n",
      "ㅋ\n",
      "네\n",
      "ㅎ\n",
      "ㅋ\n",
      "굿\n",
      "ㅇ\n",
      "k\n",
      ".\n",
      "굿\n",
      "굿\n",
      "굳\n",
      "ㅠ\n",
      "?\n",
      "1\n",
      "ㅋ\n",
      "굿\n",
      "쒯\n",
      "굿\n",
      "굿\n",
      "굳\n",
      "♬\n",
      "굿\n",
      "토\n",
      "ㅋ\n",
      "ㅋ\n",
      "굿\n",
      "ㅋ\n",
      "굿\n",
      "O\n",
      "똥\n",
      "ㅎ\n",
      ".\n",
      "굿\n",
      "ㅎ\n",
      "짱\n",
      "굳\n",
      "굿\n",
      "굿\n",
      "짱\n",
      "?\n",
      "z\n",
      "굿\n",
      "짱\n",
      "음\n",
      "굳\n",
      "ㅇ\n",
      "헐\n",
      "굳\n",
      "굳\n",
      "굿\n",
      "굿\n",
      "굿\n",
      "삼\n",
      "꽝\n",
      "굿\n",
      "굿\n",
      "굿\n",
      "굿\n",
      "ㅎ\n",
      "굳\n",
      "굿\n",
      "4\n",
      "!\n",
      "?\n",
      "ㅎ\n",
      "1\n",
      "굳\n",
      ".\n",
      "ㅎ\n",
      "풉\n",
      "아\n",
      "굿\n",
      "똥\n",
      "ㅅ\n",
      "왜\n",
      "ㄴ\n",
      "굳\n",
      "쉣\n",
      "봐\n",
      "z\n"
     ]
    }
   ],
   "metadata": {}
  },
  {
   "cell_type": "code",
   "execution_count": 15,
   "source": [
    "check_sentence_with_length(raw, 146)\n"
   ],
   "outputs": [
    {
     "output_type": "stream",
     "name": "stdout",
     "text": [
      "\"스폰으로 먹고사는 방송이라 어쩔수 없다고 하지만. 이건 그냥 비현실적인 자동차만;...독일3사&슈퍼카 홍보 프로그램도 아니구.대중적인 자동차 방송으로 이루어 졌으면 합니다. 보는내내 \"\"카탈로그 책자\"\"를 \"\"동영상으로 보여주는 방송\"\" 같아서 씁쓸하네요.!\"\n",
      "\"\"\"니 짓은 생각않고, 웬 복수!\"\"의 교훈이라! 그럼 \"\"서바이벌 액션\"\"으로 홍보하면 안되지! 초반 45분은 멋지게 열더니.. 억지 반전, 하드고어로 시간끌다가, 허둥지둥 화해로 끝내버리네. 90분 러닝타임에 엔딩자막만 11분 틀어주는 해괴망측한 영화~!\"\n",
      "\"2007.02.25_ 벌교의 한 국밥집_ 점심: \"\"갸는 첫째고, 저 놈은 우리 둘째~\"\" 재문: \"\"아줌마! 미안해~ 그냥.. 아줌마! 나 그 남방 잘 어울려ㅠ_ㅠ?\"\" 대식에게 복수하려던 1주일 전_ 대식의 엄마를 먼저 만났다. 사랑의 꽃남방도..^-^o\"\n"
     ]
    }
   ],
   "metadata": {}
  },
  {
   "cell_type": "markdown",
   "source": [
    "### 무튼 댓글 길이제한이 있는거 같아서 너무 긴 글은 없네요. 그래도 문장개수가 너무 많은게 있을까요?"
   ],
   "metadata": {}
  },
  {
   "cell_type": "code",
   "execution_count": 8,
   "source": [
    "temp_file = 'aiffel/sentiment_classification/ratings.temp'\n",
    "\n",
    "ratings_train.drop_duplicates(inplace=True)\n",
    "ratings_train = ratings_train.dropna(how='any')\n",
    "with open(temp_file, 'w') as f:\n",
    "    for sentence in ratings_train['document']:            # 이전 스텝에서 정제했던 corpus를 활용합니다.\n",
    "        sentence = re.sub(r\"[^0-9A-zㅏ-ㅣㄱ-ㅎ가-힣?!,.()\\s'\\\"]\",\"\",sentence)\n",
    "        f.write(str(sentence) + '\\n')\n",
    "\n",
    "target_train = ratings_train['label']\n",
    "!head aiffel/sentiment_classification/ratings.temp"
   ],
   "outputs": [
    {
     "output_type": "stream",
     "name": "stdout",
     "text": [
      "아 더빙.. 진짜 짜증나네요 목소리\n",
      "흠...포스터보고 초딩영화줄....오버연기조차 가볍지 않구나\n",
      "너무재밓었다그래서보는것을추천한다\n",
      "교도소 이야기구먼 ..솔직히 재미는 없다..평점 조정\n",
      "사이몬페그의 익살스런 연기가 돋보였던 영화!스파이더맨에서 늙어보이기만 했던 커스틴 던스트가 너무나도 이뻐보였다\n",
      "막 걸음마 뗀 3세부터 초등학교 1학년생인 8살용영화.ㅋㅋㅋ...별반개도 아까움.\n",
      "원작의 긴장감을 제대로 살려내지못했다.\n",
      "별 반개도 아깝다 욕나온다 이응경 길용우 연기생활이몇년인지..정말 발로해도 그것보단 낫겟다 납치.감금만반복반복..이드라마는 가족도없다 연기못하는사람만모엿네\n",
      "액션이 없는데도 재미 있는 몇안되는 영화\n",
      "왜케 평점이 낮은건데? 꽤 볼만한데.. 헐리우드식 화려함에만 너무 길들여져 있나?\n"
     ]
    }
   ],
   "metadata": {}
  },
  {
   "cell_type": "markdown",
   "source": [
    "### 전처리 해서 받은 문장을 단어개수별로 보겠습니다... 라고 하려고 했는데, 저희는 어차피 형태소 단위로 볼거여서 지금 확정하기가 어렵군요ㅜㅜ\n",
    "### 어쩔 수 없이 패딩을 넉넉하게 주어서 학습을 시켜보겠습니다."
   ],
   "metadata": {}
  },
  {
   "cell_type": "code",
   "execution_count": 9,
   "source": [
    "testtemp_file = 'aiffel/sentiment_classification/testratings.temp'\n",
    "\n",
    "ratings_test.drop_duplicates(inplace=True)\n",
    "ratings_test = ratings_test.dropna(how='any')\n",
    "with open(testtemp_file, 'w') as f:\n",
    "    for sentence in ratings_test['document']:            # 이전 스텝에서 정제했던 corpus를 활용합니다.\n",
    "        sentence = re.sub(r\"[^0-9A-zㅏ-ㅣㄱ-ㅎ가-힣?!,.()\\s'\\\"]\",\"\",sentence)\n",
    "        f.write(str(sentence) + '\\n')\n",
    "\n",
    "target_test = ratings_test['label']\n",
    "!head aiffel/sentiment_classification/testratings.temp"
   ],
   "outputs": [
    {
     "output_type": "stream",
     "name": "stdout",
     "text": [
      "굳 ㅋ\n",
      "GDNTOPCLASSINTHECLUB\n",
      "뭐야 이 평점들은.... 나쁘진 않지만 10점 짜리는 더더욱 아니잖아\n",
      "지루하지는 않은데 완전 막장임... 돈주고 보기에는....\n",
      "3D만 아니었어도 별 다섯 개 줬을텐데.. 왜 3D로 나와서 제 심기를 불편하게 하죠??\n",
      "음악이 주가 된, 최고의 음악영화\n",
      "진정한 쓰레기\n",
      "마치 미국애니에서 튀어나온듯한 창의력없는 로봇디자인부터가,고개를 젖게한다\n",
      "갈수록 개판되가는 중국영화 유치하고 내용없음 폼잡다 끝남 말도안되는 무기에 유치한cg남무 아 그립다 동사서독같은 영화가 이건 3류아류작이다\n",
      "이별의 아픔뒤에 찾아오는 새로운 인연의 기쁨 But, 모든 사람이 그렇지는 않네..\n"
     ]
    }
   ],
   "metadata": {}
  },
  {
   "cell_type": "code",
   "execution_count": 4,
   "source": [
    "temp_file = 'aiffel/sentiment_classification/ratings.temp'\n",
    "vocab_size = 20000 # 으로 했더니, 단어 너무 많다고 8아래로 해달라고 오류 뜸... 단어개수가 아니라, 최대 길이였나봐요.\n",
    "spm.SentencePieceTrainer.Train(\n",
    "    '--input={} --model_prefix=aiffel/naver --vocab_size={}'.format(temp_file, vocab_size)    \n",
    ")\n",
    "#위 Train에서  --model_type = 'unigram'이 디폴트 적용되어 있습니다. --model_type = 'bpe' 로 옵션을 주어 변경할 수 있습니다.\n",
    "# 라고 써있었는데, 둘다 없다고 나옵니다.. 뭘까요???\n",
    "!ls -l aiffel/naver*"
   ],
   "outputs": [
    {
     "output_type": "stream",
     "name": "stdout",
     "text": [
      "-rw-r--r-- 1 root root 617188 Dec 14 02:01 aiffel/naver.model\n",
      "-rw-r--r-- 1 root root 397544 Dec 14 02:01 aiffel/naver.vocab\n"
     ]
    }
   ],
   "metadata": {}
  },
  {
   "cell_type": "code",
   "execution_count": 5,
   "source": [
    "vocab_size = 20000 # 으로 했더니, 단어 너무 많다고 8아래로 해달라고 오류 뜸... 단어개수가 아니라, 최대 길이였나봐요.\n",
    "spm.SentencePieceTrainer.Train(\n",
    "    '--input={} --model_prefix=aiffel/sentiment_classification/naver_bpe --vocab_size={} --model_type=bpe'.format(temp_file, vocab_size)    \n",
    ")\n",
    "#위 Train에서  --model_type = 'unigram'이 디폴트 적용되어 있습니다. --model_type = 'bpe' 로 옵션을 주어 변경할 수 있습니다.\n",
    "# 라고 써있었는데, 둘다 없다고 나옵니다.. 뭘까요???\n",
    "!ls -l aiffel/sentiment_classification/naver_bpe*"
   ],
   "outputs": [
    {
     "output_type": "stream",
     "name": "stdout",
     "text": [
      "-rw-r--r-- 1 root root 602543 Dec 14 02:02 aiffel/sentiment_classification/naver_bpe.model\n",
      "-rw-r--r-- 1 root root 333758 Dec 14 02:02 aiffel/sentiment_classification/naver_bpe.vocab\n"
     ]
    }
   ],
   "metadata": {}
  },
  {
   "cell_type": "code",
   "execution_count": 6,
   "source": [
    "s = spm.SentencePieceProcessor()\n",
    "s.Load('aiffel/naver.model')\n",
    "\n",
    "# SentencePiece를 활용한 sentence -> encoding\n",
    "tokensIDs = s.EncodeAsIds('아버지가방에들어가신다.')\n",
    "print(tokensIDs)\n",
    "\n",
    "# SentencePiece를 활용한 sentence -> encoded pieces\n",
    "print(s.SampleEncodeAsPieces('아버지가방에들어가신다.',1, 0.0))\n",
    "\n",
    "# SentencePiece를 활용한 encoding -> sentence 복원\n",
    "print(s.DecodeIds(tokensIDs))"
   ],
   "outputs": [
    {
     "output_type": "stream",
     "name": "stdout",
     "text": [
      "[6856, 450, 16, 10837, 206, 21, 3]\n",
      "['▁아버지가', '방', '에', '들어가', '신', '다', '.']\n",
      "아버지가방에들어가신다.\n"
     ]
    }
   ],
   "metadata": {}
  },
  {
   "cell_type": "code",
   "execution_count": 101,
   "source": [
    "s = spm.SentencePieceProcessor()\n",
    "s.Load('aiffel/sentiment_classification/naver_bpe.model')\n",
    "\n",
    "# SentencePiece를 활용한 sentence -> encoding\n",
    "tokensIDs = s.EncodeAsIds('아버지가방에들어가신다.')\n",
    "print(tokensIDs)\n",
    "\n",
    "# SentencePiece를 활용한 sentence -> encoded pieces\n",
    "print(s.SampleEncodeAsPieces('아버지가방에들어가신다.',1, 0.0))\n",
    "\n",
    "# SentencePiece를 활용한 encoding -> sentence 복원\n",
    "print(s.DecodeIds(tokensIDs))"
   ],
   "outputs": [
    {
     "output_type": "stream",
     "name": "stdout",
     "text": [
      "[7316, 12695, 1405, 18407, 15219, 18399]\n",
      "['▁아버지가', '방에', '들어', '가', '신다', '.']\n",
      "아버지가방에들어가신다.\n"
     ]
    }
   ],
   "metadata": {}
  },
  {
   "cell_type": "code",
   "execution_count": 18,
   "source": [
    "import tensorflow as tf\n",
    "def tokenize(corpus, tensorlen):  # corpus: Tokenized Sentence's List\n",
    "    tokenizer = tf.keras.preprocessing.text.Tokenizer(filters='')\n",
    "    tokenizer.fit_on_texts(corpus)\n",
    "\n",
    "    tensor = tokenizer.texts_to_sequences(corpus)\n",
    "\n",
    "    tensor = tf.keras.preprocessing.sequence.pad_sequences(tensor, padding='post',maxlen=tensorlen)\n",
    "\n",
    "    return tensor, tokenizer\n"
   ],
   "outputs": [],
   "metadata": {}
  },
  {
   "cell_type": "code",
   "execution_count": 19,
   "source": [
    "temp_file = 'aiffel/sentiment_classification/ratings.temp'\n",
    "token_seq = []\n",
    "with open(temp_file,'r') as f:\n",
    "    for i in f.readlines():\n",
    "        token_seq.append(s.SampleEncodeAsPieces(i,1, 0.0))\n",
    "senten_tensor, senten_tokenizer = tokenize(token_seq,100)\n",
    "print(token_seq[0])"
   ],
   "outputs": [
    {
     "output_type": "stream",
     "name": "stdout",
     "text": [
      "['▁아', '▁더빙', '..', '▁진짜', '▁짜증나네요', '▁목소리']\n"
     ]
    }
   ],
   "metadata": {}
  },
  {
   "cell_type": "markdown",
   "source": [
    "### 흠... 저는 형태소 100개면 하고 싶은 표현은 들었을거라고 생각하거든요."
   ],
   "metadata": {}
  },
  {
   "cell_type": "code",
   "execution_count": 25,
   "source": [
    "print(f\"bpe모델 단어개수: {len(senten_tokenizer.index_word)}\")\n",
    "senten_tensor[0]"
   ],
   "outputs": [
    {
     "output_type": "stream",
     "name": "stdout",
     "text": [
      "bpe모델 단어개수: 20933\n"
     ]
    },
    {
     "output_type": "execute_result",
     "data": {
      "text/plain": [
       "array([   46,  1110,     2,    15, 17003,  1889,     0,     0,     0,\n",
       "           0,     0,     0,     0,     0,     0,     0,     0,     0,\n",
       "           0,     0,     0,     0,     0,     0,     0,     0,     0,\n",
       "           0,     0,     0,     0,     0,     0,     0,     0,     0,\n",
       "           0,     0,     0,     0,     0,     0,     0,     0,     0,\n",
       "           0,     0,     0,     0,     0,     0,     0,     0,     0,\n",
       "           0,     0,     0,     0,     0,     0,     0,     0,     0,\n",
       "           0,     0,     0,     0,     0,     0,     0,     0,     0,\n",
       "           0,     0,     0,     0,     0,     0,     0,     0,     0,\n",
       "           0,     0,     0,     0,     0,     0,     0,     0,     0,\n",
       "           0,     0,     0,     0,     0,     0,     0,     0,     0,\n",
       "           0], dtype=int32)"
      ]
     },
     "metadata": {},
     "execution_count": 25
    }
   ],
   "metadata": {}
  },
  {
   "cell_type": "code",
   "execution_count": 21,
   "source": [
    "for i in range(20):\n",
    "    print(senten_tokenizer.index_word[i+1])"
   ],
   "outputs": [
    {
     "output_type": "stream",
     "name": "stdout",
     "text": [
      ".\n",
      "..\n",
      "...\n",
      "▁영화\n",
      ",\n",
      "?\n",
      "▁너무\n",
      "!\n",
      "▁정말\n",
      "의\n",
      "이\n",
      "도\n",
      "▁이\n",
      "에\n",
      "▁진짜\n",
      "을\n",
      "은\n",
      "가\n",
      "....\n",
      "는\n"
     ]
    }
   ],
   "metadata": {}
  },
  {
   "cell_type": "markdown",
   "source": [
    "### 확실히 불용어 제거가 없으니 가장 많이 쓰이는 단어는 이렇군요.\n",
    "### 이어서 komoran과 비교해보겠습니다."
   ],
   "metadata": {}
  },
  {
   "cell_type": "code",
   "execution_count": 23,
   "source": [
    "komoran_seq, komoran = preprocessing(ratings_train, komoran)\n",
    "\n"
   ],
   "outputs": [],
   "metadata": {}
  },
  {
   "cell_type": "code",
   "execution_count": 24,
   "source": [
    "komoran_tensor, komoran_tokenizer = tokenize(komoran_seq,100)\n",
    "for i in range(20):\n",
    "    print(komoran_tokenizer.index_word[i+1])\n",
    "\n",
    "print(\"Komoran Vocab Size:\", len(komoran_tokenizer.index_word))"
   ],
   "outputs": [
    {
     "output_type": "stream",
     "name": "stdout",
     "text": [
      ".\n",
      "이\n",
      "하\n",
      "ㄴ\n",
      "는\n",
      "다\n",
      "영화\n",
      "보\n",
      "고\n",
      "에\n",
      "가\n",
      "의\n",
      "도\n",
      "은\n",
      "을\n",
      "았\n",
      "게\n",
      "...\n",
      "었\n",
      "ㄹ\n",
      "Komoran Vocab Size: 59099\n"
     ]
    }
   ],
   "metadata": {}
  },
  {
   "cell_type": "code",
   "execution_count": 26,
   "source": [
    "print(f\"bpe모델 단어개수: {len(senten_tokenizer.index_word)}\")\n"
   ],
   "outputs": [
    {
     "output_type": "stream",
     "name": "stdout",
     "text": [
      "bpe모델 단어개수: 20933\n"
     ]
    }
   ],
   "metadata": {}
  },
  {
   "cell_type": "markdown",
   "source": [
    "### !!!뭐가 더 좋다는 건가 했는데, 이렇게 차이가 많이 날까요?!??\n",
    "### 단어 개수가 적어서 학습 효율도 훨씬 좋고, 능력도 좋을까요?? 너무 궁금합니다."
   ],
   "metadata": {}
  },
  {
   "cell_type": "code",
   "execution_count": 104,
   "source": [
    "from tensorflow.keras import layers\n",
    "vocab_size = 60000\n",
    "embedding_size = 256\n",
    "\n",
    "komoran_model = tf.keras.Sequential()\n",
    "komoran_model.add(layers.Embedding(vocab_size,\n",
    "                                   embedding_size,\n",
    "                                   input_length=100,\n",
    "                                   embeddings_initializer=tf.keras.initializers.RandomNormal()\n",
    "))\n",
    "komoran_model.add(layers.Conv1D(256,3, activation='relu', padding=\"same\"))\n",
    "komoran_model.add(layers.Conv1D(256,3, activation='relu', padding=\"same\"))\n",
    "komoran_model.add(layers.Conv1D(128,3, activation='relu', padding=\"same\"))\n",
    "komoran_model.add(layers.BatchNormalization())\n",
    "komoran_model.add(layers.Conv1D(128,3, activation='relu', padding=\"same\"))\n",
    "komoran_model.add(layers.Conv1D(64,3, activation='relu', padding=\"same\"))\n",
    "komoran_model.add(layers.Conv1D(32,3, activation='relu', padding=\"same\"))\n",
    "komoran_model.add(layers.BatchNormalization())\n",
    "komoran_model.add(layers.GlobalAveragePooling1D())\n",
    "komoran_model.add(layers.Dense(10, activation='relu'))\n",
    "komoran_model.add(layers.Dense(1, activation='sigmoid'))\n",
    "\n",
    "komoran_model.summary()"
   ],
   "outputs": [
    {
     "output_type": "stream",
     "name": "stdout",
     "text": [
      "Model: \"sequential_11\"\n",
      "_________________________________________________________________\n",
      "Layer (type)                 Output Shape              Param #   \n",
      "=================================================================\n",
      "embedding_11 (Embedding)     (None, 100, 256)          15360000  \n",
      "_________________________________________________________________\n",
      "conv1d_66 (Conv1D)           (None, 100, 256)          196864    \n",
      "_________________________________________________________________\n",
      "conv1d_67 (Conv1D)           (None, 100, 256)          196864    \n",
      "_________________________________________________________________\n",
      "conv1d_68 (Conv1D)           (None, 100, 128)          98432     \n",
      "_________________________________________________________________\n",
      "batch_normalization_19 (Batc (None, 100, 128)          512       \n",
      "_________________________________________________________________\n",
      "conv1d_69 (Conv1D)           (None, 100, 128)          49280     \n",
      "_________________________________________________________________\n",
      "conv1d_70 (Conv1D)           (None, 100, 64)           24640     \n",
      "_________________________________________________________________\n",
      "conv1d_71 (Conv1D)           (None, 100, 32)           6176      \n",
      "_________________________________________________________________\n",
      "batch_normalization_20 (Batc (None, 100, 32)           128       \n",
      "_________________________________________________________________\n",
      "global_average_pooling1d_11  (None, 32)                0         \n",
      "_________________________________________________________________\n",
      "dense_22 (Dense)             (None, 10)                330       \n",
      "_________________________________________________________________\n",
      "dense_23 (Dense)             (None, 1)                 11        \n",
      "=================================================================\n",
      "Total params: 15,933,237\n",
      "Trainable params: 15,932,917\n",
      "Non-trainable params: 320\n",
      "_________________________________________________________________\n"
     ]
    }
   ],
   "metadata": {}
  },
  {
   "cell_type": "code",
   "execution_count": 105,
   "source": [
    "bpe_vocab_size = 30000\n",
    "\n",
    "bpe_model = tf.keras.Sequential()\n",
    "bpe_model.add(layers.Embedding(bpe_vocab_size,\n",
    "                               embedding_size,\n",
    "                               input_length=100,\n",
    "                               embeddings_initializer=tf.keras.initializers.RandomNormal()\n",
    "))   \n",
    "bpe_model.add(layers.Conv1D(256,3, activation='relu', padding=\"same\"))\n",
    "bpe_model.add(layers.Conv1D(256,3, activation='relu', padding=\"same\"))\n",
    "bpe_model.add(layers.Conv1D(128,3, activation='relu', padding=\"same\"))\n",
    "bpe_model.add(layers.BatchNormalization())\n",
    "bpe_model.add(layers.Conv1D(128,3, activation='relu', padding=\"same\"))\n",
    "bpe_model.add(layers.Conv1D(64,3, activation='relu', padding=\"same\"))\n",
    "bpe_model.add(layers.Conv1D(32,3, activation='relu', padding=\"same\"))\n",
    "bpe_model.add(layers.BatchNormalization())\n",
    "bpe_model.add(layers.GlobalAveragePooling1D())\n",
    "bpe_model.add(layers.Dense(10, activation='relu'))\n",
    "bpe_model.add(layers.Dense(1, activation='sigmoid'))\n",
    "\n",
    "bpe_model.summary()"
   ],
   "outputs": [
    {
     "output_type": "stream",
     "name": "stdout",
     "text": [
      "Model: \"sequential_12\"\n",
      "_________________________________________________________________\n",
      "Layer (type)                 Output Shape              Param #   \n",
      "=================================================================\n",
      "embedding_12 (Embedding)     (None, 100, 256)          7680000   \n",
      "_________________________________________________________________\n",
      "conv1d_72 (Conv1D)           (None, 100, 256)          196864    \n",
      "_________________________________________________________________\n",
      "conv1d_73 (Conv1D)           (None, 100, 256)          196864    \n",
      "_________________________________________________________________\n",
      "conv1d_74 (Conv1D)           (None, 100, 128)          98432     \n",
      "_________________________________________________________________\n",
      "batch_normalization_21 (Batc (None, 100, 128)          512       \n",
      "_________________________________________________________________\n",
      "conv1d_75 (Conv1D)           (None, 100, 128)          49280     \n",
      "_________________________________________________________________\n",
      "conv1d_76 (Conv1D)           (None, 100, 64)           24640     \n",
      "_________________________________________________________________\n",
      "conv1d_77 (Conv1D)           (None, 100, 32)           6176      \n",
      "_________________________________________________________________\n",
      "batch_normalization_22 (Batc (None, 100, 32)           128       \n",
      "_________________________________________________________________\n",
      "global_average_pooling1d_12  (None, 32)                0         \n",
      "_________________________________________________________________\n",
      "dense_24 (Dense)             (None, 10)                330       \n",
      "_________________________________________________________________\n",
      "dense_25 (Dense)             (None, 1)                 11        \n",
      "=================================================================\n",
      "Total params: 8,253,237\n",
      "Trainable params: 8,252,917\n",
      "Non-trainable params: 320\n",
      "_________________________________________________________________\n"
     ]
    }
   ],
   "metadata": {}
  },
  {
   "cell_type": "code",
   "execution_count": 71,
   "source": [
    "batch_size = 128\n",
    "print(komoran_tensor.shape)\n",
    "target_train = tf.constant(np.array(target_train).T)\n",
    "print(target_train.shape)\n",
    "BUFFER_SIZE = len(komoran_tensor)\n",
    "komoran_train = tf.data.Dataset.from_tensor_slices((komoran_tensor, target_train))\n",
    "\n",
    "komoran_train.batch(batch_size)"
   ],
   "outputs": [
    {
     "output_type": "stream",
     "name": "stdout",
     "text": [
      "(149995, 100)\n",
      "(149995, 1)\n"
     ]
    },
    {
     "output_type": "execute_result",
     "data": {
      "text/plain": [
       "<BatchDataset shapes: ((None, 100), (None, 1)), types: (tf.int32, tf.int64)>"
      ]
     },
     "metadata": {},
     "execution_count": 71
    }
   ],
   "metadata": {}
  },
  {
   "cell_type": "markdown",
   "source": [],
   "metadata": {}
  },
  {
   "cell_type": "code",
   "execution_count": 62,
   "source": [
    "bpe_train = tf.data.Dataset.from_tensor_slices({'x_train': senten_tensor, 'y_train': target_train})\n",
    "bpe_train.batch(batch_size)"
   ],
   "outputs": [
    {
     "output_type": "execute_result",
     "data": {
      "text/plain": [
       "<BatchDataset shapes: {x_train: (None, 100), y_train: (None, 1)}, types: {x_train: tf.int32, y_train: tf.int64}>"
      ]
     },
     "metadata": {},
     "execution_count": 62
    }
   ],
   "metadata": {}
  },
  {
   "cell_type": "code",
   "execution_count": 81,
   "source": [
    "komoran_model.compile(optimizer='adam',\n",
    "                      loss='binary_crossentropy',\n",
    "                      metrics=['accuracy']\n",
    ")\n",
    "\n",
    "history = komoran_model.fit(komoran_tensor,\n",
    "                            target_train,\n",
    "                            epochs=10,\n",
    "                            batch_size=128\n",
    "\n",
    ")\n",
    "# what = komoran_train.__iter__()"
   ],
   "outputs": [
    {
     "output_type": "stream",
     "name": "stdout",
     "text": [
      "Epoch 1/10\n",
      "1172/1172 [==============================] - 119s 84ms/step - loss: 0.3505 - accuracy: 0.8441\n",
      "Epoch 2/10\n",
      "1172/1172 [==============================] - 81s 69ms/step - loss: 0.2371 - accuracy: 0.9067\n",
      "Epoch 3/10\n",
      "1172/1172 [==============================] - 80s 68ms/step - loss: 0.1593 - accuracy: 0.9401\n",
      "Epoch 4/10\n",
      "1172/1172 [==============================] - 79s 67ms/step - loss: 0.1084 - accuracy: 0.9614\n",
      "Epoch 5/10\n",
      "1172/1172 [==============================] - 79s 67ms/step - loss: 0.0782 - accuracy: 0.9727\n",
      "Epoch 6/10\n",
      "1172/1172 [==============================] - 79s 67ms/step - loss: 0.0619 - accuracy: 0.9790\n",
      "Epoch 7/10\n",
      "1172/1172 [==============================] - 78s 67ms/step - loss: 0.0519 - accuracy: 0.9821\n",
      "Epoch 8/10\n",
      "1172/1172 [==============================] - 78s 67ms/step - loss: 0.0457 - accuracy: 0.9849\n",
      "Epoch 9/10\n",
      "1172/1172 [==============================] - 80s 68ms/step - loss: 0.0421 - accuracy: 0.9858\n",
      "Epoch 10/10\n",
      "1172/1172 [==============================] - 79s 68ms/step - loss: 0.0387 - accuracy: 0.9863\n"
     ]
    }
   ],
   "metadata": {}
  },
  {
   "cell_type": "code",
   "execution_count": 83,
   "source": [
    "bpe_model.compile(optimizer='adam',\n",
    "                      loss='binary_crossentropy',\n",
    "                      metrics=['accuracy']\n",
    ")\n",
    "\n",
    "history = bpe_model.fit(senten_tensor,\n",
    "                        target_train,\n",
    "                        epochs=10,\n",
    "                        batch_size=256\n",
    "\n",
    ")"
   ],
   "outputs": [
    {
     "output_type": "stream",
     "name": "stdout",
     "text": [
      "Epoch 1/10\n",
      "586/586 [==============================] - 89s 118ms/step - loss: 0.4644 - accuracy: 0.7634\n",
      "Epoch 2/10\n",
      "586/586 [==============================] - 51s 87ms/step - loss: 0.2484 - accuracy: 0.8980\n",
      "Epoch 3/10\n",
      "586/586 [==============================] - 51s 87ms/step - loss: 0.1844 - accuracy: 0.9273\n",
      "Epoch 4/10\n",
      "586/586 [==============================] - 51s 87ms/step - loss: 0.1235 - accuracy: 0.9525\n",
      "Epoch 5/10\n",
      "586/586 [==============================] - 51s 87ms/step - loss: 0.0726 - accuracy: 0.9743\n",
      "Epoch 6/10\n",
      "586/586 [==============================] - 51s 88ms/step - loss: 0.0426 - accuracy: 0.9858\n",
      "Epoch 7/10\n",
      "586/586 [==============================] - 51s 87ms/step - loss: 0.0299 - accuracy: 0.9900\n",
      "Epoch 8/10\n",
      "586/586 [==============================] - 51s 87ms/step - loss: 0.0232 - accuracy: 0.9924\n",
      "Epoch 9/10\n",
      "586/586 [==============================] - 52s 88ms/step - loss: 0.0210 - accuracy: 0.9924\n",
      "Epoch 10/10\n",
      "586/586 [==============================] - 51s 88ms/step - loss: 0.0178 - accuracy: 0.9934\n"
     ]
    }
   ],
   "metadata": {}
  },
  {
   "cell_type": "code",
   "execution_count": 84,
   "source": [
    "def gen_tensor(corpus, tokenizer, tensorlen):  # corpus: Tokenized Sentence's List\n",
    "\n",
    "    tensor = tokenizer.texts_to_sequences(corpus)\n",
    "\n",
    "    tensor = tf.keras.preprocessing.sequence.pad_sequences(tensor, padding='post',maxlen=tensorlen)\n",
    "\n",
    "    return tensor"
   ],
   "outputs": [],
   "metadata": {}
  },
  {
   "cell_type": "code",
   "execution_count": 92,
   "source": [
    "def preprocessing(data_df,tokenizer):\n",
    "    data_df.drop_duplicates(inplace=True)\n",
    "    data_df = data_df.dropna(how='any')\n",
    "    \n",
    "    token_seq = []\n",
    "    for sentence in data_df['document']:\n",
    "        sentence = re.sub(r\"[^0-9A-zㅏ-ㅣㄱ-ㅎ가-힣?!,.()\\s'\\\"]\",\"\",sentence)\n",
    "        try:\n",
    "            sentence = tokenizer.morphs(sentence)\n",
    "            token_seq.append(sentence)\n",
    "        except:\n",
    "            token_seq.append(['하..'])\n",
    "    return token_seq, tokenizer\n",
    "           "
   ],
   "outputs": [],
   "metadata": {}
  },
  {
   "cell_type": "code",
   "execution_count": 93,
   "source": [
    "komoran_test_seq, _ = preprocessing(ratings_test, komoran)\n",
    "komoran_test_tensor = gen_tensor(komoran_test_seq, komoran_tokenizer, 100)\n",
    "target_tst = tf.constant(np.array(target_test).T)\n",
    "\n",
    "komoran_results = komoran_model.evaluate(komoran_test_tensor,target_tst, verbose=2)\n",
    "\n",
    "print(komoran_results)"
   ],
   "outputs": [
    {
     "output_type": "stream",
     "name": "stdout",
     "text": [
      "1563/1563 - 10s - loss: 1.0517 - accuracy: 0.8075\n",
      "[1.051745891571045, 0.8074684739112854]\n"
     ]
    }
   ],
   "metadata": {}
  },
  {
   "cell_type": "code",
   "execution_count": 86,
   "source": [
    "\n",
    "temp_file = 'aiffel/sentiment_classification/testratings.temp'\n",
    "token_seq = []\n",
    "with open(temp_file,'r') as f:\n",
    "    for i in f.readlines():\n",
    "        token_seq.append(s.SampleEncodeAsPieces(i,1, 0.0))\n",
    "bpe_test_tensor, _ = tokenize(token_seq,100)\n",
    "print(token_seq[0])\n",
    "\n",
    "target_tst = tf.constant(np.array(target_test).T)\n",
    "\n",
    "bpe_results = bpe_model.evaluate(bpe_test_tensor,target_tst, verbose=2)"
   ],
   "outputs": [
    {
     "output_type": "stream",
     "name": "stdout",
     "text": [
      "['▁굳', '▁ᄏ']\n",
      "1563/1563 - 16s - loss: 3.6413 - accuracy: 0.5137\n"
     ]
    }
   ],
   "metadata": {}
  },
  {
   "cell_type": "code",
   "execution_count": 106,
   "source": [
    "komoran_model.compile(optimizer='adam',\n",
    "                      loss='binary_crossentropy',\n",
    "                      metrics=['accuracy']\n",
    ")\n",
    "\n",
    "history = komoran_model.fit(komoran_tensor,\n",
    "                            target_train,\n",
    "                            epochs=3,\n",
    "                            batch_size=256\n",
    "\n",
    ")"
   ],
   "outputs": [
    {
     "output_type": "stream",
     "name": "stdout",
     "text": [
      "Epoch 1/3\n",
      "586/586 [==============================] - 113s 190ms/step - loss: 0.4647 - accuracy: 0.7706\n",
      "Epoch 2/3\n",
      "586/586 [==============================] - 110s 188ms/step - loss: 0.2435 - accuracy: 0.9043\n",
      "Epoch 3/3\n",
      "586/586 [==============================] - 111s 189ms/step - loss: 0.1554 - accuracy: 0.9434\n"
     ]
    }
   ],
   "metadata": {}
  },
  {
   "cell_type": "code",
   "execution_count": 107,
   "source": [
    "komoran_results = komoran_model.evaluate(komoran_test_tensor,target_tst, verbose=2)\n",
    "\n",
    "print(komoran_results)"
   ],
   "outputs": [
    {
     "output_type": "stream",
     "name": "stdout",
     "text": [
      "1563/1563 - 9s - loss: 0.3524 - accuracy: 0.8588\n",
      "[0.3524326682090759, 0.858831524848938]\n"
     ]
    }
   ],
   "metadata": {}
  },
  {
   "cell_type": "code",
   "execution_count": 112,
   "source": [
    "bpe_model.compile(optimizer='adam',\n",
    "                      loss='binary_crossentropy',\n",
    "                      metrics=['accuracy']\n",
    ")\n",
    "\n",
    "history = bpe_model.fit(senten_tensor,\n",
    "                        target_train,\n",
    "                        epochs=2,\n",
    "                        batch_size=256\n",
    "\n",
    ")"
   ],
   "outputs": [
    {
     "output_type": "stream",
     "name": "stdout",
     "text": [
      "Epoch 1/2\n",
      "586/586 [==============================] - 75s 124ms/step - loss: 0.1005 - accuracy: 0.9637\n",
      "Epoch 2/2\n",
      "586/586 [==============================] - 72s 124ms/step - loss: 0.0530 - accuracy: 0.9827\n"
     ]
    }
   ],
   "metadata": {}
  },
  {
   "cell_type": "code",
   "execution_count": null,
   "source": [
    "temp_file = 'aiffel/sentiment_classification/testratings.temp'\n",
    "token_seq = []\n",
    "with open(temp_file,'r') as f:\n",
    "    for i in f.readlines():\n",
    "        token_seq.append(s.SampleEncodeAsPieces(i,1, 0.0))\n",
    "bpe_test_tensor = gen_tensor(token_seq, senten_tokenizer, 100)\n",
    "print(token_seq[0])\n",
    "\n",
    "bpe_results = bpe_model.evaluate(bpe_test_tensor,target_tst, verbose=2)\n",
    "print(bpe_results)"
   ],
   "outputs": [
    {
     "output_type": "stream",
     "name": "stdout",
     "text": [
      "['▁굳', '▁ᄏ']\n",
      "1563/1563 - 9s - loss: 0.4027 - accuracy: 0.8549\n",
      "[0.4026740491390228, 0.8548513054847717]\n"
     ]
    }
   ],
   "metadata": {}
  },
  {
   "cell_type": "markdown",
   "source": [
    "## 뭐 안했는데, 85%씩은 그냥 넘네요ㅎㅎ 뿌듯합니다!"
   ],
   "metadata": {}
  }
 ],
 "metadata": {
  "orig_nbformat": 4,
  "kernelspec": {
   "name": "python3",
   "display_name": "Python 3",
   "language": "python"
  },
  "interpreter": {
   "hash": "026aceb1435085fcef523649cdfc9385a4a55dbc5c65435142607853821fa50a"
  },
  "language_info": {
   "name": "python",
   "version": "3.7.9",
   "mimetype": "text/x-python",
   "codemirror_mode": {
    "name": "ipython",
    "version": 3
   },
   "pygments_lexer": "ipython3",
   "nbconvert_exporter": "python",
   "file_extension": ".py"
  }
 },
 "nbformat": 4,
 "nbformat_minor": 2
}