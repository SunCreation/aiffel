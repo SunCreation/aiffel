{
 "cells": [
  {
   "cell_type": "code",
   "execution_count": 1,
   "metadata": {},
   "outputs": [
    {
     "data": {
      "text/html": [
       "<div>\n",
       "<style scoped>\n",
       "    .dataframe tbody tr th:only-of-type {\n",
       "        vertical-align: middle;\n",
       "    }\n",
       "\n",
       "    .dataframe tbody tr th {\n",
       "        vertical-align: top;\n",
       "    }\n",
       "\n",
       "    .dataframe thead th {\n",
       "        text-align: right;\n",
       "    }\n",
       "</style>\n",
       "<table border=\"1\" class=\"dataframe\">\n",
       "  <thead>\n",
       "    <tr style=\"text-align: right;\">\n",
       "      <th></th>\n",
       "      <th>id</th>\n",
       "      <th>document</th>\n",
       "      <th>label</th>\n",
       "    </tr>\n",
       "  </thead>\n",
       "  <tbody>\n",
       "    <tr>\n",
       "      <th>0</th>\n",
       "      <td>9976970</td>\n",
       "      <td>아 더빙.. 진짜 짜증나네요 목소리</td>\n",
       "      <td>0</td>\n",
       "    </tr>\n",
       "    <tr>\n",
       "      <th>1</th>\n",
       "      <td>3819312</td>\n",
       "      <td>흠...포스터보고 초딩영화줄....오버연기조차 가볍지 않구나</td>\n",
       "      <td>1</td>\n",
       "    </tr>\n",
       "    <tr>\n",
       "      <th>2</th>\n",
       "      <td>10265843</td>\n",
       "      <td>너무재밓었다그래서보는것을추천한다</td>\n",
       "      <td>0</td>\n",
       "    </tr>\n",
       "    <tr>\n",
       "      <th>3</th>\n",
       "      <td>9045019</td>\n",
       "      <td>교도소 이야기구먼 ..솔직히 재미는 없다..평점 조정</td>\n",
       "      <td>0</td>\n",
       "    </tr>\n",
       "    <tr>\n",
       "      <th>4</th>\n",
       "      <td>6483659</td>\n",
       "      <td>사이몬페그의 익살스런 연기가 돋보였던 영화!스파이더맨에서 늙어보이기만 했던 커스틴 ...</td>\n",
       "      <td>1</td>\n",
       "    </tr>\n",
       "  </tbody>\n",
       "</table>\n",
       "</div>"
      ],
      "text/plain": [
       "         id                                           document  label\n",
       "0   9976970                                아 더빙.. 진짜 짜증나네요 목소리      0\n",
       "1   3819312                  흠...포스터보고 초딩영화줄....오버연기조차 가볍지 않구나      1\n",
       "2  10265843                                  너무재밓었다그래서보는것을추천한다      0\n",
       "3   9045019                      교도소 이야기구먼 ..솔직히 재미는 없다..평점 조정      0\n",
       "4   6483659  사이몬페그의 익살스런 연기가 돋보였던 영화!스파이더맨에서 늙어보이기만 했던 커스틴 ...      1"
      ]
     },
     "execution_count": 1,
     "metadata": {},
     "output_type": "execute_result"
    }
   ],
   "source": [
    "import pandas as pd\n",
    "import urllib.request\n",
    "# %matplotlib inline\n",
    "import matplotlib.pyplot as plt\n",
    "import re\n",
    "from konlpy.tag import Okt \n",
    "from tensorflow import keras\n",
    "from tensorflow.keras.preprocessing.text import Tokenizer\n",
    "import numpy as np\n",
    "from tensorflow.keras.preprocessing.sequence import pad_sequences\n",
    "from collections import Counter\n",
    "\n",
    "# 데이터를 읽어봅시다.\n",
    "train_path = 'data/ratings_train.txt'\n",
    "test_path = 'data/ratings_test.txt'\n",
    "train_data = pd.read_table(train_path)\n",
    "test_data = pd.read_table(test_path)\n",
    "\n",
    "train_data.head()"
   ]
  },
  {
   "cell_type": "code",
   "execution_count": 2,
   "metadata": {},
   "outputs": [],
   "source": [
    "# 데이터 전처리 입니다.\n",
    "from konlpy.tag import Mecab\n",
    "tokenizer = Mecab()\n",
    "stopwords = ['의','가','이','은','들','는','좀','잘','걍','과','도','를','으로','자','에','와','한','하다']\n",
    "num_words=20000\n",
    "def load_data(train_data, test_data, num_words=num_words):\n",
    "    # [[YOUR CODE]]\n",
    "    train_data.drop_duplicates(subset=['document'], inplace=True)\n",
    "    train_data = train_data.dropna(how = 'any') \n",
    "    test_data.drop_duplicates(subset=['document'], inplace=True)\n",
    "    test_data = test_data.dropna(how = 'any') \n",
    "    \n",
    "    X_train = []\n",
    "    for sentence in train_data['document']:\n",
    "        temp_X = tokenizer.morphs(sentence) # 토큰화\n",
    "        temp_X = [word for word in temp_X if not word in stopwords] # 불용어 제거\n",
    "        X_train.append(temp_X)\n",
    "\n",
    "    X_test = []\n",
    "    for sentence in test_data['document']:\n",
    "        temp_X = tokenizer.morphs(sentence) # 토큰화\n",
    "        temp_X = [word for word in temp_X if not word in stopwords] # 불용어 제거\n",
    "        X_test.append(temp_X)\n",
    "    \n",
    "    words = np.concatenate(X_train).tolist()\n",
    "    counter = Counter(words)\n",
    "    counter = counter.most_common(10000-4)\n",
    "    vocab = ['', '', '', ''] + [key for key, _ in counter]\n",
    "    word_to_index = {word:index for index, word in enumerate(vocab)}\n",
    "        \n",
    "    def wordlist_to_indexlist(wordlist):\n",
    "        return [word_to_index[word] if word in word_to_index else word_to_index[''] for word in wordlist]\n",
    "        \n",
    "    X_train = list(map(wordlist_to_indexlist, X_train))\n",
    "    X_test = list(map(wordlist_to_indexlist, X_test))\n",
    "        \n",
    "    return X_train, np.array(list(train_data['label'])), X_test, np.array(list(test_data['label'])), word_to_index\n",
    "    \n",
    "X_train, y_train, X_test, y_test, word_to_index = load_data(train_data, test_data)"
   ]
  },
  {
   "cell_type": "code",
   "execution_count": 3,
   "metadata": {},
   "outputs": [],
   "source": [
    "index_to_word = {index:word for word, index in word_to_index.items()}"
   ]
  },
  {
   "cell_type": "code",
   "execution_count": 4,
   "metadata": {},
   "outputs": [],
   "source": [
    "# 문장 1개를 활용할 딕셔너리와 함께 주면, 단어 인덱스 리스트 벡터로 변환해 주는 함수입니다. \n",
    "# 단, 모든 문장은 <BOS>로 시작하는 것으로 합니다. \n",
    "def get_encoded_sentence(sentence, word_to_index):\n",
    "    return [word_to_index['<BOS>']]+[word_to_index[word] if word in word_to_index else word_to_index['<UNK>'] for word in sentence.split()]\n",
    "\n",
    "# 여러 개의 문장 리스트를 한꺼번에 단어 인덱스 리스트 벡터로 encode해 주는 함수입니다. \n",
    "def get_encoded_sentences(sentences, word_to_index):\n",
    "    return [get_encoded_sentence(sentence, word_to_index) for sentence in sentences]\n",
    "\n",
    "# 숫자 벡터로 encode된 문장을 원래대로 decode하는 함수입니다. \n",
    "def get_decoded_sentence(encoded_sentence, index_to_word):\n",
    "    return ' '.join(index_to_word[index] if index in index_to_word else '<UNK>' for index in encoded_sentence[1:])  #[1:]를 통해 <BOS>를 제외\n",
    "\n",
    "# 여러 개의 숫자 벡터로 encode된 문장을 한꺼번에 원래대로 decode하는 함수입니다. \n",
    "def get_decoded_sentences(encoded_sentences, index_to_word):\n",
    "    return [get_decoded_sentence(encoded_sentence, index_to_word) for encoded_sentence in encoded_sentences]"
   ]
  },
  {
   "cell_type": "code",
   "execution_count": 5,
   "metadata": {},
   "outputs": [
    {
     "name": "stderr",
     "output_type": "stream",
     "text": [
      "/opt/conda/lib/python3.7/site-packages/ipykernel_launcher.py:4: DeprecationWarning: Call to deprecated `__getitem__` (Method will be removed in 4.0.0, use self.wv.__getitem__() instead).\n",
      "  after removing the cwd from sys.path.\n"
     ]
    },
    {
     "data": {
      "text/plain": [
       "array([ 0.44337696,  0.33067897,  0.00423185,  0.09941821,  0.24922162,\n",
       "       -1.5483421 ,  0.7179065 ,  0.44619754,  0.26341715, -0.7557755 ,\n",
       "        1.6730225 ,  1.5506932 ,  0.41791508,  0.23653346,  0.3370173 ,\n",
       "       -0.5054976 ,  0.5848394 ,  0.86017835, -0.8320465 , -1.1213914 ,\n",
       "       -0.6356562 ,  0.00758559,  0.7700866 , -0.15168501, -0.49680716,\n",
       "       -0.459246  ,  1.3269166 , -0.02057629, -0.01498494,  0.36286223,\n",
       "       -0.38423136, -0.48272285,  0.02059898, -0.4342361 ,  0.0808625 ,\n",
       "        0.9751739 ,  0.39841947, -0.00312074, -0.01050324,  0.06396951,\n",
       "       -0.858028  , -0.7100742 ,  0.40870246, -0.90541303,  0.0487923 ,\n",
       "       -0.5760212 ,  0.32594004, -0.31112763, -0.46094155, -1.073029  ,\n",
       "        0.7887254 ,  0.36984107,  0.37219578, -0.6615945 , -1.2793318 ,\n",
       "        0.31662583, -0.19714019,  0.08608919,  0.46863657, -0.26394662,\n",
       "        0.28440842, -0.30910465, -0.63530475, -0.3965939 , -0.01063732,\n",
       "        0.05109216, -0.48139465, -0.08882087,  0.52212125,  0.15788199,\n",
       "        0.07106787, -1.0733455 , -1.145272  , -0.48883146, -0.00367811,\n",
       "       -0.97645926, -0.02421511, -0.37611637, -0.19997485, -0.8955466 ,\n",
       "        0.3630227 , -0.9486312 , -0.42946544, -1.3694638 , -1.7440723 ,\n",
       "        0.15074047,  0.6949235 ,  0.60510355, -0.38132933,  0.9760045 ,\n",
       "       -0.39751506, -0.51470864, -0.23493198,  0.30371583,  0.07490665,\n",
       "        0.39290577,  0.72625834,  0.20400128,  0.07260764, -0.4941408 ,\n",
       "        0.67861706, -0.11482497,  0.9862703 , -0.1410723 ,  0.15053551,\n",
       "        0.26696518, -0.01870198, -0.4393796 ,  0.5979941 , -0.5019096 ,\n",
       "        0.7662593 ,  0.4650255 , -0.61541086, -0.24314326, -0.3504104 ,\n",
       "        0.14421076, -1.3872604 ,  0.29320914, -0.5222191 , -0.42146707,\n",
       "       -0.00383861,  0.2552312 , -0.11143502, -0.8957899 , -0.2531076 ,\n",
       "        0.20485379, -0.42782512,  0.48323622,  0.18139155,  0.05814376,\n",
       "        0.10523599,  0.18480928, -0.18388283,  0.6878498 ,  0.54367787,\n",
       "        0.14691402,  0.6224243 , -1.3333883 ,  0.16249013, -0.7052882 ,\n",
       "        0.00892893, -0.09547003,  0.01875778, -0.08980865, -0.4885307 ,\n",
       "        0.24844994, -0.7590728 , -1.4442575 , -0.08777061, -0.43568268,\n",
       "       -0.04396483,  0.51605606,  0.2919627 ,  0.17845358,  0.6854313 ,\n",
       "       -0.74137753, -0.3417879 ,  0.653703  , -0.503081  , -1.4502912 ,\n",
       "       -0.5963747 , -0.6250137 ,  0.06528363, -0.74652314,  0.2630199 ,\n",
       "       -0.18226545,  0.72657067, -0.7446869 ,  0.3288398 ,  0.01224568,\n",
       "       -0.98508954, -0.03788053, -0.01006415, -0.0678578 ,  0.3774199 ,\n",
       "       -0.2634148 , -1.739302  , -0.04227779, -0.06153663,  0.10676163,\n",
       "        0.02270738, -0.41364536,  0.11944565,  0.55895895, -0.83718914,\n",
       "        1.1367677 , -0.90956205,  0.13838798, -0.20970435,  0.23744166,\n",
       "       -0.66164726, -0.06205282,  1.7939919 ,  0.7531474 , -0.39389208,\n",
       "       -0.23972218,  0.2936302 , -1.20727   , -0.5895726 , -0.8665029 ],\n",
       "      dtype=float32)"
      ]
     },
     "execution_count": 5,
     "metadata": {},
     "output_type": "execute_result"
    }
   ],
   "source": [
    "import gensim\n",
    "word2vec_path = 'data/ko.bin'\n",
    "word2vec = gensim.models.Word2Vec.load(word2vec_path)\n",
    "vector = word2vec['가방']\n",
    "vector     # 무려 300dim의 워드 벡터입니다."
   ]
  },
  {
   "cell_type": "code",
   "execution_count": 6,
   "metadata": {},
   "outputs": [
    {
     "name": "stderr",
     "output_type": "stream",
     "text": [
      "/opt/conda/lib/python3.7/site-packages/ipykernel_launcher.py:1: DeprecationWarning: Call to deprecated `similar_by_word` (Method will be removed in 4.0.0, use self.wv.similar_by_word() instead).\n",
      "  \"\"\"Entry point for launching an IPython kernel.\n"
     ]
    },
    {
     "data": {
      "text/plain": [
       "[('소시지', 0.7531833052635193),\n",
       " ('햄버거', 0.7404618263244629),\n",
       " ('샐러드', 0.7318634986877441),\n",
       " ('파스타', 0.7314548492431641),\n",
       " ('팬케이크', 0.7270224690437317),\n",
       " ('치즈', 0.7189904451370239),\n",
       " ('요구르트', 0.7089414596557617),\n",
       " ('샌드위치', 0.7071967720985413),\n",
       " ('토스트', 0.6964404582977295),\n",
       " ('치킨', 0.6932948231697083)]"
      ]
     },
     "execution_count": 6,
     "metadata": {},
     "output_type": "execute_result"
    }
   ],
   "source": [
    "word2vec.similar_by_word(\"피자\")"
   ]
  },
  {
   "cell_type": "code",
   "execution_count": 7,
   "metadata": {},
   "outputs": [
    {
     "data": {
      "text/plain": [
       "200"
      ]
     },
     "execution_count": 7,
     "metadata": {},
     "output_type": "execute_result"
    }
   ],
   "source": [
    "len(vector)     # 200dim의 워드 벡터입니다."
   ]
  },
  {
   "cell_type": "code",
   "execution_count": 8,
   "metadata": {},
   "outputs": [
    {
     "name": "stderr",
     "output_type": "stream",
     "text": [
      "/opt/conda/lib/python3.7/site-packages/ipykernel_launcher.py:7: DeprecationWarning: Call to deprecated `__contains__` (Method will be removed in 4.0.0, use self.wv.__contains__() instead).\n",
      "  import sys\n",
      "/opt/conda/lib/python3.7/site-packages/ipykernel_launcher.py:8: DeprecationWarning: Call to deprecated `__getitem__` (Method will be removed in 4.0.0, use self.wv.__getitem__() instead).\n",
      "  \n"
     ]
    }
   ],
   "source": [
    "vocab_size = 10000    # 어휘 사전의 크기입니다(10,000개의 단어)\n",
    "word_vector_dim = 200  # 워드 벡터의 차원수\n",
    "embedding_matrix = np.random.rand(vocab_size, word_vector_dim)\n",
    "\n",
    "# embedding_matrix에 Word2Vec 워드 벡터를 단어 하나씩마다 차례차례 카피한다.\n",
    "for i in range(4,vocab_size):\n",
    "    if index_to_word[i] in word2vec:\n",
    "        embedding_matrix[i] = word2vec[index_to_word[i]]"
   ]
  },
  {
   "cell_type": "code",
   "execution_count": 9,
   "metadata": {},
   "outputs": [
    {
     "name": "stdout",
     "output_type": "stream",
     "text": [
      "문장길이 평균 :  15.96940191154864\n",
      "문장길이 최대 :  116\n",
      "문장길이 표준편차 :  12.843571191092\n",
      "pad_sequences maxlen :  41\n",
      "전체 문장의 0.9342988343341575%가 maxlen 설정값 이내에 포함됩니다. \n"
     ]
    }
   ],
   "source": [
    "total_data_text = list(X_train) + list(X_test)\n",
    "# 텍스트데이터 문장길이의 리스트를 생성한 후\n",
    "num_tokens = [len(tokens) for tokens in total_data_text]\n",
    "num_tokens = np.array(num_tokens)\n",
    "# 문장길이의 평균값, 최대값, 표준편차를 계산해 본다. \n",
    "print('문장길이 평균 : ', np.mean(num_tokens))\n",
    "print('문장길이 최대 : ', np.max(num_tokens))\n",
    "print('문장길이 표준편차 : ', np.std(num_tokens))\n",
    "\n",
    "# 예를들어, 최대 길이를 (평균 + 2*표준편차)로 한다면,  \n",
    "max_tokens = np.mean(num_tokens) + 2 * np.std(num_tokens)\n",
    "maxlen = int(max_tokens)\n",
    "print('pad_sequences maxlen : ', maxlen)\n",
    "print('전체 문장의 {}%가 maxlen 설정값 이내에 포함됩니다. '.format(np.sum(num_tokens < max_tokens) / len(num_tokens)))"
   ]
  },
  {
   "cell_type": "code",
   "execution_count": 10,
   "metadata": {},
   "outputs": [
    {
     "data": {
      "text/plain": [
       "146182"
      ]
     },
     "execution_count": 10,
     "metadata": {},
     "output_type": "execute_result"
    }
   ],
   "source": [
    "len(X_train)"
   ]
  },
  {
   "cell_type": "code",
   "execution_count": 11,
   "metadata": {},
   "outputs": [
    {
     "name": "stdout",
     "output_type": "stream",
     "text": [
      "136182\n",
      "136182\n"
     ]
    },
    {
     "data": {
      "text/plain": [
       "[32, 74, 919, 4, 4, 39, 228, 20, 33, 748]"
      ]
     },
     "execution_count": 11,
     "metadata": {},
     "output_type": "execute_result"
    }
   ],
   "source": [
    "# validation set 10000건 분리\n",
    "X_val = X_train[:10000]   \n",
    "y_val = y_train[:10000]\n",
    "\n",
    "# validation set을 제외한 나머지 15000건\n",
    "partial_X_train = X_train[10000:]  \n",
    "partial_y_train = y_train[10000:]\n",
    "\n",
    "print(len(partial_X_train))\n",
    "print(len(partial_y_train))\n",
    "X_train[0]"
   ]
  },
  {
   "cell_type": "code",
   "execution_count": 11,
   "metadata": {},
   "outputs": [],
   "source": [
    "index_to_word = {index:word for word, index in word_to_index.items()}"
   ]
  },
  {
   "cell_type": "code",
   "execution_count": 12,
   "metadata": {},
   "outputs": [
    {
     "name": "stdout",
     "output_type": "stream",
     "text": [
      "<BOS>\n",
      "8\n",
      ".\n"
     ]
    }
   ],
   "source": [
    "# word_to_index = {k:(v+3) for k,v in word_to_index.items()}\n",
    "\n",
    "# 처음 몇 개 인덱스는 사전에 정의되어 있습니다\n",
    "word_to_index[\"<PAD>\"] = 0\n",
    "word_to_index[\"<BOS>\"] = 1\n",
    "word_to_index[\"<UNK>\"] = 2  # unknown\n",
    "word_to_index[\"<UNUSED>\"] = 3\n",
    "\n",
    "index_to_word = {index:word for word, index in word_to_index.items()}\n",
    "\n",
    "print(index_to_word[1])     # '<BOS>' 가 출력됩니다. \n",
    "print(word_to_index['하'])  # 4 이 출력됩니다. \n",
    "print(index_to_word[4])     # 'the' 가 출력됩니다."
   ]
  },
  {
   "cell_type": "code",
   "execution_count": 13,
   "metadata": {},
   "outputs": [
    {
     "name": "stdout",
     "output_type": "stream",
     "text": [
      "(146182, 41) (49157, 41)\n"
     ]
    }
   ],
   "source": [
    "X_train = keras.preprocessing.sequence.pad_sequences(X_train,\n",
    "                                                        value=word_to_index[\"<PAD>\"],\n",
    "                                                        padding='pre', # 혹은 'post'\n",
    "                                                        maxlen=maxlen)\n",
    "\n",
    "X_test = keras.preprocessing.sequence.pad_sequences(X_test,\n",
    "                                                       value=word_to_index[\"<PAD>\"],\n",
    "                                                       padding='pre', # 혹은 'post'\n",
    "                                                       maxlen=maxlen)\n",
    "\n",
    "\n",
    "\n",
    "\n",
    "print(X_train.shape,X_test.shape)"
   ]
  },
  {
   "cell_type": "code",
   "execution_count": 14,
   "metadata": {},
   "outputs": [
    {
     "name": "stdout",
     "output_type": "stream",
     "text": [
      "(116182, 41)\n",
      "(116182,)\n"
     ]
    },
    {
     "data": {
      "text/plain": [
       "array([  0,   0,   0,   0,   0,   0,   0,   0,   0,   0,   0,   0,   0,\n",
       "         0,   0,   0,   0,   0,   0,   0,   0,   0,   0,   0,   0,   0,\n",
       "         0,   0,   0,   0,   0,  32,  74, 919,   4,   4,  39, 228,  20,\n",
       "        33, 748], dtype=int32)"
      ]
     },
     "execution_count": 14,
     "metadata": {},
     "output_type": "execute_result"
    }
   ],
   "source": [
    "# validation set 30000건 분리\n",
    "X_val = X_train[:30000]   \n",
    "y_val = y_train[:30000]\n",
    "\n",
    "# validation set을 제외한 나머지 15000건\n",
    "partial_X_train = X_train[30000:]  \n",
    "partial_y_train = y_train[30000:]\n",
    "\n",
    "print(partial_X_train.shape)\n",
    "print(partial_y_train.shape)\n",
    "X_train[0]"
   ]
  },
  {
   "cell_type": "code",
   "execution_count": 20,
   "metadata": {},
   "outputs": [
    {
     "name": "stdout",
     "output_type": "stream",
     "text": [
      "Model: \"sequential\"\n",
      "_________________________________________________________________\n",
      "Layer (type)                 Output Shape              Param #   \n",
      "=================================================================\n",
      "embedding (Embedding)        (None, 41, 200)           2000000   \n",
      "_________________________________________________________________\n",
      "conv1d (Conv1D)              (None, 35, 16)            22416     \n",
      "_________________________________________________________________\n",
      "max_pooling1d (MaxPooling1D) (None, 7, 16)             0         \n",
      "_________________________________________________________________\n",
      "conv1d_1 (Conv1D)            (None, 1, 16)             1808      \n",
      "_________________________________________________________________\n",
      "global_max_pooling1d (Global (None, 16)                0         \n",
      "_________________________________________________________________\n",
      "dense (Dense)                (None, 8)                 136       \n",
      "_________________________________________________________________\n",
      "dense_1 (Dense)              (None, 1)                 9         \n",
      "=================================================================\n",
      "Total params: 2,024,369\n",
      "Trainable params: 2,024,369\n",
      "Non-trainable params: 0\n",
      "_________________________________________________________________\n",
      "Epoch 1/20\n",
      "227/227 [==============================] - 15s 48ms/step - loss: 0.6456 - accuracy: 0.6094 - val_loss: 0.4539 - val_accuracy: 0.7888\n",
      "Epoch 2/20\n",
      "227/227 [==============================] - 6s 28ms/step - loss: 0.4145 - accuracy: 0.8135 - val_loss: 0.3909 - val_accuracy: 0.8226\n",
      "Epoch 3/20\n",
      "227/227 [==============================] - 6s 28ms/step - loss: 0.3419 - accuracy: 0.8532 - val_loss: 0.3628 - val_accuracy: 0.8397\n",
      "Epoch 4/20\n",
      "227/227 [==============================] - 6s 28ms/step - loss: 0.2989 - accuracy: 0.8750 - val_loss: 0.3541 - val_accuracy: 0.8456\n",
      "Epoch 5/20\n",
      "227/227 [==============================] - 6s 27ms/step - loss: 0.2655 - accuracy: 0.8918 - val_loss: 0.3671 - val_accuracy: 0.8437\n",
      "Epoch 6/20\n",
      "227/227 [==============================] - 6s 28ms/step - loss: 0.2446 - accuracy: 0.9024 - val_loss: 0.3770 - val_accuracy: 0.8433\n",
      "Epoch 7/20\n",
      "227/227 [==============================] - 6s 28ms/step - loss: 0.2166 - accuracy: 0.9167 - val_loss: 0.3858 - val_accuracy: 0.8441\n",
      "Epoch 8/20\n",
      "227/227 [==============================] - 6s 28ms/step - loss: 0.1916 - accuracy: 0.9282 - val_loss: 0.4131 - val_accuracy: 0.8351\n",
      "Epoch 9/20\n",
      "227/227 [==============================] - 6s 28ms/step - loss: 0.1748 - accuracy: 0.9361 - val_loss: 0.4130 - val_accuracy: 0.8408\n",
      "Epoch 10/20\n",
      "227/227 [==============================] - 6s 27ms/step - loss: 0.1530 - accuracy: 0.9453 - val_loss: 0.4641 - val_accuracy: 0.8382\n",
      "Epoch 11/20\n",
      "227/227 [==============================] - 6s 28ms/step - loss: 0.1348 - accuracy: 0.9535 - val_loss: 0.5170 - val_accuracy: 0.8342\n",
      "Epoch 12/20\n",
      "227/227 [==============================] - 6s 28ms/step - loss: 0.1234 - accuracy: 0.9584 - val_loss: 0.5492 - val_accuracy: 0.8332\n",
      "Epoch 13/20\n",
      "227/227 [==============================] - 6s 28ms/step - loss: 0.1052 - accuracy: 0.9652 - val_loss: 0.5746 - val_accuracy: 0.8325\n",
      "Epoch 14/20\n",
      "227/227 [==============================] - 6s 27ms/step - loss: 0.0942 - accuracy: 0.9693 - val_loss: 0.6055 - val_accuracy: 0.8273\n",
      "Epoch 15/20\n",
      "227/227 [==============================] - 6s 28ms/step - loss: 0.0824 - accuracy: 0.9742 - val_loss: 0.6362 - val_accuracy: 0.8310\n",
      "Epoch 16/20\n",
      "227/227 [==============================] - 6s 27ms/step - loss: 0.0726 - accuracy: 0.9770 - val_loss: 0.6728 - val_accuracy: 0.8276\n",
      "Epoch 17/20\n",
      "227/227 [==============================] - 6s 28ms/step - loss: 0.0687 - accuracy: 0.9785 - val_loss: 0.6884 - val_accuracy: 0.8278\n",
      "Epoch 18/20\n",
      "227/227 [==============================] - 6s 28ms/step - loss: 0.0600 - accuracy: 0.9812 - val_loss: 0.7104 - val_accuracy: 0.8274\n",
      "Epoch 19/20\n",
      "227/227 [==============================] - 6s 27ms/step - loss: 0.0592 - accuracy: 0.9814 - val_loss: 0.7631 - val_accuracy: 0.8249\n",
      "Epoch 20/20\n",
      "227/227 [==============================] - 6s 28ms/step - loss: 0.0544 - accuracy: 0.9836 - val_loss: 0.8064 - val_accuracy: 0.8272\n"
     ]
    }
   ],
   "source": [
    "from tensorflow.keras.initializers import Constant\n",
    "\n",
    "# vocab_size = 10000    # 어휘 사전의 크기입니다(10,000개의 단어)\n",
    "# word_vector_dim = 200  # 워드 벡터의 차원 수 \n",
    "\n",
    "# 모델 구성\n",
    "model = keras.Sequential()\n",
    "model.add(keras.layers.Embedding(vocab_size, \n",
    "                                 word_vector_dim, \n",
    "                                 embeddings_initializer=Constant(embedding_matrix),  # 카피한 임베딩을 여기서 활용\n",
    "                                 input_length=maxlen, \n",
    "                                 trainable=True))   # trainable을 True로 주면 Fine-tuning\n",
    "model.add(keras.layers.Conv1D(16, 7, activation='relu'))\n",
    "model.add(keras.layers.MaxPooling1D(5))\n",
    "model.add(keras.layers.Conv1D(16, 7, activation='relu'))\n",
    "model.add(keras.layers.GlobalMaxPooling1D())\n",
    "model.add(keras.layers.Dense(8, activation='relu'))\n",
    "model.add(keras.layers.Dense(1, activation='sigmoid')) \n",
    "\n",
    "model.summary()\n",
    "\n",
    "model.compile(optimizer='adam',\n",
    "              loss='binary_crossentropy',\n",
    "              metrics=['accuracy'])\n",
    "\n",
    "history = model.fit(partial_X_train,\n",
    "                    partial_y_train,\n",
    "                    epochs=20,\n",
    "                    batch_size=512,\n",
    "                    validation_data=(X_val,y_val),\n",
    "                    verbose=1)"
   ]
  },
  {
   "cell_type": "code",
   "execution_count": 21,
   "metadata": {},
   "outputs": [
    {
     "name": "stdout",
     "output_type": "stream",
     "text": [
      "1537/1537 - 5s - loss: 0.8154 - accuracy: 0.8266\n",
      "[0.8154146671295166, 0.8265557289123535]\n"
     ]
    }
   ],
   "source": [
    "results = model.evaluate(X_test,  y_test, verbose=2)\n",
    "\n",
    "print(results)"
   ]
  },
  {
   "cell_type": "code",
   "execution_count": 22,
   "metadata": {},
   "outputs": [
    {
     "name": "stdout",
     "output_type": "stream",
     "text": [
      "dict_keys(['loss', 'accuracy', 'val_loss', 'val_accuracy'])\n"
     ]
    },
    {
     "data": {
      "image/png": "[encoded data removed]",
      "text/plain": [
       "<Figure size 432x288 with 1 Axes>"
      ]
     },
     "metadata": {
      "needs_background": "light"
     },
     "output_type": "display_data"
    },
    {
     "data": {
      "image/png": "[encoded data removed]",
      "text/plain": [
       "<Figure size 432x288 with 1 Axes>"
      ]
     },
     "metadata": {
      "needs_background": "light"
     },
     "output_type": "display_data"
    }
   ],
   "source": [
    "history_dict = history.history\n",
    "print(history_dict.keys()) # epoch에 따른 그래프를 그려볼 수 있는 항목들\n",
    "\n",
    "import matplotlib.pyplot as plt\n",
    "\n",
    "acc = history_dict['accuracy']\n",
    "val_acc = history_dict['val_accuracy']\n",
    "loss = history_dict['loss']\n",
    "val_loss = history_dict['val_loss']\n",
    "\n",
    "epochs = range(1, len(acc) + 1)\n",
    "\n",
    "# \"bo\"는 \"파란색 점\"입니다\n",
    "plt.plot(epochs, loss, 'bo', label='Training loss')\n",
    "# b는 \"파란 실선\"입니다\n",
    "plt.plot(epochs, val_loss, 'b', label='Validation loss')\n",
    "plt.title('Training and validation loss')\n",
    "plt.xlabel('Epochs')\n",
    "plt.ylabel('Loss')\n",
    "plt.legend()\n",
    "\n",
    "plt.show()\n",
    "# %%\n",
    "plt.clf()   # 그림을 초기화합니다\n",
    "\n",
    "plt.plot(epochs, acc, 'bo', label='Training acc')\n",
    "plt.plot(epochs, val_acc, 'b', label='Validation acc')\n",
    "plt.title('Training and validation accuracy')\n",
    "plt.xlabel('Epochs')\n",
    "plt.ylabel('Accuracy')\n",
    "plt.legend()\n",
    "\n",
    "plt.show()"
   ]
  },
  {
   "cell_type": "code",
   "execution_count": 25,
   "metadata": {},
   "outputs": [
    {
     "name": "stdout",
     "output_type": "stream",
     "text": [
      "<BOS>\n",
      "8\n",
      ".\n",
      "(146182, 41) (49157, 41)\n",
      "(116182, 41)\n",
      "(116182,)\n"
     ]
    },
    {
     "data": {
      "text/plain": [
       "array([ 32,  74, 919,   4,   4,  39, 228,  20,  33, 748,   0,   0,   0,\n",
       "         0,   0,   0,   0,   0,   0,   0,   0,   0,   0,   0,   0,   0,\n",
       "         0,   0,   0,   0,   0,   0,   0,   0,   0,   0,   0,   0,   0,\n",
       "         0,   0], dtype=int32)"
      ]
     },
     "execution_count": 25,
     "metadata": {},
     "output_type": "execute_result"
    }
   ],
   "source": [
    "# 데이터 전처리 입니다.\n",
    "from konlpy.tag import Mecab\n",
    "tokenizer = Mecab()\n",
    "stopwords = ['의','가','이','은','들','는','좀','잘','걍','과','도','를','으로','자','에','와','한','하다']\n",
    "num_words=20000\n",
    "def load_data(train_data, test_data, num_words=num_words):\n",
    "    # [[YOUR CODE]]\n",
    "    train_data.drop_duplicates(subset=['document'], inplace=True)\n",
    "    train_data = train_data.dropna(how = 'any') \n",
    "    test_data.drop_duplicates(subset=['document'], inplace=True)\n",
    "    test_data = test_data.dropna(how = 'any') \n",
    "    \n",
    "    X_train = []\n",
    "    for sentence in train_data['document']:\n",
    "        temp_X = tokenizer.morphs(sentence) # 토큰화\n",
    "        temp_X = [word for word in temp_X if not word in stopwords] # 불용어 제거\n",
    "        X_train.append(temp_X)\n",
    "\n",
    "    X_test = []\n",
    "    for sentence in test_data['document']:\n",
    "        temp_X = tokenizer.morphs(sentence) # 토큰화\n",
    "        temp_X = [word for word in temp_X if not word in stopwords] # 불용어 제거\n",
    "        X_test.append(temp_X)\n",
    "    \n",
    "    words = np.concatenate(X_train).tolist()\n",
    "    counter = Counter(words)\n",
    "    counter = counter.most_common(10000-4)\n",
    "    vocab = ['', '', '', ''] + [key for key, _ in counter]\n",
    "    word_to_index = {word:index for index, word in enumerate(vocab)}\n",
    "        \n",
    "    def wordlist_to_indexlist(wordlist):\n",
    "        return [word_to_index[word] if word in word_to_index else word_to_index[''] for word in wordlist]\n",
    "        \n",
    "    X_train = list(map(wordlist_to_indexlist, X_train))\n",
    "    X_test = list(map(wordlist_to_indexlist, X_test))\n",
    "        \n",
    "    return X_train, np.array(list(train_data['label'])), X_test, np.array(list(test_data['label'])), word_to_index\n",
    "    \n",
    "X_train, y_train, X_test, y_test, word_to_index = load_data(train_data, test_data)\n",
    "\n",
    "# index로 단어를 찾을 수 있는 해석장치를 만든다.\n",
    "index_to_word = {index:word for word, index in word_to_index.items()}\n",
    "\n",
    "# word_to_index = {k:(v+3) for k,v in word_to_index.items()}\n",
    "# 보통 위의 과정을 거칠 가능성이 높지만, 여기서는 필요하지 않다.(확인결과)\n",
    "\n",
    "\n",
    "# 처음 몇 개 인덱스는 사전에 정의되어 있습니다\n",
    "word_to_index[\"<PAD>\"] = 0\n",
    "word_to_index[\"<BOS>\"] = 1\n",
    "word_to_index[\"<UNK>\"] = 2  # unknown\n",
    "word_to_index[\"<UNUSED>\"] = 3\n",
    "\n",
    "index_to_word = {index:word for word, index in word_to_index.items()}\n",
    "\n",
    "print(index_to_word[1])     # '<BOS>' 가 출력됩니다. \n",
    "print(word_to_index['하'])  # 4 이 출력됩니다. \n",
    "print(index_to_word[4])     # 'the' 가 출력됩니다.\n",
    "\n",
    "\n",
    "\n",
    "X_train = keras.preprocessing.sequence.pad_sequences(X_train,\n",
    "                                                        value=word_to_index[\"<PAD>\"],\n",
    "                                                        padding='post', # 혹은 'pre'\n",
    "                                                        maxlen=maxlen)\n",
    "\n",
    "X_test = keras.preprocessing.sequence.pad_sequences(X_test,\n",
    "                                                       value=word_to_index[\"<PAD>\"],\n",
    "                                                       padding='post', # 혹은 'pre'\n",
    "                                                       maxlen=maxlen)\n",
    "\n",
    "\n",
    "\n",
    "\n",
    "print(X_train.shape,X_test.shape)\n",
    "\n",
    "# validation set 30000건 분리\n",
    "X_val = X_train[:30000]   \n",
    "y_val = y_train[:30000]\n",
    "\n",
    "# validation set을 제외한 나머지 15000건\n",
    "partial_X_train = X_train[30000:]  \n",
    "partial_y_train = y_train[30000:]\n",
    "\n",
    "print(partial_X_train.shape)\n",
    "print(partial_y_train.shape)\n",
    "X_train[0]"
   ]
  },
  {
   "cell_type": "code",
   "execution_count": 26,
   "metadata": {},
   "outputs": [
    {
     "name": "stdout",
     "output_type": "stream",
     "text": [
      "Model: \"sequential_1\"\n",
      "_________________________________________________________________\n",
      "Layer (type)                 Output Shape              Param #   \n",
      "=================================================================\n",
      "embedding_1 (Embedding)      (None, 41, 200)           2000000   \n",
      "_________________________________________________________________\n",
      "conv1d_2 (Conv1D)            (None, 35, 16)            22416     \n",
      "_________________________________________________________________\n",
      "max_pooling1d_1 (MaxPooling1 (None, 7, 16)             0         \n",
      "_________________________________________________________________\n",
      "conv1d_3 (Conv1D)            (None, 1, 16)             1808      \n",
      "_________________________________________________________________\n",
      "global_max_pooling1d_1 (Glob (None, 16)                0         \n",
      "_________________________________________________________________\n",
      "dense_2 (Dense)              (None, 8)                 136       \n",
      "_________________________________________________________________\n",
      "dense_3 (Dense)              (None, 1)                 9         \n",
      "=================================================================\n",
      "Total params: 2,024,369\n",
      "Trainable params: 2,024,369\n",
      "Non-trainable params: 0\n",
      "_________________________________________________________________\n",
      "Epoch 1/20\n",
      "227/227 [==============================] - 7s 28ms/step - loss: 0.6474 - accuracy: 0.6009 - val_loss: 0.4668 - val_accuracy: 0.7819\n",
      "Epoch 2/20\n",
      "227/227 [==============================] - 6s 27ms/step - loss: 0.4254 - accuracy: 0.8073 - val_loss: 0.3845 - val_accuracy: 0.8282\n",
      "Epoch 3/20\n",
      "227/227 [==============================] - 6s 28ms/step - loss: 0.3446 - accuracy: 0.8527 - val_loss: 0.3677 - val_accuracy: 0.8373\n",
      "Epoch 4/20\n",
      "227/227 [==============================] - 6s 28ms/step - loss: 0.3040 - accuracy: 0.8728 - val_loss: 0.3583 - val_accuracy: 0.8448\n",
      "Epoch 5/20\n",
      "227/227 [==============================] - 6s 27ms/step - loss: 0.2744 - accuracy: 0.8876 - val_loss: 0.3536 - val_accuracy: 0.8483\n",
      "Epoch 6/20\n",
      "227/227 [==============================] - 6s 28ms/step - loss: 0.2490 - accuracy: 0.8998 - val_loss: 0.3613 - val_accuracy: 0.8477\n",
      "Epoch 7/20\n",
      "227/227 [==============================] - 6s 28ms/step - loss: 0.2284 - accuracy: 0.9102 - val_loss: 0.3687 - val_accuracy: 0.8451\n",
      "Epoch 8/20\n",
      "227/227 [==============================] - 6s 27ms/step - loss: 0.2104 - accuracy: 0.9195 - val_loss: 0.3896 - val_accuracy: 0.8466\n",
      "Epoch 9/20\n",
      "227/227 [==============================] - 6s 27ms/step - loss: 0.1877 - accuracy: 0.9308 - val_loss: 0.4207 - val_accuracy: 0.8389\n",
      "Epoch 10/20\n",
      "227/227 [==============================] - 6s 27ms/step - loss: 0.1744 - accuracy: 0.9356 - val_loss: 0.4406 - val_accuracy: 0.8418\n",
      "Epoch 11/20\n",
      "227/227 [==============================] - 6s 28ms/step - loss: 0.1521 - accuracy: 0.9458 - val_loss: 0.4620 - val_accuracy: 0.8406\n",
      "Epoch 12/20\n",
      "227/227 [==============================] - 6s 28ms/step - loss: 0.1329 - accuracy: 0.9532 - val_loss: 0.4877 - val_accuracy: 0.8366\n",
      "Epoch 13/20\n",
      "227/227 [==============================] - 6s 28ms/step - loss: 0.1182 - accuracy: 0.9605 - val_loss: 0.5501 - val_accuracy: 0.8332\n",
      "Epoch 14/20\n",
      "227/227 [==============================] - 6s 28ms/step - loss: 0.1050 - accuracy: 0.9651 - val_loss: 0.5696 - val_accuracy: 0.8347\n",
      "Epoch 15/20\n",
      "227/227 [==============================] - 6s 28ms/step - loss: 0.0923 - accuracy: 0.9702 - val_loss: 0.5918 - val_accuracy: 0.8299\n",
      "Epoch 16/20\n",
      "227/227 [==============================] - 6s 27ms/step - loss: 0.0773 - accuracy: 0.9753 - val_loss: 0.6396 - val_accuracy: 0.8327\n",
      "Epoch 17/20\n",
      "227/227 [==============================] - 6s 28ms/step - loss: 0.0709 - accuracy: 0.9775 - val_loss: 0.6591 - val_accuracy: 0.8337\n",
      "Epoch 18/20\n",
      "227/227 [==============================] - 6s 28ms/step - loss: 0.0658 - accuracy: 0.9792 - val_loss: 0.7332 - val_accuracy: 0.8323\n",
      "Epoch 19/20\n",
      "227/227 [==============================] - 6s 28ms/step - loss: 0.0574 - accuracy: 0.9821 - val_loss: 0.7518 - val_accuracy: 0.8315\n",
      "Epoch 20/20\n",
      "227/227 [==============================] - 6s 28ms/step - loss: 0.0524 - accuracy: 0.9837 - val_loss: 0.8099 - val_accuracy: 0.8302\n"
     ]
    }
   ],
   "source": [
    "from tensorflow.keras.initializers import Constant\n",
    "\n",
    "# vocab_size = 10000    # 어휘 사전의 크기입니다(10,000개의 단어)\n",
    "# word_vector_dim = 200  # 워드 벡터의 차원 수 \n",
    "\n",
    "# 모델 구성\n",
    "model = keras.Sequential()\n",
    "model.add(keras.layers.Embedding(vocab_size, \n",
    "                                 word_vector_dim, \n",
    "                                 embeddings_initializer=Constant(embedding_matrix),  # 카피한 임베딩을 여기서 활용\n",
    "                                 input_length=maxlen, \n",
    "                                 trainable=True))   # trainable을 True로 주면 Fine-tuning\n",
    "model.add(keras.layers.Conv1D(16, 7, activation='relu'))\n",
    "model.add(keras.layers.MaxPooling1D(5))\n",
    "model.add(keras.layers.Conv1D(16, 7, activation='relu'))\n",
    "model.add(keras.layers.GlobalMaxPooling1D())\n",
    "model.add(keras.layers.Dense(8, activation='relu'))\n",
    "model.add(keras.layers.Dense(1, activation='sigmoid')) \n",
    "\n",
    "model.summary()\n",
    "\n",
    "model.compile(optimizer='adam',\n",
    "              loss='binary_crossentropy',\n",
    "              metrics=['accuracy'])\n",
    "\n",
    "history = model.fit(partial_X_train,\n",
    "                    partial_y_train,\n",
    "                    epochs=20,\n",
    "                    batch_size=512,\n",
    "                    validation_data=(X_val,y_val),\n",
    "                    verbose=1)"
   ]
  },
  {
   "cell_type": "code",
   "execution_count": 30,
   "metadata": {},
   "outputs": [
    {
     "name": "stdout",
     "output_type": "stream",
     "text": [
      "dict_keys(['loss', 'accuracy', 'val_loss', 'val_accuracy'])\n"
     ]
    },
    {
     "data": {
      "image/png": "[encoded data removed]",
      "text/plain": [
       "<Figure size 432x288 with 1 Axes>"
      ]
     },
     "metadata": {
      "needs_background": "light"
     },
     "output_type": "display_data"
    },
    {
     "data": {
      "image/png": "[encoded data removed]",
      "text/plain": [
       "<Figure size 432x288 with 1 Axes>"
      ]
     },
     "metadata": {
      "needs_background": "light"
     },
     "output_type": "display_data"
    }
   ],
   "source": [
    "history_dict = history.history\n",
    "print(history_dict.keys()) # epoch에 따른 그래프를 그려볼 수 있는 항목들\n",
    "\n",
    "import matplotlib.pyplot as plt\n",
    "\n",
    "acc = history_dict['accuracy']\n",
    "val_acc = history_dict['val_accuracy']\n",
    "loss = history_dict['loss']\n",
    "val_loss = history_dict['val_loss']\n",
    "\n",
    "epochs = range(1, len(acc) + 1)\n",
    "\n",
    "# \"bo\"는 \"파란색 점\"입니다\n",
    "plt.scatter(epochs, loss, c='b', label='Training loss', s=3)\n",
    "# b는 \"파란 실선\"입니다\n",
    "plt.plot(epochs, val_loss, 'b', label='Validation loss')\n",
    "plt.title('Training and validation loss')\n",
    "plt.xlabel('Epochs')\n",
    "plt.ylabel('Loss')\n",
    "plt.legend()\n",
    "\n",
    "plt.show()\n",
    "# %%\n",
    "plt.clf()   # 그림을 초기화합니다\n",
    "\n",
    "plt.scatter(epochs, acc, c='b',s=3, label='Training acc')\n",
    "plt.plot(epochs, val_acc, 'b', label='Validation acc')\n",
    "plt.title('Training and validation accuracy')\n",
    "plt.xlabel('Epochs')\n",
    "plt.ylabel('Accuracy')\n",
    "plt.legend()\n",
    "\n",
    "plt.show()"
   ]
  },
  {
   "cell_type": "markdown",
   "metadata": {},
   "source": [
    "뭐.. 당연한 얘기겠지만, 이제 층을 바꿔볼 때가 된것이겠죠..?ㅜㅠ\n",
    "패딩의 위치를 바꿔주는 것 만으로는 주목할만한 결과가 나오는 것 같지 않습니다.\n",
    "\n",
    "RNN에서 저희가 배운 것 중에 좋은 LSTM을 사용해보겠습니다."
   ]
  },
  {
   "cell_type": "code",
   "execution_count": 31,
   "metadata": {},
   "outputs": [
    {
     "name": "stdout",
     "output_type": "stream",
     "text": [
      "<BOS>\n",
      "8\n",
      ".\n",
      "(146182, 41) (49157, 41)\n",
      "(116182, 41)\n",
      "(116182,)\n"
     ]
    },
    {
     "data": {
      "text/plain": [
       "array([  0,   0,   0,   0,   0,   0,   0,   0,   0,   0,   0,   0,   0,\n",
       "         0,   0,   0,   0,   0,   0,   0,   0,   0,   0,   0,   0,   0,\n",
       "         0,   0,   0,   0,   0,  32,  74, 919,   4,   4,  39, 228,  20,\n",
       "        33, 748], dtype=int32)"
      ]
     },
     "execution_count": 31,
     "metadata": {},
     "output_type": "execute_result"
    }
   ],
   "source": [
    "\n",
    "X_train, y_train, X_test, y_test, word_to_index = load_data(train_data, test_data)\n",
    "\n",
    "# index로 단어를 찾을 수 있는 해석장치를 만든다.\n",
    "index_to_word = {index:word for word, index in word_to_index.items()}\n",
    "\n",
    "# word_to_index = {k:(v+3) for k,v in word_to_index.items()}\n",
    "# 보통 위의 과정을 거칠 가능성이 높지만, 여기서는 필요하지 않다.(확인결과)\n",
    "\n",
    "\n",
    "# 처음 몇 개 인덱스는 사전에 정의되어 있습니다\n",
    "word_to_index[\"<PAD>\"] = 0\n",
    "word_to_index[\"<BOS>\"] = 1\n",
    "word_to_index[\"<UNK>\"] = 2  # unknown\n",
    "word_to_index[\"<UNUSED>\"] = 3\n",
    "\n",
    "index_to_word = {index:word for word, index in word_to_index.items()}\n",
    "\n",
    "print(index_to_word[1])     # '<BOS>' 가 출력됩니다. \n",
    "print(word_to_index['하'])  # 4 이 출력됩니다. \n",
    "print(index_to_word[4])     # 'the' 가 출력됩니다.\n",
    "\n",
    "\n",
    "\n",
    "X_train = keras.preprocessing.sequence.pad_sequences(X_train,\n",
    "                                                        value=word_to_index[\"<PAD>\"],\n",
    "                                                        padding='pre', # 혹은 'post'\n",
    "                                                        maxlen=maxlen)\n",
    "\n",
    "X_test = keras.preprocessing.sequence.pad_sequences(X_test,\n",
    "                                                       value=word_to_index[\"<PAD>\"],\n",
    "                                                       padding='pre', # 혹은 'post'\n",
    "                                                       maxlen=maxlen)\n",
    "\n",
    "\n",
    "\n",
    "\n",
    "print(X_train.shape,X_test.shape)\n",
    "\n",
    "# validation set 30000건 분리\n",
    "X_val = X_train[:30000]   \n",
    "y_val = y_train[:30000]\n",
    "\n",
    "# validation set을 제외한 나머지 15000건\n",
    "partial_X_train = X_train[30000:]  \n",
    "partial_y_train = y_train[30000:]\n",
    "\n",
    "print(partial_X_train.shape)\n",
    "print(partial_y_train.shape)\n",
    "X_train[0]"
   ]
  },
  {
   "cell_type": "code",
   "execution_count": 35,
   "metadata": {},
   "outputs": [
    {
     "name": "stdout",
     "output_type": "stream",
     "text": [
      "Model: \"sequential_5\"\n",
      "_________________________________________________________________\n",
      "Layer (type)                 Output Shape              Param #   \n",
      "=================================================================\n",
      "embedding_5 (Embedding)      (None, 41, 200)           2000000   \n",
      "_________________________________________________________________\n",
      "lstm_3 (LSTM)                (None, 41, 512)           1460224   \n",
      "_________________________________________________________________\n",
      "global_max_pooling1d_4 (Glob (None, 512)               0         \n",
      "_________________________________________________________________\n",
      "dense_8 (Dense)              (None, 8)                 4104      \n",
      "_________________________________________________________________\n",
      "dense_9 (Dense)              (None, 1)                 9         \n",
      "=================================================================\n",
      "Total params: 3,464,337\n",
      "Trainable params: 3,464,337\n",
      "Non-trainable params: 0\n",
      "_________________________________________________________________\n",
      "Epoch 1/20\n",
      "227/227 [==============================] - 36s 150ms/step - loss: 0.6322 - accuracy: 0.6522 - val_loss: 0.3674 - val_accuracy: 0.8362\n",
      "Epoch 2/20\n",
      "227/227 [==============================] - 34s 151ms/step - loss: 0.3381 - accuracy: 0.8527 - val_loss: 0.3275 - val_accuracy: 0.8554\n",
      "Epoch 3/20\n",
      "227/227 [==============================] - 34s 151ms/step - loss: 0.2683 - accuracy: 0.8886 - val_loss: 0.3049 - val_accuracy: 0.8682\n",
      "Epoch 4/20\n",
      "227/227 [==============================] - 34s 152ms/step - loss: 0.2199 - accuracy: 0.9126 - val_loss: 0.3065 - val_accuracy: 0.8704\n",
      "Epoch 5/20\n",
      "227/227 [==============================] - 35s 153ms/step - loss: 0.1754 - accuracy: 0.9339 - val_loss: 0.3281 - val_accuracy: 0.8694\n",
      "Epoch 6/20\n",
      "227/227 [==============================] - 35s 152ms/step - loss: 0.1286 - accuracy: 0.9555 - val_loss: 0.3631 - val_accuracy: 0.8661\n",
      "Epoch 7/20\n",
      "227/227 [==============================] - 35s 154ms/step - loss: 0.0889 - accuracy: 0.9717 - val_loss: 0.3921 - val_accuracy: 0.8660\n",
      "Epoch 8/20\n",
      "227/227 [==============================] - 35s 153ms/step - loss: 0.0603 - accuracy: 0.9820 - val_loss: 0.4408 - val_accuracy: 0.8630\n",
      "Epoch 9/20\n",
      "227/227 [==============================] - 35s 153ms/step - loss: 0.0419 - accuracy: 0.9882 - val_loss: 0.4905 - val_accuracy: 0.8639\n",
      "Epoch 10/20\n",
      "227/227 [==============================] - 35s 153ms/step - loss: 0.0305 - accuracy: 0.9905 - val_loss: 0.5552 - val_accuracy: 0.8644\n",
      "Epoch 11/20\n",
      "227/227 [==============================] - 35s 153ms/step - loss: 0.0226 - accuracy: 0.9929 - val_loss: 0.5798 - val_accuracy: 0.8616\n",
      "Epoch 12/20\n",
      "227/227 [==============================] - 35s 153ms/step - loss: 0.0207 - accuracy: 0.9936 - val_loss: 0.6338 - val_accuracy: 0.8610\n",
      "Epoch 13/20\n",
      "227/227 [==============================] - 35s 154ms/step - loss: 0.0189 - accuracy: 0.9939 - val_loss: 0.6571 - val_accuracy: 0.8601\n",
      "Epoch 14/20\n",
      "227/227 [==============================] - 35s 153ms/step - loss: 0.0194 - accuracy: 0.9935 - val_loss: 0.6720 - val_accuracy: 0.8605\n",
      "Epoch 15/20\n",
      "227/227 [==============================] - 35s 152ms/step - loss: 0.0183 - accuracy: 0.9937 - val_loss: 0.6930 - val_accuracy: 0.8518\n",
      "Epoch 16/20\n",
      "227/227 [==============================] - 35s 152ms/step - loss: 0.0258 - accuracy: 0.9906 - val_loss: 0.6916 - val_accuracy: 0.8580\n",
      "Epoch 17/20\n",
      "227/227 [==============================] - 35s 152ms/step - loss: 0.0155 - accuracy: 0.9943 - val_loss: 0.7417 - val_accuracy: 0.8608\n",
      "Epoch 18/20\n",
      "227/227 [==============================] - 35s 152ms/step - loss: 0.0106 - accuracy: 0.9960 - val_loss: 0.7673 - val_accuracy: 0.8579\n",
      "Epoch 19/20\n",
      "227/227 [==============================] - 35s 152ms/step - loss: 0.0089 - accuracy: 0.9964 - val_loss: 0.8073 - val_accuracy: 0.8611\n",
      "Epoch 20/20\n",
      "227/227 [==============================] - 35s 152ms/step - loss: 0.0067 - accuracy: 0.9974 - val_loss: 0.8434 - val_accuracy: 0.8609\n"
     ]
    }
   ],
   "source": [
    "# vocab_size = 10000    # 어휘 사전의 크기입니다(10,000개의 단어)\n",
    "# word_vector_dim = 200  # 워드 벡터의 차원 수 \n",
    "hidden_size = 512\n",
    "# 모델 구성\n",
    "model = keras.Sequential()\n",
    "model.add(keras.layers.Embedding(vocab_size, \n",
    "                                 word_vector_dim, \n",
    "                                 embeddings_initializer=Constant(embedding_matrix),  # 카피한 임베딩을 여기서 활용\n",
    "                                 input_length=maxlen, \n",
    "                                 trainable=True))   # trainable을 True로 주면 Fine-tuning\n",
    "model.add(keras.layers.LSTM(hidden_size, return_sequences=True))\n",
    "model.add(keras.layers.GlobalMaxPooling1D())\n",
    "model.add(keras.layers.Dense(8, activation='relu'))\n",
    "model.add(keras.layers.Dense(1, activation='sigmoid')) \n",
    "\n",
    "model.summary()\n",
    "\n",
    "model.compile(optimizer='adam',\n",
    "              loss='binary_crossentropy',\n",
    "              metrics=['accuracy'])\n",
    "\n",
    "history = model.fit(partial_X_train,\n",
    "                    partial_y_train,\n",
    "                    epochs=20,\n",
    "                    batch_size=512,\n",
    "                    validation_data=(X_val,y_val),\n",
    "                    verbose=1)"
   ]
  },
  {
   "cell_type": "code",
   "execution_count": 36,
   "metadata": {},
   "outputs": [
    {
     "name": "stdout",
     "output_type": "stream",
     "text": [
      "1537/1537 - 13s - loss: 0.8670 - accuracy: 0.8589\n",
      "[0.8669962882995605, 0.8588603734970093]\n"
     ]
    }
   ],
   "source": [
    "results = model.evaluate(X_test,  y_test, verbose=2)\n",
    "\n",
    "print(results)"
   ]
  },
  {
   "cell_type": "markdown",
   "metadata": {},
   "source": [
    "val_loss는 올라가지만, val_accuracy는 처음보다는 높게 유지된다. 이것이 무슨 의미일까요? 게다가 val_accuracy와 val_loss가 함께 올라가는 모습을 보여줍니다. 이는 오히려 적절한 학습이 되었음을 나타낸다고 느껴져요. 또 이것만으로는 어느정도의 횟수로 학습시켜야 하는지 알기 어려웠습니다. 사전학습 모델을 사용해서 그런지, 85%는 충분히 도달하는데. 이것이 충분한 수치일까요? 먼저 90%를 넘기고 싶습니다!"
   ]
  },
  {
   "cell_type": "code",
   "execution_count": 37,
   "metadata": {},
   "outputs": [
    {
     "name": "stdout",
     "output_type": "stream",
     "text": [
      "dict_keys(['loss', 'accuracy', 'val_loss', 'val_accuracy'])\n"
     ]
    },
    {
     "data": {
      "image/png": "[encoded data removed]",
      "text/plain": [
       "<Figure size 432x288 with 1 Axes>"
      ]
     },
     "metadata": {
      "needs_background": "light"
     },
     "output_type": "display_data"
    },
    {
     "data": {
      "image/png": "[encoded data removed]",
      "text/plain": [
       "<Figure size 432x288 with 1 Axes>"
      ]
     },
     "metadata": {
      "needs_background": "light"
     },
     "output_type": "display_data"
    }
   ],
   "source": [
    "history_dict = history.history\n",
    "print(history_dict.keys()) # epoch에 따른 그래프를 그려볼 수 있는 항목들\n",
    "\n",
    "import matplotlib.pyplot as plt\n",
    "\n",
    "acc = history_dict['accuracy']\n",
    "val_acc = history_dict['val_accuracy']\n",
    "loss = history_dict['loss']\n",
    "val_loss = history_dict['val_loss']\n",
    "\n",
    "epochs = range(1, len(acc) + 1)\n",
    "\n",
    "# \"bo\"는 \"파란색 점\"입니다\n",
    "plt.scatter(epochs, loss, c='b', label='Training loss', s=3)\n",
    "# b는 \"파란 실선\"입니다\n",
    "plt.plot(epochs, val_loss, 'b', label='Validation loss')\n",
    "plt.title('Training and validation loss')\n",
    "plt.xlabel('Epochs')\n",
    "plt.ylabel('Loss')\n",
    "plt.legend()\n",
    "\n",
    "plt.show()\n",
    "# %%\n",
    "plt.clf()   # 그림을 초기화합니다\n",
    "\n",
    "plt.scatter(epochs, acc, c='b',s=3, label='Training acc')\n",
    "plt.plot(epochs, val_acc, 'b', label='Validation acc')\n",
    "plt.title('Training and validation accuracy')\n",
    "plt.xlabel('Epochs')\n",
    "plt.ylabel('Accuracy')\n",
    "plt.legend()\n",
    "\n",
    "plt.show()"
   ]
  },
  {
   "cell_type": "markdown",
   "metadata": {},
   "source": [
    "여기서 정말 dropout이 앙상블 효과를 일으키는지 알아보고 싶군요.(지금까지 다들 효과있다고 하는데, 저만 못느꼈어요..!)"
   ]
  },
  {
   "cell_type": "code",
   "execution_count": 46,
   "metadata": {},
   "outputs": [
    {
     "name": "stdout",
     "output_type": "stream",
     "text": [
      "Model: \"sequential_14\"\n",
      "_________________________________________________________________\n",
      "Layer (type)                 Output Shape              Param #   \n",
      "=================================================================\n",
      "embedding_14 (Embedding)     (None, 41, 200)           2000000   \n",
      "_________________________________________________________________\n",
      "lstm_20 (LSTM)               (None, 41, 256)           467968    \n",
      "_________________________________________________________________\n",
      "global_max_pooling1d_13 (Glo (None, 256)               0         \n",
      "_________________________________________________________________\n",
      "dense_26 (Dense)             (None, 8)                 2056      \n",
      "_________________________________________________________________\n",
      "dense_27 (Dense)             (None, 1)                 9         \n",
      "=================================================================\n",
      "Total params: 2,470,033\n",
      "Trainable params: 2,470,033\n",
      "Non-trainable params: 0\n",
      "_________________________________________________________________\n",
      "Epoch 1/10\n",
      "227/227 [==============================] - 19s 76ms/step - loss: 0.5461 - accuracy: 0.7095 - val_loss: 0.3686 - val_accuracy: 0.8355\n",
      "Epoch 2/10\n",
      "227/227 [==============================] - 17s 75ms/step - loss: 0.3323 - accuracy: 0.8570 - val_loss: 0.3301 - val_accuracy: 0.8550\n",
      "Epoch 3/10\n",
      "227/227 [==============================] - 17s 74ms/step - loss: 0.2724 - accuracy: 0.8876 - val_loss: 0.3074 - val_accuracy: 0.8665\n",
      "Epoch 4/10\n",
      "227/227 [==============================] - 17s 75ms/step - loss: 0.2394 - accuracy: 0.9024 - val_loss: 0.3095 - val_accuracy: 0.8672\n",
      "Epoch 5/10\n",
      "227/227 [==============================] - 18s 79ms/step - loss: 0.2011 - accuracy: 0.9213 - val_loss: 0.3210 - val_accuracy: 0.8675\n",
      "Epoch 6/10\n",
      "227/227 [==============================] - 17s 75ms/step - loss: 0.1647 - accuracy: 0.9378 - val_loss: 0.3413 - val_accuracy: 0.8639\n",
      "Epoch 7/10\n",
      "227/227 [==============================] - 17s 75ms/step - loss: 0.1266 - accuracy: 0.9568 - val_loss: 0.3647 - val_accuracy: 0.8627\n",
      "Epoch 8/10\n",
      "227/227 [==============================] - 17s 76ms/step - loss: 0.0960 - accuracy: 0.9693 - val_loss: 0.4231 - val_accuracy: 0.8574\n",
      "Epoch 9/10\n",
      "227/227 [==============================] - 17s 75ms/step - loss: 0.0695 - accuracy: 0.9791 - val_loss: 0.4594 - val_accuracy: 0.8568\n",
      "Epoch 10/10\n",
      "227/227 [==============================] - 17s 76ms/step - loss: 0.0536 - accuracy: 0.9838 - val_loss: 0.5054 - val_accuracy: 0.8578\n"
     ]
    }
   ],
   "source": [
    "# vocab_size = 10000    # 어휘 사전의 크기입니다(10,000개의 단어)\n",
    "# word_vector_dim = 200  # 워드 벡터의 차원 수 \n",
    "hidden_size = 256\n",
    "# 모델 구성\n",
    "model = keras.Sequential()\n",
    "model.add(keras.layers.Embedding(vocab_size, \n",
    "                                 word_vector_dim, \n",
    "                                 embeddings_initializer=Constant(embedding_matrix),  # 카피한 임베딩을 여기서 활용\n",
    "                                 input_length=maxlen, \n",
    "                                 trainable=True))   # trainable을 True로 주면 Fine-tuning\n",
    "model.add(keras.layers.LSTM(hidden_size, return_sequences=True))\n",
    "model.add(keras.layers.GlobalMaxPooling1D())\n",
    "model.add(keras.layers.Dense(8, activation='relu'))\n",
    "model.add(keras.layers.Dense(1, activation='sigmoid')) \n",
    "\n",
    "model.summary()\n",
    "\n",
    "model.compile(optimizer='adam',\n",
    "              loss='binary_crossentropy',\n",
    "              metrics=['accuracy'])\n",
    "\n",
    "history = model.fit(partial_X_train,\n",
    "                    partial_y_train,\n",
    "                    epochs=10,\n",
    "                    batch_size=512,\n",
    "                    validation_data=(X_val,y_val),\n",
    "                    verbose=1)"
   ]
  },
  {
   "cell_type": "code",
   "execution_count": 47,
   "metadata": {},
   "outputs": [
    {
     "name": "stdout",
     "output_type": "stream",
     "text": [
      "dict_keys(['loss', 'accuracy', 'val_loss', 'val_accuracy'])\n"
     ]
    },
    {
     "data": {
      "image/png": "[encoded data removed]",
      "text/plain": [
       "<Figure size 432x288 with 1 Axes>"
      ]
     },
     "metadata": {
      "needs_background": "light"
     },
     "output_type": "display_data"
    },
    {
     "data": {
      "image/png": "[encoded data removed]",
      "text/plain": [
       "<Figure size 432x288 with 1 Axes>"
      ]
     },
     "metadata": {
      "needs_background": "light"
     },
     "output_type": "display_data"
    }
   ],
   "source": [
    "history_dict = history.history\n",
    "print(history_dict.keys()) # epoch에 따른 그래프를 그려볼 수 있는 항목들\n",
    "\n",
    "import matplotlib.pyplot as plt\n",
    "\n",
    "acc = history_dict['accuracy']\n",
    "val_acc = history_dict['val_accuracy']\n",
    "loss = history_dict['loss']\n",
    "val_loss = history_dict['val_loss']\n",
    "\n",
    "epochs = range(1, len(acc) + 1)\n",
    "\n",
    "# \"bo\"는 \"파란색 점\"입니다\n",
    "plt.scatter(epochs, loss, c='b', label='Training loss', s=3)\n",
    "# b는 \"파란 실선\"입니다\n",
    "plt.plot(epochs, val_loss, 'b', label='Validation loss')\n",
    "plt.title('Training and validation loss')\n",
    "plt.xlabel('Epochs')\n",
    "plt.ylabel('Loss')\n",
    "plt.legend()\n",
    "\n",
    "plt.show()\n",
    "# %%\n",
    "plt.clf()   # 그림을 초기화합니다\n",
    "\n",
    "plt.scatter(epochs, acc, c='b',s=3, label='Training acc')\n",
    "plt.plot(epochs, val_acc, 'b', label='Validation acc')\n",
    "plt.title('Training and validation accuracy')\n",
    "plt.xlabel('Epochs')\n",
    "plt.ylabel('Accuracy')\n",
    "plt.legend()\n",
    "\n",
    "plt.show()"
   ]
  },
  {
   "cell_type": "code",
   "execution_count": 49,
   "metadata": {},
   "outputs": [
    {
     "name": "stdout",
     "output_type": "stream",
     "text": [
      "Model: \"sequential_16\"\n",
      "_________________________________________________________________\n",
      "Layer (type)                 Output Shape              Param #   \n",
      "=================================================================\n",
      "embedding_16 (Embedding)     (None, 41, 200)           2000000   \n",
      "_________________________________________________________________\n",
      "spatial_dropout1d_7 (Spatial (None, 41, 200)           0         \n",
      "_________________________________________________________________\n",
      "lstm_21 (LSTM)               (None, 41, 256)           467968    \n",
      "_________________________________________________________________\n",
      "global_max_pooling1d_14 (Glo (None, 256)               0         \n",
      "_________________________________________________________________\n",
      "dense_28 (Dense)             (None, 8)                 2056      \n",
      "_________________________________________________________________\n",
      "dense_29 (Dense)             (None, 1)                 9         \n",
      "=================================================================\n",
      "Total params: 2,470,033\n",
      "Trainable params: 2,470,033\n",
      "Non-trainable params: 0\n",
      "_________________________________________________________________\n",
      "Epoch 1/10\n",
      "227/227 [==============================] - 19s 77ms/step - loss: 0.6124 - accuracy: 0.6523 - val_loss: 0.4239 - val_accuracy: 0.8017\n",
      "Epoch 2/10\n",
      "227/227 [==============================] - 17s 76ms/step - loss: 0.4379 - accuracy: 0.7944 - val_loss: 0.3478 - val_accuracy: 0.8450\n",
      "Epoch 3/10\n",
      "227/227 [==============================] - 17s 75ms/step - loss: 0.3661 - accuracy: 0.8360 - val_loss: 0.3278 - val_accuracy: 0.8566\n",
      "Epoch 4/10\n",
      "227/227 [==============================] - 17s 77ms/step - loss: 0.3427 - accuracy: 0.8485 - val_loss: 0.3157 - val_accuracy: 0.8638\n",
      "Epoch 5/10\n",
      "227/227 [==============================] - 18s 77ms/step - loss: 0.3188 - accuracy: 0.8611 - val_loss: 0.3224 - val_accuracy: 0.8616\n",
      "Epoch 6/10\n",
      "227/227 [==============================] - 17s 75ms/step - loss: 0.3054 - accuracy: 0.8684 - val_loss: 0.3149 - val_accuracy: 0.8653\n",
      "Epoch 7/10\n",
      "227/227 [==============================] - 17s 77ms/step - loss: 0.2937 - accuracy: 0.8748 - val_loss: 0.3101 - val_accuracy: 0.8670\n",
      "Epoch 8/10\n",
      "227/227 [==============================] - 17s 76ms/step - loss: 0.2813 - accuracy: 0.8814 - val_loss: 0.3112 - val_accuracy: 0.8685\n",
      "Epoch 9/10\n",
      "227/227 [==============================] - 17s 77ms/step - loss: 0.2758 - accuracy: 0.8819 - val_loss: 0.3102 - val_accuracy: 0.8695\n",
      "Epoch 10/10\n",
      "227/227 [==============================] - 18s 78ms/step - loss: 0.2664 - accuracy: 0.8874 - val_loss: 0.3107 - val_accuracy: 0.8718\n"
     ]
    }
   ],
   "source": [
    "# vocab_size = 10000    # 어휘 사전의 크기입니다(10,000개의 단어)\n",
    "# word_vector_dim = 200  # 워드 벡터의 차원 수 \n",
    "hidden_size = 256\n",
    "# 모델 구성\n",
    "model = keras.Sequential()\n",
    "model.add(keras.layers.Embedding(vocab_size, \n",
    "                                 word_vector_dim, \n",
    "                                 embeddings_initializer=Constant(embedding_matrix),  # 카피한 임베딩을 여기서 활용\n",
    "                                 input_length=maxlen, \n",
    "                                 trainable=True))   # trainable을 True로 주면 Fine-tuning\n",
    "model.add(keras.layers.SpatialDropout1D(0.5))\n",
    "model.add(keras.layers.LSTM(hidden_size, return_sequences=True))\n",
    "model.add(keras.layers.GlobalMaxPooling1D())\n",
    "model.add(keras.layers.Dense(8, activation='relu'))\n",
    "model.add(keras.layers.Dense(1, activation='sigmoid')) \n",
    "\n",
    "model.summary()\n",
    "\n",
    "model.compile(optimizer='adam',\n",
    "              loss='binary_crossentropy',\n",
    "              metrics=['accuracy'])\n",
    "\n",
    "history = model.fit(partial_X_train,\n",
    "                    partial_y_train,\n",
    "                    epochs=10,\n",
    "                    batch_size=512,\n",
    "                    validation_data=(X_val,y_val),\n",
    "                    verbose=1)"
   ]
  },
  {
   "cell_type": "markdown",
   "metadata": {},
   "source": [
    "87%의 벽을 넘었습니다..! dropout을 써도 상황도 나아지지 않고, 뭐가 문제인가 고민하던 참에, 오버피팅을 막아주기 위해 입력값에 바로 dropout을 쓰는 건 어떨까 과감한 선택을 해보자는 생각을 했어요. 일단 당장 결과는 나왔는데, 이게 제 삶에도 의미가 있었으면 좋겠군요ㅎㅎ\n"
   ]
  },
  {
   "cell_type": "code",
   "execution_count": 50,
   "metadata": {},
   "outputs": [
    {
     "name": "stdout",
     "output_type": "stream",
     "text": [
      "1537/1537 - 8s - loss: 0.3185 - accuracy: 0.8699\n",
      "[0.3184969127178192, 0.8698862791061401]\n"
     ]
    }
   ],
   "source": [
    "results = model.evaluate(X_test,  y_test, verbose=2)\n",
    "\n",
    "print(results)"
   ]
  },
  {
   "cell_type": "markdown",
   "metadata": {},
   "source": [
    "또 더 학습이 될만한 양상을 보이고 있습니다. 한번 epochs를 늘려 다시 시도해보겠습니다."
   ]
  },
  {
   "cell_type": "code",
   "execution_count": 51,
   "metadata": {},
   "outputs": [
    {
     "name": "stdout",
     "output_type": "stream",
     "text": [
      "Model: \"sequential_17\"\n",
      "_________________________________________________________________\n",
      "Layer (type)                 Output Shape              Param #   \n",
      "=================================================================\n",
      "embedding_17 (Embedding)     (None, 41, 200)           2000000   \n",
      "_________________________________________________________________\n",
      "spatial_dropout1d_8 (Spatial (None, 41, 200)           0         \n",
      "_________________________________________________________________\n",
      "lstm_22 (LSTM)               (None, 41, 256)           467968    \n",
      "_________________________________________________________________\n",
      "global_max_pooling1d_15 (Glo (None, 256)               0         \n",
      "_________________________________________________________________\n",
      "dense_30 (Dense)             (None, 8)                 2056      \n",
      "_________________________________________________________________\n",
      "dense_31 (Dense)             (None, 1)                 9         \n",
      "=================================================================\n",
      "Total params: 2,470,033\n",
      "Trainable params: 2,470,033\n",
      "Non-trainable params: 0\n",
      "_________________________________________________________________\n",
      "Epoch 1/20\n",
      "227/227 [==============================] - 20s 77ms/step - loss: 0.6521 - accuracy: 0.5917 - val_loss: 0.4350 - val_accuracy: 0.7977\n",
      "Epoch 2/20\n",
      "227/227 [==============================] - 17s 75ms/step - loss: 0.4471 - accuracy: 0.7898 - val_loss: 0.3540 - val_accuracy: 0.8420\n",
      "Epoch 3/20\n",
      "227/227 [==============================] - 17s 76ms/step - loss: 0.3754 - accuracy: 0.8306 - val_loss: 0.3333 - val_accuracy: 0.8536\n",
      "Epoch 4/20\n",
      "227/227 [==============================] - 17s 75ms/step - loss: 0.3428 - accuracy: 0.8476 - val_loss: 0.3214 - val_accuracy: 0.8617\n",
      "Epoch 5/20\n",
      "227/227 [==============================] - 17s 77ms/step - loss: 0.3209 - accuracy: 0.8601 - val_loss: 0.3127 - val_accuracy: 0.8674\n",
      "Epoch 6/20\n",
      "227/227 [==============================] - 17s 77ms/step - loss: 0.3044 - accuracy: 0.8691 - val_loss: 0.3114 - val_accuracy: 0.8680\n",
      "Epoch 7/20\n",
      "227/227 [==============================] - 17s 76ms/step - loss: 0.2923 - accuracy: 0.8744 - val_loss: 0.3167 - val_accuracy: 0.8699\n",
      "Epoch 8/20\n",
      "227/227 [==============================] - 17s 76ms/step - loss: 0.2819 - accuracy: 0.8799 - val_loss: 0.3088 - val_accuracy: 0.8703\n",
      "Epoch 9/20\n",
      "227/227 [==============================] - 17s 75ms/step - loss: 0.2738 - accuracy: 0.8835 - val_loss: 0.3055 - val_accuracy: 0.8729\n",
      "Epoch 10/20\n",
      "227/227 [==============================] - 18s 77ms/step - loss: 0.2659 - accuracy: 0.8888 - val_loss: 0.3114 - val_accuracy: 0.8728\n",
      "Epoch 11/20\n",
      "227/227 [==============================] - 18s 79ms/step - loss: 0.2539 - accuracy: 0.8936 - val_loss: 0.3091 - val_accuracy: 0.8724\n",
      "Epoch 12/20\n",
      "227/227 [==============================] - 17s 75ms/step - loss: 0.2527 - accuracy: 0.8955 - val_loss: 0.3150 - val_accuracy: 0.8720\n",
      "Epoch 13/20\n",
      "227/227 [==============================] - 18s 78ms/step - loss: 0.2456 - accuracy: 0.8984 - val_loss: 0.3177 - val_accuracy: 0.8735\n",
      "Epoch 14/20\n",
      "227/227 [==============================] - 17s 76ms/step - loss: 0.2403 - accuracy: 0.8993 - val_loss: 0.3190 - val_accuracy: 0.8732\n",
      "Epoch 15/20\n",
      "227/227 [==============================] - 17s 77ms/step - loss: 0.2287 - accuracy: 0.9049 - val_loss: 0.3225 - val_accuracy: 0.8735\n",
      "Epoch 16/20\n",
      "227/227 [==============================] - 18s 80ms/step - loss: 0.2243 - accuracy: 0.9068 - val_loss: 0.3239 - val_accuracy: 0.8715\n",
      "Epoch 17/20\n",
      "227/227 [==============================] - 17s 75ms/step - loss: 0.2172 - accuracy: 0.9096 - val_loss: 0.3284 - val_accuracy: 0.8731\n",
      "Epoch 18/20\n",
      "227/227 [==============================] - 17s 76ms/step - loss: 0.2132 - accuracy: 0.9118 - val_loss: 0.3336 - val_accuracy: 0.8724\n",
      "Epoch 19/20\n",
      "227/227 [==============================] - 18s 78ms/step - loss: 0.2108 - accuracy: 0.9127 - val_loss: 0.3348 - val_accuracy: 0.8726\n",
      "Epoch 20/20\n",
      "227/227 [==============================] - 18s 80ms/step - loss: 0.2046 - accuracy: 0.9157 - val_loss: 0.3311 - val_accuracy: 0.8719\n"
     ]
    }
   ],
   "source": [
    "# vocab_size = 10000    # 어휘 사전의 크기입니다(10,000개의 단어)\n",
    "# word_vector_dim = 200  # 워드 벡터의 차원 수 \n",
    "hidden_size = 256\n",
    "# 모델 구성\n",
    "model = keras.Sequential()\n",
    "model.add(keras.layers.Embedding(vocab_size, \n",
    "                                 word_vector_dim, \n",
    "                                 embeddings_initializer=Constant(embedding_matrix),  # 카피한 임베딩을 여기서 활용\n",
    "                                 input_length=maxlen, \n",
    "                                 trainable=True))   # trainable을 True로 주면 Fine-tuning\n",
    "model.add(keras.layers.SpatialDropout1D(0.5))\n",
    "model.add(keras.layers.LSTM(hidden_size, return_sequences=True))\n",
    "model.add(keras.layers.GlobalMaxPooling1D())\n",
    "model.add(keras.layers.Dense(8, activation='relu'))\n",
    "model.add(keras.layers.Dense(1, activation='sigmoid')) \n",
    "\n",
    "model.summary()\n",
    "\n",
    "model.compile(optimizer='adam',\n",
    "              loss='binary_crossentropy',\n",
    "              metrics=['accuracy'])\n",
    "\n",
    "history = model.fit(partial_X_train,\n",
    "                    partial_y_train,\n",
    "                    epochs=20,\n",
    "                    batch_size=512,\n",
    "                    validation_data=(X_val,y_val),\n",
    "                    verbose=1)"
   ]
  },
  {
   "cell_type": "code",
   "execution_count": 52,
   "metadata": {},
   "outputs": [
    {
     "name": "stdout",
     "output_type": "stream",
     "text": [
      "1537/1537 - 8s - loss: 0.3413 - accuracy: 0.8689\n",
      "[0.3413069248199463, 0.8689301609992981]\n"
     ]
    }
   ],
   "source": [
    "results = model.evaluate(X_test,  y_test, verbose=2)\n",
    "\n",
    "print(results)"
   ]
  },
  {
   "cell_type": "code",
   "execution_count": 53,
   "metadata": {},
   "outputs": [
    {
     "name": "stdout",
     "output_type": "stream",
     "text": [
      "dict_keys(['loss', 'accuracy', 'val_loss', 'val_accuracy'])\n"
     ]
    },
    {
     "data": {
      "image/png": "[encoded data removed]",
      "text/plain": [
       "<Figure size 432x288 with 1 Axes>"
      ]
     },
     "metadata": {
      "needs_background": "light"
     },
     "output_type": "display_data"
    },
    {
     "data": {
      "image/png": "[encoded data removed]",
      "text/plain": [
       "<Figure size 432x288 with 1 Axes>"
      ]
     },
     "metadata": {
      "needs_background": "light"
     },
     "output_type": "display_data"
    }
   ],
   "source": [
    "history_dict = history.history\n",
    "print(history_dict.keys()) # epoch에 따른 그래프를 그려볼 수 있는 항목들\n",
    "\n",
    "import matplotlib.pyplot as plt\n",
    "\n",
    "acc = history_dict['accuracy']\n",
    "val_acc = history_dict['val_accuracy']\n",
    "loss = history_dict['loss']\n",
    "val_loss = history_dict['val_loss']\n",
    "\n",
    "epochs = range(1, len(acc) + 1)\n",
    "\n",
    "# \"bo\"는 \"파란색 점\"입니다\n",
    "plt.scatter(epochs, loss, c='b', label='Training loss', s=3)\n",
    "# b는 \"파란 실선\"입니다\n",
    "plt.plot(epochs, val_loss, 'b', label='Validation loss')\n",
    "plt.title('Training and validation loss')\n",
    "plt.xlabel('Epochs')\n",
    "plt.ylabel('Loss')\n",
    "plt.legend()\n",
    "\n",
    "plt.show()\n",
    "# %%\n",
    "plt.clf()   # 그림을 초기화합니다\n",
    "\n",
    "plt.scatter(epochs, acc, c='b',s=3, label='Training acc')\n",
    "plt.plot(epochs, val_acc, 'b', label='Validation acc')\n",
    "plt.title('Training and validation accuracy')\n",
    "plt.xlabel('Epochs')\n",
    "plt.ylabel('Accuracy')\n",
    "plt.legend()\n",
    "\n",
    "plt.show()"
   ]
  },
  {
   "cell_type": "code",
   "execution_count": 54,
   "metadata": {},
   "outputs": [
    {
     "name": "stdout",
     "output_type": "stream",
     "text": [
      "Model: \"sequential_18\"\n",
      "_________________________________________________________________\n",
      "Layer (type)                 Output Shape              Param #   \n",
      "=================================================================\n",
      "embedding_18 (Embedding)     (None, 41, 200)           2000000   \n",
      "_________________________________________________________________\n",
      "spatial_dropout1d_9 (Spatial (None, 41, 200)           0         \n",
      "_________________________________________________________________\n",
      "lstm_23 (LSTM)               (None, 41, 400)           961600    \n",
      "_________________________________________________________________\n",
      "spatial_dropout1d_10 (Spatia (None, 41, 400)           0         \n",
      "_________________________________________________________________\n",
      "lstm_24 (LSTM)               (None, 41, 400)           1281600   \n",
      "_________________________________________________________________\n",
      "global_max_pooling1d_16 (Glo (None, 400)               0         \n",
      "_________________________________________________________________\n",
      "dense_32 (Dense)             (None, 8)                 3208      \n",
      "_________________________________________________________________\n",
      "dense_33 (Dense)             (None, 1)                 9         \n",
      "=================================================================\n",
      "Total params: 4,246,417\n",
      "Trainable params: 4,246,417\n",
      "Non-trainable params: 0\n",
      "_________________________________________________________________\n",
      "Epoch 1/20\n",
      "227/227 [==============================] - 57s 240ms/step - loss: 0.6221 - accuracy: 0.6189 - val_loss: 0.4235 - val_accuracy: 0.8043\n",
      "Epoch 2/20\n",
      "227/227 [==============================] - 54s 239ms/step - loss: 0.4318 - accuracy: 0.7990 - val_loss: 0.3455 - val_accuracy: 0.8489\n",
      "Epoch 3/20\n",
      "227/227 [==============================] - 55s 240ms/step - loss: 0.3633 - accuracy: 0.8373 - val_loss: 0.3271 - val_accuracy: 0.8597\n",
      "Epoch 4/20\n",
      "227/227 [==============================] - 55s 240ms/step - loss: 0.3346 - accuracy: 0.8535 - val_loss: 0.3140 - val_accuracy: 0.8651\n",
      "Epoch 5/20\n",
      "227/227 [==============================] - 55s 242ms/step - loss: 0.3118 - accuracy: 0.8646 - val_loss: 0.3162 - val_accuracy: 0.8668\n",
      "Epoch 6/20\n",
      "227/227 [==============================] - 55s 241ms/step - loss: 0.2989 - accuracy: 0.8713 - val_loss: 0.3209 - val_accuracy: 0.8656\n",
      "Epoch 7/20\n",
      "227/227 [==============================] - 54s 239ms/step - loss: 0.2884 - accuracy: 0.8778 - val_loss: 0.3052 - val_accuracy: 0.8715\n",
      "Epoch 8/20\n",
      "227/227 [==============================] - 54s 239ms/step - loss: 0.2737 - accuracy: 0.8835 - val_loss: 0.3083 - val_accuracy: 0.8722\n",
      "Epoch 9/20\n",
      "227/227 [==============================] - 54s 239ms/step - loss: 0.2637 - accuracy: 0.8891 - val_loss: 0.3158 - val_accuracy: 0.8728\n",
      "Epoch 10/20\n",
      "227/227 [==============================] - 54s 239ms/step - loss: 0.2554 - accuracy: 0.8923 - val_loss: 0.3158 - val_accuracy: 0.8747\n",
      "Epoch 11/20\n",
      "227/227 [==============================] - 55s 241ms/step - loss: 0.2476 - accuracy: 0.8971 - val_loss: 0.3164 - val_accuracy: 0.8770\n",
      "Epoch 12/20\n",
      "227/227 [==============================] - 55s 240ms/step - loss: 0.2370 - accuracy: 0.9015 - val_loss: 0.3188 - val_accuracy: 0.8769\n",
      "Epoch 13/20\n",
      "227/227 [==============================] - 54s 239ms/step - loss: 0.2321 - accuracy: 0.9042 - val_loss: 0.3273 - val_accuracy: 0.8748\n",
      "Epoch 14/20\n",
      "227/227 [==============================] - 54s 238ms/step - loss: 0.2201 - accuracy: 0.9097 - val_loss: 0.3225 - val_accuracy: 0.8758\n",
      "Epoch 15/20\n",
      "227/227 [==============================] - 54s 238ms/step - loss: 0.2140 - accuracy: 0.9123 - val_loss: 0.3340 - val_accuracy: 0.8753\n",
      "Epoch 16/20\n",
      "227/227 [==============================] - 54s 238ms/step - loss: 0.2081 - accuracy: 0.9145 - val_loss: 0.3407 - val_accuracy: 0.8729\n",
      "Epoch 17/20\n",
      "227/227 [==============================] - 54s 239ms/step - loss: 0.2039 - accuracy: 0.9165 - val_loss: 0.3458 - val_accuracy: 0.8755\n",
      "Epoch 18/20\n",
      "227/227 [==============================] - 54s 239ms/step - loss: 0.1949 - accuracy: 0.9199 - val_loss: 0.3443 - val_accuracy: 0.8739\n",
      "Epoch 19/20\n",
      "227/227 [==============================] - 55s 240ms/step - loss: 0.1916 - accuracy: 0.9221 - val_loss: 0.3568 - val_accuracy: 0.8747\n",
      "Epoch 20/20\n",
      "227/227 [==============================] - 54s 240ms/step - loss: 0.1873 - accuracy: 0.9240 - val_loss: 0.3713 - val_accuracy: 0.8752\n"
     ]
    }
   ],
   "source": [
    "# vocab_size = 10000    # 어휘 사전의 크기입니다(10,000개의 단어)\n",
    "# word_vector_dim = 200  # 워드 벡터의 차원 수 \n",
    "hidden_size = 400\n",
    "# 모델 구성\n",
    "model = keras.Sequential()\n",
    "model.add(keras.layers.Embedding(vocab_size, \n",
    "                                 word_vector_dim, \n",
    "                                 embeddings_initializer=Constant(embedding_matrix),  # 카피한 임베딩을 여기서 활용\n",
    "                                 input_length=maxlen, \n",
    "                                 trainable=True))   # trainable을 True로 주면 Fine-tuning\n",
    "model.add(keras.layers.SpatialDropout1D(0.5))\n",
    "model.add(keras.layers.LSTM(hidden_size, return_sequences=True))\n",
    "model.add(keras.layers.SpatialDropout1D(0.5))\n",
    "model.add(keras.layers.LSTM(hidden_size, return_sequences=True))\n",
    "model.add(keras.layers.GlobalMaxPooling1D())\n",
    "model.add(keras.layers.Dense(8, activation='relu'))\n",
    "model.add(keras.layers.Dense(1, activation='sigmoid')) \n",
    "\n",
    "model.summary()\n",
    "\n",
    "model.compile(optimizer='adam',\n",
    "              loss='binary_crossentropy',\n",
    "              metrics=['accuracy'])\n",
    "\n",
    "history = model.fit(partial_X_train,\n",
    "                    partial_y_train,\n",
    "                    epochs=20,\n",
    "                    batch_size=512,\n",
    "                    validation_data=(X_val,y_val),\n",
    "                    verbose=1)"
   ]
  },
  {
   "cell_type": "code",
   "execution_count": 55,
   "metadata": {},
   "outputs": [
    {
     "name": "stdout",
     "output_type": "stream",
     "text": [
      "1537/1537 - 19s - loss: 0.3812 - accuracy: 0.8701\n",
      "[0.3811790645122528, 0.8700897097587585]\n",
      "dict_keys(['loss', 'accuracy', 'val_loss', 'val_accuracy'])\n"
     ]
    },
    {
     "data": {
      "image/png": "[encoded data removed]",
      "text/plain": [
       "<Figure size 432x288 with 1 Axes>"
      ]
     },
     "metadata": {
      "needs_background": "light"
     },
     "output_type": "display_data"
    },
    {
     "data": {
      "image/png": "[encoded data removed]",
      "text/plain": [
       "<Figure size 432x288 with 1 Axes>"
      ]
     },
     "metadata": {
      "needs_background": "light"
     },
     "output_type": "display_data"
    }
   ],
   "source": [
    "results = model.evaluate(X_test,  y_test, verbose=2)\n",
    "\n",
    "print(results)\n",
    "\n",
    "history_dict = history.history\n",
    "print(history_dict.keys()) # epoch에 따른 그래프를 그려볼 수 있는 항목들\n",
    "\n",
    "import matplotlib.pyplot as plt\n",
    "\n",
    "acc = history_dict['accuracy']\n",
    "val_acc = history_dict['val_accuracy']\n",
    "loss = history_dict['loss']\n",
    "val_loss = history_dict['val_loss']\n",
    "\n",
    "epochs = range(1, len(acc) + 1)\n",
    "\n",
    "# \"bo\"는 \"파란색 점\"입니다\n",
    "plt.scatter(epochs, loss, c='b', label='Training loss', s=3)\n",
    "# b는 \"파란 실선\"입니다\n",
    "plt.plot(epochs, val_loss, 'b', label='Validation loss')\n",
    "plt.title('Training and validation loss')\n",
    "plt.xlabel('Epochs')\n",
    "plt.ylabel('Loss')\n",
    "plt.legend()\n",
    "\n",
    "plt.show()\n",
    "# %%\n",
    "plt.clf()   # 그림을 초기화합니다\n",
    "\n",
    "plt.scatter(epochs, acc, c='b',s=3, label='Training acc')\n",
    "plt.plot(epochs, val_acc, 'b', label='Validation acc')\n",
    "plt.title('Training and validation accuracy')\n",
    "plt.xlabel('Epochs')\n",
    "plt.ylabel('Accuracy')\n",
    "plt.legend()\n",
    "\n",
    "plt.show()"
   ]
  },
  {
   "cell_type": "code",
   "execution_count": 57,
   "metadata": {},
   "outputs": [
    {
     "name": "stdout",
     "output_type": "stream",
     "text": [
      "Model: \"sequential_20\"\n",
      "_________________________________________________________________\n",
      "Layer (type)                 Output Shape              Param #   \n",
      "=================================================================\n",
      "embedding_20 (Embedding)     (None, 41, 200)           2000000   \n",
      "_________________________________________________________________\n",
      "spatial_dropout1d_14 (Spatia (None, 41, 200)           0         \n",
      "_________________________________________________________________\n",
      "lstm_28 (LSTM)               (None, 41, 400)           961600    \n",
      "_________________________________________________________________\n",
      "spatial_dropout1d_15 (Spatia (None, 41, 400)           0         \n",
      "_________________________________________________________________\n",
      "lstm_29 (LSTM)               (None, 41, 400)           1281600   \n",
      "_________________________________________________________________\n",
      "spatial_dropout1d_16 (Spatia (None, 41, 400)           0         \n",
      "_________________________________________________________________\n",
      "lstm_30 (LSTM)               (None, 41, 400)           1281600   \n",
      "_________________________________________________________________\n",
      "global_max_pooling1d_18 (Glo (None, 400)               0         \n",
      "_________________________________________________________________\n",
      "dense_36 (Dense)             (None, 8)                 3208      \n",
      "_________________________________________________________________\n",
      "dense_37 (Dense)             (None, 1)                 9         \n",
      "=================================================================\n",
      "Total params: 5,528,017\n",
      "Trainable params: 5,528,017\n",
      "Non-trainable params: 0\n",
      "_________________________________________________________________\n",
      "Epoch 1/30\n",
      "227/227 [==============================] - 81s 338ms/step - loss: 0.6934 - accuracy: 0.5020 - val_loss: 0.6931 - val_accuracy: 0.5024\n",
      "Epoch 2/30\n",
      "227/227 [==============================] - 75s 332ms/step - loss: 0.6932 - accuracy: 0.5009 - val_loss: 0.6931 - val_accuracy: 0.5024\n",
      "Epoch 3/30\n",
      "227/227 [==============================] - 76s 333ms/step - loss: 0.6932 - accuracy: 0.4987 - val_loss: 0.6931 - val_accuracy: 0.5024\n",
      "Epoch 4/30\n",
      "227/227 [==============================] - 76s 334ms/step - loss: 0.6931 - accuracy: 0.5015 - val_loss: 0.6931 - val_accuracy: 0.5024\n",
      "Epoch 5/30\n",
      "227/227 [==============================] - 76s 334ms/step - loss: 0.6932 - accuracy: 0.4991 - val_loss: 0.6931 - val_accuracy: 0.5024\n",
      "Epoch 6/30\n",
      "227/227 [==============================] - 75s 332ms/step - loss: 0.6931 - accuracy: 0.5030 - val_loss: 0.6931 - val_accuracy: 0.5024\n",
      "Epoch 7/30\n",
      "227/227 [==============================] - 76s 333ms/step - loss: 0.6931 - accuracy: 0.5038 - val_loss: 0.6931 - val_accuracy: 0.5024\n",
      "Epoch 8/30\n",
      "227/227 [==============================] - 76s 334ms/step - loss: 0.6931 - accuracy: 0.4977 - val_loss: 0.6931 - val_accuracy: 0.5024\n",
      "Epoch 9/30\n",
      "227/227 [==============================] - 76s 335ms/step - loss: 0.6932 - accuracy: 0.4981 - val_loss: 0.6931 - val_accuracy: 0.5024\n",
      "Epoch 10/30\n",
      "227/227 [==============================] - 75s 331ms/step - loss: 0.6931 - accuracy: 0.5001 - val_loss: 0.6931 - val_accuracy: 0.5024\n",
      "Epoch 11/30\n",
      "227/227 [==============================] - 75s 331ms/step - loss: 0.6931 - accuracy: 0.5025 - val_loss: 0.6931 - val_accuracy: 0.5024\n",
      "Epoch 12/30\n",
      "227/227 [==============================] - 75s 332ms/step - loss: 0.6931 - accuracy: 0.5013 - val_loss: 0.6931 - val_accuracy: 0.5024\n",
      "Epoch 13/30\n",
      "227/227 [==============================] - 75s 332ms/step - loss: 0.6931 - accuracy: 0.5022 - val_loss: 0.6931 - val_accuracy: 0.5024\n",
      "Epoch 14/30\n",
      "227/227 [==============================] - 75s 330ms/step - loss: 0.6931 - accuracy: 0.5027 - val_loss: 0.6931 - val_accuracy: 0.5024\n",
      "Epoch 15/30\n",
      "227/227 [==============================] - 75s 331ms/step - loss: 0.6931 - accuracy: 0.5037 - val_loss: 0.6931 - val_accuracy: 0.4976\n",
      "Epoch 16/30\n",
      "227/227 [==============================] - 75s 329ms/step - loss: 0.6931 - accuracy: 0.4980 - val_loss: 0.6931 - val_accuracy: 0.5024\n",
      "Epoch 17/30\n",
      "227/227 [==============================] - 75s 332ms/step - loss: 0.6932 - accuracy: 0.4976 - val_loss: 0.6931 - val_accuracy: 0.5024\n",
      "Epoch 18/30\n",
      "227/227 [==============================] - 76s 334ms/step - loss: 0.6931 - accuracy: 0.5041 - val_loss: 0.6931 - val_accuracy: 0.4976\n",
      "Epoch 19/30\n",
      "227/227 [==============================] - 76s 335ms/step - loss: 0.6932 - accuracy: 0.4984 - val_loss: 0.6931 - val_accuracy: 0.5024\n",
      "Epoch 20/30\n",
      "227/227 [==============================] - 75s 331ms/step - loss: 0.6931 - accuracy: 0.5018 - val_loss: 0.6931 - val_accuracy: 0.5024\n",
      "Epoch 21/30\n",
      "227/227 [==============================] - 76s 333ms/step - loss: 0.6931 - accuracy: 0.5037 - val_loss: 0.6931 - val_accuracy: 0.5024\n",
      "Epoch 22/30\n",
      "227/227 [==============================] - 76s 333ms/step - loss: 0.6932 - accuracy: 0.4996 - val_loss: 0.6931 - val_accuracy: 0.5024\n",
      "Epoch 23/30\n",
      "227/227 [==============================] - 76s 334ms/step - loss: 0.6932 - accuracy: 0.4998 - val_loss: 0.6931 - val_accuracy: 0.5024\n",
      "Epoch 24/30\n",
      "227/227 [==============================] - 76s 335ms/step - loss: 0.6931 - accuracy: 0.5046 - val_loss: 0.6931 - val_accuracy: 0.4976\n",
      "Epoch 25/30\n",
      "227/227 [==============================] - 76s 334ms/step - loss: 0.6932 - accuracy: 0.4985 - val_loss: 0.6931 - val_accuracy: 0.5024\n",
      "Epoch 26/30\n",
      "227/227 [==============================] - 75s 332ms/step - loss: 0.6932 - accuracy: 0.5010 - val_loss: 0.6931 - val_accuracy: 0.5024\n",
      "Epoch 27/30\n",
      "227/227 [==============================] - 76s 334ms/step - loss: 0.6932 - accuracy: 0.5012 - val_loss: 0.6931 - val_accuracy: 0.5024\n",
      "Epoch 28/30\n",
      "227/227 [==============================] - 75s 332ms/step - loss: 0.6932 - accuracy: 0.5001 - val_loss: 0.6931 - val_accuracy: 0.5024\n",
      "Epoch 29/30\n",
      "227/227 [==============================] - 76s 333ms/step - loss: 0.6931 - accuracy: 0.5011 - val_loss: 0.6931 - val_accuracy: 0.5024\n",
      "Epoch 30/30\n",
      "227/227 [==============================] - 76s 334ms/step - loss: 0.6931 - accuracy: 0.5020 - val_loss: 0.6931 - val_accuracy: 0.5024\n"
     ]
    }
   ],
   "source": [
    "# vocab_size = 10000    # 어휘 사전의 크기입니다(10,000개의 단어)\n",
    "# word_vector_dim = 200  # 워드 벡터의 차원 수 \n",
    "hidden_size = 400\n",
    "# 모델 구성\n",
    "model = keras.Sequential()\n",
    "model.add(keras.layers.Embedding(vocab_size, \n",
    "                                 word_vector_dim, \n",
    "                                 embeddings_initializer=Constant(embedding_matrix),  # 카피한 임베딩을 여기서 활용\n",
    "                                 input_length=maxlen, \n",
    "                                 trainable=True))   # trainable을 True로 주면 Fine-tuning\n",
    "model.add(keras.layers.SpatialDropout1D(0.5))\n",
    "model.add(keras.layers.LSTM(hidden_size, return_sequences=True))\n",
    "model.add(keras.layers.SpatialDropout1D(0.5))\n",
    "model.add(keras.layers.LSTM(hidden_size, return_sequences=True))\n",
    "model.add(keras.layers.SpatialDropout1D(0.5))\n",
    "model.add(keras.layers.LSTM(hidden_size, return_sequences=True))\n",
    "model.add(keras.layers.GlobalMaxPooling1D())\n",
    "model.add(keras.layers.Dense(8, activation='relu'))\n",
    "model.add(keras.layers.Dense(1, activation='sigmoid')) \n",
    "\n",
    "model.summary()\n",
    "\n",
    "model.compile(optimizer='adam',\n",
    "              loss='binary_crossentropy',\n",
    "              metrics=['accuracy'])\n",
    "\n",
    "history = model.fit(partial_X_train,\n",
    "                    partial_y_train,\n",
    "                    epochs=30,\n",
    "                    batch_size=512,\n",
    "                    validation_data=(X_val,y_val),\n",
    "                    verbose=1)"
   ]
  },
  {
   "cell_type": "code",
   "execution_count": 16,
   "metadata": {},
   "outputs": [
    {
     "name": "stdout",
     "output_type": "stream",
     "text": [
      "Model: \"sequential_1\"\n",
      "_________________________________________________________________\n",
      "Layer (type)                 Output Shape              Param #   \n",
      "=================================================================\n",
      "embedding (Embedding)        (None, 41, 200)           2000000   \n",
      "_________________________________________________________________\n",
      "spatial_dropout1d (SpatialDr (None, 41, 200)           0         \n",
      "_________________________________________________________________\n",
      "lstm (LSTM)                  (None, 41, 100)           120400    \n",
      "_________________________________________________________________\n",
      "spatial_dropout1d_1 (Spatial (None, 41, 100)           0         \n",
      "_________________________________________________________________\n",
      "lstm_1 (LSTM)                (None, 41, 100)           80400     \n",
      "_________________________________________________________________\n",
      "spatial_dropout1d_2 (Spatial (None, 41, 100)           0         \n",
      "_________________________________________________________________\n",
      "lstm_2 (LSTM)                (None, 41, 100)           80400     \n",
      "_________________________________________________________________\n",
      "global_max_pooling1d (Global (None, 100)               0         \n",
      "_________________________________________________________________\n",
      "dense (Dense)                (None, 8)                 808       \n",
      "_________________________________________________________________\n",
      "dense_1 (Dense)              (None, 1)                 9         \n",
      "=================================================================\n",
      "Total params: 2,282,017\n",
      "Trainable params: 2,282,017\n",
      "Non-trainable params: 0\n",
      "_________________________________________________________________\n",
      "Epoch 1/30\n",
      "227/227 [==============================] - 27s 93ms/step - loss: 0.6782 - accuracy: 0.5385 - val_loss: 0.4664 - val_accuracy: 0.7824\n",
      "Epoch 2/30\n",
      "227/227 [==============================] - 20s 87ms/step - loss: 0.4850 - accuracy: 0.7662 - val_loss: 0.3809 - val_accuracy: 0.8315\n",
      "Epoch 3/30\n",
      "227/227 [==============================] - 20s 87ms/step - loss: 0.4076 - accuracy: 0.8148 - val_loss: 0.3524 - val_accuracy: 0.8478\n",
      "Epoch 4/30\n",
      "227/227 [==============================] - 20s 87ms/step - loss: 0.3719 - accuracy: 0.8346 - val_loss: 0.3405 - val_accuracy: 0.8546\n",
      "Epoch 5/30\n",
      "227/227 [==============================] - 20s 87ms/step - loss: 0.3531 - accuracy: 0.8442 - val_loss: 0.3353 - val_accuracy: 0.8537\n",
      "Epoch 6/30\n",
      "227/227 [==============================] - 20s 87ms/step - loss: 0.3397 - accuracy: 0.8507 - val_loss: 0.3232 - val_accuracy: 0.8614\n",
      "Epoch 7/30\n",
      "227/227 [==============================] - 20s 87ms/step - loss: 0.3260 - accuracy: 0.8595 - val_loss: 0.3168 - val_accuracy: 0.8634\n",
      "Epoch 8/30\n",
      "227/227 [==============================] - 20s 87ms/step - loss: 0.3165 - accuracy: 0.8639 - val_loss: 0.3217 - val_accuracy: 0.8663\n",
      "Epoch 9/30\n",
      "227/227 [==============================] - 20s 87ms/step - loss: 0.3105 - accuracy: 0.8672 - val_loss: 0.3149 - val_accuracy: 0.8679\n",
      "Epoch 10/30\n",
      "227/227 [==============================] - 20s 89ms/step - loss: 0.3042 - accuracy: 0.8695 - val_loss: 0.3239 - val_accuracy: 0.8669\n",
      "Epoch 11/30\n",
      "227/227 [==============================] - 20s 87ms/step - loss: 0.2964 - accuracy: 0.8735 - val_loss: 0.3185 - val_accuracy: 0.8675\n",
      "Epoch 12/30\n",
      "227/227 [==============================] - 20s 87ms/step - loss: 0.2959 - accuracy: 0.8752 - val_loss: 0.3190 - val_accuracy: 0.8680\n",
      "Epoch 13/30\n",
      "227/227 [==============================] - 20s 87ms/step - loss: 0.2877 - accuracy: 0.8785 - val_loss: 0.3300 - val_accuracy: 0.8693\n",
      "Epoch 14/30\n",
      "227/227 [==============================] - 20s 88ms/step - loss: 0.2831 - accuracy: 0.8809 - val_loss: 0.3222 - val_accuracy: 0.8677\n",
      "Epoch 15/30\n",
      "227/227 [==============================] - 20s 87ms/step - loss: 0.2772 - accuracy: 0.8841 - val_loss: 0.3184 - val_accuracy: 0.8708\n",
      "Epoch 16/30\n",
      "227/227 [==============================] - 20s 87ms/step - loss: 0.2765 - accuracy: 0.8831 - val_loss: 0.3341 - val_accuracy: 0.8709\n",
      "Epoch 17/30\n",
      "227/227 [==============================] - 20s 87ms/step - loss: 0.2720 - accuracy: 0.8863 - val_loss: 0.3253 - val_accuracy: 0.8700\n",
      "Epoch 18/30\n",
      "227/227 [==============================] - 20s 87ms/step - loss: 0.2658 - accuracy: 0.8892 - val_loss: 0.3256 - val_accuracy: 0.8710\n",
      "Epoch 19/30\n",
      "227/227 [==============================] - 20s 87ms/step - loss: 0.2607 - accuracy: 0.8908 - val_loss: 0.3323 - val_accuracy: 0.8726\n",
      "Epoch 20/30\n",
      "227/227 [==============================] - 20s 87ms/step - loss: 0.2576 - accuracy: 0.8939 - val_loss: 0.3249 - val_accuracy: 0.8724\n",
      "Epoch 21/30\n",
      "227/227 [==============================] - 20s 87ms/step - loss: 0.2518 - accuracy: 0.8954 - val_loss: 0.3180 - val_accuracy: 0.8727\n",
      "Epoch 22/30\n",
      "227/227 [==============================] - 20s 87ms/step - loss: 0.2526 - accuracy: 0.8949 - val_loss: 0.3259 - val_accuracy: 0.8717\n",
      "Epoch 23/30\n",
      "227/227 [==============================] - 20s 87ms/step - loss: 0.2467 - accuracy: 0.8970 - val_loss: 0.3288 - val_accuracy: 0.8714\n",
      "Epoch 24/30\n",
      "227/227 [==============================] - 20s 87ms/step - loss: 0.2438 - accuracy: 0.8991 - val_loss: 0.3310 - val_accuracy: 0.8725\n",
      "Epoch 25/30\n",
      "227/227 [==============================] - 20s 89ms/step - loss: 0.2446 - accuracy: 0.8997 - val_loss: 0.3335 - val_accuracy: 0.8721\n",
      "Epoch 26/30\n",
      "227/227 [==============================] - 20s 87ms/step - loss: 0.2407 - accuracy: 0.9007 - val_loss: 0.3302 - val_accuracy: 0.8727\n",
      "Epoch 27/30\n",
      "227/227 [==============================] - 20s 87ms/step - loss: 0.2382 - accuracy: 0.9015 - val_loss: 0.3487 - val_accuracy: 0.8707\n",
      "Epoch 28/30\n",
      "227/227 [==============================] - 20s 87ms/step - loss: 0.2359 - accuracy: 0.9022 - val_loss: 0.3290 - val_accuracy: 0.8725\n",
      "Epoch 29/30\n",
      "227/227 [==============================] - 20s 86ms/step - loss: 0.2306 - accuracy: 0.9055 - val_loss: 0.3404 - val_accuracy: 0.8712\n",
      "Epoch 30/30\n",
      "227/227 [==============================] - 20s 86ms/step - loss: 0.2283 - accuracy: 0.9063 - val_loss: 0.3439 - val_accuracy: 0.8719\n"
     ]
    }
   ],
   "source": [
    "from tensorflow.keras.initializers import Constant\n",
    "# vocab_size = 10000    # 어휘 사전의 크기입니다(10,000개의 단어)\n",
    "# word_vector_dim = 200  # 워드 벡터의 차원 수 \n",
    "hidden_size = 100\n",
    "# 모델 구성\n",
    "model = keras.Sequential()\n",
    "model.add(keras.layers.Embedding(vocab_size, \n",
    "                                 word_vector_dim, \n",
    "                                 embeddings_initializer=Constant(embedding_matrix),  # 카피한 임베딩을 여기서 활용\n",
    "                                 input_length=maxlen, \n",
    "                                 trainable=True))   # trainable을 True로 주면 Fine-tuning\n",
    "model.add(keras.layers.SpatialDropout1D(0.5))\n",
    "model.add(keras.layers.LSTM(hidden_size, return_sequences=True))\n",
    "model.add(keras.layers.SpatialDropout1D(0.5))\n",
    "model.add(keras.layers.LSTM(hidden_size, return_sequences=True))\n",
    "model.add(keras.layers.SpatialDropout1D(0.5))\n",
    "model.add(keras.layers.LSTM(hidden_size, return_sequences=True))\n",
    "model.add(keras.layers.GlobalMaxPooling1D())\n",
    "model.add(keras.layers.Dense(8, activation='relu'))\n",
    "model.add(keras.layers.Dense(1, activation='sigmoid')) \n",
    "\n",
    "model.summary()\n",
    "\n",
    "model.compile(optimizer='adam',\n",
    "              loss='binary_crossentropy',\n",
    "              metrics=['accuracy'])\n",
    "\n",
    "history = model.fit(partial_X_train,\n",
    "                    partial_y_train,\n",
    "                    epochs=30,\n",
    "                    batch_size=512,\n",
    "                    validation_data=(X_val,y_val),\n",
    "                    verbose=1)"
   ]
  },
  {
   "cell_type": "code",
   "execution_count": 17,
   "metadata": {},
   "outputs": [
    {
     "name": "stdout",
     "output_type": "stream",
     "text": [
      "1537/1537 - 14s - loss: 0.3495 - accuracy: 0.8691\n",
      "[0.3494800329208374, 0.8690522313117981]\n",
      "dict_keys(['loss', 'accuracy', 'val_loss', 'val_accuracy'])\n"
     ]
    },
    {
     "data": {
      "image/png": "[encoded data removed]",
      "text/plain": [
       "<Figure size 432x288 with 1 Axes>"
      ]
     },
     "metadata": {
      "needs_background": "light"
     },
     "output_type": "display_data"
    },
    {
     "data": {
      "image/png": "[encoded data removed]",
      "text/plain": [
       "<Figure size 432x288 with 1 Axes>"
      ]
     },
     "metadata": {
      "needs_background": "light"
     },
     "output_type": "display_data"
    }
   ],
   "source": [
    "results = model.evaluate(X_test,  y_test, verbose=2)\n",
    "\n",
    "print(results)\n",
    "\n",
    "history_dict = history.history\n",
    "print(history_dict.keys()) # epoch에 따른 그래프를 그려볼 수 있는 항목들\n",
    "\n",
    "import matplotlib.pyplot as plt\n",
    "\n",
    "acc = history_dict['accuracy']\n",
    "val_acc = history_dict['val_accuracy']\n",
    "loss = history_dict['loss']\n",
    "val_loss = history_dict['val_loss']\n",
    "\n",
    "epochs = range(1, len(acc) + 1)\n",
    "\n",
    "# \"bo\"는 \"파란색 점\"입니다\n",
    "plt.scatter(epochs, loss, c='b', label='Training loss', s=3)\n",
    "# b는 \"파란 실선\"입니다\n",
    "plt.plot(epochs, val_loss, 'b', label='Validation loss')\n",
    "plt.title('Training and validation loss')\n",
    "plt.xlabel('Epochs')\n",
    "plt.ylabel('Loss')\n",
    "plt.legend()\n",
    "\n",
    "plt.show()\n",
    "# %%\n",
    "plt.clf()   # 그림을 초기화합니다\n",
    "\n",
    "plt.scatter(epochs, acc, c='b',s=3, label='Training acc')\n",
    "plt.plot(epochs, val_acc, 'b', label='Validation acc')\n",
    "plt.title('Training and validation accuracy')\n",
    "plt.xlabel('Epochs')\n",
    "plt.ylabel('Accuracy')\n",
    "plt.legend()\n",
    "\n",
    "plt.show()"
   ]
  },
  {
   "cell_type": "code",
   "execution_count": null,
   "metadata": {},
   "outputs": [],
   "source": []
  }
 ],
 "metadata": {
  "kernelspec": {
   "display_name": "Python 3",
   "language": "python",
   "name": "python3"
  },
  "language_info": {
   "codemirror_mode": {
    "name": "ipython",
    "version": 3
   },
   "file_extension": ".py",
   "mimetype": "text/x-python",
   "name": "python",
   "nbconvert_exporter": "python",
   "pygments_lexer": "ipython3",
   "version": "3.7.9"
  }
 },
 "nbformat": 4,
 "nbformat_minor": 2
}
