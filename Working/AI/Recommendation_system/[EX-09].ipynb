{
 "cells": [
  {
   "cell_type": "markdown",
   "source": [
    "Recommendation system\n",
    "=\n",
    "\n",
    "> ## 목차\n",
    "> ---\n",
    "> ### 1. 목표 및 의의   \n",
    "> ### 2. 이론 [go](#3-이론)\n",
    ">   > 1 Filtering       \n",
    ">   > 2 Matrix Factorization \n",
    ">\n",
    "> ### 3. 코드 분석 [go](#4-코드-분석)\n",
    ">   > [0 코드 흐름](#0-코드-흐름)   \n",
    ">   > [1 데이터 준비](#1-데이터-준비)    \n",
    ">   > [2 추천시스템 만들기](#2-추천시스템-만들기)   \n",
    ">   > [3 모델 평가](#3-모델-평가)   \n",
    "> ### 4. 아쉬운 점 [go](#5-아쉬운-점)\n",
    "\n",
    "<br><br><br>\n",
    "\n",
    "\n",
    "- - - -\n",
    "\n",
    "# 1. 목표 및 의의\n",
    "\n",
    "### 1) csr Matrix에 대해서 이해하고 활용한다.\n",
    "\n",
    "### 2) 추천시스템의 원리를 이해하고, 성과를 얻어본다.\n",
    "\n",
    "<br><br><br>\n",
    "\n",
    "- - - - \n",
    "# 2. 이론\n",
    "\n",
    "### 1) Filtering\n",
    "  - Collaborative filtering\n",
    " 소비자의 구매 습성을 분석해서, 소비자 군을 구분한다고 생각할 수 있다. 콘텐츠를 구분하지 않아도 추천할 수 있다는 장점을 가지고 있다.  \n",
    "\n",
    "  - Content-based filtering\n",
    " 콘텐츠 기반의 추천이다. 새로 나온 상품도 해당 상품의 정보만 있으면, 바로 추천시스템에 적용할 수 있어진다.\n",
    "\n",
    "\n",
    "\n",
    "### 2) Model-based Collaborative Filtering algorithm: 모델 기반 협력 필터링\n",
    " \n",
    "\n",
    " - Matrix Fatorization \n",
    "\n",
    " 필터링을 위해서는 결국 방대한 양의 소비 정보가 필요합니다. 이를 위해, 아마존은 사용자의 검색내역, 구매내역을 사용하였고, 다양한 플렛폼에서 동일한 일을하려고, 소비자들의 데이터를 수집하고 있습니다.\n",
    "\n",
    " CSR matrix 로 용량을 줄여줄 필요가 있습니다.\n",
    " ![image](data/matrix_factorization.png)\n",
    "\n",
    "\n",
    " 이번 프로젝트에서는 Matrix Factorization 모델을 implicit 패키지를 사용하여 학습해보겠습니다.\n",
    "\n",
    " implicit 패키지는 이전 스텝에서 설명한 암묵적(implicit) dataset을 사용하는 다양한 모델을 굉장히 빠르게 학습할 수 있는 패키지입니다.\n",
    " 이 패키지에 구현된 als(AlternatingLeastSquares) 모델을 사용하겠습니다. Matrix Factorization에서 쪼개진 두 Feature Matrix를 한꺼번에 훈련하는 것은 잘 수렴하지 않기 때문에, 한쪽을 고정시키고 다른 쪽을 학습하는 방식을 번갈아 수행하는 AlternatingLeastSquares 방식이 효과적인 것으로 알려져 있습니다.   \n",
    " [implicit패키지](https://github.com/benfred/implicit)\n",
    "\n",
    "\n",
    "\n",
    " 이러한 필터링에도 문제는 있습니다. 다음으로는 추천시스템의 한계, 현 시점에 대해서 논해보도록 하겠습니다. (본 프로젝트로만 접근했을 경우의 한계점입니다.)\n",
    "\n",
    "### 3) 추천시스템의 한계\n",
    " - Cold Start   \n",
    " Cold Start는 의미 그대로, '새로 시작할 때의 곤란함'을 의미합니다. 바로, 새로 생긴 매체, 장르, 콘텐츠에 대해서는 충분한 정보가 쌓이기 까지 추천대상에 언급될 수 없다는 것입니다. 새로운 대상을 소개하는 항목을 만들어서, 소비자가 직접 탐색하고 원하는 것을 찾아보고 고를 수 있도록 유도하는 부가적인 시스템이 필요할 것이라고 생각이 듭니다. 다행히도 이 문제는 콘텐츠를 기반으로 하는 필터링과, 모델 기반 필터링에서 다소 해결됩니다.\n",
    "\n",
    " - Filter bubble    \n",
    " 얻는 것이 있으면 잃는 것이 있다고 하던가요? 추천 시스템은 방대한 정보의 홍수속에서 우리가 원하는 정보를 보다 쉽게 찾도록 만들어줍니다. 이러한 강점으로 상업적으로 전 분야에서는 추천 시스템이 점점 활성화되어가고 있습니다. 하지만 이런 환경 덕에 우리는 상품을 선택함에 있어 평소에 택하던 것과 다른 것을 둘러볼 기회를 다소 잃어버릴 가능성이 있습니다. 이러한 문제는 스스로의 노력으로 보다 다양한 사례를 접할 수 있도록 노력하는 것이 필요할 것입니다.     \n",
    " 또 이런 문제점이 정치적 성향과 결합될 경우, 스스로의 노력으로도 극복되기 어려우며, 정치적 양극화를 초래할 위험이 크다는 문제가 있습니다. 이러한 문제를 잘 고려하여, 추천시스템을 개발할 필요가 있습니다.\n",
    "\n",
    "\n",
    "<br><br><br><br>\n",
    "\n",
    "- - - -\n",
    "# 3. 코드 분석\n",
    "\n",
    "## 0) 코드 흐름\n",
    "\n",
    "### 먼저 데이터를 분석해서 알아보도록 하겠습니다. 오늘 활용할 데이터는 ml-1m으로 알려져있는 영화 평점 데이터입니다.\n",
    "### 이어서 데이터 전처리로써 평점에 대한 CSR matrix를 만들어서 모델학습에 활용할 것입니다."
   ],
   "metadata": {}
  },
  {
   "cell_type": "markdown",
   "source": [
    "## 1) 데이터 준비\n",
    "\n",
    "### 이제 영화데이터를 가져와, 추천시스템을 만들어보도록 하겠습니다.\n"
   ],
   "metadata": {}
  },
  {
   "cell_type": "code",
   "execution_count": 1,
   "source": [
    "import numpy as np\n",
    "import pandas as pd\n",
    "import warnings\n",
    "warnings.filterwarnings('ignore')\n",
    "path = 'data/ml-1m/'\n",
    "movie_col = ['movieID', 'Title', 'genre']\n",
    "movie_data = pd.read_csv(path+'movies.dat',delimiter='::',encoding='ISO-8859-1',names=movie_col)\n",
    "\n",
    "movie_data.head(10)\n",
    "\n"
   ],
   "outputs": [
    {
     "output_type": "execute_result",
     "data": {
      "text/html": [
       "<div>\n",
       "<style scoped>\n",
       "    .dataframe tbody tr th:only-of-type {\n",
       "        vertical-align: middle;\n",
       "    }\n",
       "\n",
       "    .dataframe tbody tr th {\n",
       "        vertical-align: top;\n",
       "    }\n",
       "\n",
       "    .dataframe thead th {\n",
       "        text-align: right;\n",
       "    }\n",
       "</style>\n",
       "<table border=\"1\" class=\"dataframe\">\n",
       "  <thead>\n",
       "    <tr style=\"text-align: right;\">\n",
       "      <th></th>\n",
       "      <th>movieID</th>\n",
       "      <th>Title</th>\n",
       "      <th>genre</th>\n",
       "    </tr>\n",
       "  </thead>\n",
       "  <tbody>\n",
       "    <tr>\n",
       "      <th>0</th>\n",
       "      <td>1</td>\n",
       "      <td>Toy Story (1995)</td>\n",
       "      <td>Animation|Children's|Comedy</td>\n",
       "    </tr>\n",
       "    <tr>\n",
       "      <th>1</th>\n",
       "      <td>2</td>\n",
       "      <td>Jumanji (1995)</td>\n",
       "      <td>Adventure|Children's|Fantasy</td>\n",
       "    </tr>\n",
       "    <tr>\n",
       "      <th>2</th>\n",
       "      <td>3</td>\n",
       "      <td>Grumpier Old Men (1995)</td>\n",
       "      <td>Comedy|Romance</td>\n",
       "    </tr>\n",
       "    <tr>\n",
       "      <th>3</th>\n",
       "      <td>4</td>\n",
       "      <td>Waiting to Exhale (1995)</td>\n",
       "      <td>Comedy|Drama</td>\n",
       "    </tr>\n",
       "    <tr>\n",
       "      <th>4</th>\n",
       "      <td>5</td>\n",
       "      <td>Father of the Bride Part II (1995)</td>\n",
       "      <td>Comedy</td>\n",
       "    </tr>\n",
       "    <tr>\n",
       "      <th>5</th>\n",
       "      <td>6</td>\n",
       "      <td>Heat (1995)</td>\n",
       "      <td>Action|Crime|Thriller</td>\n",
       "    </tr>\n",
       "    <tr>\n",
       "      <th>6</th>\n",
       "      <td>7</td>\n",
       "      <td>Sabrina (1995)</td>\n",
       "      <td>Comedy|Romance</td>\n",
       "    </tr>\n",
       "    <tr>\n",
       "      <th>7</th>\n",
       "      <td>8</td>\n",
       "      <td>Tom and Huck (1995)</td>\n",
       "      <td>Adventure|Children's</td>\n",
       "    </tr>\n",
       "    <tr>\n",
       "      <th>8</th>\n",
       "      <td>9</td>\n",
       "      <td>Sudden Death (1995)</td>\n",
       "      <td>Action</td>\n",
       "    </tr>\n",
       "    <tr>\n",
       "      <th>9</th>\n",
       "      <td>10</td>\n",
       "      <td>GoldenEye (1995)</td>\n",
       "      <td>Action|Adventure|Thriller</td>\n",
       "    </tr>\n",
       "  </tbody>\n",
       "</table>\n",
       "</div>"
      ],
      "text/plain": [
       "   movieID                               Title                         genre\n",
       "0        1                    Toy Story (1995)   Animation|Children's|Comedy\n",
       "1        2                      Jumanji (1995)  Adventure|Children's|Fantasy\n",
       "2        3             Grumpier Old Men (1995)                Comedy|Romance\n",
       "3        4            Waiting to Exhale (1995)                  Comedy|Drama\n",
       "4        5  Father of the Bride Part II (1995)                        Comedy\n",
       "5        6                         Heat (1995)         Action|Crime|Thriller\n",
       "6        7                      Sabrina (1995)                Comedy|Romance\n",
       "7        8                 Tom and Huck (1995)          Adventure|Children's\n",
       "8        9                 Sudden Death (1995)                        Action\n",
       "9       10                    GoldenEye (1995)     Action|Adventure|Thriller"
      ]
     },
     "metadata": {},
     "execution_count": 1
    }
   ],
   "metadata": {}
  },
  {
   "cell_type": "code",
   "execution_count": 2,
   "source": [
    "rating_col = 'UserID::MovieID::Rating::Timestamp'.split('::')\n",
    "rating_data = pd.read_csv(path+'ratings.dat',delimiter='::',encoding='ISO-8859-1',names=rating_col)\n",
    "\n",
    "rating_data.head(10)"
   ],
   "outputs": [
    {
     "output_type": "execute_result",
     "data": {
      "text/html": [
       "<div>\n",
       "<style scoped>\n",
       "    .dataframe tbody tr th:only-of-type {\n",
       "        vertical-align: middle;\n",
       "    }\n",
       "\n",
       "    .dataframe tbody tr th {\n",
       "        vertical-align: top;\n",
       "    }\n",
       "\n",
       "    .dataframe thead th {\n",
       "        text-align: right;\n",
       "    }\n",
       "</style>\n",
       "<table border=\"1\" class=\"dataframe\">\n",
       "  <thead>\n",
       "    <tr style=\"text-align: right;\">\n",
       "      <th></th>\n",
       "      <th>UserID</th>\n",
       "      <th>MovieID</th>\n",
       "      <th>Rating</th>\n",
       "      <th>Timestamp</th>\n",
       "    </tr>\n",
       "  </thead>\n",
       "  <tbody>\n",
       "    <tr>\n",
       "      <th>0</th>\n",
       "      <td>1</td>\n",
       "      <td>1193</td>\n",
       "      <td>5</td>\n",
       "      <td>978300760</td>\n",
       "    </tr>\n",
       "    <tr>\n",
       "      <th>1</th>\n",
       "      <td>1</td>\n",
       "      <td>661</td>\n",
       "      <td>3</td>\n",
       "      <td>978302109</td>\n",
       "    </tr>\n",
       "    <tr>\n",
       "      <th>2</th>\n",
       "      <td>1</td>\n",
       "      <td>914</td>\n",
       "      <td>3</td>\n",
       "      <td>978301968</td>\n",
       "    </tr>\n",
       "    <tr>\n",
       "      <th>3</th>\n",
       "      <td>1</td>\n",
       "      <td>3408</td>\n",
       "      <td>4</td>\n",
       "      <td>978300275</td>\n",
       "    </tr>\n",
       "    <tr>\n",
       "      <th>4</th>\n",
       "      <td>1</td>\n",
       "      <td>2355</td>\n",
       "      <td>5</td>\n",
       "      <td>978824291</td>\n",
       "    </tr>\n",
       "    <tr>\n",
       "      <th>5</th>\n",
       "      <td>1</td>\n",
       "      <td>1197</td>\n",
       "      <td>3</td>\n",
       "      <td>978302268</td>\n",
       "    </tr>\n",
       "    <tr>\n",
       "      <th>6</th>\n",
       "      <td>1</td>\n",
       "      <td>1287</td>\n",
       "      <td>5</td>\n",
       "      <td>978302039</td>\n",
       "    </tr>\n",
       "    <tr>\n",
       "      <th>7</th>\n",
       "      <td>1</td>\n",
       "      <td>2804</td>\n",
       "      <td>5</td>\n",
       "      <td>978300719</td>\n",
       "    </tr>\n",
       "    <tr>\n",
       "      <th>8</th>\n",
       "      <td>1</td>\n",
       "      <td>594</td>\n",
       "      <td>4</td>\n",
       "      <td>978302268</td>\n",
       "    </tr>\n",
       "    <tr>\n",
       "      <th>9</th>\n",
       "      <td>1</td>\n",
       "      <td>919</td>\n",
       "      <td>4</td>\n",
       "      <td>978301368</td>\n",
       "    </tr>\n",
       "  </tbody>\n",
       "</table>\n",
       "</div>"
      ],
      "text/plain": [
       "   UserID  MovieID  Rating  Timestamp\n",
       "0       1     1193       5  978300760\n",
       "1       1      661       3  978302109\n",
       "2       1      914       3  978301968\n",
       "3       1     3408       4  978300275\n",
       "4       1     2355       5  978824291\n",
       "5       1     1197       3  978302268\n",
       "6       1     1287       5  978302039\n",
       "7       1     2804       5  978300719\n",
       "8       1      594       4  978302268\n",
       "9       1      919       4  978301368"
      ]
     },
     "metadata": {},
     "execution_count": 2
    }
   ],
   "metadata": {}
  },
  {
   "cell_type": "markdown",
   "source": [
    "위에서 Timestamp는 소비자가 언제 영화를 봤는지를 알려줍니다. 한번 알기 쉬운 날짜로 바꿔볼까요?\n"
   ],
   "metadata": {}
  },
  {
   "cell_type": "code",
   "execution_count": 3,
   "source": [
    "import time\n",
    "tm = time.gmtime(rating_data['Timestamp'][0])\n",
    "print('{}년{}월{}일{}시{}분{}초{}번째요일{}번째날{}??'.format(*tm))\n",
    "print(time.ctime(rating_data['Timestamp'][0]))\n",
    "# dictt = {'dk':4, 'slj':26}\n",
    "# print('{}{}'.format(*dictt))\n",
    "# print('{dk}{slj}'.format(**dictt))"
   ],
   "outputs": [
    {
     "output_type": "stream",
     "name": "stdout",
     "text": [
      "2000년12월31일22시12분40초6번째요일366번째날0??\n",
      "Sun Dec 31 22:12:40 2000\n"
     ]
    }
   ],
   "metadata": {}
  },
  {
   "cell_type": "markdown",
   "source": [
    "### 이것으로 영화를 본 시간역시 추천 참고 데이터로 활용할 수 있겠습니다. "
   ],
   "metadata": {}
  },
  {
   "cell_type": "code",
   "execution_count": 4,
   "source": [
    "user_col = 'UserID::Gender::Age::Occupation::Zip-code'.split('::')\n",
    "user_data = pd.read_csv(path+'users.dat',delimiter='::',encoding='ISO-8859-1',names=user_col)\n",
    "user_data.head(10)"
   ],
   "outputs": [
    {
     "output_type": "execute_result",
     "data": {
      "text/html": [
       "<div>\n",
       "<style scoped>\n",
       "    .dataframe tbody tr th:only-of-type {\n",
       "        vertical-align: middle;\n",
       "    }\n",
       "\n",
       "    .dataframe tbody tr th {\n",
       "        vertical-align: top;\n",
       "    }\n",
       "\n",
       "    .dataframe thead th {\n",
       "        text-align: right;\n",
       "    }\n",
       "</style>\n",
       "<table border=\"1\" class=\"dataframe\">\n",
       "  <thead>\n",
       "    <tr style=\"text-align: right;\">\n",
       "      <th></th>\n",
       "      <th>UserID</th>\n",
       "      <th>Gender</th>\n",
       "      <th>Age</th>\n",
       "      <th>Occupation</th>\n",
       "      <th>Zip-code</th>\n",
       "    </tr>\n",
       "  </thead>\n",
       "  <tbody>\n",
       "    <tr>\n",
       "      <th>0</th>\n",
       "      <td>1</td>\n",
       "      <td>F</td>\n",
       "      <td>1</td>\n",
       "      <td>10</td>\n",
       "      <td>48067</td>\n",
       "    </tr>\n",
       "    <tr>\n",
       "      <th>1</th>\n",
       "      <td>2</td>\n",
       "      <td>M</td>\n",
       "      <td>56</td>\n",
       "      <td>16</td>\n",
       "      <td>70072</td>\n",
       "    </tr>\n",
       "    <tr>\n",
       "      <th>2</th>\n",
       "      <td>3</td>\n",
       "      <td>M</td>\n",
       "      <td>25</td>\n",
       "      <td>15</td>\n",
       "      <td>55117</td>\n",
       "    </tr>\n",
       "    <tr>\n",
       "      <th>3</th>\n",
       "      <td>4</td>\n",
       "      <td>M</td>\n",
       "      <td>45</td>\n",
       "      <td>7</td>\n",
       "      <td>02460</td>\n",
       "    </tr>\n",
       "    <tr>\n",
       "      <th>4</th>\n",
       "      <td>5</td>\n",
       "      <td>M</td>\n",
       "      <td>25</td>\n",
       "      <td>20</td>\n",
       "      <td>55455</td>\n",
       "    </tr>\n",
       "    <tr>\n",
       "      <th>5</th>\n",
       "      <td>6</td>\n",
       "      <td>F</td>\n",
       "      <td>50</td>\n",
       "      <td>9</td>\n",
       "      <td>55117</td>\n",
       "    </tr>\n",
       "    <tr>\n",
       "      <th>6</th>\n",
       "      <td>7</td>\n",
       "      <td>M</td>\n",
       "      <td>35</td>\n",
       "      <td>1</td>\n",
       "      <td>06810</td>\n",
       "    </tr>\n",
       "    <tr>\n",
       "      <th>7</th>\n",
       "      <td>8</td>\n",
       "      <td>M</td>\n",
       "      <td>25</td>\n",
       "      <td>12</td>\n",
       "      <td>11413</td>\n",
       "    </tr>\n",
       "    <tr>\n",
       "      <th>8</th>\n",
       "      <td>9</td>\n",
       "      <td>M</td>\n",
       "      <td>25</td>\n",
       "      <td>17</td>\n",
       "      <td>61614</td>\n",
       "    </tr>\n",
       "    <tr>\n",
       "      <th>9</th>\n",
       "      <td>10</td>\n",
       "      <td>F</td>\n",
       "      <td>35</td>\n",
       "      <td>1</td>\n",
       "      <td>95370</td>\n",
       "    </tr>\n",
       "  </tbody>\n",
       "</table>\n",
       "</div>"
      ],
      "text/plain": [
       "   UserID Gender  Age  Occupation Zip-code\n",
       "0       1      F    1          10    48067\n",
       "1       2      M   56          16    70072\n",
       "2       3      M   25          15    55117\n",
       "3       4      M   45           7    02460\n",
       "4       5      M   25          20    55455\n",
       "5       6      F   50           9    55117\n",
       "6       7      M   35           1    06810\n",
       "7       8      M   25          12    11413\n",
       "8       9      M   25          17    61614\n",
       "9      10      F   35           1    95370"
      ]
     },
     "metadata": {},
     "execution_count": 4
    }
   ],
   "metadata": {}
  },
  {
   "cell_type": "markdown",
   "source": [
    "### 유저마다 성별, 나이, 직업이 나누어져 있습니다. 이 역시 분류기준으로 사용할 수 있겠군요.\n",
    "\n",
    "### 한번 유저의 수를 확인해보겠습니다."
   ],
   "metadata": {}
  },
  {
   "cell_type": "code",
   "execution_count": 5,
   "source": [
    "print(f\"등록된 유저 수: {user_data['UserID'].nunique()}, 평가한 유저 수 : {rating_data['UserID'].nunique()}\")"
   ],
   "outputs": [
    {
     "output_type": "stream",
     "name": "stdout",
     "text": [
      "등록된 유저 수: 6040, 평가한 유저 수 : 6040\n"
     ]
    }
   ],
   "metadata": {}
  },
  {
   "cell_type": "markdown",
   "source": [
    "### 다행히도 특별히 등록되지 않은 유저가 평가를 하거나 한 데이터는 없는 것 같습니다.\n",
    "\n",
    "### 이번에는 인기있는 영화가 어떤영화인지 조금 알아보겠습니다. 평가는 배제하고 많이 본 영화를 기준으로 해도 괜찮겠다는 생각이 듭니다.\n"
   ],
   "metadata": {}
  },
  {
   "cell_type": "code",
   "execution_count": 6,
   "source": [
    "Movie_count = rating_data.groupby('MovieID')['UserID'].count()\n",
    "\n",
    "# pop_movies30 = pd.DataFrame(columns=movie_data.columns)\n",
    "# for i in Movie_count.sort_values(ascending=False).head(30).index:\n",
    "#     # pd.concat(pop_movies30,movie_data[movie_data['movieID'] == i])\n",
    "#     movienice = movie_data[movie_data['movieID'] == i]\n",
    "#     pop_movies30 = pop_movies30.append(movienice)\n",
    "# # list(Movie_count.sort_values(ascending=False).head(30).index)\n",
    "# # pop_movies30\n",
    "# pop_movies30\n",
    "\n",
    "best_idx = Movie_count.sort_values(ascending=False).head(50).index # MovieID 가 인덱스도 되어있다.\n",
    "\n",
    "pop_movies30 = [movie_data[movie_data['movieID']==i] for i in best_idx]\n",
    "pop_movies30 = pd.concat(pop_movies30,axis=0)\n",
    "pop_movies30"
   ],
   "outputs": [
    {
     "output_type": "execute_result",
     "data": {
      "text/html": [
       "<div>\n",
       "<style scoped>\n",
       "    .dataframe tbody tr th:only-of-type {\n",
       "        vertical-align: middle;\n",
       "    }\n",
       "\n",
       "    .dataframe tbody tr th {\n",
       "        vertical-align: top;\n",
       "    }\n",
       "\n",
       "    .dataframe thead th {\n",
       "        text-align: right;\n",
       "    }\n",
       "</style>\n",
       "<table border=\"1\" class=\"dataframe\">\n",
       "  <thead>\n",
       "    <tr style=\"text-align: right;\">\n",
       "      <th></th>\n",
       "      <th>movieID</th>\n",
       "      <th>Title</th>\n",
       "      <th>genre</th>\n",
       "    </tr>\n",
       "  </thead>\n",
       "  <tbody>\n",
       "    <tr>\n",
       "      <th>2789</th>\n",
       "      <td>2858</td>\n",
       "      <td>American Beauty (1999)</td>\n",
       "      <td>Comedy|Drama</td>\n",
       "    </tr>\n",
       "    <tr>\n",
       "      <th>257</th>\n",
       "      <td>260</td>\n",
       "      <td>Star Wars: Episode IV - A New Hope (1977)</td>\n",
       "      <td>Action|Adventure|Fantasy|Sci-Fi</td>\n",
       "    </tr>\n",
       "    <tr>\n",
       "      <th>1178</th>\n",
       "      <td>1196</td>\n",
       "      <td>Star Wars: Episode V - The Empire Strikes Back...</td>\n",
       "      <td>Action|Adventure|Drama|Sci-Fi|War</td>\n",
       "    </tr>\n",
       "    <tr>\n",
       "      <th>1192</th>\n",
       "      <td>1210</td>\n",
       "      <td>Star Wars: Episode VI - Return of the Jedi (1983)</td>\n",
       "      <td>Action|Adventure|Romance|Sci-Fi|War</td>\n",
       "    </tr>\n",
       "    <tr>\n",
       "      <th>476</th>\n",
       "      <td>480</td>\n",
       "      <td>Jurassic Park (1993)</td>\n",
       "      <td>Action|Adventure|Sci-Fi</td>\n",
       "    </tr>\n",
       "    <tr>\n",
       "      <th>1959</th>\n",
       "      <td>2028</td>\n",
       "      <td>Saving Private Ryan (1998)</td>\n",
       "      <td>Action|Drama|War</td>\n",
       "    </tr>\n",
       "    <tr>\n",
       "      <th>585</th>\n",
       "      <td>589</td>\n",
       "      <td>Terminator 2: Judgment Day (1991)</td>\n",
       "      <td>Action|Sci-Fi|Thriller</td>\n",
       "    </tr>\n",
       "    <tr>\n",
       "      <th>2502</th>\n",
       "      <td>2571</td>\n",
       "      <td>Matrix, The (1999)</td>\n",
       "      <td>Action|Sci-Fi|Thriller</td>\n",
       "    </tr>\n",
       "    <tr>\n",
       "      <th>1250</th>\n",
       "      <td>1270</td>\n",
       "      <td>Back to the Future (1985)</td>\n",
       "      <td>Comedy|Sci-Fi</td>\n",
       "    </tr>\n",
       "    <tr>\n",
       "      <th>589</th>\n",
       "      <td>593</td>\n",
       "      <td>Silence of the Lambs, The (1991)</td>\n",
       "      <td>Drama|Thriller</td>\n",
       "    </tr>\n",
       "    <tr>\n",
       "      <th>1539</th>\n",
       "      <td>1580</td>\n",
       "      <td>Men in Black (1997)</td>\n",
       "      <td>Action|Adventure|Comedy|Sci-Fi</td>\n",
       "    </tr>\n",
       "    <tr>\n",
       "      <th>1180</th>\n",
       "      <td>1198</td>\n",
       "      <td>Raiders of the Lost Ark (1981)</td>\n",
       "      <td>Action|Adventure</td>\n",
       "    </tr>\n",
       "    <tr>\n",
       "      <th>604</th>\n",
       "      <td>608</td>\n",
       "      <td>Fargo (1996)</td>\n",
       "      <td>Crime|Drama|Thriller</td>\n",
       "    </tr>\n",
       "    <tr>\n",
       "      <th>2693</th>\n",
       "      <td>2762</td>\n",
       "      <td>Sixth Sense, The (1999)</td>\n",
       "      <td>Thriller</td>\n",
       "    </tr>\n",
       "    <tr>\n",
       "      <th>108</th>\n",
       "      <td>110</td>\n",
       "      <td>Braveheart (1995)</td>\n",
       "      <td>Action|Drama|War</td>\n",
       "    </tr>\n",
       "    <tr>\n",
       "      <th>2327</th>\n",
       "      <td>2396</td>\n",
       "      <td>Shakespeare in Love (1998)</td>\n",
       "      <td>Comedy|Romance</td>\n",
       "    </tr>\n",
       "    <tr>\n",
       "      <th>1179</th>\n",
       "      <td>1197</td>\n",
       "      <td>Princess Bride, The (1987)</td>\n",
       "      <td>Action|Adventure|Comedy|Romance</td>\n",
       "    </tr>\n",
       "    <tr>\n",
       "      <th>523</th>\n",
       "      <td>527</td>\n",
       "      <td>Schindler's List (1993)</td>\n",
       "      <td>Drama|War</td>\n",
       "    </tr>\n",
       "    <tr>\n",
       "      <th>1575</th>\n",
       "      <td>1617</td>\n",
       "      <td>L.A. Confidential (1997)</td>\n",
       "      <td>Crime|Film-Noir|Mystery|Thriller</td>\n",
       "    </tr>\n",
       "    <tr>\n",
       "      <th>1245</th>\n",
       "      <td>1265</td>\n",
       "      <td>Groundhog Day (1993)</td>\n",
       "      <td>Comedy|Romance</td>\n",
       "    </tr>\n",
       "    <tr>\n",
       "      <th>1081</th>\n",
       "      <td>1097</td>\n",
       "      <td>E.T. the Extra-Terrestrial (1982)</td>\n",
       "      <td>Children's|Drama|Fantasy|Sci-Fi</td>\n",
       "    </tr>\n",
       "    <tr>\n",
       "      <th>2559</th>\n",
       "      <td>2628</td>\n",
       "      <td>Star Wars: Episode I - The Phantom Menace (1999)</td>\n",
       "      <td>Action|Adventure|Fantasy|Sci-Fi</td>\n",
       "    </tr>\n",
       "    <tr>\n",
       "      <th>2928</th>\n",
       "      <td>2997</td>\n",
       "      <td>Being John Malkovich (1999)</td>\n",
       "      <td>Comedy</td>\n",
       "    </tr>\n",
       "    <tr>\n",
       "      <th>315</th>\n",
       "      <td>318</td>\n",
       "      <td>Shawshank Redemption, The (1994)</td>\n",
       "      <td>Drama</td>\n",
       "    </tr>\n",
       "    <tr>\n",
       "      <th>847</th>\n",
       "      <td>858</td>\n",
       "      <td>Godfather, The (1972)</td>\n",
       "      <td>Action|Crime|Drama</td>\n",
       "    </tr>\n",
       "    <tr>\n",
       "      <th>352</th>\n",
       "      <td>356</td>\n",
       "      <td>Forrest Gump (1994)</td>\n",
       "      <td>Comedy|Romance|War</td>\n",
       "    </tr>\n",
       "    <tr>\n",
       "      <th>2647</th>\n",
       "      <td>2716</td>\n",
       "      <td>Ghostbusters (1984)</td>\n",
       "      <td>Comedy|Horror</td>\n",
       "    </tr>\n",
       "    <tr>\n",
       "      <th>293</th>\n",
       "      <td>296</td>\n",
       "      <td>Pulp Fiction (1994)</td>\n",
       "      <td>Crime|Drama</td>\n",
       "    </tr>\n",
       "    <tr>\n",
       "      <th>1220</th>\n",
       "      <td>1240</td>\n",
       "      <td>Terminator, The (1984)</td>\n",
       "      <td>Action|Sci-Fi|Thriller</td>\n",
       "    </tr>\n",
       "    <tr>\n",
       "      <th>0</th>\n",
       "      <td>1</td>\n",
       "      <td>Toy Story (1995)</td>\n",
       "      <td>Animation|Children's|Comedy</td>\n",
       "    </tr>\n",
       "    <tr>\n",
       "      <th>1196</th>\n",
       "      <td>1214</td>\n",
       "      <td>Alien (1979)</td>\n",
       "      <td>Action|Horror|Sci-Fi|Thriller</td>\n",
       "    </tr>\n",
       "    <tr>\n",
       "      <th>2847</th>\n",
       "      <td>2916</td>\n",
       "      <td>Total Recall (1990)</td>\n",
       "      <td>Action|Adventure|Sci-Fi|Thriller</td>\n",
       "    </tr>\n",
       "    <tr>\n",
       "      <th>453</th>\n",
       "      <td>457</td>\n",
       "      <td>Fugitive, The (1993)</td>\n",
       "      <td>Action|Thriller</td>\n",
       "    </tr>\n",
       "    <tr>\n",
       "      <th>3509</th>\n",
       "      <td>3578</td>\n",
       "      <td>Gladiator (2000)</td>\n",
       "      <td>Action|Drama</td>\n",
       "    </tr>\n",
       "    <tr>\n",
       "      <th>1182</th>\n",
       "      <td>1200</td>\n",
       "      <td>Aliens (1986)</td>\n",
       "      <td>Action|Sci-Fi|Thriller|War</td>\n",
       "    </tr>\n",
       "    <tr>\n",
       "      <th>537</th>\n",
       "      <td>541</td>\n",
       "      <td>Blade Runner (1982)</td>\n",
       "      <td>Film-Noir|Sci-Fi</td>\n",
       "    </tr>\n",
       "    <tr>\n",
       "      <th>2918</th>\n",
       "      <td>2987</td>\n",
       "      <td>Who Framed Roger Rabbit? (1988)</td>\n",
       "      <td>Adventure|Animation|Film-Noir</td>\n",
       "    </tr>\n",
       "    <tr>\n",
       "      <th>1239</th>\n",
       "      <td>1259</td>\n",
       "      <td>Stand by Me (1986)</td>\n",
       "      <td>Adventure|Comedy|Drama</td>\n",
       "    </tr>\n",
       "    <tr>\n",
       "      <th>49</th>\n",
       "      <td>50</td>\n",
       "      <td>Usual Suspects, The (1995)</td>\n",
       "      <td>Crime|Thriller</td>\n",
       "    </tr>\n",
       "    <tr>\n",
       "      <th>33</th>\n",
       "      <td>34</td>\n",
       "      <td>Babe (1995)</td>\n",
       "      <td>Children's|Comedy|Drama</td>\n",
       "    </tr>\n",
       "    <tr>\n",
       "      <th>2722</th>\n",
       "      <td>2791</td>\n",
       "      <td>Airplane! (1980)</td>\n",
       "      <td>Comedy</td>\n",
       "    </tr>\n",
       "    <tr>\n",
       "      <th>770</th>\n",
       "      <td>780</td>\n",
       "      <td>Independence Day (ID4) (1996)</td>\n",
       "      <td>Action|Sci-Fi|War</td>\n",
       "    </tr>\n",
       "    <tr>\n",
       "      <th>3106</th>\n",
       "      <td>3175</td>\n",
       "      <td>Galaxy Quest (1999)</td>\n",
       "      <td>Adventure|Comedy|Sci-Fi</td>\n",
       "    </tr>\n",
       "    <tr>\n",
       "      <th>1176</th>\n",
       "      <td>1193</td>\n",
       "      <td>One Flew Over the Cuckoo's Nest (1975)</td>\n",
       "      <td>Drama</td>\n",
       "    </tr>\n",
       "    <tr>\n",
       "      <th>907</th>\n",
       "      <td>919</td>\n",
       "      <td>Wizard of Oz, The (1939)</td>\n",
       "      <td>Adventure|Children's|Drama|Musical</td>\n",
       "    </tr>\n",
       "    <tr>\n",
       "      <th>912</th>\n",
       "      <td>924</td>\n",
       "      <td>2001: A Space Odyssey (1968)</td>\n",
       "      <td>Drama|Mystery|Sci-Fi|Thriller</td>\n",
       "    </tr>\n",
       "    <tr>\n",
       "      <th>1111</th>\n",
       "      <td>1127</td>\n",
       "      <td>Abyss, The (1989)</td>\n",
       "      <td>Action|Adventure|Sci-Fi|Thriller</td>\n",
       "    </tr>\n",
       "    <tr>\n",
       "      <th>2286</th>\n",
       "      <td>2355</td>\n",
       "      <td>Bug's Life, A (1998)</td>\n",
       "      <td>Animation|Children's|Comedy</td>\n",
       "    </tr>\n",
       "    <tr>\n",
       "      <th>1366</th>\n",
       "      <td>1387</td>\n",
       "      <td>Jaws (1975)</td>\n",
       "      <td>Action|Horror</td>\n",
       "    </tr>\n",
       "    <tr>\n",
       "      <th>1203</th>\n",
       "      <td>1221</td>\n",
       "      <td>Godfather: Part II, The (1974)</td>\n",
       "      <td>Action|Crime|Drama</td>\n",
       "    </tr>\n",
       "  </tbody>\n",
       "</table>\n",
       "</div>"
      ],
      "text/plain": [
       "      movieID                                              Title  \\\n",
       "2789     2858                             American Beauty (1999)   \n",
       "257       260          Star Wars: Episode IV - A New Hope (1977)   \n",
       "1178     1196  Star Wars: Episode V - The Empire Strikes Back...   \n",
       "1192     1210  Star Wars: Episode VI - Return of the Jedi (1983)   \n",
       "476       480                               Jurassic Park (1993)   \n",
       "1959     2028                         Saving Private Ryan (1998)   \n",
       "585       589                  Terminator 2: Judgment Day (1991)   \n",
       "2502     2571                                 Matrix, The (1999)   \n",
       "1250     1270                          Back to the Future (1985)   \n",
       "589       593                   Silence of the Lambs, The (1991)   \n",
       "1539     1580                                Men in Black (1997)   \n",
       "1180     1198                     Raiders of the Lost Ark (1981)   \n",
       "604       608                                       Fargo (1996)   \n",
       "2693     2762                            Sixth Sense, The (1999)   \n",
       "108       110                                  Braveheart (1995)   \n",
       "2327     2396                         Shakespeare in Love (1998)   \n",
       "1179     1197                         Princess Bride, The (1987)   \n",
       "523       527                            Schindler's List (1993)   \n",
       "1575     1617                           L.A. Confidential (1997)   \n",
       "1245     1265                               Groundhog Day (1993)   \n",
       "1081     1097                  E.T. the Extra-Terrestrial (1982)   \n",
       "2559     2628   Star Wars: Episode I - The Phantom Menace (1999)   \n",
       "2928     2997                        Being John Malkovich (1999)   \n",
       "315       318                   Shawshank Redemption, The (1994)   \n",
       "847       858                              Godfather, The (1972)   \n",
       "352       356                                Forrest Gump (1994)   \n",
       "2647     2716                                Ghostbusters (1984)   \n",
       "293       296                                Pulp Fiction (1994)   \n",
       "1220     1240                             Terminator, The (1984)   \n",
       "0           1                                   Toy Story (1995)   \n",
       "1196     1214                                       Alien (1979)   \n",
       "2847     2916                                Total Recall (1990)   \n",
       "453       457                               Fugitive, The (1993)   \n",
       "3509     3578                                   Gladiator (2000)   \n",
       "1182     1200                                      Aliens (1986)   \n",
       "537       541                                Blade Runner (1982)   \n",
       "2918     2987                    Who Framed Roger Rabbit? (1988)   \n",
       "1239     1259                                 Stand by Me (1986)   \n",
       "49         50                         Usual Suspects, The (1995)   \n",
       "33         34                                        Babe (1995)   \n",
       "2722     2791                                   Airplane! (1980)   \n",
       "770       780                      Independence Day (ID4) (1996)   \n",
       "3106     3175                                Galaxy Quest (1999)   \n",
       "1176     1193             One Flew Over the Cuckoo's Nest (1975)   \n",
       "907       919                           Wizard of Oz, The (1939)   \n",
       "912       924                       2001: A Space Odyssey (1968)   \n",
       "1111     1127                                  Abyss, The (1989)   \n",
       "2286     2355                               Bug's Life, A (1998)   \n",
       "1366     1387                                        Jaws (1975)   \n",
       "1203     1221                     Godfather: Part II, The (1974)   \n",
       "\n",
       "                                    genre  \n",
       "2789                         Comedy|Drama  \n",
       "257       Action|Adventure|Fantasy|Sci-Fi  \n",
       "1178    Action|Adventure|Drama|Sci-Fi|War  \n",
       "1192  Action|Adventure|Romance|Sci-Fi|War  \n",
       "476               Action|Adventure|Sci-Fi  \n",
       "1959                     Action|Drama|War  \n",
       "585                Action|Sci-Fi|Thriller  \n",
       "2502               Action|Sci-Fi|Thriller  \n",
       "1250                        Comedy|Sci-Fi  \n",
       "589                        Drama|Thriller  \n",
       "1539       Action|Adventure|Comedy|Sci-Fi  \n",
       "1180                     Action|Adventure  \n",
       "604                  Crime|Drama|Thriller  \n",
       "2693                             Thriller  \n",
       "108                      Action|Drama|War  \n",
       "2327                       Comedy|Romance  \n",
       "1179      Action|Adventure|Comedy|Romance  \n",
       "523                             Drama|War  \n",
       "1575     Crime|Film-Noir|Mystery|Thriller  \n",
       "1245                       Comedy|Romance  \n",
       "1081      Children's|Drama|Fantasy|Sci-Fi  \n",
       "2559      Action|Adventure|Fantasy|Sci-Fi  \n",
       "2928                               Comedy  \n",
       "315                                 Drama  \n",
       "847                    Action|Crime|Drama  \n",
       "352                    Comedy|Romance|War  \n",
       "2647                        Comedy|Horror  \n",
       "293                           Crime|Drama  \n",
       "1220               Action|Sci-Fi|Thriller  \n",
       "0             Animation|Children's|Comedy  \n",
       "1196        Action|Horror|Sci-Fi|Thriller  \n",
       "2847     Action|Adventure|Sci-Fi|Thriller  \n",
       "453                       Action|Thriller  \n",
       "3509                         Action|Drama  \n",
       "1182           Action|Sci-Fi|Thriller|War  \n",
       "537                      Film-Noir|Sci-Fi  \n",
       "2918        Adventure|Animation|Film-Noir  \n",
       "1239               Adventure|Comedy|Drama  \n",
       "49                         Crime|Thriller  \n",
       "33                Children's|Comedy|Drama  \n",
       "2722                               Comedy  \n",
       "770                     Action|Sci-Fi|War  \n",
       "3106              Adventure|Comedy|Sci-Fi  \n",
       "1176                                Drama  \n",
       "907    Adventure|Children's|Drama|Musical  \n",
       "912         Drama|Mystery|Sci-Fi|Thriller  \n",
       "1111     Action|Adventure|Sci-Fi|Thriller  \n",
       "2286          Animation|Children's|Comedy  \n",
       "1366                        Action|Horror  \n",
       "1203                   Action|Crime|Drama  "
      ]
     },
     "metadata": {},
     "execution_count": 6
    }
   ],
   "metadata": {}
  },
  {
   "cell_type": "code",
   "execution_count": 7,
   "source": [
    "# 영화의 총 개수와, 시청된 횟수를 구해보겠습니다.\n",
    "Movie_count.describe()"
   ],
   "outputs": [
    {
     "output_type": "execute_result",
     "data": {
      "text/plain": [
       "count    3706.000000\n",
       "mean      269.889099\n",
       "std       384.047838\n",
       "min         1.000000\n",
       "25%        33.000000\n",
       "50%       123.500000\n",
       "75%       350.000000\n",
       "max      3428.000000\n",
       "Name: UserID, dtype: float64"
      ]
     },
     "metadata": {},
     "execution_count": 7
    }
   ],
   "metadata": {}
  },
  {
   "cell_type": "code",
   "execution_count": 8,
   "source": [
    "movie_data[\"movieID\"].nunique()"
   ],
   "outputs": [
    {
     "output_type": "execute_result",
     "data": {
      "text/plain": [
       "3883"
      ]
     },
     "metadata": {},
     "execution_count": 8
    }
   ],
   "metadata": {}
  },
  {
   "cell_type": "markdown",
   "source": [
    "### 첫번째, count수치가 영화의 개수와 일치해야하는데, 그렇지 않군요. 어떻게 된걸까요? 아마 평가되지 않은 영화가 있는 것 같습니다."
   ],
   "metadata": {}
  },
  {
   "cell_type": "code",
   "execution_count": 9,
   "source": [
    "rating_data['MovieID'].nunique()"
   ],
   "outputs": [
    {
     "output_type": "execute_result",
     "data": {
      "text/plain": [
       "3706"
      ]
     },
     "metadata": {},
     "execution_count": 9
    }
   ],
   "metadata": {}
  },
  {
   "cell_type": "markdown",
   "source": [
    "### 평가되지 않은 영화들은 아마 그만큼 인기가 없었던 영화일 것입니다. 하지만, 사람들에게 드러나지 않고 지나간 숨겨진 명작일지도 모릅니다. 일단 항목을 유지하도록 해볼게요!"
   ],
   "metadata": {}
  },
  {
   "cell_type": "code",
   "execution_count": 10,
   "source": [
    "no_rate = set(movie_data['movieID']) - set(rating_data['MovieID'])\n",
    "no_rate = pd.DataFrame(no_rate,columns=['MovieID'])\n",
    "print(len(no_rate))\n",
    "no_rate\n",
    "\n",
    "no_rate = [movie_data[movie_data['movieID'] == i] for i in no_rate['MovieID']]\n",
    "\n",
    "no_rate = pd.concat(no_rate,axis=0)\n",
    "\n",
    "no_rate"
   ],
   "outputs": [
    {
     "output_type": "stream",
     "name": "stdout",
     "text": [
      "177\n"
     ]
    },
    {
     "output_type": "execute_result",
     "data": {
      "text/html": [
       "<div>\n",
       "<style scoped>\n",
       "    .dataframe tbody tr th:only-of-type {\n",
       "        vertical-align: middle;\n",
       "    }\n",
       "\n",
       "    .dataframe tbody tr th {\n",
       "        vertical-align: top;\n",
       "    }\n",
       "\n",
       "    .dataframe thead th {\n",
       "        text-align: right;\n",
       "    }\n",
       "</style>\n",
       "<table border=\"1\" class=\"dataframe\">\n",
       "  <thead>\n",
       "    <tr style=\"text-align: right;\">\n",
       "      <th></th>\n",
       "      <th>movieID</th>\n",
       "      <th>Title</th>\n",
       "      <th>genre</th>\n",
       "    </tr>\n",
       "  </thead>\n",
       "  <tbody>\n",
       "    <tr>\n",
       "      <th>2495</th>\n",
       "      <td>2564</td>\n",
       "      <td>Empty Mirror, The (1999)</td>\n",
       "      <td>Drama</td>\n",
       "    </tr>\n",
       "    <tr>\n",
       "      <th>3520</th>\n",
       "      <td>3589</td>\n",
       "      <td>Kill, Baby... Kill! (Operazione Paura) (1966)</td>\n",
       "      <td>Horror</td>\n",
       "    </tr>\n",
       "    <tr>\n",
       "      <th>3011</th>\n",
       "      <td>3080</td>\n",
       "      <td>Goodbye, 20th Century (Zbogum na dvadesetiot v...</td>\n",
       "      <td>Drama|Sci-Fi</td>\n",
       "    </tr>\n",
       "    <tr>\n",
       "      <th>1032</th>\n",
       "      <td>1045</td>\n",
       "      <td>Love Is All There Is (1996)</td>\n",
       "      <td>Comedy|Drama</td>\n",
       "    </tr>\n",
       "    <tr>\n",
       "      <th>1518</th>\n",
       "      <td>1557</td>\n",
       "      <td>Squeeze (1996)</td>\n",
       "      <td>Drama</td>\n",
       "    </tr>\n",
       "    <tr>\n",
       "      <th>...</th>\n",
       "      <td>...</td>\n",
       "      <td>...</td>\n",
       "      <td>...</td>\n",
       "    </tr>\n",
       "    <tr>\n",
       "      <th>2478</th>\n",
       "      <td>2547</td>\n",
       "      <td>Harvest (1998)</td>\n",
       "      <td>Drama</td>\n",
       "    </tr>\n",
       "    <tr>\n",
       "      <th>1488</th>\n",
       "      <td>1524</td>\n",
       "      <td>Turning, The (1992)</td>\n",
       "      <td>Drama</td>\n",
       "    </tr>\n",
       "    <tr>\n",
       "      <th>2990</th>\n",
       "      <td>3059</td>\n",
       "      <td>British Intelligence (1940)</td>\n",
       "      <td>Drama</td>\n",
       "    </tr>\n",
       "    <tr>\n",
       "      <th>3513</th>\n",
       "      <td>3582</td>\n",
       "      <td>Jails, Hospitals &amp; Hip-Hop (2000)</td>\n",
       "      <td>Drama</td>\n",
       "    </tr>\n",
       "    <tr>\n",
       "      <th>3514</th>\n",
       "      <td>3583</td>\n",
       "      <td>Black Tights (Les Collants Noirs) (1960)</td>\n",
       "      <td>Drama</td>\n",
       "    </tr>\n",
       "  </tbody>\n",
       "</table>\n",
       "<p>177 rows × 3 columns</p>\n",
       "</div>"
      ],
      "text/plain": [
       "      movieID                                              Title         genre\n",
       "2495     2564                           Empty Mirror, The (1999)         Drama\n",
       "3520     3589      Kill, Baby... Kill! (Operazione Paura) (1966)        Horror\n",
       "3011     3080  Goodbye, 20th Century (Zbogum na dvadesetiot v...  Drama|Sci-Fi\n",
       "1032     1045                        Love Is All There Is (1996)  Comedy|Drama\n",
       "1518     1557                                     Squeeze (1996)         Drama\n",
       "...       ...                                                ...           ...\n",
       "2478     2547                                     Harvest (1998)         Drama\n",
       "1488     1524                                Turning, The (1992)         Drama\n",
       "2990     3059                        British Intelligence (1940)         Drama\n",
       "3513     3582                  Jails, Hospitals & Hip-Hop (2000)         Drama\n",
       "3514     3583           Black Tights (Les Collants Noirs) (1960)         Drama\n",
       "\n",
       "[177 rows x 3 columns]"
      ]
     },
     "metadata": {},
     "execution_count": 10
    }
   ],
   "metadata": {}
  },
  {
   "cell_type": "markdown",
   "source": [
    "### 177개의 평가되지 않은 영화입니다. 다른 사람이 많이 보지 않은 영화를 따로 검색할 수 있게 해도 좋겠다는 생각이 듭니다."
   ],
   "metadata": {}
  },
  {
   "cell_type": "code",
   "execution_count": 11,
   "source": [
    "# 각 유저가 몇개의 영화를 보았는지 확인해보겠습니다.\n",
    "# 첫번째는 유저 수\n",
    "user_count = rating_data.groupby('UserID')['MovieID'].count()\n",
    "user_count.describe()"
   ],
   "outputs": [
    {
     "output_type": "execute_result",
     "data": {
      "text/plain": [
       "count    6040.000000\n",
       "mean      165.597517\n",
       "std       192.747029\n",
       "min        20.000000\n",
       "25%        44.000000\n",
       "50%        96.000000\n",
       "75%       208.000000\n",
       "max      2314.000000\n",
       "Name: MovieID, dtype: float64"
      ]
     },
     "metadata": {},
     "execution_count": 11
    }
   ],
   "metadata": {}
  },
  {
   "cell_type": "markdown",
   "source": [
    "### 아래와 같이 임의의 추천받을 사람을 만들어 보았는데... 만들고 보니, 맞게 추천되었는지 확인할 길이 없군요. 다른 방식을 사용해봐야겠습니다."
   ],
   "metadata": {}
  },
  {
   "cell_type": "code",
   "execution_count": 12,
   "source": [
    "import numpy as np\n",
    "a = np.random.randint(0,3000,10)\n",
    "\n",
    "# print(a)\n",
    "\n",
    "your_favorite = [movie_data[movie_data['movieID'] == i] for i in a]\n",
    "\n",
    "your_favorite = pd.concat(your_favorite,axis=0)\n",
    "\n",
    "your_favorite"
   ],
   "outputs": [
    {
     "output_type": "execute_result",
     "data": {
      "text/html": [
       "<div>\n",
       "<style scoped>\n",
       "    .dataframe tbody tr th:only-of-type {\n",
       "        vertical-align: middle;\n",
       "    }\n",
       "\n",
       "    .dataframe tbody tr th {\n",
       "        vertical-align: top;\n",
       "    }\n",
       "\n",
       "    .dataframe thead th {\n",
       "        text-align: right;\n",
       "    }\n",
       "</style>\n",
       "<table border=\"1\" class=\"dataframe\">\n",
       "  <thead>\n",
       "    <tr style=\"text-align: right;\">\n",
       "      <th></th>\n",
       "      <th>movieID</th>\n",
       "      <th>Title</th>\n",
       "      <th>genre</th>\n",
       "    </tr>\n",
       "  </thead>\n",
       "  <tbody>\n",
       "    <tr>\n",
       "      <th>2015</th>\n",
       "      <td>2084</td>\n",
       "      <td>Newsies (1992)</td>\n",
       "      <td>Children's|Musical</td>\n",
       "    </tr>\n",
       "    <tr>\n",
       "      <th>2761</th>\n",
       "      <td>2830</td>\n",
       "      <td>Cabaret Balkan (Bure Baruta) (1998)</td>\n",
       "      <td>Drama</td>\n",
       "    </tr>\n",
       "    <tr>\n",
       "      <th>2862</th>\n",
       "      <td>2931</td>\n",
       "      <td>Time of the Gypsies (Dom za vesanje) (1989)</td>\n",
       "      <td>Drama</td>\n",
       "    </tr>\n",
       "    <tr>\n",
       "      <th>136</th>\n",
       "      <td>138</td>\n",
       "      <td>Neon Bible, The (1995)</td>\n",
       "      <td>Drama</td>\n",
       "    </tr>\n",
       "    <tr>\n",
       "      <th>2334</th>\n",
       "      <td>2403</td>\n",
       "      <td>First Blood (1982)</td>\n",
       "      <td>Action</td>\n",
       "    </tr>\n",
       "    <tr>\n",
       "      <th>700</th>\n",
       "      <td>709</td>\n",
       "      <td>Oliver &amp; Company (1988)</td>\n",
       "      <td>Animation|Children's</td>\n",
       "    </tr>\n",
       "    <tr>\n",
       "      <th>1244</th>\n",
       "      <td>1264</td>\n",
       "      <td>Diva (1981)</td>\n",
       "      <td>Action|Drama|Mystery|Romance|Thriller</td>\n",
       "    </tr>\n",
       "    <tr>\n",
       "      <th>1544</th>\n",
       "      <td>1585</td>\n",
       "      <td>Love Serenade (1996)</td>\n",
       "      <td>Comedy</td>\n",
       "    </tr>\n",
       "    <tr>\n",
       "      <th>2786</th>\n",
       "      <td>2855</td>\n",
       "      <td>Nightmares (1983)</td>\n",
       "      <td>Horror</td>\n",
       "    </tr>\n",
       "  </tbody>\n",
       "</table>\n",
       "</div>"
      ],
      "text/plain": [
       "      movieID                                        Title  \\\n",
       "2015     2084                               Newsies (1992)   \n",
       "2761     2830          Cabaret Balkan (Bure Baruta) (1998)   \n",
       "2862     2931  Time of the Gypsies (Dom za vesanje) (1989)   \n",
       "136       138                       Neon Bible, The (1995)   \n",
       "2334     2403                           First Blood (1982)   \n",
       "700       709                      Oliver & Company (1988)   \n",
       "1244     1264                                  Diva (1981)   \n",
       "1544     1585                         Love Serenade (1996)   \n",
       "2786     2855                            Nightmares (1983)   \n",
       "\n",
       "                                      genre  \n",
       "2015                     Children's|Musical  \n",
       "2761                                  Drama  \n",
       "2862                                  Drama  \n",
       "136                                   Drama  \n",
       "2334                                 Action  \n",
       "700                    Animation|Children's  \n",
       "1244  Action|Drama|Mystery|Romance|Thriller  \n",
       "1544                                 Comedy  \n",
       "2786                                 Horror  "
      ]
     },
     "metadata": {},
     "execution_count": 12
    }
   ],
   "metadata": {}
  },
  {
   "cell_type": "markdown",
   "source": [
    "### 계속 출력을 하다보니, 영화의 인덱스와, MovieID가 비슷하면서도 숫자가 조금씩 차이가 납니다. 혹시 MovieID가 동일한 영화들이 있는걸까요?"
   ],
   "metadata": {}
  },
  {
   "cell_type": "code",
   "execution_count": 13,
   "source": [
    "movie_data.tail()"
   ],
   "outputs": [
    {
     "output_type": "execute_result",
     "data": {
      "text/html": [
       "<div>\n",
       "<style scoped>\n",
       "    .dataframe tbody tr th:only-of-type {\n",
       "        vertical-align: middle;\n",
       "    }\n",
       "\n",
       "    .dataframe tbody tr th {\n",
       "        vertical-align: top;\n",
       "    }\n",
       "\n",
       "    .dataframe thead th {\n",
       "        text-align: right;\n",
       "    }\n",
       "</style>\n",
       "<table border=\"1\" class=\"dataframe\">\n",
       "  <thead>\n",
       "    <tr style=\"text-align: right;\">\n",
       "      <th></th>\n",
       "      <th>movieID</th>\n",
       "      <th>Title</th>\n",
       "      <th>genre</th>\n",
       "    </tr>\n",
       "  </thead>\n",
       "  <tbody>\n",
       "    <tr>\n",
       "      <th>3878</th>\n",
       "      <td>3948</td>\n",
       "      <td>Meet the Parents (2000)</td>\n",
       "      <td>Comedy</td>\n",
       "    </tr>\n",
       "    <tr>\n",
       "      <th>3879</th>\n",
       "      <td>3949</td>\n",
       "      <td>Requiem for a Dream (2000)</td>\n",
       "      <td>Drama</td>\n",
       "    </tr>\n",
       "    <tr>\n",
       "      <th>3880</th>\n",
       "      <td>3950</td>\n",
       "      <td>Tigerland (2000)</td>\n",
       "      <td>Drama</td>\n",
       "    </tr>\n",
       "    <tr>\n",
       "      <th>3881</th>\n",
       "      <td>3951</td>\n",
       "      <td>Two Family House (2000)</td>\n",
       "      <td>Drama</td>\n",
       "    </tr>\n",
       "    <tr>\n",
       "      <th>3882</th>\n",
       "      <td>3952</td>\n",
       "      <td>Contender, The (2000)</td>\n",
       "      <td>Drama|Thriller</td>\n",
       "    </tr>\n",
       "  </tbody>\n",
       "</table>\n",
       "</div>"
      ],
      "text/plain": [
       "      movieID                       Title           genre\n",
       "3878     3948     Meet the Parents (2000)          Comedy\n",
       "3879     3949  Requiem for a Dream (2000)           Drama\n",
       "3880     3950            Tigerland (2000)           Drama\n",
       "3881     3951     Two Family House (2000)           Drama\n",
       "3882     3952       Contender, The (2000)  Drama|Thriller"
      ]
     },
     "metadata": {},
     "execution_count": 13
    }
   ],
   "metadata": {}
  },
  {
   "cell_type": "code",
   "execution_count": 14,
   "source": [
    "movie_data[movie_data.duplicated(subset='movieID')]"
   ],
   "outputs": [
    {
     "output_type": "execute_result",
     "data": {
      "text/html": [
       "<div>\n",
       "<style scoped>\n",
       "    .dataframe tbody tr th:only-of-type {\n",
       "        vertical-align: middle;\n",
       "    }\n",
       "\n",
       "    .dataframe tbody tr th {\n",
       "        vertical-align: top;\n",
       "    }\n",
       "\n",
       "    .dataframe thead th {\n",
       "        text-align: right;\n",
       "    }\n",
       "</style>\n",
       "<table border=\"1\" class=\"dataframe\">\n",
       "  <thead>\n",
       "    <tr style=\"text-align: right;\">\n",
       "      <th></th>\n",
       "      <th>movieID</th>\n",
       "      <th>Title</th>\n",
       "      <th>genre</th>\n",
       "    </tr>\n",
       "  </thead>\n",
       "  <tbody>\n",
       "  </tbody>\n",
       "</table>\n",
       "</div>"
      ],
      "text/plain": [
       "Empty DataFrame\n",
       "Columns: [movieID, Title, genre]\n",
       "Index: []"
      ]
     },
     "metadata": {},
     "execution_count": 14
    }
   ],
   "metadata": {}
  },
  {
   "cell_type": "markdown",
   "source": [
    "### 중복되는 숫자는 없고, 하나씩 건너뛰는 숫자가 있는 것 같아요;;\n",
    "## 2) 추천 시스템 만들기\n",
    "\n",
    "### 자 이제 추천시스템을 위한 고객을 만들어보겠습니다!! 먼저 대상고객이 이름을 정하고, 고객이 봤던 영화들로 평가를 몇개만 하도록 해볼까요? 이왕이면, 정말의 의미있는 추천이 나오는지, 제가 봤던 영화 몇가지를 넣어보도록 할게요! 고객명도 hchang으로 해보겠습니다.\n",
    "\n",
    "\n",
    "### 영화를 위의 movies.dat파일로 하나하나 넘기면서 찾다보니, 영화가 매우 많아서 찾기 어렵다는걸 깨달았습니다ㅜㅜ 추천을 위해서는 고객의 평가자료가 필수적으로 있어야할텐데.."
   ],
   "metadata": {}
  },
  {
   "cell_type": "code",
   "execution_count": 15,
   "source": [
    "import re\n",
    "import numpy as np\n",
    "\n",
    "\n",
    "\n",
    "year_set = set(movie_data['Title'].apply(lambda x : re.findall(\"([0-9]+)\",x)[-1]))\n",
    "\n",
    "np.array(list(year_set))\n",
    "year_ar = np.array(sorted([int(i) for i in year_set]))\n",
    "year_ar"
   ],
   "outputs": [
    {
     "output_type": "execute_result",
     "data": {
      "text/plain": [
       "array([1919, 1920, 1921, 1922, 1923, 1925, 1926, 1927, 1928, 1929, 1930,\n",
       "       1931, 1932, 1933, 1934, 1935, 1936, 1937, 1938, 1939, 1940, 1941,\n",
       "       1942, 1943, 1944, 1945, 1946, 1947, 1948, 1949, 1950, 1951, 1952,\n",
       "       1953, 1954, 1955, 1956, 1957, 1958, 1959, 1960, 1961, 1962, 1963,\n",
       "       1964, 1965, 1966, 1967, 1968, 1969, 1970, 1971, 1972, 1973, 1974,\n",
       "       1975, 1976, 1977, 1978, 1979, 1980, 1981, 1982, 1983, 1984, 1985,\n",
       "       1986, 1987, 1988, 1989, 1990, 1991, 1992, 1993, 1994, 1995, 1996,\n",
       "       1997, 1998, 1999, 2000])"
      ]
     },
     "metadata": {},
     "execution_count": 15
    }
   ],
   "metadata": {}
  },
  {
   "cell_type": "markdown",
   "source": [
    "### 일단 모두 2000년 이전의 영화였군요.. 가장 인기가 많았던 영화에서 찾아보겠습니다.\n",
    "\n",
    "### 제가 봤던영화 평가는 다음과 같습니다.\n",
    "\n",
    "Toy Story (1995)  MovieID = 1 4점      \n",
    "\n",
    "Terminator 2: Judgment Day (1991)   MovieID = 589 4점       \n",
    "\n",
    "Matrix, The (1999)\tMovieID = 2571 5점      \n",
    "\n",
    "Sixth Sense, The (1999)\tMovieID = 2762 5점      \n",
    "\n",
    "Schindler's List (1993)\tMovieID = 527 2점       "
   ],
   "metadata": {}
  },
  {
   "cell_type": "code",
   "execution_count": 33,
   "source": [
    "# rating_data의 columns:  UserID\tMovieID\tRating\tTimestamp\n",
    "import time\n",
    "my_list = ['Toy Story (1995)', 'Terminator 2: Judgment Day (1991)', 'Matrix, The (1999)', 'Sixth Sense, The (1999)', \"Schindler's List (1993)\"]\n",
    "my_list_num = [movie_data[movie_data['Title'] == i][\"movieID\"].values[0] for i in my_list]\n",
    "my_rating = [4,4,5,5,2]\n",
    "my_rating_data = pd.DataFrame({'UserID': ['hchang']*5, 'MovieID':my_list_num, 'Rating':my_rating, 'Timestamp':[int(time.time())]*5})\n",
    "\n",
    "if not rating_data.isin({'UserID':['hchang']})['UserID'].any():\n",
    "    addition_data = rating_data.append(my_rating_data, ignore_index=True)\n",
    "\n",
    "# timestamp는 이번 프로젝트에서는 중요치 않으므로 넘어가도록 하겠습니다.\n",
    "# 다음에는 고려해보도록 할게요!\n",
    "\n",
    "addition_data.tail(10)"
   ],
   "outputs": [
    {
     "output_type": "execute_result",
     "data": {
      "text/html": [
       "<div>\n",
       "<style scoped>\n",
       "    .dataframe tbody tr th:only-of-type {\n",
       "        vertical-align: middle;\n",
       "    }\n",
       "\n",
       "    .dataframe tbody tr th {\n",
       "        vertical-align: top;\n",
       "    }\n",
       "\n",
       "    .dataframe thead th {\n",
       "        text-align: right;\n",
       "    }\n",
       "</style>\n",
       "<table border=\"1\" class=\"dataframe\">\n",
       "  <thead>\n",
       "    <tr style=\"text-align: right;\">\n",
       "      <th></th>\n",
       "      <th>UserID</th>\n",
       "      <th>MovieID</th>\n",
       "      <th>Rating</th>\n",
       "      <th>Timestamp</th>\n",
       "    </tr>\n",
       "  </thead>\n",
       "  <tbody>\n",
       "    <tr>\n",
       "      <th>1000204</th>\n",
       "      <td>6040</td>\n",
       "      <td>1091</td>\n",
       "      <td>1</td>\n",
       "      <td>956716541</td>\n",
       "    </tr>\n",
       "    <tr>\n",
       "      <th>1000205</th>\n",
       "      <td>6040</td>\n",
       "      <td>1094</td>\n",
       "      <td>5</td>\n",
       "      <td>956704887</td>\n",
       "    </tr>\n",
       "    <tr>\n",
       "      <th>1000206</th>\n",
       "      <td>6040</td>\n",
       "      <td>562</td>\n",
       "      <td>5</td>\n",
       "      <td>956704746</td>\n",
       "    </tr>\n",
       "    <tr>\n",
       "      <th>1000207</th>\n",
       "      <td>6040</td>\n",
       "      <td>1096</td>\n",
       "      <td>4</td>\n",
       "      <td>956715648</td>\n",
       "    </tr>\n",
       "    <tr>\n",
       "      <th>1000208</th>\n",
       "      <td>6040</td>\n",
       "      <td>1097</td>\n",
       "      <td>4</td>\n",
       "      <td>956715569</td>\n",
       "    </tr>\n",
       "    <tr>\n",
       "      <th>1000209</th>\n",
       "      <td>hchang</td>\n",
       "      <td>1</td>\n",
       "      <td>4</td>\n",
       "      <td>1636913913</td>\n",
       "    </tr>\n",
       "    <tr>\n",
       "      <th>1000210</th>\n",
       "      <td>hchang</td>\n",
       "      <td>589</td>\n",
       "      <td>4</td>\n",
       "      <td>1636913913</td>\n",
       "    </tr>\n",
       "    <tr>\n",
       "      <th>1000211</th>\n",
       "      <td>hchang</td>\n",
       "      <td>2571</td>\n",
       "      <td>5</td>\n",
       "      <td>1636913913</td>\n",
       "    </tr>\n",
       "    <tr>\n",
       "      <th>1000212</th>\n",
       "      <td>hchang</td>\n",
       "      <td>2762</td>\n",
       "      <td>5</td>\n",
       "      <td>1636913913</td>\n",
       "    </tr>\n",
       "    <tr>\n",
       "      <th>1000213</th>\n",
       "      <td>hchang</td>\n",
       "      <td>527</td>\n",
       "      <td>2</td>\n",
       "      <td>1636913913</td>\n",
       "    </tr>\n",
       "  </tbody>\n",
       "</table>\n",
       "</div>"
      ],
      "text/plain": [
       "         UserID  MovieID  Rating   Timestamp\n",
       "1000204    6040     1091       1   956716541\n",
       "1000205    6040     1094       5   956704887\n",
       "1000206    6040      562       5   956704746\n",
       "1000207    6040     1096       4   956715648\n",
       "1000208    6040     1097       4   956715569\n",
       "1000209  hchang        1       4  1636913913\n",
       "1000210  hchang      589       4  1636913913\n",
       "1000211  hchang     2571       5  1636913913\n",
       "1000212  hchang     2762       5  1636913913\n",
       "1000213  hchang      527       2  1636913913"
      ]
     },
     "metadata": {},
     "execution_count": 33
    }
   ],
   "metadata": {}
  },
  {
   "cell_type": "code",
   "execution_count": 34,
   "source": [
    "# 위에서 봤다시피, movieID에는 사이사이에, 넘어가는 숫자가 있을 것입니다.\n",
    "# Matrix Fatorization을 만드는데, 방해가 될 요소이므로\n",
    "# 이제 movieID와, UserID를 다시 인덱싱하겠습니다.\n",
    "\n",
    "user_unique = addition_data['UserID'].unique()\n",
    "movie_unique = movie_data['movieID'].unique()\n",
    "\n",
    "user_to_idx = {v:k for k,v in enumerate(user_unique)}\n",
    "movie_to_idx = {v:k for k,v in enumerate(movie_unique)}\n"
   ],
   "outputs": [],
   "metadata": {}
  },
  {
   "cell_type": "code",
   "execution_count": 35,
   "source": [
    "print(user_to_idx['hchang'])\n",
    "print(movie_to_idx[2557])"
   ],
   "outputs": [
    {
     "output_type": "stream",
     "name": "stdout",
     "text": [
      "6040\n",
      "2488\n"
     ]
    }
   ],
   "metadata": {}
  },
  {
   "cell_type": "code",
   "execution_count": 36,
   "source": [
    "# indexing을 통해 데이터 컬럼 내 값을 바꾸는 코드\n",
    "# dictionary 자료형의 get 함수는 https://wikidocs.net/16 을 참고하세요.\n",
    "\n",
    "# user_to_idx.get을 통해 user_id 컬럼의 모든 값을 인덱싱한 Series를 구해 봅시다. \n",
    "# 혹시 정상적으로 인덱싱되지 않은 row가 있다면 인덱스가 NaN이 될 테니 dropna()로 제거합니다. \n",
    "# temp_user_data = data['user_id'].map(user_to_idx.get).dropna()\n",
    "if len(user_data)+1 == len(user_to_idx):   # 모든 row가 정상적으로 인덱싱되었다면\n",
    "    print('user_id column indexing OK!!')\n",
    "    # data['user_id'] = temp_user_data   # data['user_id']을 인덱싱된 Series로 교체해 줍니다. \n",
    "else:\n",
    "    print(len(user_data),len(user_to_idx))\n",
    "    print('user_id column indexing Fail!!')\n",
    "\n",
    "# artist_to_idx을 통해 artist 컬럼도 동일한 방식으로 인덱싱해 줍니다. \n",
    "# temp_artist_data = data['artist'].map(artist_to_idx.get).dropna()\n",
    "if len(movie_data) == len(movie_to_idx):\n",
    "    print('artist column indexing OK!!')\n",
    "    # data['artist'] = temp_artist_data\n",
    "else:\n",
    "    print('artist column indexing Fail!!')\n"
   ],
   "outputs": [
    {
     "output_type": "stream",
     "name": "stdout",
     "text": [
      "user_id column indexing OK!!\n",
      "artist column indexing OK!!\n"
     ]
    }
   ],
   "metadata": {}
  },
  {
   "cell_type": "markdown",
   "source": [
    "### 이제 위에서 설명한 csr matrix를 만들어보려 합니다. 여기서, 평가 점수를 무엇으로 잡을지 잘 생각해야합니다.\n",
    "### 여기서는 당연히 평가 점수를 그대로 사용해보겠습니다."
   ],
   "metadata": {}
  },
  {
   "cell_type": "code",
   "execution_count": 37,
   "source": [
    "# 이제 csr_matrix를 만들어보겠습니다.\n",
    "from scipy.sparse import csr_matrix\n",
    "\n",
    "num_user = len(user_to_idx)\n",
    "num_movie = len(movie_to_idx)\n",
    "\n",
    "user_idx = addition_data['UserID']\n",
    "movie_idx = addition_data[\"MovieID\"]\n",
    "user_idx = [user_to_idx[i] for i in user_idx]\n",
    "movie_idx = [movie_to_idx[i] for i in movie_idx]\n",
    "csr_data = csr_matrix((addition_data['Rating'], (user_idx, movie_idx)), shape= (num_user, num_movie))\n",
    "csr_data"
   ],
   "outputs": [
    {
     "output_type": "execute_result",
     "data": {
      "text/plain": [
       "<6041x3883 sparse matrix of type '<class 'numpy.longlong'>'\n",
       "\twith 1000214 stored elements in Compressed Sparse Row format>"
      ]
     },
     "metadata": {},
     "execution_count": 37
    }
   ],
   "metadata": {}
  },
  {
   "cell_type": "code",
   "execution_count": 117,
   "source": [
    "# itir = csr_data.__iter__()\n",
    "next(itir)"
   ],
   "outputs": [
    {
     "output_type": "execute_result",
     "data": {
      "text/plain": [
       "<1x3883 sparse matrix of type '<class 'numpy.longlong'>'\n",
       "\twith 198 stored elements in Compressed Sparse Row format>"
      ]
     },
     "metadata": {},
     "execution_count": 117
    }
   ],
   "metadata": {}
  },
  {
   "cell_type": "markdown",
   "source": [
    "### 위를 보시면, AIFFEL의 권고사항을 하나 무시했습니다. 그 내용은 바로 아래 내용입니다.\n",
    " - 별점을 시청횟수로 해석해서 생각하겠습니다.\n",
    " - 또한 유저가 3점 미만으로 준 데이터는 선호하지 않는다고 가정하고 제외하겠습니다.\n",
    "<br><br>    \n",
    "\n",
    "### 엄격하게 봤을때, 위의 가정은 적절하지 않습니다. 왜냐하면, 시청횟수는 저희가 고객의 평가에 대한 해석을 보다 요구했던 반면에, 현재 평점 데이터는 그렇지 않습니다. 그저 그대로 사용하였을때 더 좋은 결과를 가져올 수 있습니다. \n",
    "\n",
    "### 또 3점 이하의 데이터는 선호하지 않는 것으로 가정하고 제외하라고 했는데, 제외할 경우는 선호하지 않는 것이 아니라, 반영이 되지 않습니다. 고객은 싫다고 별점을 1개로 반영했는데, 학습에서 제외할 경우, 시스템은 고객이 이 영화를 좋아할 수도 있다고 판단 할 수 있습니다. 따라서 해당 평점은 모두 그대로 반영하는 것으로 학습하겠습니다."
   ],
   "metadata": {}
  },
  {
   "cell_type": "code",
   "execution_count": 38,
   "source": [
    "from implicit.als import AlternatingLeastSquares\n",
    "import os\n",
    "import numpy as np\n",
    "\n",
    "# implicit 라이브러리에서 권장하고 있는 부분입니다. 학습 내용과는 무관합니다.\n",
    "os.environ['OPENBLAS_NUM_THREADS']='1'\n",
    "os.environ['KMP_DUPLICATE_LIB_OK']='True'\n",
    "os.environ['MKL_NUM_THREADS']='1'"
   ],
   "outputs": [],
   "metadata": {}
  },
  {
   "cell_type": "code",
   "execution_count": 44,
   "source": [
    "# Implicit AlternatingLeastSquares 모델의 선언\n",
    "als_model = AlternatingLeastSquares(factors=100, regularization=0.01, use_gpu=False, iterations=15, dtype=np.float32)"
   ],
   "outputs": [],
   "metadata": {}
  },
  {
   "cell_type": "code",
   "execution_count": 47,
   "source": [
    "# als 모델은 input으로 (item X user 꼴의 matrix를 받기 때문에 Transpose해줍니다.)\n",
    "csr_data_transpose = csr_data.T\n",
    "csr_data_transpose"
   ],
   "outputs": [
    {
     "output_type": "execute_result",
     "data": {
      "text/plain": [
       "<3883x6041 sparse matrix of type '<class 'numpy.longlong'>'\n",
       "\twith 1000214 stored elements in Compressed Sparse Column format>"
      ]
     },
     "metadata": {},
     "execution_count": 47
    }
   ],
   "metadata": {}
  },
  {
   "cell_type": "code",
   "execution_count": 48,
   "source": [
    "# 모델 훈련\n",
    "als_model.fit(csr_data_transpose)"
   ],
   "outputs": [
    {
     "output_type": "display_data",
     "data": {
      "application/vnd.jupyter.widget-view+json": {
       "version_major": 2,
       "version_minor": 0,
       "model_id": "1224d078b06845c3afe9f4a7a2f1fd1e"
      },
      "text/plain": [
       "  0%|          | 0/15 [00:00<?, ?it/s]"
      ]
     },
     "metadata": {}
    }
   ],
   "metadata": {}
  },
  {
   "cell_type": "markdown",
   "source": [
    "### 기나긴 전처리에 비하면, 학습이 매우 빨리 끝났습니다!    \n",
    "### 이제 모델을 평가해보도록 하겠습니다.\n",
    "\n",
    "- - - - \n",
    "\n",
    "## 3) 모델 평가\n",
    "\n",
    "### 먼저, 저희는 MovieID를 index로 바꿔주어 Matrix를 만들어 사용했습니다. 하지만, 영화의 이름을 확인해야 의미가 있겠죠?"
   ],
   "metadata": {}
  },
  {
   "cell_type": "code",
   "execution_count": 61,
   "source": [
    "def movie_to_movieID(movie):\n",
    "    return movie_data[movie_data['Title']==movie]['movieID'].values[0]\n",
    "\n",
    "def movieID_to_movie(movieID):\n",
    "    return movie_data[movie_data['movieID']==movieID]['Title'].values[0]\n",
    "\n",
    "a= movie_to_movieID(\"Schindler's List (1993)\")\n",
    "a, movieID_to_movie(a)\n"
   ],
   "outputs": [
    {
     "output_type": "execute_result",
     "data": {
      "text/plain": [
       "(527, \"Schindler's List (1993)\")"
      ]
     },
     "metadata": {},
     "execution_count": 61
    }
   ],
   "metadata": {}
  },
  {
   "cell_type": "code",
   "execution_count": 52,
   "source": [
    "hchang, Schindler = user_to_idx['hchang'], movie_to_idx[movie_to_movieID(\"Schindler's List (1993)\")]\n",
    "hchang_vector, Schindler_vector = als_model.user_factors[hchang], als_model.item_factors[Schindler]\n",
    "\n",
    "print('슝=3')"
   ],
   "outputs": [
    {
     "output_type": "stream",
     "name": "stdout",
     "text": [
      "슝=3\n"
     ]
    }
   ],
   "metadata": {}
  },
  {
   "cell_type": "code",
   "execution_count": 53,
   "source": [
    "hchang_vector, Schindler_vector"
   ],
   "outputs": [
    {
     "output_type": "execute_result",
     "data": {
      "text/plain": [
       "(array([-0.49659234, -0.13967298,  0.50988114, -0.02727161,  0.47986805,\n",
       "        -0.17533647, -0.32223257, -0.49286333, -0.79650396,  0.12790217,\n",
       "        -0.36498567,  0.6386416 , -0.01528621,  1.0378968 ,  0.22040978,\n",
       "        -0.34891674,  0.14843298, -0.6927679 ,  0.00333155,  0.2662033 ,\n",
       "         0.31352833,  0.06079116,  0.7835109 , -0.06796301, -0.42841268,\n",
       "        -0.18571556,  0.22712193, -0.24973749,  0.77665246, -0.2502074 ,\n",
       "         0.61551666,  0.57294065,  0.39552292,  0.08009509, -0.570386  ,\n",
       "        -0.06643521, -0.56513435,  0.00989503, -0.42572564, -0.3993912 ,\n",
       "        -0.34559834, -0.05187041,  0.76233906, -0.43973866, -0.4315041 ,\n",
       "        -1.1945319 , -0.33607566,  0.253948  ,  0.23201506, -0.03014215,\n",
       "         0.8563968 ,  0.48289347,  0.35567236,  0.991812  , -0.12539734,\n",
       "         0.38147807,  0.18486038, -0.28780085,  0.45522317, -0.169937  ,\n",
       "         0.07935619,  0.33941188, -0.36694854,  0.14441778, -0.32424948,\n",
       "         0.13274373,  0.10772956,  0.7264519 , -0.17663182, -0.16077605,\n",
       "        -0.50402725,  0.39301535, -0.04103428,  0.00406594, -0.42384112,\n",
       "         0.02377374, -0.02996258,  1.0158299 ,  0.11608711,  0.3711481 ,\n",
       "        -0.03036348,  0.56613433, -0.90005404,  0.46074656,  0.6686895 ,\n",
       "         0.2644936 , -0.25250244, -0.9969447 ,  0.45032182, -0.22649546,\n",
       "        -0.21900226, -0.7358689 ,  0.01730071, -0.68883854, -0.6152639 ,\n",
       "         1.1171229 , -0.37010852, -0.40301886,  0.49111566, -0.4670597 ],\n",
       "       dtype=float32),\n",
       " array([ 2.60367356e-02,  2.15613879e-02,  1.81639176e-02,  6.72517112e-03,\n",
       "         5.22682704e-02, -1.76286679e-02, -2.60079037e-02, -4.45072800e-02,\n",
       "        -1.68903470e-02,  1.78330746e-02,  2.78230309e-02, -3.52468365e-03,\n",
       "        -7.43287848e-03,  1.60407536e-02, -1.99440662e-02, -1.86043885e-02,\n",
       "        -1.00666275e-02, -4.15239250e-03,  1.35525120e-02, -1.38495294e-02,\n",
       "         2.60755476e-02, -1.34558568e-03,  3.41092087e-02,  4.44819406e-03,\n",
       "        -6.07393507e-04,  3.50940824e-02,  9.62791499e-03, -1.97706763e-02,\n",
       "        -1.29034137e-02, -1.89100672e-02, -1.43545512e-02,  5.01142107e-02,\n",
       "         4.49389853e-02,  1.32477886e-04, -3.04192137e-02, -7.43600773e-03,\n",
       "        -1.55147165e-02,  3.04730535e-02,  2.53862087e-02,  1.18609928e-02,\n",
       "         3.57023105e-02,  9.45524126e-03, -1.60522889e-02,  9.65274125e-03,\n",
       "         1.75053757e-02, -3.37913260e-02,  1.95805524e-02,  2.27385666e-02,\n",
       "         4.41183383e-03, -2.37703174e-02,  1.43960714e-02,  8.24772939e-03,\n",
       "        -2.69387905e-02,  6.06466178e-03,  2.79838499e-02,  9.71826445e-03,\n",
       "         8.18509609e-03,  3.44693684e-03,  2.42570620e-02, -1.67366974e-02,\n",
       "         1.97298806e-02, -1.63075011e-02, -1.72252301e-02, -1.12111177e-02,\n",
       "         3.80050503e-02,  9.55216680e-03, -4.78984276e-03,  3.73088308e-02,\n",
       "        -2.98069119e-02,  3.28531004e-02, -7.26957154e-03,  3.39611433e-03,\n",
       "         4.95824916e-03,  1.39392901e-03,  2.39109434e-02,  2.93707326e-02,\n",
       "        -7.35231908e-03, -5.37821883e-03,  3.22708930e-03, -8.33112374e-03,\n",
       "        -2.56247707e-02, -3.69158667e-03, -1.05825374e-02,  1.34113180e-02,\n",
       "         3.06167528e-02,  2.48570573e-02, -1.31636430e-02, -1.38698192e-02,\n",
       "         3.17055807e-02,  5.65237459e-03,  4.21889871e-03, -1.85092911e-02,\n",
       "         2.04717019e-03,  9.42921080e-03, -1.91343222e-02,  3.15697454e-02,\n",
       "         9.84920189e-05, -7.08478765e-05, -9.23767872e-03, -1.57408714e-02],\n",
       "       dtype=float32))"
      ]
     },
     "metadata": {},
     "execution_count": 53
    }
   ],
   "metadata": {}
  },
  {
   "cell_type": "code",
   "execution_count": 54,
   "source": [
    "np.dot(hchang_vector, Schindler_vector)"
   ],
   "outputs": [
    {
     "output_type": "execute_result",
     "data": {
      "text/plain": [
       "0.3137865"
      ]
     },
     "metadata": {},
     "execution_count": 54
    }
   ],
   "metadata": {}
  },
  {
   "cell_type": "code",
   "execution_count": 58,
   "source": [
    "Matrix = movie_to_idx[movie_to_movieID(\"Matrix, The (1999)\")]\n",
    "Matrix_vector = als_model.item_factors[Matrix]\n",
    "\n",
    "np.dot(hchang_vector, Matrix_vector)"
   ],
   "outputs": [
    {
     "output_type": "execute_result",
     "data": {
      "text/plain": [
       "0.5567541"
      ]
     },
     "metadata": {},
     "execution_count": 58
    }
   ],
   "metadata": {}
  },
  {
   "cell_type": "markdown",
   "source": [
    "### 이와같이, 제가 비교적 별로라고 평가한 영화는 점수가 낮고, 좋다고 한 영화는 수치가 보다 높게 나오고 있습니다. 지금까지는 매우 마음에 듭니다 :)"
   ],
   "metadata": {}
  },
  {
   "cell_type": "code",
   "execution_count": 73,
   "source": [
    "favorite_movie = 'Matrix, The (1999)'\n",
    "favorite_movieID = movie_to_movieID(favorite_movie)\n",
    "movie_idx = movie_to_idx[favorite_movieID]\n",
    "similar_movie = als_model.similar_items(movie_idx, N=15)\n",
    "similar_movie"
   ],
   "outputs": [
    {
     "output_type": "execute_result",
     "data": {
      "text/plain": [
       "[(2502, 1.0000001),\n",
       " (585, 0.81919825),\n",
       " (2847, 0.70709324),\n",
       " (453, 0.66839796),\n",
       " (1220, 0.57435185),\n",
       " (476, 0.5707613),\n",
       " (1533, 0.56568235),\n",
       " (1491, 0.5315002),\n",
       " (1539, 0.5287283),\n",
       " (1568, 0.5071035),\n",
       " (257, 0.43992546),\n",
       " (373, 0.41592047),\n",
       " (108, 0.41580468),\n",
       " (31, 0.4060399),\n",
       " (1178, 0.40216056)]"
      ]
     },
     "metadata": {},
     "execution_count": 73
    }
   ],
   "metadata": {}
  },
  {
   "cell_type": "code",
   "execution_count": 78,
   "source": [
    "movieidx_to_movieID = {k:v for v,k in movie_to_idx.items()}\n"
   ],
   "outputs": [],
   "metadata": {}
  },
  {
   "cell_type": "code",
   "execution_count": 79,
   "source": [
    "for i in similar_movie:\n",
    "    movieID = movieidx_to_movieID[i[0]]\n",
    "    print(movieID_to_movie(movieID))\n"
   ],
   "outputs": [
    {
     "output_type": "stream",
     "name": "stdout",
     "text": [
      "Matrix, The (1999)\n",
      "Terminator 2: Judgment Day (1991)\n",
      "Total Recall (1990)\n",
      "Fugitive, The (1993)\n",
      "Terminator, The (1984)\n",
      "Jurassic Park (1993)\n",
      "Face/Off (1997)\n",
      "Fifth Element, The (1997)\n",
      "Men in Black (1997)\n",
      "Hunt for Red October, The (1990)\n",
      "Star Wars: Episode IV - A New Hope (1977)\n",
      "Speed (1994)\n",
      "Braveheart (1995)\n",
      "Twelve Monkeys (1995)\n",
      "Star Wars: Episode V - The Empire Strikes Back (1980)\n"
     ]
    }
   ],
   "metadata": {}
  },
  {
   "cell_type": "markdown",
   "source": [
    "### 영화 제목 때문에 혼동이 있지는 않으시죠?ㅎㅎ\n",
    "### 영화 Matrix와 비슷한 영화도 올바르게 추천해주고 있는 것으로 보입니다.\n",
    "\n",
    "### 그러면 저에게 어떤 영화를 추천해주는지 확인해봅시다."
   ],
   "metadata": {}
  },
  {
   "cell_type": "code",
   "execution_count": 80,
   "source": [
    "user = user_to_idx['hchang']\n",
    "# recommend에서는 user*item CSR Matrix를 받습니다.\n",
    "movie_recommended = als_model.recommend(user, csr_data, N=20, filter_already_liked_items=True)\n",
    "# movie_recommended\n",
    "for i in movie_recommended:\n",
    "    movieID = movieidx_to_movieID[i[0]]\n",
    "    print(movieID_to_movie(movieID))"
   ],
   "outputs": [
    {
     "output_type": "stream",
     "name": "stdout",
     "text": [
      "Silence of the Lambs, The (1991)\n",
      "Fugitive, The (1993)\n",
      "Toy Story 2 (1999)\n",
      "Saving Private Ryan (1998)\n",
      "Jurassic Park (1993)\n",
      "Braveheart (1995)\n",
      "Shawshank Redemption, The (1994)\n",
      "Star Wars: Episode I - The Phantom Menace (1999)\n",
      "Forrest Gump (1994)\n",
      "Usual Suspects, The (1995)\n",
      "Fargo (1996)\n",
      "Terminator, The (1984)\n",
      "Groundhog Day (1993)\n",
      "Total Recall (1990)\n",
      "L.A. Confidential (1997)\n",
      "American Beauty (1999)\n",
      "Hunt for Red October, The (1990)\n",
      "Men in Black (1997)\n",
      "Back to the Future (1985)\n",
      "Star Wars: Episode IV - A New Hope (1977)\n"
     ]
    }
   ],
   "metadata": {}
  },
  {
   "cell_type": "markdown",
   "source": [
    "### 제가 만든 모델이 잘 추천해줬는지 확인을 해야하니, 주말에 영화를 몰아서 봐야겠군요ㅎㅎ\n",
    "### 위를 보면 Toy Story 2 (1999)가 눈에 띄는군요? 비슷한 영화인 것을 알고 추천해준 것이 대단합니다. 한번 왜 저 영화를 추천해줬는지 확인해 보겠습니다!!"
   ],
   "metadata": {}
  },
  {
   "cell_type": "code",
   "execution_count": 81,
   "source": [
    "Toy2 = movie_to_idx[movie_to_movieID('Toy Story 2 (1999)')]\n",
    "Toy2\n",
    "\n",
    "explain = als_model.explain(user, csr_data, itemid=Toy2)\n",
    "\n",
    "\n",
    "[(movieID_to_movie(movieidx_to_movieID[i[0]]),i[1]) for i in explain[1]]"
   ],
   "outputs": [
    {
     "output_type": "execute_result",
     "data": {
      "text/plain": [
       "[('Toy Story (1995)', 0.36030381044425486),\n",
       " ('Sixth Sense, The (1999)', 0.045207494873799325),\n",
       " (\"Schindler's List (1993)\", 0.02320640869542556),\n",
       " ('Terminator 2: Judgment Day (1991)', -0.003690057926850509),\n",
       " ('Matrix, The (1999)', -0.010489815060869455)]"
      ]
     },
     "metadata": {},
     "execution_count": 81
    }
   ],
   "metadata": {}
  },
  {
   "cell_type": "markdown",
   "source": [
    "### 놀랍게도, Toy Story 1편을 본 것을 보고, 추천해줬군요!! 너무 신기합니다.ㅎㅎ"
   ],
   "metadata": {}
  },
  {
   "cell_type": "markdown",
   "source": [
    "# 4. 아쉬운 점\n",
    "\n",
    "### 1 비교적 매우 과거의 데이터로만 많이 아쉬운 느낌이 없을 수가 없군요.\n",
    "\n",
    "### 2 시기에 따른 추천을 어떻게 반영할 수 있을까 궁금합니다.\n",
    "\n",
    "### 3 분명 관심은 있었는데, 전처리 과정에서, 생각처럼 머리가 따라주지 않아서... 전처리의 중요성을 다시한번 깨달았습니다. 사실 보면 별로 한 것도 없는데, 이걸 얼마나 한건지ㅜㅜ\n",
    "\n",
    "### 4 csr Matrix의 구조는 익혔지만, 파이썬에서 csrMatrix가 어떻게 구동되고 있는지 아직 잘 와닫지가 않습니다. 조금 더 다뤄봐야할 것 같습니다!"
   ],
   "metadata": {}
  }
 ],
 "metadata": {
  "orig_nbformat": 4,
  "kernelspec": {
   "name": "python3",
   "display_name": "Python 3",
   "language": "python"
  },
  "interpreter": {
   "hash": "026aceb1435085fcef523649cdfc9385a4a55dbc5c65435142607853821fa50a"
  },
  "language_info": {
   "name": "python",
   "version": "3.7.9",
   "mimetype": "text/x-python",
   "codemirror_mode": {
    "name": "ipython",
    "version": 3
   },
   "pygments_lexer": "ipython3",
   "nbconvert_exporter": "python",
   "file_extension": ".py"
  }
 },
 "nbformat": 4,
 "nbformat_minor": 2
}